{
 "cells": [
  {
   "cell_type": "markdown",
   "id": "b9a6afb1-a4d2-4de8-b3bf-d7a7ea0fa7b5",
   "metadata": {
    "deletable": false,
    "editable": false,
    "nbgrader": {
     "checksum": "ea55f6e5382b70bba15177f183ed7201",
     "grade": false,
     "grade_id": "cell-34a18c94cd379d06",
     "locked": true,
     "schema_version": 3,
     "solution": false,
     "task": false
    }
   },
   "source": [
    "<img src=\"https://www.epfl.ch/about/overview/wp-content/uploads/2020/07/logo-epfl-1024x576.png\" width=\"140px\" alt=\"EPFL_logo\">\n",
    "\n",
    "## Image Processing Laboratory Notebooks\n",
    "---\n",
    "\n",
    "This Jupyter Notebook is part of a series of computer laboratories designed\n",
    "to teach image-processing programming; they are running on EPFL's Noto server. They are the practical complement of the theoretical lectures of the EPFL's Master course \n",
    "[**MICRO-512 Image Processing II**](https://moodle.epfl.ch/course/view.php?id=522) taught by Prof. M. Unser and Prof. D. Van de Ville.\n",
    "\n",
    "The project is funded by the Center for Digital Education and the School of Engineering. It is owned by the [Biomedical Imaging Group](http://bigwww.epfl.ch/). \n",
    "The distribution or reproduction of the notebook is strictly prohibited without the written consent of the authors.  &copy; EPFL 2025.\n",
    "\n",
    "**Authors**: \n",
    "    Sébastien Herbreteau, \n",
    "    [Daniel Sage](mailto:daniel.sage@epfl.ch), and\n",
    "    [Sepand Kashani](mailto:sepand.kashani@epfl.ch),\n",
    "    \n",
    "---\n",
    "# Lab 7.2: Introduction to Pyxu\n",
    "**Released**: Thursday, May 15, 2025\n",
    "\n",
    "**Submission deadline**: Monday, May 26, 2025, before 23:59 on [Moodle](https://moodle.epfl.ch/course/view.php?id=463)\n",
    "\n",
    "**Grade weight**: Lab 7 (21 points), 7.5 % of the overall grade\n",
    "\n",
    "**Related lectures**: Chapter 9 and 10"
   ]
  },
  {
   "cell_type": "markdown",
   "id": "1b41114c-4611-4a26-aa12-c900fea4cfb0",
   "metadata": {
    "deletable": false,
    "editable": false,
    "execution": {
     "iopub.execute_input": "2024-03-21T13:43:39.133574Z",
     "iopub.status.busy": "2024-03-21T13:43:39.132803Z",
     "iopub.status.idle": "2024-03-21T13:43:39.157114Z",
     "shell.execute_reply": "2024-03-21T13:43:39.154987Z",
     "shell.execute_reply.started": "2024-03-21T13:43:39.133502Z"
    },
    "nbgrader": {
     "checksum": "36d4394fe315ef6cbca3cd7b6d7108ac",
     "grade": false,
     "grade_id": "cell-d0192991d3047863",
     "locked": true,
     "schema_version": 3,
     "solution": false,
     "task": false
    },
    "tags": []
   },
   "source": [
    "Double-click on this cell, fill your name and SCIPER number below to verify your identity in Noto and set the seed for random results.\n",
    ":::{attention} Please write down your name and SCIPER! \n",
    "### Student Name: \n",
    "### SCIPER:\n",
    ":::"
   ]
  },
  {
   "cell_type": "code",
   "execution_count": null,
   "id": "6655955b-9bef-4016-9272-9dcbe1601dc8",
   "metadata": {
    "deletable": false,
    "editable": false,
    "execution": {
     "iopub.execute_input": "2025-05-14T09:23:55.069693Z",
     "iopub.status.busy": "2025-05-14T09:23:55.068380Z",
     "iopub.status.idle": "2025-05-14T09:23:55.087597Z",
     "shell.execute_reply": "2025-05-14T09:23:55.085309Z",
     "shell.execute_reply.started": "2025-05-14T09:23:55.069558Z"
    },
    "nbgrader": {
     "checksum": "d28b04e024acaf92cb9665ce2544abf6",
     "grade": true,
     "grade_id": "cell-870c5ca5221d9e0c",
     "locked": true,
     "points": 0,
     "schema_version": 3,
     "solution": false,
     "task": false
    },
    "tags": []
   },
   "outputs": [],
   "source": [
    "import getpass\n",
    "# This line recovers your camipro number to mark the images with your ID\n",
    "uid = int(getpass.getuser().split('-')[2]) if len(getpass.getuser().split('-')) > 2 else ord(getpass.getuser()[0])\n",
    "print(f'SCIPER: {uid}')"
   ]
  },
  {
   "cell_type": "markdown",
   "id": "7db7e09b-463d-44e3-a353-8040f6b00677",
   "metadata": {
    "deletable": false,
    "editable": false,
    "nbgrader": {
     "checksum": "453f06c6a00a1fea2e6b2497d9f99955",
     "grade": false,
     "grade_id": "cell-a1065512ac4e64c0",
     "locked": true,
     "schema_version": 3,
     "solution": false,
     "task": false
    }
   },
   "source": [
    "## Imports\n",
    "In the next cell, we import Python libraries that  we will use throughout the lab."
   ]
  },
  {
   "cell_type": "code",
   "execution_count": null,
   "id": "c3ea6cd1-65a9-4774-8baa-3abcd98ddc74",
   "metadata": {
    "deletable": false,
    "editable": false,
    "execution": {
     "iopub.execute_input": "2025-05-14T09:23:57.212651Z",
     "iopub.status.busy": "2025-05-14T09:23:57.209297Z",
     "iopub.status.idle": "2025-05-14T09:23:57.237300Z",
     "shell.execute_reply": "2025-05-14T09:23:57.234818Z",
     "shell.execute_reply.started": "2025-05-14T09:23:57.212486Z"
    },
    "nbgrader": {
     "checksum": "41f4a89b3d5697d82814acf230c164d0",
     "grade": false,
     "grade_id": "cell-8dc48d8dc0114de1",
     "locked": true,
     "schema_version": 3,
     "solution": false,
     "task": false
    },
    "tags": []
   },
   "outputs": [],
   "source": [
    "# Import standard required packages for this exercise\n",
    "import matplotlib.pyplot as plt\n",
    "import ipywidgets as widgets\n",
    "import numpy as np\n",
    "import skimage\n",
    "from interactive_kit import imviewer as viewer\n",
    "\n",
    "import pyxu\n",
    "from pyxu.abc import SolverMode\n",
    "from pyxu.operator import Convolve, DiagonalOp, PositiveL1Norm, SquaredL2Norm, L1Norm, Gradient, PositiveOrthant\n",
    "from pyxu.opt.solver import PGD\n",
    "from pyxu.operator.interop import from_source\n",
    "from pyxu.opt.stop import MaxIter\n",
    "\n",
    "# Configure plotting as dynamic\n",
    "%matplotlib widget"
   ]
  },
  {
   "cell_type": "markdown",
   "id": "62716288-1564-4f67-a4f5-6dbddd2a7b15",
   "metadata": {
    "deletable": false,
    "editable": false,
    "execution": {
     "iopub.execute_input": "2024-04-04T16:44:12.129630Z",
     "iopub.status.busy": "2024-04-04T16:44:12.128698Z",
     "iopub.status.idle": "2024-04-04T16:44:12.144461Z",
     "shell.execute_reply": "2024-04-04T16:44:12.141695Z",
     "shell.execute_reply.started": "2024-04-04T16:44:12.129555Z"
    },
    "nbgrader": {
     "checksum": "04dbe210293af9a6ab83b10dd2fa44e0",
     "grade": false,
     "grade_id": "cell-4c714e5716f799ec",
     "locked": true,
     "schema_version": 3,
     "solution": false,
     "task": false
    },
    "tags": []
   },
   "source": [
    "# Introduction to Pyxu (7 points)"
   ]
  },
  {
   "cell_type": "markdown",
   "id": "1ea2d3b8-3985-44da-bc71-42dc84a22b60",
   "metadata": {
    "deletable": false,
    "editable": false,
    "nbgrader": {
     "checksum": "66e11783e1b1cf0d959baf5c89a4ebbd",
     "grade": false,
     "grade_id": "cell-71fb42e1b5287b3b",
     "locked": true,
     "schema_version": 3,
     "solution": false,
     "task": false
    }
   },
   "source": [
    "## 1. Pyxu in a Nutshell (0 points)"
   ]
  },
  {
   "cell_type": "markdown",
   "id": "4cc82f21-7167-4089-b589-c4f853bcb32f",
   "metadata": {
    "deletable": false,
    "editable": false,
    "nbgrader": {
     "checksum": "b95cc2220bbfeb0d6b062bc1d82afba7",
     "grade": false,
     "grade_id": "cell-be5a34cda8e28170",
     "locked": true,
     "schema_version": 3,
     "solution": false,
     "task": false
    }
   },
   "source": [
    "[Pyxu](https://pyxu-org.github.io/) is an open source software library to model imaging pipelines and solve inverse problems.\n",
    "It is based around the core concept of **operators** and **solvers**."
   ]
  },
  {
   "cell_type": "markdown",
   "id": "e11e0431-670e-48e1-b293-7087ddc610ea",
   "metadata": {
    "deletable": false,
    "editable": false,
    "nbgrader": {
     "checksum": "e2f2e49bcddd53d79b463caf15544906",
     "grade": false,
     "grade_id": "cell-55fc14d8e9111ff8",
     "locked": true,
     "schema_version": 3,
     "solution": false,
     "task": false
    }
   },
   "source": [
    "Operators define a transformation from an input space to an output space.\n",
    "In the context of computational imaging or signal processing, we use the term **forward operator** to describe the chain of transformations that go from the object of interest, i.e. an image-like quantity, to the measured data.\n",
    "Pyxu comes with a large collection of built-in operators to help build an imaging pipeline.\n",
    "They can either be used as is, or combined via **operator arithmetic rules** to compose arbitrarily-complex processing pipelines.\n",
    "\n",
    "```python\n",
    ">> op1 + op2  # Addition of two operators\n",
    ">> op1 * op2  # Composition of two operators\n",
    ">> 4 * op  # Scale operator output\n",
    ">> op.argscale(alpha)  # Scale operator input\n",
    ">> op.argshift(shift)  # Shift operator input\n",
    ">> op.T  # Transpose of (linear) operator\n",
    "```"
   ]
  },
  {
   "cell_type": "markdown",
   "id": "646593f2-92df-4e96-a543-05b60f6334a7",
   "metadata": {
    "deletable": false,
    "editable": false,
    "nbgrader": {
     "checksum": "62e394e54265a7657aa7abb7a7722a48",
     "grade": false,
     "grade_id": "cell-c1b97d130248c876",
     "locked": true,
     "schema_version": 3,
     "solution": false,
     "task": false
    }
   },
   "source": [
    "#### How to use an operator\n",
    "\n",
    "Operators are described in Pyxu via instances of ``pyxu.abc.Operator`` or sub-classes thereof.\n",
    "Their main interface consists of the following information:\n",
    "- ``dim_shape: tuple[int]``: shape of the input domain.\n",
    "- ``codim_shape: tuple[int]``: shape of the output domain.\n",
    "- ``apply(self, arr: ndarray) -> ndarray``: action of the operator.\n",
    "- ``estimate_lipschitz() -> float``: compute a Lipschitz constant of the operator.\n",
    "\n",
    "In addition, provided they have the right properties (ex: differentiable, proximable, linear) some of the following methods may also be defined:\n",
    "- ``grad(self, arr: ndarray) -> ndarray``: gradient of scalar-valued functions.\n",
    "- ``prox(self, arr: ndarray, tau: float) -> ndarray``: proximity operator of the scaled function $\\tau f$.\n",
    "- ``adjoint(self, arr: ndarray) -> ndarray``: adjoint of the linear operator.\n",
    "- ``estimate_diff_lipschitz() -> float``: estimate the Lipschitz constant of $\\nabla f$.\n",
    "\n",
    "For example, consider the situation where we have at our disposal a measurement $y$ which is the realization of a forward model $\\Phi(s)$, where $s$ is to be determined. If $\\Phi$ is a masked convolution, we can express it as the composition of a convolution followed by pixelwise masking:"
   ]
  },
  {
   "cell_type": "code",
   "execution_count": null,
   "id": "90de63ad-2a1c-4f3f-aef6-aaee50b9a1f8",
   "metadata": {
    "execution": {
     "iopub.execute_input": "2025-05-14T09:24:03.286005Z",
     "iopub.status.busy": "2025-05-14T09:24:03.285218Z",
     "iopub.status.idle": "2025-05-14T09:24:03.381485Z",
     "shell.execute_reply": "2025-05-14T09:24:03.378672Z",
     "shell.execute_reply.started": "2025-05-14T09:24:03.285936Z"
    },
    "tags": []
   },
   "outputs": [],
   "source": [
    "kernel = skimage.io.imread('images/psf_movement.tif').astype(np.float64)\n",
    "# Operator convolution for a 512x512 image\n",
    "Conv = Convolve(\n",
    "    dim_shape=(512, 512), \n",
    "    kernel=kernel, \n",
    "    center=(kernel.shape[0]//2, kernel.shape[1]//2), \n",
    "    mode=\"reflect\",\n",
    "    enable_warnings=False,\n",
    ")\n",
    "\n",
    "np.random.seed(1234) # for reproductibility, do not modify\n",
    "mask = np.random.binomial(n=1, p=0.95, size=(512, 512))\n",
    "# Operator of partial masking for a 512x512 image\n",
    "Mask = DiagonalOp(mask)\n",
    "\n",
    "# Compose operators\n",
    "Phi = Mask * Conv"
   ]
  },
  {
   "cell_type": "markdown",
   "id": "c8e303b3-5db7-42ca-bf7a-a0b5b1446a3b",
   "metadata": {
    "deletable": false,
    "editable": false,
    "nbgrader": {
     "checksum": "510dd7efbdd9cdc11f79466b864ea055",
     "grade": false,
     "grade_id": "cell-60da17e4505ab001",
     "locked": true,
     "schema_version": 3,
     "solution": false,
     "task": false
    }
   },
   "source": [
    "The ``Operator.expr()`` method reveals how Pyxu decomposes an operator into a sequence of steps.\n",
    "This is useful to debug composition problems related to input/output shapes."
   ]
  },
  {
   "cell_type": "code",
   "execution_count": null,
   "id": "b1888b6c-b673-4f5b-b33a-7ea7338803b3",
   "metadata": {
    "execution": {
     "iopub.execute_input": "2025-05-14T09:24:04.049957Z",
     "iopub.status.busy": "2025-05-14T09:24:04.048501Z",
     "iopub.status.idle": "2025-05-14T09:24:04.068963Z",
     "shell.execute_reply": "2025-05-14T09:24:04.065037Z",
     "shell.execute_reply.started": "2025-05-14T09:24:04.049820Z"
    }
   },
   "outputs": [],
   "source": [
    "print(Phi.expr())"
   ]
  },
  {
   "cell_type": "markdown",
   "id": "7eb6270b-7a97-4c21-b879-d5d0cab6fd63",
   "metadata": {
    "deletable": false,
    "editable": false,
    "nbgrader": {
     "checksum": "8aafae8b5a71f4cc05a6893ac708c573",
     "grade": false,
     "grade_id": "cell-f984087667fcc40c",
     "locked": true,
     "schema_version": 3,
     "solution": false,
     "task": false
    }
   },
   "source": [
    "Thus defined, $\\Phi$ is an **operator** which can be applied to any image of size $512 \\times 512$, in particular the image from the previous notebook."
   ]
  },
  {
   "cell_type": "code",
   "execution_count": null,
   "id": "b9f2dae8-97d8-4f71-8c6d-d60c8de75267",
   "metadata": {
    "execution": {
     "iopub.execute_input": "2025-05-14T09:24:04.878743Z",
     "iopub.status.busy": "2025-05-14T09:24:04.877579Z",
     "iopub.status.idle": "2025-05-14T09:24:05.892994Z",
     "shell.execute_reply": "2025-05-14T09:24:05.890299Z",
     "shell.execute_reply.started": "2025-05-14T09:24:04.878656Z"
    },
    "tags": []
   },
   "outputs": [],
   "source": [
    "einstein = skimage.io.imread('images/einstein.tif').astype(np.float64)\n",
    "masked_and_blurred_einstein = Phi(einstein)\n",
    "np.random.seed(1234) # for reproductibility, do not modify\n",
    "masked_and_blurred_and_noisy_einstein = masked_and_blurred_einstein + 10 * np.random.randn(*masked_and_blurred_einstein.shape)\n",
    "\n",
    "plt.close('all')\n",
    "view = viewer([masked_and_blurred_einstein, masked_and_blurred_and_noisy_einstein, einstein, kernel], widgets=True, hist=False, axis=True, cmap='gray')"
   ]
  },
  {
   "cell_type": "markdown",
   "id": "5cb0b196-c0d6-4a5a-a6a1-b4002e66cbc0",
   "metadata": {
    "deletable": false,
    "editable": false,
    "nbgrader": {
     "checksum": "a0f43d0243ee9dbb2e2f0340f1059b28",
     "grade": false,
     "grade_id": "cell-5ed8a7b3e3d72a19",
     "locked": true,
     "schema_version": 3,
     "solution": false,
     "task": false
    }
   },
   "source": [
    "#### Loss functions\n",
    "\n",
    "Inverse problems are specified by loss functions $f: \\mathcal{X} \\to \\mathbb{R}$.\n",
    "Pyxu defines [common loss functions](https://pyxu-org.github.io/api/operator/func.html) that arise in CI tasks.\n",
    "Of particular interest for loss functions is the abilitiy to create derived functions using operator arithmetic:"
   ]
  },
  {
   "cell_type": "code",
   "execution_count": null,
   "id": "56d384d1-be91-4e80-8140-a156256cc292",
   "metadata": {
    "execution": {
     "iopub.execute_input": "2025-05-14T09:24:13.661780Z",
     "iopub.status.busy": "2025-05-14T09:24:13.660562Z",
     "iopub.status.idle": "2025-05-14T09:24:13.695885Z",
     "shell.execute_reply": "2025-05-14T09:24:13.693728Z",
     "shell.execute_reply.started": "2025-05-14T09:24:13.661621Z"
    },
    "tags": []
   },
   "outputs": [],
   "source": [
    "np.random.seed(1234) # for reproductibility, do not modify\n",
    "y = masked_and_blurred_and_noisy_einstein\n",
    "sl2 = SquaredL2Norm(y.shape) # defines the loss \\| . \\|_2^2\n",
    "sl2 = sl2.argshift(-y) # defines the loss \\| . - y \\|_2^2\n",
    "F = sl2 * Phi # defines the data-fidelity loss \\| \\Phi(.) - y \\|_2^2\n",
    "\n",
    "print(F.expr())"
   ]
  },
  {
   "cell_type": "markdown",
   "id": "366a971e-b0df-4c38-b188-d39623dfd2fa",
   "metadata": {
    "deletable": false,
    "editable": false,
    "nbgrader": {
     "checksum": "0fbe10946bfc10ecd43047dedc303675",
     "grade": false,
     "grade_id": "cell-d1e618d5adea724a",
     "locked": true,
     "schema_version": 3,
     "solution": false,
     "task": false
    }
   },
   "source": [
    "Pyxu's operator arithmetic also propagates mathematical properties through composition rules.\n",
    "In the example above, ``F`` is a ``QuadraticFunc`` since it is the composition of a quadratic (``SquaredL2Norm``) and a linear operator (``Phi``).\n",
    "This ensures that the best computational method is used to perform some steps of operator chains."
   ]
  },
  {
   "cell_type": "markdown",
   "id": "24a9ad18-c1f3-40c0-83db-5ac7450f3d49",
   "metadata": {
    "deletable": false,
    "editable": false,
    "nbgrader": {
     "checksum": "1da76ce4d33380a1a9c4f576d590058a",
     "grade": false,
     "grade_id": "cell-96bc67d086a7c5a8",
     "locked": true,
     "schema_version": 3,
     "solution": false,
     "task": false
    }
   },
   "source": [
    "#### Regularization terms\n",
    "\n",
    "To deal with ill-posed problems, it is common practice to add regularization terms to the optimization problem to be solved, which favor certain behaviors of the solution. Once again, regularization terms are also defined by **operators** in Pyxu. For example, if one wants to define a $\\ell_1$ norm penalization to promote sparsity with hyperparameter $\\lambda$, one would write:"
   ]
  },
  {
   "cell_type": "code",
   "execution_count": null,
   "id": "cafe53db-a6ea-4568-bca4-ed006576d325",
   "metadata": {
    "execution": {
     "iopub.execute_input": "2025-05-14T09:24:15.023721Z",
     "iopub.status.busy": "2025-05-14T09:24:15.023118Z",
     "iopub.status.idle": "2025-05-14T09:24:15.031976Z",
     "shell.execute_reply": "2025-05-14T09:24:15.030854Z",
     "shell.execute_reply.started": "2025-05-14T09:24:15.023690Z"
    },
    "tags": []
   },
   "outputs": [],
   "source": [
    "lam = 1e2\n",
    "G = lam * L1Norm(y.shape)\n",
    "\n",
    "print(G.expr())"
   ]
  },
  {
   "cell_type": "markdown",
   "id": "263e8d71-bcbc-4b86-bc96-0b0773611c58",
   "metadata": {
    "deletable": false,
    "editable": false,
    "nbgrader": {
     "checksum": "50a5abdd70d12afc4eee1ab1f0d79b8f",
     "grade": false,
     "grade_id": "cell-fcd974428b5657bb",
     "locked": true,
     "schema_version": 3,
     "solution": false,
     "task": false
    }
   },
   "source": [
    "#### Computing Lipschitz constants\n",
    "\n",
    "Iterative optimization algorithms often take (scaled) steps $\\tau > 0$ in the direction of the function's gradient $\\nabla f$.\n",
    "The step size $\\tau$ is often related to the Lipschitz constant of $f$ or $\\nabla f$.\n",
    "Pyxu can compute them for most operator categories, either exactly or provide an upper-bound.\n",
    "This is achieved via the ``Operator.estimate_lipschitz()`` and ``Operator.estimate_diff_lipschitz()`` functions:"
   ]
  },
  {
   "cell_type": "code",
   "execution_count": null,
   "id": "855decaf-8a5a-4493-9efe-911be6a0dff8",
   "metadata": {
    "execution": {
     "iopub.execute_input": "2025-05-14T09:24:16.014935Z",
     "iopub.status.busy": "2025-05-14T09:24:16.012388Z",
     "iopub.status.idle": "2025-05-14T09:35:38.036749Z",
     "shell.execute_reply": "2025-05-14T09:35:38.012219Z",
     "shell.execute_reply.started": "2025-05-14T09:24:16.014849Z"
    }
   },
   "outputs": [],
   "source": [
    "print(\"conv Lipschitz (upper bound):\", Conv.estimate_lipschitz())  # cheap upper bound\n",
    "print(\"conv Lipschitz (exact):\", Conv.estimate_lipschitz(method=\"svd\"))  # exact Lipschitz constant\n",
    "\n",
    "print(\"F L (upper bound)\", F.estimate_diff_lipschitz())\n",
    "print(\"F L (exact)\", F.estimate_diff_lipschitz(method=\"svd\"))"
   ]
  },
  {
   "cell_type": "markdown",
   "id": "a6b615bb-dc6b-4abd-b3d5-b7bcb263162a",
   "metadata": {
    "deletable": false,
    "editable": false,
    "nbgrader": {
     "checksum": "155249884cf138c6dde74dd7a5c64cf9",
     "grade": false,
     "grade_id": "cell-e9d1dd3a0f832c10",
     "locked": true,
     "schema_version": 3,
     "solution": false,
     "task": false
    }
   },
   "source": [
    "#### Solvers"
   ]
  },
  {
   "cell_type": "markdown",
   "id": "7f5aec3d-457e-4838-9a03-dbfd89ccb781",
   "metadata": {
    "deletable": false,
    "editable": false,
    "nbgrader": {
     "checksum": "ad308d6dbd21b08947e0080164338155",
     "grade": false,
     "grade_id": "cell-97fc7d4347330d62",
     "locked": true,
     "schema_version": 3,
     "solution": false,
     "task": false
    }
   },
   "source": [
    "[Solver](https://pyxu-org.github.io/api/abc.html#pyxu.abc.Solver) is Pyxu's API to solve inverse problems.\n",
    "\n",
    "Pyxu offers multiple solvers; an exhaustive list can be found [here](https://pyxu-org.github.io/api/opt.solver.html). Among them is the [**Proximal Gradient Descent (PGD)**](https://pyxu-org.github.io/api/opt.solver.html#pyxu.opt.solver.PGD), which should suit most needs.\n",
    "\n",
    "**Note:** As mentioned in the [documentation](https://pyxu-org.github.io/api/opt.solver.html#pyxu.opt.solver.PGD), the `PGD` solver expects $f$ to be convex and differentiable with $L$-Lipschitz continuous gradient, and $g$ should be convex, not necessarily differentiable, with a simple proximal operator. This is the case here since the proximal operator of the $\\ell_1$ norm can be computed exactly with the soft threshold.\n",
    "\n",
    "Each solver takes custom inputs in ``__init__()`` and ``fit()``: we refer the reader to the [API reference guide](https://pyxu-org.github.io/api/index.html#pyxu-opt-solver) for details.\n",
    "\n",
    "Using solvers is a two-stage process:\n",
    "1. Define the math problem by instantiating a ``Solver``; then\n",
    "2. Perform the optimization by calling ``Solver.fit()``."
   ]
  },
  {
   "cell_type": "code",
   "execution_count": null,
   "id": "37062cae-cf44-4f8f-8437-612599eaf6bb",
   "metadata": {
    "execution": {
     "iopub.execute_input": "2025-05-14T09:59:22.764681Z",
     "iopub.status.busy": "2025-05-14T09:59:22.758774Z",
     "iopub.status.idle": "2025-05-14T10:00:19.012871Z",
     "shell.execute_reply": "2025-05-14T10:00:19.007674Z",
     "shell.execute_reply.started": "2025-05-14T09:59:22.763428Z"
    },
    "tags": []
   },
   "outputs": [],
   "source": [
    " # Define the solver\n",
    "solver = PGD(f=F, g=G, show_progress=False) \n",
    "\n",
    "# Solve the optimization problem\n",
    "dL = F.estimate_diff_lipschitz(method=\"svd\")  # exact Lipschitz constant of \\grad F, but time-consuming to obtain\n",
    "solver.fit(\n",
    "    x0=np.zeros_like(y),\n",
    "    tau=1 / dL,\n",
    "    stop_crit=MaxIter(50),\n",
    ") # initialization: all-zeros vector; number of iterations fixed to 100\n",
    "\n",
    "# Get the solution and reshape to the original size\n",
    "s_opt = solver.solution()"
   ]
  },
  {
   "cell_type": "code",
   "execution_count": null,
   "id": "912eb3b6-f693-480d-bd2c-edb434c550da",
   "metadata": {
    "execution": {
     "iopub.execute_input": "2025-05-14T10:03:24.523320Z",
     "iopub.status.busy": "2025-05-14T10:03:24.521893Z",
     "iopub.status.idle": "2025-05-14T10:03:28.111888Z",
     "shell.execute_reply": "2025-05-14T10:03:28.109500Z",
     "shell.execute_reply.started": "2025-05-14T10:03:24.523208Z"
    },
    "tags": []
   },
   "outputs": [],
   "source": [
    "plt.close('all')\n",
    "view = viewer([s_opt, y], widgets=True, hist=False, axis=True, cmap='gray')"
   ]
  },
  {
   "cell_type": "markdown",
   "id": "19cd946a-c11d-4c86-b5fc-a3694f07f342",
   "metadata": {
    "deletable": false,
    "editable": false,
    "nbgrader": {
     "checksum": "9dba98572571d95b76d7b36a26eac51c",
     "grade": false,
     "grade_id": "cell-186153e4cdb29b03",
     "locked": true,
     "schema_version": 3,
     "solution": false,
     "task": false
    }
   },
   "source": [
    "**Note:** Unsurprisingly, the resulting image is of poor quality as promoting sparsity is not appropriate for this kind of image."
   ]
  },
  {
   "cell_type": "markdown",
   "id": "d5168819-47c0-4372-a32e-76ac89f19afd",
   "metadata": {
    "deletable": false,
    "editable": false,
    "nbgrader": {
     "checksum": "42bd688f8a8dd0ff3a100b1ddef52eac",
     "grade": false,
     "grade_id": "cell-a66ffd3bfec953a9",
     "locked": true,
     "schema_version": 3,
     "solution": false,
     "task": false
    }
   },
   "source": [
    "## 2. Hands-on Pyxu with TV regularization (3 points)"
   ]
  },
  {
   "cell_type": "markdown",
   "id": "ca5acde7-886e-462b-80de-2d6013d95238",
   "metadata": {
    "deletable": false,
    "editable": false,
    "nbgrader": {
     "checksum": "390d1073296593263f257a6520ec4b8d",
     "grade": false,
     "grade_id": "cell-dfe6e17db2a747dc",
     "locked": true,
     "schema_version": 3,
     "solution": false,
     "task": false
    }
   },
   "source": [
    "$\\ell_1$ regularization is not used much with natural images, contrary to TV regularization which favors piecewise-constant solutions. \n",
    "\n",
    "For **2 points**, using Pyxu and the **Proximal Gradient Descent** algorithm, compute the solution to the following optimization problem **under positivity constraints**:\n",
    "$$s_\\lambda^\\ast = \\arg \\min_{s \\geq \\mathbf{0}} \\| \\Phi(s) - y \\|_2^2 + \\lambda \\| \\nabla s \\|_2^2$$\n",
    "where $\\lambda=0.05$, $\\Phi$ is the function defined in the previous section (convolution with psf of movement followed by partial masking) and $y$ is the blurred, masked and noisy Einstein. Pay attention that, contrary to the previous notebook, the squared $\\ell_2$ norm was chosen to ensure differentiability.\n",
    "\n",
    "**Note:** For reasons of time, stop the algorithm after 50 iterations and take the $y$ vector as initialization (the algorithm should finish in less than 45 seconds).\n",
    "\n",
    "*Hints:*\n",
    "    \n",
    "1. You may want to use the operators [PositiveOrthant](https://pyxu-org.github.io/api/operator/func.html#pyxu.operator.PositiveOrthant) and [Gradient](https://pyxu-org.github.io/api/operator/linop.html#pyxu.operator.Gradient).\n",
    "\n",
    "2. Be careful with the output dimension of the Gradient operator. \n",
    "\n",
    "3. Be careful with the terms dedicated to the `f` argument of the solver `PGD` and those dedicated to the `g` argument.\n",
    "\n",
    "4. If you think there are convergence issues, consider using the manual iteration mode of the solver, then computing the objective function per iteration.\n",
    "```python\n",
    ">>> solver.fit(..., mode=SolverMode.MANUAL)\n",
    ">>> for data in solver.steps():\n",
    ">>>     print(solver.objective_func())\n",
    "```"
   ]
  },
  {
   "cell_type": "code",
   "execution_count": null,
   "id": "725c4b11-863a-4676-840f-8019230ecab3",
   "metadata": {
    "deletable": false,
    "execution": {
     "iopub.execute_input": "2025-05-14T10:03:37.071159Z",
     "iopub.status.busy": "2025-05-14T10:03:37.070346Z",
     "iopub.status.idle": "2025-05-14T10:05:34.621296Z",
     "shell.execute_reply": "2025-05-14T10:05:34.619729Z",
     "shell.execute_reply.started": "2025-05-14T10:03:37.071087Z"
    },
    "nbgrader": {
     "checksum": "c9e0bd3e94c02cea78d2e75528a25375",
     "grade": true,
     "grade_id": "cell-4ece06c822f59acd",
     "locked": false,
     "points": 2,
     "schema_version": 3,
     "solution": true,
     "task": false
    },
    "tags": []
   },
   "outputs": [],
   "source": [
    "lam = 5e-2 # Regularization parameter\n",
    "\n",
    "# Define the operators\n",
    "# YOUR CODE HERE\n",
    "\n",
    "# Define and fit the solver\n",
    "# YOUR CODE HERE\n",
    "\n",
    "# Get solution\n",
    "s_opt = None\n",
    "# YOUR CODE HERE\n",
    "\n",
    "\n",
    "# Define and fit the solver\n",
    "plt.close('all')\n",
    "view = viewer([s_opt, y], widgets=True, hist=False, axis=True, cmap='gray')"
   ]
  },
  {
   "cell_type": "markdown",
   "id": "812fd1b7-780e-44d9-8c33-5fb3a5491711",
   "metadata": {
    "deletable": false,
    "editable": false,
    "execution": {
     "iopub.execute_input": "2024-03-27T11:24:40.992117Z",
     "iopub.status.busy": "2024-03-27T11:24:40.990999Z",
     "iopub.status.idle": "2024-03-27T11:24:41.006305Z",
     "shell.execute_reply": "2024-03-27T11:24:41.004267Z",
     "shell.execute_reply.started": "2024-03-27T11:24:40.992035Z"
    },
    "nbgrader": {
     "checksum": "137f56853c36c9a6aca5f3f804901638",
     "grade": false,
     "grade_id": "cell-15abf164b23c7219",
     "locked": true,
     "schema_version": 3,
     "solution": false,
     "task": false
    },
    "tags": []
   },
   "source": [
    "**For 1 point**, answer the following MCQ:\n",
    "* What is the SNR of the solution found with Pyxu ? (**1 point**)\n",
    "1. $20.14$ dB\n",
    "2. $21.14$ dB\n",
    "3. $22.14$ dB\n",
    "4. $23.14$ dB\n",
    "5. $24.14$ dB\n",
    "6. $25.14$ dB\n",
    "7. $26.14$ dB "
   ]
  },
  {
   "cell_type": "markdown",
   "id": "08420226",
   "metadata": {
    "deletable": false,
    "editable": false,
    "nbgrader": {
     "checksum": "ae914439117582abde879f8d5df24915",
     "grade": false,
     "grade_id": "cell-9d4422bf9fa0cd31",
     "locked": true,
     "schema_version": 3,
     "solution": false,
     "task": false
    }
   },
   "source": [
    "*Hint:* You may use the next cell to use or redefine the SNR function that you implemented in the first notebook."
   ]
  },
  {
   "cell_type": "code",
   "execution_count": null,
   "id": "d54e6944-b5b2-4473-9e17-84e71f2f689e",
   "metadata": {
    "deletable": false,
    "execution": {
     "iopub.execute_input": "2025-05-14T10:05:59.182566Z",
     "iopub.status.busy": "2025-05-14T10:05:59.181523Z",
     "iopub.status.idle": "2025-05-14T10:05:59.206538Z",
     "shell.execute_reply": "2025-05-14T10:05:59.204342Z",
     "shell.execute_reply.started": "2025-05-14T10:05:59.182476Z"
    },
    "nbgrader": {
     "checksum": "23b9e5fe6d62d4527e0753394599e04d",
     "grade": true,
     "grade_id": "cell-a70c216e99e16e5b",
     "locked": false,
     "points": 0,
     "schema_version": 3,
     "solution": true,
     "task": false
    },
    "tags": []
   },
   "outputs": [],
   "source": [
    "# YOUR CODE HERE"
   ]
  },
  {
   "cell_type": "markdown",
   "id": "c5de62d7",
   "metadata": {
    "deletable": false,
    "editable": false,
    "nbgrader": {
     "checksum": "3ffeaf32319d1604f88a253111c5d7e1",
     "grade": false,
     "grade_id": "cell-4ea92047beb07de0",
     "locked": true,
     "schema_version": 3,
     "solution": false,
     "task": false
    }
   },
   "source": [
    "Modify the variable `answer` in the next cell to reflect your choices."
   ]
  },
  {
   "cell_type": "code",
   "execution_count": null,
   "id": "3b8f32f0-57ed-4c49-ab78-3684cea501f3",
   "metadata": {
    "deletable": false,
    "execution": {
     "iopub.execute_input": "2025-05-14T10:06:01.289631Z",
     "iopub.status.busy": "2025-05-14T10:06:01.288549Z",
     "iopub.status.idle": "2025-05-14T10:06:01.305018Z",
     "shell.execute_reply": "2025-05-14T10:06:01.301334Z",
     "shell.execute_reply.started": "2025-05-14T10:06:01.289543Z"
    },
    "nbgrader": {
     "checksum": "75709c1c2bb907d5809cda7c2d407a54",
     "grade": true,
     "grade_id": "cell-234d456a798432d3",
     "locked": false,
     "points": 1,
     "schema_version": 3,
     "solution": true,
     "task": false
    },
    "tags": []
   },
   "outputs": [],
   "source": [
    "# Assign your answer to this variable\n",
    "answer = None\n",
    "# YOUR CODE HERE"
   ]
  },
  {
   "cell_type": "code",
   "execution_count": null,
   "id": "71b59a0c-2d22-41de-8b2f-837d120fa958",
   "metadata": {
    "deletable": false,
    "editable": false,
    "execution": {
     "iopub.execute_input": "2025-05-14T10:06:01.703771Z",
     "iopub.status.busy": "2025-05-14T10:06:01.702755Z",
     "iopub.status.idle": "2025-05-14T10:06:01.715806Z",
     "shell.execute_reply": "2025-05-14T10:06:01.713245Z",
     "shell.execute_reply.started": "2025-05-14T10:06:01.703691Z"
    },
    "nbgrader": {
     "checksum": "5b6ac5537faa7d47eb44a7b81d625b00",
     "grade": false,
     "grade_id": "cell-27be4e3d1d03f7b2",
     "locked": true,
     "schema_version": 3,
     "solution": false,
     "task": false
    },
    "tags": []
   },
   "outputs": [],
   "source": [
    "if not answer in list(range(1, 8)): \n",
    "    print('WARNING!\\nPossible answers are integers between 1 and 7.')"
   ]
  },
  {
   "cell_type": "markdown",
   "id": "976e64fa-a4ea-4e1f-93a3-10b0c4d9e5c2",
   "metadata": {
    "deletable": false,
    "editable": false,
    "nbgrader": {
     "checksum": "1686a86646e6ad55385229af176865d2",
     "grade": false,
     "grade_id": "cell-99ffc7e63692dffc",
     "locked": true,
     "schema_version": 3,
     "solution": false,
     "task": false
    }
   },
   "source": [
    "## 3. Application: tomographic reconstruction (4 points)"
   ]
  },
  {
   "cell_type": "markdown",
   "id": "17b7ab38-075e-4192-bed0-839a706f2c12",
   "metadata": {
    "deletable": false,
    "editable": false,
    "nbgrader": {
     "checksum": "a640bf485761544346359a0d180d8726",
     "grade": false,
     "grade_id": "cell-5f2d6d1c88f9af98",
     "locked": true,
     "schema_version": 3,
     "solution": false,
     "task": false
    }
   },
   "source": [
    "Tomographic reconstruction is a computational process used in imaging sciences to reconstruct 2D or 3D images from a series of projections captured at different angles. \n",
    "\n",
    "The fundamental principle behind tomographic reconstruction is the Radon transform, mapping a function in 2D or 3D space to a set of line integrals. In the context of medical imaging, these line integrals represent the attenuation of X-rays as they pass through a human body. By capturing these attenuations from various angles, it is possible to reconstruct a cross-sectional image of the internal structure."
   ]
  },
  {
   "cell_type": "markdown",
   "id": "96a9b9c4-0292-408c-bda2-95e9a53fb2d0",
   "metadata": {
    "deletable": false,
    "editable": false,
    "execution": {
     "iopub.execute_input": "2024-03-27T14:37:59.792510Z",
     "iopub.status.busy": "2024-03-27T14:37:59.790907Z",
     "iopub.status.idle": "2024-03-27T14:37:59.819295Z",
     "shell.execute_reply": "2024-03-27T14:37:59.816569Z",
     "shell.execute_reply.started": "2024-03-27T14:37:59.792384Z"
    },
    "nbgrader": {
     "checksum": "9e660d7d365ab8e9de415288e4420c82",
     "grade": false,
     "grade_id": "cell-ecf19931e50cf38b",
     "locked": true,
     "schema_version": 3,
     "solution": false,
     "task": false
    },
    "tags": []
   },
   "source": [
    "The process typically involves the following steps:\n",
    "\n",
    "- Data Acquisition: Projection data is gathered from different angles, typically by rotating the X-ray source and detector around the object being imaged. The acquired projection data are then ‘smeared’ back across the imaging field for each angle (back-projection). The data representation that stacks 1D projections of an object at various angles is called a sinogram.\n",
    "\n",
    "- Reconstruction: Various algorithms, such as Filtered Back-Projection (FBP) or iterative methods, are used to compute the original image from the smeared data. However, due to the non-idealities inherent to the tomographic setup, regularization is often useful to reconstruct the original object."
   ]
  },
  {
   "cell_type": "markdown",
   "id": "70c9cebe-c208-48ea-b598-61402c47f157",
   "metadata": {
    "deletable": false,
    "editable": false,
    "nbgrader": {
     "checksum": "b325d43c19f5c34a1cfae80ec43e57c6",
     "grade": false,
     "grade_id": "cell-c2784a53b33477cc",
     "locked": true,
     "schema_version": 3,
     "solution": false,
     "task": false
    }
   },
   "source": [
    "### Generating ideal sinogram (simulation of real data acquisition)"
   ]
  },
  {
   "cell_type": "markdown",
   "id": "4a994c71-4f97-4830-9d68-2942b5d5adfa",
   "metadata": {
    "deletable": false,
    "editable": false,
    "nbgrader": {
     "checksum": "12eb3c07bd89dfd57b5c25fc802f8f43",
     "grade": false,
     "grade_id": "cell-300754ce67287002",
     "locked": true,
     "schema_version": 3,
     "solution": false,
     "task": false
    }
   },
   "source": [
    "Given an image (for example `images/MRI.png`), we can simulate the real data acquisition process using the Radon transform (the Pyxu operators `Radon` and its inverse `InvRadon` are given below). In this example, projection data is gathered from 360 angles around the brain. The result is an ideal sinogram.\n",
    "\n",
    "**Note:** Pyxu has an optimized Radon operator available as an [extension package](https://github.com/pyxu-org/pyxu_xrt)). For simplicity in what follows, we will piggy-back instead on Scikit-Image's [radon()](https://scikit-image.org/docs/stable/api/skimage.transform.html#skimage.transform.radon) and [iradon()](https://scikit-image.org/docs/stable/api/skimage.transform.html#skimage.transform.iradon) functions.\n",
    "Pyxu allows one to easily wrap 3rd-party functions and make them interoperate with its operator machinery."
   ]
  },
  {
   "cell_type": "code",
   "execution_count": null,
   "id": "967f9e30-dfb8-4720-aa07-cef4e3017d0f",
   "metadata": {
    "deletable": false,
    "editable": false,
    "execution": {
     "iopub.execute_input": "2025-05-14T10:06:05.442061Z",
     "iopub.status.busy": "2025-05-14T10:06:05.440908Z",
     "iopub.status.idle": "2025-05-14T10:06:05.476278Z",
     "shell.execute_reply": "2025-05-14T10:06:05.473699Z",
     "shell.execute_reply.started": "2025-05-14T10:06:05.441973Z"
    },
    "nbgrader": {
     "checksum": "b0a240a64d5e93559df12a5bbfef0af4",
     "grade": false,
     "grade_id": "cell-1de40d6a5731d051",
     "locked": true,
     "schema_version": 3,
     "solution": false,
     "task": false
    },
    "tags": []
   },
   "outputs": [],
   "source": [
    "# Import brain image\n",
    "phantom = skimage.io.imread('images/MRI.png').astype(np.float64)[::4, ::4] / 255 # downsampling for speed issues (128x128 image)\n",
    "nb_angles = 360"
   ]
  },
  {
   "cell_type": "code",
   "execution_count": null,
   "id": "10819ac2-ecc2-44e0-b973-4d6336696e4a",
   "metadata": {
    "deletable": false,
    "editable": false,
    "execution": {
     "iopub.execute_input": "2025-05-14T10:06:05.816966Z",
     "iopub.status.busy": "2025-05-14T10:06:05.814434Z",
     "iopub.status.idle": "2025-05-14T10:06:05.854657Z",
     "shell.execute_reply": "2025-05-14T10:06:05.851998Z",
     "shell.execute_reply.started": "2025-05-14T10:06:05.816871Z"
    },
    "nbgrader": {
     "checksum": "34ef5a34ce5a355d7a15835e52ed9e09",
     "grade": false,
     "grade_id": "cell-8a36cb65f0559b29",
     "locked": true,
     "schema_version": 3,
     "solution": false,
     "task": false
    },
    "tags": []
   },
   "outputs": [],
   "source": [
    "# Radon Operator \n",
    "Radon = from_source(cls=pyxu.abc.LinOp,\n",
    "                    dim_shape=phantom.shape,\n",
    "                    codim_shape=(phantom.shape[0], nb_angles),\n",
    "                    apply=lambda _, arr: skimage.transform.radon(image=arr,\n",
    "                                                                 theta=np.linspace(0, 180, nb_angles),\n",
    "                                                                 circle=True),\n",
    "                    adjoint=lambda _, arr: skimage.transform.iradon(radon_image=arr,\n",
    "                                                                    theta=np.linspace(0, 180, nb_angles),\n",
    "                                                                    filter_name=None,\n",
    "                                                                    circle=True),\n",
    "                    vectorize=[\"apply\", \"adjoint\"])\n",
    "\n",
    "# Inverse Radon Operator\n",
    "InvRadon = from_source(cls=pyxu.abc.LinOp,\n",
    "                       dim_shape=(phantom.shape[0], nb_angles),\n",
    "                       codim_shape=phantom.shape,\n",
    "                       apply=lambda _, arr: skimage.transform.iradon(radon_image=arr,\n",
    "                                                                     theta=np.linspace(0, 180, nb_angles),\n",
    "                                                                     filter_name=\"hamming\",\n",
    "                                                                     circle=True))"
   ]
  },
  {
   "cell_type": "code",
   "execution_count": null,
   "id": "2256aac3-afb4-4eaf-bdf4-0ab0665f1d4d",
   "metadata": {
    "deletable": false,
    "editable": false,
    "execution": {
     "iopub.execute_input": "2025-05-14T10:06:07.207543Z",
     "iopub.status.busy": "2025-05-14T10:06:07.206296Z",
     "iopub.status.idle": "2025-05-14T10:06:08.324528Z",
     "shell.execute_reply": "2025-05-14T10:06:08.323138Z",
     "shell.execute_reply.started": "2025-05-14T10:06:07.207402Z"
    },
    "nbgrader": {
     "checksum": "2ac50113ce0d0835a1780e81cbe9c9e7",
     "grade": false,
     "grade_id": "cell-4da88078c99281b8",
     "locked": true,
     "schema_version": 3,
     "solution": false,
     "task": false
    },
    "tags": []
   },
   "outputs": [],
   "source": [
    "# Compute ideal sinogram\n",
    "ideal_sino = Radon(phantom)\n",
    "\n",
    "plt.close('all')\n",
    "view = viewer([phantom, ideal_sino], widgets=True, hist=False, axis=True, cmap='gray')"
   ]
  },
  {
   "cell_type": "markdown",
   "id": "474c600e-988d-44ad-b8d8-90c07fd0919b",
   "metadata": {
    "deletable": false,
    "editable": false,
    "nbgrader": {
     "checksum": "d77f6823bff637294d2fb90f3ceeffc2",
     "grade": false,
     "grade_id": "cell-d99e75842e54b6d1",
     "locked": true,
     "schema_version": 3,
     "solution": false,
     "task": false
    }
   },
   "source": [
    "### Reconstruction with Filtered Back-Projection (FBP)"
   ]
  },
  {
   "cell_type": "markdown",
   "id": "2d19bc28-4361-4ce7-98e8-9777a571f04f",
   "metadata": {
    "deletable": false,
    "editable": false,
    "nbgrader": {
     "checksum": "486e53b0f3b0b6c48d698d85aab91a38",
     "grade": false,
     "grade_id": "cell-e0693dbc094458a3",
     "locked": true,
     "schema_version": 3,
     "solution": false,
     "task": false
    }
   },
   "source": [
    "In the ideal case, the reconstructed object can be well recovered from its sinogram using the algorithm of Filtered Back-Projection, implemented through the given Pyxu operator `InvRadon`."
   ]
  },
  {
   "cell_type": "code",
   "execution_count": null,
   "id": "75f27a67-f414-44a0-b0de-a9d0a9cb8234",
   "metadata": {
    "deletable": false,
    "editable": false,
    "execution": {
     "iopub.execute_input": "2025-05-14T10:06:13.519113Z",
     "iopub.status.busy": "2025-05-14T10:06:13.517536Z",
     "iopub.status.idle": "2025-05-14T10:06:14.364417Z",
     "shell.execute_reply": "2025-05-14T10:06:14.361602Z",
     "shell.execute_reply.started": "2025-05-14T10:06:13.518947Z"
    },
    "nbgrader": {
     "checksum": "8f1a42ddaf8f6af6ee036785e20a10c4",
     "grade": false,
     "grade_id": "cell-8e2685159c2d33c7",
     "locked": true,
     "schema_version": 3,
     "solution": false,
     "task": false
    },
    "tags": []
   },
   "outputs": [],
   "source": [
    "ideal_fbp = InvRadon(ideal_sino)\n",
    "\n",
    "plt.close('all')\n",
    "view = viewer([ideal_fbp, phantom, ideal_fbp - phantom], title=[\"Ideal FBP\", \"Phantom\", \"Difference\"], widgets=True, hist=False, axis=True, cmap='gray')"
   ]
  },
  {
   "cell_type": "markdown",
   "id": "25b6d625-c972-4196-b4e3-026098cac34c",
   "metadata": {
    "deletable": false,
    "editable": false,
    "nbgrader": {
     "checksum": "77cd383293278697dcf297d2ce24121c",
     "grade": false,
     "grade_id": "cell-7098d2a12ddc6f40",
     "locked": true,
     "schema_version": 3,
     "solution": false,
     "task": false
    }
   },
   "source": [
    "### Reconstruction from a non-ideal sinogram"
   ]
  },
  {
   "cell_type": "markdown",
   "id": "356bfa94-d601-4a86-8042-c7b209c41083",
   "metadata": {
    "deletable": false,
    "editable": false,
    "nbgrader": {
     "checksum": "e53ea238ae6c9e4015e2439dc448d25b",
     "grade": false,
     "grade_id": "cell-62525dbf5d60a56d",
     "locked": true,
     "schema_version": 3,
     "solution": false,
     "task": false
    }
   },
   "source": [
    "However, in practice, the process of acquisition deviates from the assumptions usually made by traditional Radon transform models. The complexities of the studied setup in this example include:\n",
    "\n",
    "- Detector Width: Detectors feature non-negligible widths, hence perform tube integrals in place of line integrals assumed by the Radon transform. This results in a blurring effect in the sinogram.\n",
    "\n",
    "- Probabilistic Element: There’s a chance that detector pixels might malfunction during each scan, introducing missing values in the sinogram.\n",
    "\n",
    "- X-ray Beam Intensity: The X-ray beam’s intensity tapers towards the edges, causing a similar tapering effect in the sinogram, which complicates the application of the standard Radon transform."
   ]
  },
  {
   "cell_type": "markdown",
   "id": "703252c3-050f-4f94-a37b-c345f9d00d00",
   "metadata": {
    "deletable": false,
    "editable": false,
    "nbgrader": {
     "checksum": "18ceac58a2e0453b3496dd0b7618890e",
     "grade": false,
     "grade_id": "cell-fe229ea99741c946",
     "locked": true,
     "schema_version": 3,
     "solution": false,
     "task": false
    }
   },
   "source": [
    "Each of the perturbations are described with Pyxu by the following operators:"
   ]
  },
  {
   "cell_type": "code",
   "execution_count": null,
   "id": "c98edb30-095c-4b5b-ae91-e24bd0efd406",
   "metadata": {
    "deletable": false,
    "editable": false,
    "execution": {
     "iopub.execute_input": "2025-05-14T10:06:22.106520Z",
     "iopub.status.busy": "2025-05-14T10:06:22.105375Z",
     "iopub.status.idle": "2025-05-14T10:06:22.179498Z",
     "shell.execute_reply": "2025-05-14T10:06:22.176526Z",
     "shell.execute_reply.started": "2025-05-14T10:06:22.106389Z"
    },
    "nbgrader": {
     "checksum": "c9a82753f01ea64d90f92917d3abce73",
     "grade": false,
     "grade_id": "cell-62033483716cd168",
     "locked": true,
     "schema_version": 3,
     "solution": false,
     "task": false
    },
    "tags": []
   },
   "outputs": [],
   "source": [
    "# Detector Width\n",
    "kernel = np.ones((3, 1)); kernel /= kernel.sum()\n",
    "Blur1D = Convolve(\n",
    "    dim_shape=ideal_sino.shape, \n",
    "    kernel=kernel, \n",
    "    center=(kernel.shape[0]//2, kernel.shape[1]//2), \n",
    "    mode=\"reflect\")\n",
    "\n",
    "# Probabilisic Element\n",
    "np.random.seed(1234) # for reproductibility, do not modify\n",
    "mask = np.random.binomial(n=1, p=0.99, size=ideal_sino.shape)\n",
    "Mask = DiagonalOp(mask)\n",
    "\n",
    "# X-ray beam intensity\n",
    "taper = np.hamming(ideal_sino.shape[0])\n",
    "BeamIntensity = DiagonalOp(dim_shape=ideal_sino.shape, vec=taper.reshape(-1, 1))\n",
    "\n",
    "# Compose all operators\n",
    "Phi = BeamIntensity * Mask * Blur1D * Radon"
   ]
  },
  {
   "cell_type": "code",
   "execution_count": null,
   "id": "ab33cf84-545f-4fe9-9afd-b2a5c25e1d84",
   "metadata": {
    "deletable": false,
    "editable": false,
    "execution": {
     "iopub.execute_input": "2025-05-14T10:06:24.173320Z",
     "iopub.status.busy": "2025-05-14T10:06:24.172187Z",
     "iopub.status.idle": "2025-05-14T10:06:25.288673Z",
     "shell.execute_reply": "2025-05-14T10:06:25.286970Z",
     "shell.execute_reply.started": "2025-05-14T10:06:24.173235Z"
    },
    "nbgrader": {
     "checksum": "9d059ed9959e8094034f4ad88a9e02b3",
     "grade": false,
     "grade_id": "cell-c202905af209e530",
     "locked": true,
     "schema_version": 3,
     "solution": false,
     "task": false
    },
    "tags": []
   },
   "outputs": [],
   "source": [
    "non_ideal_sino = Phi(phantom)\n",
    "\n",
    "plt.close('all')\n",
    "view = viewer([non_ideal_sino, ideal_sino], widgets=True, hist=False, axis=True, cmap='gray')"
   ]
  },
  {
   "cell_type": "markdown",
   "id": "6cfe06cd-19f8-4a1b-b6c7-c86b9285d399",
   "metadata": {
    "deletable": false,
    "editable": false,
    "nbgrader": {
     "checksum": "68300cf7b13c72bcf5f186b81efcfa5e",
     "grade": false,
     "grade_id": "cell-dd00c2ae5c06fb89",
     "locked": true,
     "schema_version": 3,
     "solution": false,
     "task": false
    }
   },
   "source": [
    "#### Naive application of Filtered-Back Projection"
   ]
  },
  {
   "cell_type": "markdown",
   "id": "20cda551-c35b-4234-9fcc-4ed9ffa1e1b8",
   "metadata": {
    "deletable": false,
    "editable": false,
    "nbgrader": {
     "checksum": "b68a69288ed893acee93c3934b4e2082",
     "grade": false,
     "grade_id": "cell-686b6f20fe22fe2b",
     "locked": true,
     "schema_version": 3,
     "solution": false,
     "task": false
    }
   },
   "source": [
    "**For 1 point** answer the following MCQ:\n",
    "* What is the SNR of naive application of Filtered-Back Projection to the non-ideal sinogram ? (**1 point**)\n",
    "1. $1.15$ dB\n",
    "2. $2.15$ dB\n",
    "3. $3.15$ dB\n",
    "4. $4.15$ dB\n",
    "5. $5.15$ dB\n",
    "6. $6.15$ dB\n",
    "7. $7.15$ dB\n",
    "\n",
    "Use the next cell to compute it."
   ]
  },
  {
   "cell_type": "code",
   "execution_count": null,
   "id": "ac3030e4-6d05-4a5d-ad5b-678b691eecb5",
   "metadata": {
    "deletable": false,
    "execution": {
     "iopub.execute_input": "2025-05-14T10:06:30.682273Z",
     "iopub.status.busy": "2025-05-14T10:06:30.680976Z",
     "iopub.status.idle": "2025-05-14T10:06:31.529170Z",
     "shell.execute_reply": "2025-05-14T10:06:31.526346Z",
     "shell.execute_reply.started": "2025-05-14T10:06:30.682147Z"
    },
    "nbgrader": {
     "checksum": "81d9215f9e6e917034a84e03ee4b3411",
     "grade": true,
     "grade_id": "cell-90802af39e4fb808",
     "locked": false,
     "points": 0,
     "schema_version": 3,
     "solution": true,
     "task": false
    },
    "tags": []
   },
   "outputs": [],
   "source": [
    "non_ideal_fbp = None\n",
    "# YOUR CODE HERE\n",
    "\n",
    "plt.close('all')\n",
    "view = viewer([non_ideal_fbp, phantom, non_ideal_fbp - phantom], title=[\"Non-ideal FBP\", \"Phantom\", \"Difference\"], widgets=True, hist=False, axis=True, cmap='gray')"
   ]
  },
  {
   "cell_type": "markdown",
   "id": "6e0b41c5",
   "metadata": {
    "deletable": false,
    "editable": false,
    "nbgrader": {
     "checksum": "b83ed761b06998614bd8f6c4d10eb326",
     "grade": false,
     "grade_id": "cell-02a50f227b8df319",
     "locked": true,
     "schema_version": 3,
     "solution": false,
     "task": false
    }
   },
   "source": [
    "Modify the variable `answer` in the next cell to reflect your choices. "
   ]
  },
  {
   "cell_type": "code",
   "execution_count": null,
   "id": "b6b6d191-343f-4ba5-b397-82a00e65ccc5",
   "metadata": {
    "deletable": false,
    "execution": {
     "iopub.execute_input": "2025-05-14T10:06:37.874750Z",
     "iopub.status.busy": "2025-05-14T10:06:37.873750Z",
     "iopub.status.idle": "2025-05-14T10:06:37.885972Z",
     "shell.execute_reply": "2025-05-14T10:06:37.883365Z",
     "shell.execute_reply.started": "2025-05-14T10:06:37.874644Z"
    },
    "nbgrader": {
     "checksum": "c6a1baa50cc0a5ddc5c1ee76fb91cf4f",
     "grade": true,
     "grade_id": "cell-b1d7224a48070908",
     "locked": false,
     "points": 1,
     "schema_version": 3,
     "solution": true,
     "task": false
    },
    "tags": []
   },
   "outputs": [],
   "source": [
    "# Assign your answer to this variable\n",
    "answer = None\n",
    "# YOUR CODE HERE"
   ]
  },
  {
   "cell_type": "code",
   "execution_count": null,
   "id": "c6f931a2-d0af-49fe-adae-571d8e0945e3",
   "metadata": {
    "deletable": false,
    "editable": false,
    "execution": {
     "iopub.execute_input": "2025-05-14T10:06:38.162631Z",
     "iopub.status.busy": "2025-05-14T10:06:38.161567Z",
     "iopub.status.idle": "2025-05-14T10:06:38.174966Z",
     "shell.execute_reply": "2025-05-14T10:06:38.172913Z",
     "shell.execute_reply.started": "2025-05-14T10:06:38.162548Z"
    },
    "nbgrader": {
     "checksum": "b1dde4fcda2a4fc5be989021678adf19",
     "grade": false,
     "grade_id": "cell-f91892f71da52b31",
     "locked": true,
     "schema_version": 3,
     "solution": false,
     "task": false
    },
    "tags": []
   },
   "outputs": [],
   "source": [
    "if not answer in list(range(1, 8)): \n",
    "    print('WARNING!\\nPossible answers are integers between 1 and 7.')"
   ]
  },
  {
   "cell_type": "markdown",
   "id": "a8ad74f9-3d8f-4081-9265-feb322f94d0b",
   "metadata": {
    "deletable": false,
    "editable": false,
    "nbgrader": {
     "checksum": "35027fa58ed0c5eaf6288fb207b4cc0e",
     "grade": false,
     "grade_id": "cell-9a2d3fb725239d19",
     "locked": true,
     "schema_version": 3,
     "solution": false,
     "task": false
    }
   },
   "source": [
    "#### Leveraging Pyxu for regularization"
   ]
  },
  {
   "cell_type": "markdown",
   "id": "d0c29a6e-554b-4c94-a5f3-cea61203b2dc",
   "metadata": {
    "deletable": false,
    "editable": false,
    "nbgrader": {
     "checksum": "e1ad3ef7801c1487512808e687144c5f",
     "grade": false,
     "grade_id": "cell-35ce677997f1ce90",
     "locked": true,
     "schema_version": 3,
     "solution": false,
     "task": false
    }
   },
   "source": [
    "For **2 points**, solve the reconstruction problem **under positive constraints**:\n",
    "$$s^\\ast = \\arg \\min_{s \\geq 0} \\| \\Phi(s) - y \\|_2^2 + \\lambda  \\| s \\|_1 + \\mu \\| \\nabla s \\|_2^2$$\n",
    "with $\\lambda=1$ and $\\mu=10^{-4}$, and where $y$ represents the non-ideal sinogram and $\\Phi$ is the composition of the radon transform followed by all the three perturbations defined previously. To do so, use the **Proximal Gradient Descent** solver from Pyxu with gradient step size equal to $10^{-3}$.\n",
    "\n",
    "**Note:** For reasons of time, stop the algorithm after 200 iterations and take the all-zeros vector as initialization (**takes about 3 minutes**).\n",
    "\n",
    "*Hints:*\n",
    "    \n",
    "1. You may want to use the operator [PositiveL1Norm](https://pyxu-org.github.io/api/operator/func.html#pyxu.operator.PositiveOrthant).\n",
    "\n",
    "2. The gradient step size is defined with the argument `tau` in the method `fit`."
   ]
  },
  {
   "cell_type": "code",
   "execution_count": null,
   "id": "9006432e-cc49-43e5-bd38-ba93e61dfbc4",
   "metadata": {
    "deletable": false,
    "execution": {
     "iopub.execute_input": "2025-05-14T10:06:41.186996Z",
     "iopub.status.busy": "2025-05-14T10:06:41.185929Z",
     "iopub.status.idle": "2025-05-14T10:09:41.495858Z",
     "shell.execute_reply": "2025-05-14T10:09:41.492680Z",
     "shell.execute_reply.started": "2025-05-14T10:06:41.186908Z"
    },
    "nbgrader": {
     "checksum": "3fc9378f26d65dbf7548319334d8dfb9",
     "grade": true,
     "grade_id": "cell-d43cb1fb9a6e1962",
     "locked": false,
     "points": 2,
     "schema_version": 3,
     "solution": true,
     "task": false
    },
    "tags": []
   },
   "outputs": [],
   "source": [
    "y = non_ideal_sino\n",
    "lam = 1.0 # Regularization parameter\n",
    "mu = 1e-4 # Regularization parameter\n",
    "\n",
    "# Define the operators\n",
    "# YOUR CODE HERE\n",
    "\n",
    "\n",
    "# Define and fit the solver with all-zeros vector as initialization\n",
    "# YOUR CODE HERE\n",
    "\n",
    "\n",
    "# Get solution\n",
    "s_opt = None\n",
    "# YOUR CODE HERE\n",
    "\n",
    "# Display the solution and observe the differences between all the estimators of the phantom image\n",
    "plt.close('all')\n",
    "view = viewer([s_opt, non_ideal_fbp, ideal_fbp, phantom], title=[\"Pyxu solution\", \"Non-ideal FBP\", \"Ideal FBP\", \"Phantom\"], widgets=True, hist=False, axis=True, cmap='gray')"
   ]
  },
  {
   "cell_type": "markdown",
   "id": "33bfc9b6-497a-4536-8366-3afc266bdec5",
   "metadata": {
    "deletable": false,
    "editable": false,
    "execution": {
     "iopub.execute_input": "2024-04-04T16:42:20.332715Z",
     "iopub.status.busy": "2024-04-04T16:42:20.331875Z",
     "iopub.status.idle": "2024-04-04T16:42:20.349047Z",
     "shell.execute_reply": "2024-04-04T16:42:20.345752Z",
     "shell.execute_reply.started": "2024-04-04T16:42:20.332643Z"
    },
    "nbgrader": {
     "checksum": "7db14b7e918669154c43d0e4af843014",
     "grade": false,
     "grade_id": "cell-c8c48e083f150594",
     "locked": true,
     "schema_version": 3,
     "solution": false,
     "task": false
    },
    "tags": []
   },
   "source": [
    "For **1 point** answer the following MCQ:\n",
    "* What is the SNR of the reconstructed image ? (**1 point**)\n",
    "1. $1.76$ dB\n",
    "2. $2.76$ dB\n",
    "3. $3.76$ dB\n",
    "4. $4.76$ dB\n",
    "5. $5.76$ dB\n",
    "6. $6.76$ dB\n",
    "7. $7.76$ dB\n",
    "\n",
    "Use the next cell to compute it. "
   ]
  },
  {
   "cell_type": "code",
   "execution_count": null,
   "id": "2f873a9c-7812-4b48-ade2-637b6b64c75a",
   "metadata": {
    "deletable": false,
    "execution": {
     "iopub.execute_input": "2025-05-14T10:48:12.945554Z",
     "iopub.status.busy": "2025-05-14T10:48:12.944303Z",
     "iopub.status.idle": "2025-05-14T10:48:12.964554Z",
     "shell.execute_reply": "2025-05-14T10:48:12.960618Z",
     "shell.execute_reply.started": "2025-05-14T10:48:12.945403Z"
    },
    "nbgrader": {
     "checksum": "5a4dc39249395c693cbb859647a1fd0f",
     "grade": true,
     "grade_id": "cell-b943abbaefe47917",
     "locked": false,
     "points": 0,
     "schema_version": 3,
     "solution": true,
     "task": false
    },
    "tags": []
   },
   "outputs": [],
   "source": [
    "# YOUR CODE HERE"
   ]
  },
  {
   "cell_type": "markdown",
   "id": "904a4f3f",
   "metadata": {
    "deletable": false,
    "editable": false,
    "nbgrader": {
     "checksum": "32bdf7070656cfbc84af9d3668e4acd9",
     "grade": false,
     "grade_id": "cell-e207bd0fc9831015",
     "locked": true,
     "schema_version": 3,
     "solution": false,
     "task": false
    }
   },
   "source": [
    "Modify the variable `answer` in the next cell to reflect your choices."
   ]
  },
  {
   "cell_type": "code",
   "execution_count": null,
   "id": "2f6c0198-6735-443b-9a9c-53080fa2b586",
   "metadata": {
    "deletable": false,
    "execution": {
     "iopub.execute_input": "2025-05-14T10:48:15.559629Z",
     "iopub.status.busy": "2025-05-14T10:48:15.558007Z",
     "iopub.status.idle": "2025-05-14T10:48:15.569006Z",
     "shell.execute_reply": "2025-05-14T10:48:15.566701Z",
     "shell.execute_reply.started": "2025-05-14T10:48:15.559546Z"
    },
    "nbgrader": {
     "checksum": "a403a0320cd63cfdabfc3f956dda84c3",
     "grade": true,
     "grade_id": "cell-d38bb8b1447816fb",
     "locked": false,
     "points": 1,
     "schema_version": 3,
     "solution": true,
     "task": false
    },
    "tags": []
   },
   "outputs": [],
   "source": [
    "# Assign your answer to this variable\n",
    "answer = None\n",
    "# YOUR CODE HERE"
   ]
  },
  {
   "cell_type": "code",
   "execution_count": null,
   "id": "0966b510-b1eb-441b-899c-121c663700ce",
   "metadata": {
    "deletable": false,
    "editable": false,
    "execution": {
     "iopub.execute_input": "2025-05-14T10:48:16.333781Z",
     "iopub.status.busy": "2025-05-14T10:48:16.332781Z",
     "iopub.status.idle": "2025-05-14T10:48:16.344862Z",
     "shell.execute_reply": "2025-05-14T10:48:16.342723Z",
     "shell.execute_reply.started": "2025-05-14T10:48:16.333699Z"
    },
    "nbgrader": {
     "checksum": "d9709b58f66cd42f81e988ebe52c9b4c",
     "grade": false,
     "grade_id": "cell-9e313808553c0ed7",
     "locked": true,
     "schema_version": 3,
     "solution": false,
     "task": false
    },
    "tags": []
   },
   "outputs": [],
   "source": [
    "if not answer in list(range(1, 8)): \n",
    "    print('WARNING!\\nPossible answers are integers between 1 and 7.')"
   ]
  },
  {
   "cell_type": "markdown",
   "id": "63e59aa1-087f-499a-9171-c8d9874e9ed8",
   "metadata": {
    "deletable": false,
    "editable": false,
    "nbgrader": {
     "checksum": "4e10f165a095035eb4286ffd8d5c282b",
     "grade": false,
     "grade_id": "cell-6fe17b4e3145faf0",
     "locked": true,
     "schema_version": 3,
     "solution": false,
     "task": false
    }
   },
   "source": [
    "🎉 Congratulations on finishing the second part of the Inverse Problem lab!! 🎉\n",
    "\n",
    "Make sure to save your notebook (you might want to keep a copy on your personal computer) and upload it to Moodle, **in a zip file with the other notebook of this lab.**\n",
    "\n",
    "* Keep the name of the notebook as: *2_pyxu.ipynb*,\n",
    "* Name the zip file: *inverse_problem_lab.zip*."
   ]
  }
 ],
 "metadata": {
  "kernelspec": {
   "display_name": "Python3",
   "language": "python",
   "name": "python3"
  },
  "language_info": {
   "codemirror_mode": {
    "name": "ipython",
    "version": 3
   },
   "file_extension": ".py",
   "mimetype": "text/x-python",
   "name": "python",
   "nbconvert_exporter": "python",
   "pygments_lexer": "ipython3",
   "version": "3.12.5"
  }
 },
 "nbformat": 4,
 "nbformat_minor": 5
}
