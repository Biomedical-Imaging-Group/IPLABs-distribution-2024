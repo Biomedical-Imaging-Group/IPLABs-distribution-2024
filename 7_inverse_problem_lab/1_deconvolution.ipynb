{
 "cells": [
  {
   "cell_type": "markdown",
   "id": "1c14aa93-8a8e-439b-85c4-afa70060c74a",
   "metadata": {
    "deletable": false,
    "editable": false,
    "execution": {
     "iopub.execute_input": "2024-01-23T14:17:33.745658Z",
     "iopub.status.busy": "2024-01-23T14:17:33.744444Z",
     "iopub.status.idle": "2024-01-23T14:17:33.777425Z",
     "shell.execute_reply": "2024-01-23T14:17:33.775301Z",
     "shell.execute_reply.started": "2024-01-23T14:17:33.745577Z"
    },
    "nbgrader": {
     "checksum": "bf0d0e86e1a8226fb494b1a98b57f0b9",
     "grade": false,
     "grade_id": "cell-7e2dd5b5cc63405b",
     "locked": true,
     "schema_version": 3,
     "solution": false,
     "task": false
    },
    "tags": []
   },
   "source": [
    "<img src=\"https://www.epfl.ch/about/overview/wp-content/uploads/2020/07/logo-epfl-1024x576.png\" width=\"140px\" alt=\"EPFL_logo\">\n",
    "\n",
    "## Image Processing Laboratory Notebooks\n",
    "---\n",
    "\n",
    "This Jupyter Notebook is part of a series of computer laboratories designed\n",
    "to teach image-processing programming; they are running on EPFL's Noto server. They are the practical complement of the theoretical lectures of the EPFL's Master course \n",
    "[**MICRO-512 Image Processing II**](https://moodle.epfl.ch/course/view.php?id=522) taught by Prof. M. Unser and Prof. D. Van de Ville.\n",
    "\n",
    "The project is funded by the Center for Digital Education and the School of Engineering. It is owned by the [Biomedical Imaging Group](http://bigwww.epfl.ch/). \n",
    "The distribution or reproduction of the notebook is strictly prohibited without the written consent of the authors.  &copy; EPFL 2025.\n",
    "\n",
    "**Authors**: \n",
    "    Sébastien Herbreteau, \n",
    "    [Daniel Sage](mailto:daniel.sage@epfl.ch), and\n",
    "    [Sepand Kashani](mailto:sepand.kashani@epfl.ch),\n",
    "    \n",
    "---\n",
    "# Lab 7.1: Deconvolution\n",
    "**Released**: Thursday, May 15, 2025\n",
    "\n",
    "**Submission deadline**: Monday, May 26, 2025, before 23:59 on [Moodle](https://moodle.epfl.ch/course/view.php?id=463)\n",
    "\n",
    "**Grade weight**: Lab 7 (21 points), 7.5 % of the overall grade\n",
    "\n",
    "**Related lectures**: Chapter 9 and 10"
   ]
  },
  {
   "cell_type": "markdown",
   "id": "6050f734-1859-4804-a0cc-b4b96f187106",
   "metadata": {
    "deletable": false,
    "editable": false,
    "execution": {
     "iopub.execute_input": "2024-01-23T14:19:35.889088Z",
     "iopub.status.busy": "2024-01-23T14:19:35.888019Z",
     "iopub.status.idle": "2024-01-23T14:19:35.914636Z",
     "shell.execute_reply": "2024-01-23T14:19:35.911941Z",
     "shell.execute_reply.started": "2024-01-23T14:19:35.889006Z"
    },
    "nbgrader": {
     "checksum": "4b287494778f24f19fbfeba022c7f8e2",
     "grade": false,
     "grade_id": "cell-583fb9f7021c489c",
     "locked": true,
     "schema_version": 3,
     "solution": false,
     "task": false
    },
    "tags": []
   },
   "source": [
    "Double-click on this cell, fill your name and SCIPER number below to verify your identity in Noto and set the seed for random results.\n",
    ":::{attention} Please write down your name and SCIPER! \n",
    "### Student Name: \n",
    "### SCIPER:\n",
    ":::"
   ]
  },
  {
   "cell_type": "code",
   "execution_count": null,
   "id": "f55aed92-1fd0-43d9-ba0a-72deb2ce1a29",
   "metadata": {
    "deletable": false,
    "editable": false,
    "nbgrader": {
     "checksum": "820d9c8bd307995eb52ac06ef2a8d851",
     "grade": true,
     "grade_id": "cell-b40f407dc3462a73",
     "locked": true,
     "points": 0,
     "schema_version": 3,
     "solution": false,
     "task": false
    },
    "tags": []
   },
   "outputs": [],
   "source": [
    "import getpass\n",
    "# This line recovers your camipro number to mark the images with your ID\n",
    "uid = int(getpass.getuser().split('-')[2]) if len(getpass.getuser().split('-')) > 2 else ord(getpass.getuser()[0])\n",
    "print(f'SCIPER: {uid}')"
   ]
  },
  {
   "cell_type": "markdown",
   "id": "60903fb6-3830-48d1-9ce4-ce7a46337679",
   "metadata": {
    "deletable": false,
    "editable": false,
    "nbgrader": {
     "checksum": "bd4f17c03284355359744fee4b49e8ba",
     "grade": false,
     "grade_id": "cell-426b44e4ab83a174",
     "locked": true,
     "schema_version": 3,
     "solution": false,
     "task": false
    }
   },
   "source": [
    "## Imports\n",
    "In the next cell we import Python libraries we will use throughout the lab."
   ]
  },
  {
   "cell_type": "code",
   "execution_count": null,
   "id": "40152c33-030c-4d18-9fa4-34773d7dae49",
   "metadata": {
    "deletable": false,
    "editable": false,
    "nbgrader": {
     "checksum": "91095de21f8e61e82bd85d27f01755cf",
     "grade": false,
     "grade_id": "cell-2ad9d0fffe11a22d",
     "locked": true,
     "schema_version": 3,
     "solution": false,
     "task": false
    },
    "tags": []
   },
   "outputs": [],
   "source": [
    "# Import standard required packages for this exercise\n",
    "import matplotlib.pyplot as plt\n",
    "import ipywidgets as widgets\n",
    "import numpy as np\n",
    "import skimage\n",
    "from interactive_kit import imviewer as viewer\n",
    "\n",
    "# Configure plotting as dynamic\n",
    "%matplotlib widget"
   ]
  },
  {
   "cell_type": "markdown",
   "id": "102816e7-f754-4ec5-9b30-88e0119198cd",
   "metadata": {
    "deletable": false,
    "editable": false,
    "nbgrader": {
     "checksum": "e612368f8633a48adc35a0795efbc292",
     "grade": false,
     "grade_id": "cell-bdec7cf6fda27c20",
     "locked": true,
     "schema_version": 3,
     "solution": false,
     "task": false
    }
   },
   "source": [
    "# Deconvolution (14 points)\n",
    "\n",
    "In this lab, you will study deconvolution algorithms. You will implement simple deconvolution approaches yourself and explore more regularization techniques with Pyxu in the second lab."
   ]
  },
  {
   "cell_type": "markdown",
   "id": "7cc16dfb-90f4-4f3a-bda4-18093e8d2107",
   "metadata": {
    "deletable": false,
    "editable": false,
    "execution": {
     "iopub.execute_input": "2024-01-23T14:59:40.751681Z",
     "iopub.status.busy": "2024-01-23T14:59:40.750727Z",
     "iopub.status.idle": "2024-01-23T14:59:40.767061Z",
     "shell.execute_reply": "2024-01-23T14:59:40.764102Z",
     "shell.execute_reply.started": "2024-01-23T14:59:40.751608Z"
    },
    "nbgrader": {
     "checksum": "cc97bc1e308c6b1dffd65cfabdad3bb1",
     "grade": false,
     "grade_id": "cell-64a2d03f3f16faea",
     "locked": true,
     "schema_version": 3,
     "solution": false,
     "task": false
    },
    "tags": []
   },
   "source": [
    "## 1. Inverse filtering"
   ]
  },
  {
   "cell_type": "markdown",
   "id": "1b563a7d-1184-4a09-ad11-e32d3fe911b8",
   "metadata": {
    "deletable": false,
    "editable": false,
    "nbgrader": {
     "checksum": "f6b6c25f269e057c3bdff6acfa7e653c",
     "grade": false,
     "grade_id": "cell-08049da0e5f056ea",
     "locked": true,
     "schema_version": 3,
     "solution": false,
     "task": false
    }
   },
   "source": [
    "In order to preserve the identity of a (famous) person in an image $s$, a naive software engineer at a Big Tech company decides to blur the entire image $s$ with a centered Gaussian kernel, denoted $h$. In other words, the corruption model he uses is simply: $$y = h * s\\,,$$\n",
    "where $s$ is the true signal, $h$ is the blurring kernel (with **periodic padding**) and $y$ the corrupted image. The blurred image $y$ is available at `images/blurred.tif`.\n",
    "\n",
    "Before revealing the identity of the person in `blurred.tif` in part [1.B](#1.B.-Revealing-the-identity-of-the-blurred-celebrity-(2-points)), you are going to experiment first with the test image `einstein.tif`."
   ]
  },
  {
   "cell_type": "markdown",
   "id": "5cffae95-b5c7-4992-97cf-4de355d2f34d",
   "metadata": {
    "deletable": false,
    "editable": false,
    "nbgrader": {
     "checksum": "51b6dbdd6ee2e0aeacb470b721a8a343",
     "grade": false,
     "grade_id": "cell-8eb0414ea4c503bc",
     "locked": true,
     "schema_version": 3,
     "solution": false,
     "task": false
    }
   },
   "source": [
    "### 1.A. Reproducing blur on a test image (2 points)"
   ]
  },
  {
   "cell_type": "markdown",
   "id": "8a68c1ad-972c-4685-bfb7-02aa3169a45e",
   "metadata": {
    "deletable": false,
    "editable": false,
    "nbgrader": {
     "checksum": "183ae3dc5fb2a68e410ad6d481683976",
     "grade": false,
     "grade_id": "cell-8afeb420bffa7bbd",
     "locked": true,
     "schema_version": 3,
     "solution": false,
     "task": false
    }
   },
   "source": [
    "For **1 point**, complete the function `filtering_periodic` that implements the operation $h * s$ with periodic padding **using 2D discrete Fourier transform (DFT)** and test it with the test image of Albert Einstein (`images/einstein.tif`) and the given centered Gaussian kernel $h$ with standard deviation $\\sigma_h=20$. You should use the NumPy functions `np.fft.fft2` and `np.fft.ifft2`.\n",
    "\n",
    "The function `filtering_periodic` takes as inputs\n",
    " * `s`: the input image, \n",
    " * `h`: the centered kernel of size $(2k+1)\\times(2k+1)$,\n",
    " \n",
    "and returns `y`, the filtered image of the same size as `s`.\n",
    "\n",
    "*Hint:* You may want to use the given function `kernel_to_image` below.\n",
    "\n",
    "**Beware:** `filtering_periodic` must output an image with pixels in $\\mathbb{R}$ (not in $\\mathbb{C}$)."
   ]
  },
  {
   "cell_type": "code",
   "execution_count": null,
   "id": "8c27260e-7b71-4824-930c-258b522f3889",
   "metadata": {
    "deletable": false,
    "nbgrader": {
     "checksum": "e5ff0b15b60939652e53d4385b0af616",
     "grade": true,
     "grade_id": "cell-494ad43233a29393",
     "locked": false,
     "points": 1,
     "schema_version": 3,
     "solution": true,
     "task": false
    },
    "tags": []
   },
   "outputs": [],
   "source": [
    "def get_2D_Gaussian_kernel(sigma_h):\n",
    "    \"\"\" Returns a centered Gaussian kernel h of size (2k+1)*(2k+1) \"\"\"\n",
    "    k = int(np.ceil(3*sigma_h))\n",
    "    kernel_h_1D = np.exp(-np.arange(-k, k+1)**2 / (2 * sigma_h**2))\n",
    "    kernel_h_1D /= kernel_h_1D.sum() # normalization so that the sum of the coefficients equals 1\n",
    "    kernel_h_2D = kernel_h_1D.reshape(-1, 1) @ kernel_h_1D.reshape(1, -1)\n",
    "    return kernel_h_2D\n",
    "    \n",
    "def kernel_to_image(h, s):\n",
    "    \"\"\" Converts the kernel h of size (2k+1)x(2k+1) to an image of the same size as s, denoted h_ext, \n",
    "    so that the relation h * s = y <=> DFT(h_ext) .* DFT(s) = DFT(y) holds \"\"\"\n",
    "    h_ext = np.zeros(s.shape)\n",
    "    k = h.shape[0] // 2\n",
    "    h_ext[:(2*k+1), :(2*k+1)] = h\n",
    "    return np.roll(h_ext, (-k, -k), axis=(0, 1))\n",
    "    \n",
    "def filtering_periodic(s, h):\n",
    "    \"\"\" Returns h * s \"\"\"\n",
    "    # YOUR CODE HERE\n",
    "    return y"
   ]
  },
  {
   "cell_type": "code",
   "execution_count": null,
   "id": "fd469f7c-5a38-47c9-b511-082308045991",
   "metadata": {
    "deletable": false,
    "editable": false,
    "nbgrader": {
     "checksum": "4421af6a4f8f2f0749a5b0c4e30d1860",
     "grade": false,
     "grade_id": "cell-f2a42b6710a1c161",
     "locked": true,
     "schema_version": 3,
     "solution": false,
     "task": false
    },
    "tags": []
   },
   "outputs": [],
   "source": [
    "# Import Einstein image\n",
    "einstein = skimage.io.imread('images/einstein.tif').astype(np.float64)\n",
    "\n",
    "# Display result\n",
    "sigma_h = 20\n",
    "kernel_h_2D = get_2D_Gaussian_kernel(sigma_h)\n",
    "blurred_einstein = filtering_periodic(einstein, kernel_h_2D)\n",
    "plt.close('all')\n",
    "view = viewer([einstein, blurred_einstein, kernel_h_2D], widgets=True, hist=False, axis=True, cmap='gray')"
   ]
  },
  {
   "cell_type": "markdown",
   "id": "a4b08e4b-f9b2-45d8-ac27-2e048142e11a",
   "metadata": {
    "deletable": false,
    "editable": false,
    "nbgrader": {
     "checksum": "26e8a91acf71a6cdfca90248bdc914fa",
     "grade": false,
     "grade_id": "cell-b28bad455c1beae1",
     "locked": true,
     "schema_version": 3,
     "solution": false,
     "task": false
    },
    "tags": []
   },
   "source": [
    "Although it may seem that the person has been anonymized, this way of corrupting data is not safe as it is completely reversible as long as the Gaussian kernel $h$ is known. For **1 point**, implement the function `inverse_filtering_periodic` **using 2D discrete Fourier transform (DFT)** that recovers the true signal $s$ from its corrupted version $y$.\n",
    "\n",
    "\n",
    "The function `inverse_filtering_periodic` takes as inputs\n",
    " * `y`: the input corrupted image, \n",
    " * `h`: the centered kernel of size $(2k+1)\\times(2k+1)$,\n",
    " \n",
    "and returns `s`, the original image of the same size as `y`."
   ]
  },
  {
   "cell_type": "code",
   "execution_count": null,
   "id": "ed3d3052-27ad-4cf1-beb9-c7ba1188d5a7",
   "metadata": {
    "deletable": false,
    "nbgrader": {
     "checksum": "dfef933549c3a0023e41aae20e055c8b",
     "grade": true,
     "grade_id": "cell-7823b3622e256f67",
     "locked": false,
     "points": 1,
     "schema_version": 3,
     "solution": true,
     "task": false
    },
    "tags": []
   },
   "outputs": [],
   "source": [
    "def inverse_filtering_periodic(y, h):\n",
    "    \"\"\" Returns s such that y = h * s \"\"\"\n",
    "    # YOUR CODE HERE\n",
    "    return s\n",
    "\n",
    "deblurred_einstein = inverse_filtering_periodic(blurred_einstein, kernel_h_2D)\n",
    "absolute_error = np.abs(deblurred_einstein - einstein) # due to numerical errors\n",
    "plt.close('all')\n",
    "view = viewer([deblurred_einstein, absolute_error], widgets=True, hist=False, axis=True, cmap='gray')"
   ]
  },
  {
   "cell_type": "code",
   "execution_count": null,
   "id": "798409a2-cd97-45be-aa9a-0616d5a1e2a3",
   "metadata": {
    "deletable": false,
    "editable": false,
    "nbgrader": {
     "checksum": "f54344ce33138e417fe288c65cb11656",
     "grade": false,
     "grade_id": "cell-b9cd454632a767e6",
     "locked": true,
     "schema_version": 3,
     "solution": false,
     "task": false
    },
    "tags": []
   },
   "outputs": [],
   "source": [
    "# Perform sanity check on a random image\n",
    "s_random = np.random.rand(40, 40)\n",
    "h_random = np.random.rand(5, 5)\n",
    "if np.allclose(inverse_filtering_periodic(filtering_periodic(s_random, h_random), h_random), s_random) \\\n",
    "    and np.max(np.abs(np.imag(filtering_periodic(s_random, h_random)))) == 0 \\\n",
    "    and np.max(np.abs(np.imag(inverse_filtering_periodic(s_random, h_random)))) == 0:\n",
    "    print('Congratulations! Your code seems to be working.') \n",
    "else:\n",
    "    print('WARNING!\\nYour code is not correct!') "
   ]
  },
  {
   "cell_type": "markdown",
   "id": "2a38d907-0b95-4ce7-b4e5-3529bae23469",
   "metadata": {
    "deletable": false,
    "editable": false,
    "execution": {
     "iopub.execute_input": "2024-01-26T13:41:08.279841Z",
     "iopub.status.busy": "2024-01-26T13:41:08.279367Z",
     "iopub.status.idle": "2024-01-26T13:41:08.287120Z",
     "shell.execute_reply": "2024-01-26T13:41:08.285755Z",
     "shell.execute_reply.started": "2024-01-26T13:41:08.279809Z"
    },
    "nbgrader": {
     "checksum": "26c112c94989ae1812c9cbf00f3b5f9f",
     "grade": false,
     "grade_id": "cell-4a6ac69dd9da3fbe",
     "locked": true,
     "schema_version": 3,
     "solution": false,
     "task": false
    },
    "tags": []
   },
   "source": [
    "### 1.B. Revealing the identity of the blurred celebrity (2 points)"
   ]
  },
  {
   "cell_type": "markdown",
   "id": "df93c10b-2bda-4eaa-9160-957f82777268",
   "metadata": {
    "deletable": false,
    "editable": false,
    "nbgrader": {
     "checksum": "945b329f7dccebff7c2a1245a96c2ef4",
     "grade": false,
     "grade_id": "cell-e98bedd4caecf2c7",
     "locked": true,
     "schema_version": 3,
     "solution": false,
     "task": false
    }
   },
   "source": [
    "For **2 points**, using the function `inverse_filtering_periodic`, reveal the identity of the blurred person at `images/blurred.tif`, given that the standard deviation $\\sigma_h$ of the Gaussian kernel used for corruption is **an integer**. \n",
    "\n",
    "*Hint:* supply a list of potential $\\sigma_h$ (stored in `list_sigmas`), run the deconvolution for each $\\sigma_h$ and store the images in `list_deblurred_images`."
   ]
  },
  {
   "cell_type": "code",
   "execution_count": null,
   "id": "df4887eb-009e-45d2-a934-64255cb4a032",
   "metadata": {
    "deletable": false,
    "nbgrader": {
     "checksum": "3c5e5bbf55a1ff10fc7e5ed11abd66e6",
     "grade": true,
     "grade_id": "cell-01b6317988b3f773",
     "locked": false,
     "points": 1,
     "schema_version": 3,
     "solution": true,
     "task": false
    },
    "tags": []
   },
   "outputs": [],
   "source": [
    "blurred_person = skimage.io.imread('images/blurred.tif').astype(np.float64)\n",
    "\n",
    "list_sigmas = [0]\n",
    "list_deblurred_images = [blurred_person]\n",
    "\n",
    "# YOUR CODE HERE\n",
    "\n",
    "plt.close('all')\n",
    "view = viewer(list_deblurred_images, title=[str(elt) for elt in list_sigmas], widgets=True, hist=False, axis=True, cmap='gray')"
   ]
  },
  {
   "cell_type": "markdown",
   "id": "13d5f23d-c679-4b84-971e-34ba796cfac4",
   "metadata": {
    "deletable": false,
    "editable": false,
    "execution": {
     "iopub.execute_input": "2024-01-26T14:04:58.810489Z",
     "iopub.status.busy": "2024-01-26T14:04:58.810248Z",
     "iopub.status.idle": "2024-01-26T14:04:58.820921Z",
     "shell.execute_reply": "2024-01-26T14:04:58.820024Z",
     "shell.execute_reply.started": "2024-01-26T14:04:58.810465Z"
    },
    "nbgrader": {
     "checksum": "d40f2b3b86002907558a807c36f5fe99",
     "grade": false,
     "grade_id": "cell-b7e460cbbf7f908f",
     "locked": true,
     "schema_version": 3,
     "solution": false,
     "task": false
    },
    "tags": []
   },
   "source": [
    "In the next cell, assign to the variable `sigma_blur` the standard deviation used for blurring the hidden person."
   ]
  },
  {
   "cell_type": "code",
   "execution_count": null,
   "id": "840157e5-b74a-4bb7-a8d5-69486f15ff1e",
   "metadata": {
    "deletable": false,
    "nbgrader": {
     "checksum": "b3e1a120fdb6987191aba7a8b5f42ae5",
     "grade": true,
     "grade_id": "cell-6f098c87825df913",
     "locked": false,
     "points": 1,
     "schema_version": 3,
     "solution": true,
     "task": false
    },
    "tags": []
   },
   "outputs": [],
   "source": [
    "# Standard deviation used for blurring the hidden celebrity\n",
    "sigma_blur = None\n",
    "# YOUR CODE HERE"
   ]
  },
  {
   "cell_type": "code",
   "execution_count": null,
   "id": "474d0fcc-b801-4523-a6da-7d7170872344",
   "metadata": {
    "deletable": false,
    "editable": false,
    "nbgrader": {
     "checksum": "44dc39804503d7837704ceb2f5c76c0c",
     "grade": false,
     "grade_id": "cell-0678ca098f368052",
     "locked": true,
     "schema_version": 3,
     "solution": false,
     "task": false
    },
    "tags": []
   },
   "outputs": [],
   "source": [
    "# Perform sanity check on sigma_blur\n",
    "if not (0 < sigma_blur < 50 or np.round(sigma_blur) != sigma_blur): \n",
    "    print('WARNING!\\nThe selected standard deviation is not really reasonable.')"
   ]
  },
  {
   "cell_type": "markdown",
   "id": "3a979435-b549-41f3-b647-affd7bb70632",
   "metadata": {
    "deletable": false,
    "editable": false,
    "nbgrader": {
     "checksum": "c488c75ce9ab6dcf6215ca79644dbdc7",
     "grade": false,
     "grade_id": "cell-648fe4eb0ad12cc9",
     "locked": true,
     "schema_version": 3,
     "solution": false,
     "task": false
    }
   },
   "source": [
    "### 1.C. Robustness to mirror padding (1 point)"
   ]
  },
  {
   "cell_type": "markdown",
   "id": "e19c3a90-99c6-4fe9-8f6e-b9526b6b29ff",
   "metadata": {
    "deletable": false,
    "editable": false,
    "nbgrader": {
     "checksum": "5399e80ad7b974cb5607303fcbd80abb",
     "grade": false,
     "grade_id": "cell-8e5ed311f3b73876",
     "locked": true,
     "schema_version": 3,
     "solution": false,
     "task": false
    }
   },
   "source": [
    "For **1 point**, **using the function** `filtering_periodic`, implement the function `filtering_mirror` that filters the input image with a mirror padding (a.k.a. reflect padding) and observe that the function `inverse_filtering_periodic` defined above does not work for deblurring with this specific padding. \n",
    "\n",
    "The function `filtering_mirror` takes as inputs\n",
    " * `s`: the input image, \n",
    " * `h`: the centered kernel of size $(2k+1)\\times(2k+1)$,\n",
    " \n",
    "and returns `y`, the filtered image with mirror padding of the same size as `s`.\n",
    "\n",
    "$\\Rightarrow$ Inverse filtering is not robust to a slight change in the padding mode!\n",
    "\n",
    "\n",
    "*Hint:* You may want to use the function `np.pad` with reflect mode."
   ]
  },
  {
   "cell_type": "code",
   "execution_count": null,
   "id": "d12564d5-1c83-4cb5-8f10-42ada31aa89c",
   "metadata": {
    "deletable": false,
    "nbgrader": {
     "checksum": "0f1ed04b3e204aa3b150b09bb575df90",
     "grade": true,
     "grade_id": "cell-521221ee17ad3e18",
     "locked": false,
     "points": 1,
     "schema_version": 3,
     "solution": true,
     "task": false
    },
    "tags": []
   },
   "outputs": [],
   "source": [
    "def filtering_mirror(s, h):\n",
    "    \"\"\" Returns h * s with mirror padding \"\"\" \n",
    "    # YOUR CODE HERE\n",
    "    return y"
   ]
  },
  {
   "cell_type": "code",
   "execution_count": null,
   "id": "a4da7ec5-31ed-44f7-ba5d-8b91a0ae0eae",
   "metadata": {
    "tags": []
   },
   "outputs": [],
   "source": [
    "sigma_h = 20\n",
    "kernel_h_2D = get_2D_Gaussian_kernel(sigma_h)\n",
    "blurred_einstein_mirror = filtering_mirror(einstein, kernel_h_2D)\n",
    "deblurred_einstein_mirror = inverse_filtering_periodic(blurred_einstein_mirror, kernel_h_2D)\n",
    "plt.close('all')\n",
    "view = viewer([deblurred_einstein_mirror, blurred_einstein_mirror], widgets=True, hist=False, axis=True, cmap='gray')"
   ]
  },
  {
   "cell_type": "markdown",
   "id": "52dea979-caff-4351-8f8e-c2372d4aa7e3",
   "metadata": {
    "deletable": false,
    "editable": false,
    "nbgrader": {
     "checksum": "b77bb1e7214bdcfd511bfb4f2738e4a5",
     "grade": false,
     "grade_id": "cell-b858295ba56f5826",
     "locked": true,
     "schema_version": 3,
     "solution": false,
     "task": false
    }
   },
   "source": [
    "## 2. Regularization"
   ]
  },
  {
   "cell_type": "markdown",
   "id": "f4c71605-b3f5-4cac-9c8b-4aebf309a48c",
   "metadata": {
    "deletable": false,
    "editable": false,
    "nbgrader": {
     "checksum": "5499a11e009cc8a4e0f413c77c0e5333",
     "grade": false,
     "grade_id": "cell-83151ffe36d6b462",
     "locked": true,
     "schema_version": 3,
     "solution": false,
     "task": false
    }
   },
   "source": [
    "In order to make it more difficult for potential attackers, the engineer decides to add white Gaussian noise $n \\sim \\mathcal{N}(0, \\sigma_n^2 I)$ to the corruption model (still periodic padding):\n",
    "$$y = h * s + n\\,,$$\n",
    "with $\\sigma_n = 1$ (almost imperceptible noise). \n",
    "\n",
    "Observe that the function `inverse_filtering_periodic` defined above is not enough to recover the true signal $s$.\n",
    "\n",
    "$\\Rightarrow$ Inverse filtering is not robust to the addition of a weak noise!"
   ]
  },
  {
   "cell_type": "code",
   "execution_count": null,
   "id": "dce79d2c-1b07-4361-832b-44a83f1b7fe5",
   "metadata": {
    "tags": []
   },
   "outputs": [],
   "source": [
    "np.random.seed(1234) # for reproductibility, do not modify\n",
    "sigma_h = 20\n",
    "kernel_h_2D = get_2D_Gaussian_kernel(sigma_h)\n",
    "blurred_einstein = filtering_periodic(einstein, kernel_h_2D) \n",
    "blurred_and_weakly_noisy_einstein = blurred_einstein + 1.0 * np.random.randn(*einstein.shape)\n",
    "recovered_einstein = inverse_filtering_periodic(blurred_and_weakly_noisy_einstein, kernel_h_2D)\n",
    "plt.close('all')\n",
    "view = viewer([blurred_einstein, blurred_and_weakly_noisy_einstein, recovered_einstein], widgets=True, hist=False, axis=True, cmap='gray')"
   ]
  },
  {
   "cell_type": "markdown",
   "id": "435eb914-0492-4463-8d81-b9054c88776d",
   "metadata": {
    "deletable": false,
    "editable": false,
    "nbgrader": {
     "checksum": "2b0be30ce3ff8567aa8845dee1e27f4d",
     "grade": false,
     "grade_id": "cell-1fdce6d346e5675d",
     "locked": true,
     "schema_version": 3,
     "solution": false,
     "task": false
    }
   },
   "source": [
    "To tackle this problem, the least-squares method consists in solving:\n",
    "$$s^\\ast = \\arg \\min_s J_{\\text{LS}}(s, y)\\,,$$\n",
    "where $J_{\\text{LS}}(s, y) = \\|h * s - y\\|_2^2$. Note that, in this case, the least-squares solution coincides with the maximum-likelihood (ML) estimation solution. However, from a global perspective, ML deconvolution is ill-posed. It is better to constrain the solution by imposing explicit regularization constraints:\n",
    "$$s^\\ast_\\lambda = \\arg \\min_s J_{\\text{LS}}(s,y) + \\lambda J_\\text{reg}(s)\\,,$$\n",
    "where $\\lambda \\geq 0$ is an hyperparameter."
   ]
  },
  {
   "cell_type": "markdown",
   "id": "8ef73508-ac6b-4167-a744-db5920bbb75f",
   "metadata": {
    "deletable": false,
    "editable": false,
    "nbgrader": {
     "checksum": "60b24aa67b695520cbbfc706131b5b2a",
     "grade": false,
     "grade_id": "cell-e6019dd8c0220ecc",
     "locked": true,
     "schema_version": 3,
     "solution": false,
     "task": false
    }
   },
   "source": [
    "### 2.A. Tikhonov regularization (5 points)"
   ]
  },
  {
   "cell_type": "markdown",
   "id": "e9ccbf56-d8ca-45df-ab13-dd5ffa01faf3",
   "metadata": {
    "deletable": false,
    "editable": false,
    "execution": {
     "iopub.execute_input": "2024-01-26T15:55:54.278044Z",
     "iopub.status.busy": "2024-01-26T15:55:54.275379Z",
     "iopub.status.idle": "2024-01-26T15:55:54.395696Z",
     "shell.execute_reply": "2024-01-26T15:55:54.391828Z",
     "shell.execute_reply.started": "2024-01-26T15:55:54.277909Z"
    },
    "nbgrader": {
     "checksum": "5ed936af552e7ae41a3f50aa741bb9b2",
     "grade": false,
     "grade_id": "cell-1455a4c06c140374",
     "locked": true,
     "schema_version": 3,
     "solution": false,
     "task": false
    },
    "tags": []
   },
   "source": [
    "In one of its simplest form, Tikhonov regularization is obtained with $J_\\text{reg}(s) = \\|Ls\\|_2^2$ where $L$ is the Laplacian operator that penalizes oscillations.  For **2 points**, complete the function `solve_tikhonov` that computes the **formal solution** $s^\\ast_\\lambda$ using **discrete Fourier transform (DFT)**.\n",
    "\n",
    "\n",
    "The function `solve_tikhonov` takes as inputs\n",
    " * `y`: the input corrupted image, \n",
    " * `h`: the centered kernel of size $(2k+1)\\times(2k+1)$,\n",
    " * `lam` (scalar): the hyperparameter $\\lambda \\geq 0$, \n",
    " \n",
    "and returns `solution`, the formal solution $s^\\ast_\\lambda$.\n",
    "\n",
    "\n",
    "*Hints:*\n",
    "    \n",
    "1. The gradient of $J_{\\text{LS}}(s,y) + \\lambda J_\\text{reg}(s)$ with regard to $s$ is equal to $2( (H^\\top H + \\lambda L^\\top L) s -  H^\\top y)$ where $H$ is the matrix formulation of convolution with kernel $h$ (in the discretized forward model). **Set it to zero to get the linear system for which $s^\\ast_\\lambda$ is solution**, then go to Fourier.\n",
    "    \n",
    "2. For the sake of simplicity, we use the $3 \\times 3$ Laplacian operator, defined as $Ls = l * s$ with $$l = \\begin{pmatrix} 0 & 1 & 0 \\\\\n",
    "1 & -4 & 1 \\\\\n",
    "0 & 1 & 0 \\\\\n",
    "\\end{pmatrix}\\,.$$\n",
    "    \n",
    "3. Since all convolutions have symmetric kernels, $H^\\top = H$ and $L^\\top = L$."
   ]
  },
  {
   "cell_type": "code",
   "execution_count": null,
   "id": "3b0bfba9-a317-4a85-98eb-e2fd6063282c",
   "metadata": {
    "deletable": false,
    "nbgrader": {
     "checksum": "99009276e27fb297815f9109dd3b4e48",
     "grade": true,
     "grade_id": "cell-8e4e26597e20c1f6",
     "locked": false,
     "points": 2,
     "schema_version": 3,
     "solution": true,
     "task": false
    },
    "tags": []
   },
   "outputs": [],
   "source": [
    "def solve_tikhonov(y, h, lam):\n",
    "    r\"\"\" Returns the formal solution s_\\lambda^\\ast \"\"\"\n",
    "    # YOUR CODE HERE\n",
    "    return solution"
   ]
  },
  {
   "cell_type": "code",
   "execution_count": null,
   "id": "d870a429",
   "metadata": {
    "deletable": false,
    "editable": false,
    "nbgrader": {
     "checksum": "49fa08461a5d6a475108f69e8d17eae3",
     "grade": false,
     "grade_id": "cell-291295b9be669436",
     "locked": true,
     "schema_version": 3,
     "solution": false,
     "task": false
    }
   },
   "outputs": [],
   "source": [
    "# Perform sanity check for solve_tikhonov\n",
    "np.random.seed(5678) # for reproductibility, do not modify\n",
    "y_sanity_check = np.random.rand(16, 16)\n",
    "h_sanity_check = np.array([[0.05, 0.1, 0.05], [0.1, 0.4, 0.1], [0.05, 0.1, 0.05]])\n",
    "lam_sanity_check = 1e-1\n",
    "solution_sanity_check = np.array([[0.43401456, 0.37066355, 0.47667136, 0.5514082 ],\n",
    "       [0.56186321, 0.42420904, 0.5007256 , 0.49477319],\n",
    "       [0.62218151, 0.43939143, 0.53553075, 0.53750101],\n",
    "       [0.58575311, 0.47531916, 0.54754149, 0.59132934]])\n",
    "if np.allclose(solution_sanity_check, solve_tikhonov(y_sanity_check, h_sanity_check, lam_sanity_check)[:4, :4]):\n",
    "    print('Congratulations! Your function \"solve_tikhonov\" seems to be working.') \n",
    "else:\n",
    "    print('WARNING!\\nYour function \"solve_tikhonov\" is not correct!')"
   ]
  },
  {
   "cell_type": "markdown",
   "id": "cf142fe1-d739-43ba-872f-87058844b267",
   "metadata": {
    "deletable": false,
    "editable": false,
    "nbgrader": {
     "checksum": "1e392a215ab09539bed84cc665f9f61c",
     "grade": false,
     "grade_id": "cell-67da42bc40ec913e",
     "locked": true,
     "schema_version": 3,
     "solution": false,
     "task": false
    }
   },
   "source": [
    "Observe the effect of the regularization hyperparameter $\\lambda$ for deblurring the Einstein image $y$.\n",
    "\n",
    "*Reminder:* `Extra Widgets` needs to be clicked to see the effect of deconvolution with `IntSlider`."
   ]
  },
  {
   "cell_type": "code",
   "execution_count": null,
   "id": "9e5bb00f-f31a-4ebc-847a-68140920123a",
   "metadata": {
    "tags": []
   },
   "outputs": [],
   "source": [
    "# Declare slider\n",
    "reg_slider = widgets.IntSlider(value=-8, min=-8, max=8, step=1, description='lam = 10^x')\n",
    "activation_button = widgets.Button(description='Regularize')\n",
    "\n",
    "# Declare callback\n",
    "def callback(img):\n",
    "    reg = reg_slider.value\n",
    "    output = solve_tikhonov(img, kernel_h_2D, 10**reg)\n",
    "    return output\n",
    "\n",
    "plt.close('all')\n",
    "view = viewer(blurred_and_weakly_noisy_einstein, new_widgets=[reg_slider, activation_button], callbacks=[callback], widgets=True)"
   ]
  },
  {
   "cell_type": "markdown",
   "id": "cff75f29-4d70-40d9-a9d5-28c46bb8f81d",
   "metadata": {
    "deletable": false,
    "editable": false,
    "nbgrader": {
     "checksum": "5194598cb4632e040aa2f06733e9e963",
     "grade": false,
     "grade_id": "cell-d6879807752dc3c5",
     "locked": true,
     "schema_version": 3,
     "solution": false,
     "task": false
    }
   },
   "source": [
    "The **signal to noise ratio** (SNR), expressed in decibels (dB), is defined between a ground truth image $s$ and its recovered version $\\hat{s}$ as follows:\n",
    "    $$\\operatorname{SNR}(s,\\hat{s}) = 10 \\log_{10} \\left(\\frac{\\sum_{i} s_i^2}{\\sum_{i} (s_i - \\hat{s}_i)^2}\\right)\\,.$$\n",
    "Complete the function `SNR` below that implements it. The function `SNR` takes as inputs\n",
    "\n",
    " * `s`: the ground truth image, \n",
    " * `s_hat`: the estimated image, \n",
    " \n",
    "and returns `snr` (float), the signal to noise ratio."
   ]
  },
  {
   "cell_type": "code",
   "execution_count": null,
   "id": "3466250b-138f-42d8-9e69-865d13973f27",
   "metadata": {
    "deletable": false,
    "nbgrader": {
     "checksum": "bb59f4ff8a0af469d83b2805858be634",
     "grade": true,
     "grade_id": "cell-dfb39ba8989e2fc8",
     "locked": false,
     "points": 0,
     "schema_version": 3,
     "solution": true,
     "task": false
    },
    "tags": []
   },
   "outputs": [],
   "source": [
    "def SNR(s, s_hat):\n",
    "    # YOUR CODE HERE\n",
    "    return snr"
   ]
  },
  {
   "cell_type": "code",
   "execution_count": null,
   "id": "60ee2a97-234b-43c2-aefe-2c1334cf1a6a",
   "metadata": {
    "deletable": false,
    "editable": false,
    "nbgrader": {
     "checksum": "dcb7a1d9ed68cd70a7232edb4051fa7a",
     "grade": false,
     "grade_id": "cell-f751709f0816456b",
     "locked": true,
     "schema_version": 3,
     "solution": false,
     "task": false
    },
    "tags": []
   },
   "outputs": [],
   "source": [
    "# Sanity check for the function SNR\n",
    "s1 = np.linspace(0.8, 1, 10).reshape(-1, 1) @ np.linspace(0.9, 1, 10).reshape(1, -1)\n",
    "s2 = np.linspace(0.85, 1, 10).reshape(-1, 1) @ np.linspace(0.99, 1, 10).reshape(1, -1)\n",
    "if np.allclose(SNR(s1, s2), 21.58120) and np.allclose(SNR(s2, s1), 22.20615):\n",
    "    print('Congratulations! Your function \"SNR\" seems to be working.') \n",
    "else:\n",
    "    print('WARNING!\\nYour function \"SNR\" is not correct!')"
   ]
  },
  {
   "cell_type": "markdown",
   "id": "fbaf965a-ef95-4cb4-9eca-15459e70bd0f",
   "metadata": {
    "deletable": false,
    "editable": false,
    "nbgrader": {
     "checksum": "d2c27b9f2c444913ec9ac92218672897",
     "grade": false,
     "grade_id": "cell-a652f99f48204768",
     "locked": true,
     "schema_version": 3,
     "solution": false,
     "task": false
    }
   },
   "source": [
    "For **1 point** answer the following MCQ:\n",
    "\n",
    "* Among the following values of $\\lambda$, which one maximizes the SNR between $s$ and $s^\\ast_\\lambda$ ?\n",
    "1. $\\lambda = 10^{-6}$\n",
    "2. $\\lambda = 10^{-4}$\n",
    "3. $\\lambda = 10^{-2}$\n",
    "4. $\\lambda = 10^{0}$\n",
    "5. $\\lambda = 10^{2}$\n",
    "6. $\\lambda = 10^{4}$\n",
    "7. $\\lambda = 10^{6}$\n",
    "\n",
    "Use the next cell to experiment or confirm your hypothesis and then modify the variable `answer` in the cell right after it to reflect your choices. "
   ]
  },
  {
   "cell_type": "code",
   "execution_count": null,
   "id": "cd1b2427-f68e-4d85-935c-8492195c98d3",
   "metadata": {
    "deletable": false,
    "nbgrader": {
     "checksum": "0bda407babd3e7322f7194cb2e38d8ed",
     "grade": true,
     "grade_id": "cell-a7125a7957ce8678",
     "locked": false,
     "points": 0,
     "schema_version": 3,
     "solution": true,
     "task": false
    },
    "tags": []
   },
   "outputs": [],
   "source": [
    "# YOUR CODE HERE"
   ]
  },
  {
   "cell_type": "code",
   "execution_count": null,
   "id": "8b09cf89-095d-4e12-b4e6-c53c4ff6cf32",
   "metadata": {
    "deletable": false,
    "nbgrader": {
     "checksum": "8a097e78f7b7d1484d38568cc1cd7381",
     "grade": true,
     "grade_id": "cell-f0ad452e5209cee7",
     "locked": false,
     "points": 1,
     "schema_version": 3,
     "solution": true,
     "task": false
    },
    "tags": []
   },
   "outputs": [],
   "source": [
    "# Assign your answer to this variable\n",
    "answer = None\n",
    "# YOUR CODE HERE"
   ]
  },
  {
   "cell_type": "code",
   "execution_count": null,
   "id": "1753e7d9-bfa4-455e-990a-9d602630c3c9",
   "metadata": {
    "deletable": false,
    "editable": false,
    "nbgrader": {
     "checksum": "23fe01a16968d491a191de3866557cbb",
     "grade": false,
     "grade_id": "cell-5dd5bada9628eb0f",
     "locked": true,
     "schema_version": 3,
     "solution": false,
     "task": false
    },
    "tags": []
   },
   "outputs": [],
   "source": [
    "if not answer in list(range(1, 8)): \n",
    "    print('WARNING!\\nPossible answers are integers between 1 and 7.')"
   ]
  },
  {
   "cell_type": "markdown",
   "id": "25f059c3-cafa-4a01-a12a-86f4d3f4937c",
   "metadata": {
    "deletable": false,
    "editable": false,
    "nbgrader": {
     "checksum": "fc6c03c4c1c71cd6f20827a3f326ef0b",
     "grade": false,
     "grade_id": "cell-c9db1f5768dc87b0",
     "locked": true,
     "schema_version": 3,
     "solution": false,
     "task": false
    }
   },
   "source": [
    "#### Behavior at the limits"
   ]
  },
  {
   "cell_type": "markdown",
   "id": "d4b0760b-5b91-4fde-a431-5bb90523660f",
   "metadata": {
    "deletable": false,
    "editable": false,
    "nbgrader": {
     "checksum": "b1a01de36c6bbb2adb83c3d5b07b2edd",
     "grade": false,
     "grade_id": "cell-20c05683051208ae",
     "locked": true,
     "schema_version": 3,
     "solution": false,
     "task": false
    }
   },
   "source": [
    "**For 1 point**, answer the following MCQ:\n",
    "* What is the SNR of the least-squares solution, i.e. when $\\lambda=0$ (rounded to the nearest integer) ? (**1 point**)\n",
    "1. $-514$ dB\n",
    "2. $-414$ dB\n",
    "3. $-314$ dB\n",
    "4. $-214$ dB\n",
    "5. $-114$ dB\n",
    "6. $0$ dB\n",
    "7. $14$ dB\n",
    "\n",
    "Modify the variable `answer` in the next cell to reflect your choices. "
   ]
  },
  {
   "cell_type": "code",
   "execution_count": null,
   "id": "f01cccb3-d371-4d6d-a1cc-e86a1101a5c6",
   "metadata": {
    "deletable": false,
    "nbgrader": {
     "checksum": "6205b2e35498657027ed0ffab70cbc7d",
     "grade": true,
     "grade_id": "cell-e566396700d17a7a",
     "locked": false,
     "points": 1,
     "schema_version": 3,
     "solution": true,
     "task": false
    },
    "tags": []
   },
   "outputs": [],
   "source": [
    "# Assign your answer to this variable\n",
    "answer = None\n",
    "# YOUR CODE HERE"
   ]
  },
  {
   "cell_type": "code",
   "execution_count": null,
   "id": "568ff1bc-c89e-4638-8cf4-31e2809849ab",
   "metadata": {
    "deletable": false,
    "editable": false,
    "nbgrader": {
     "checksum": "25761f160036100dc8a28efc2a307ca5",
     "grade": false,
     "grade_id": "cell-3614664de0a94462",
     "locked": true,
     "schema_version": 3,
     "solution": false,
     "task": false
    },
    "tags": []
   },
   "outputs": [],
   "source": [
    "if not answer in list(range(1, 8)): \n",
    "    print('WARNING!\\nPossible answers are integers between 1 and 7.')"
   ]
  },
  {
   "cell_type": "markdown",
   "id": "85d3438d-06f4-4cec-babc-5eee6462ba7c",
   "metadata": {
    "deletable": false,
    "editable": false,
    "nbgrader": {
     "checksum": "98e9eb63b37108eaf0fc0e2911cee290",
     "grade": false,
     "grade_id": "cell-84dac3fec7fcc60c",
     "locked": true,
     "schema_version": 3,
     "solution": false,
     "task": false
    }
   },
   "source": [
    "**For 1 point** answer the following MCQ:\n",
    "* What is $s_\\lambda^\\ast$ when $\\lambda$ tends to infinity ? \n",
    "\n",
    "**Note:** $\\mathbf{0}$ and $\\mathbf{1}$ denote the all-zeros vector and the all-ones vector of the same size as $y$, respectively.\n",
    "\n",
    "1. $y$\n",
    "2. $\\mathbf{0}$\n",
    "3. $\\mathbf{1}$\n",
    "4. $Hy$\n",
    "5. $H \\mathbf{1}$\n",
    "6. $\\operatorname{mean}(y) \\mathbf{1}$\n",
    "7. $\\operatorname{median}(y) \\mathbf{1}$\n",
    "\n",
    "Modify the variable `answer` in the next cell to reflect your choices. "
   ]
  },
  {
   "cell_type": "code",
   "execution_count": null,
   "id": "ee64e3ca-7d83-4e31-968d-03a2710fcc28",
   "metadata": {
    "deletable": false,
    "nbgrader": {
     "checksum": "1abdaf127d961b27c516cb16a811a26e",
     "grade": true,
     "grade_id": "cell-32584fa9ffb27799",
     "locked": false,
     "points": 1,
     "schema_version": 3,
     "solution": true,
     "task": false
    },
    "tags": []
   },
   "outputs": [],
   "source": [
    "# Assign your answer to this variable\n",
    "answer = None\n",
    "# YOUR CODE HERE"
   ]
  },
  {
   "cell_type": "code",
   "execution_count": null,
   "id": "71fe1769-529a-4354-9704-6061e0e662f3",
   "metadata": {
    "deletable": false,
    "editable": false,
    "nbgrader": {
     "checksum": "7c618f86af75b28c7730af8fc77307ec",
     "grade": false,
     "grade_id": "cell-fa3b484179584d0f",
     "locked": true,
     "schema_version": 3,
     "solution": false,
     "task": false
    },
    "tags": []
   },
   "outputs": [],
   "source": [
    "if not answer in list(range(1, 8)):\n",
    "    print('WARNING!\\nPossible answers are integers between 1 and 7.')"
   ]
  },
  {
   "cell_type": "markdown",
   "id": "7192b81a-3af1-4ae7-b0eb-fdc38538dabb",
   "metadata": {
    "deletable": false,
    "editable": false,
    "nbgrader": {
     "checksum": "6bebd6aa8d65f7bd2a0dddd5c23177bf",
     "grade": false,
     "grade_id": "cell-33bd86c789856094",
     "locked": true,
     "schema_version": 3,
     "solution": false,
     "task": false
    }
   },
   "source": [
    "### 2.B. TV regularization (4 points)"
   ]
  },
  {
   "cell_type": "markdown",
   "id": "160baf45-87f4-41b8-882c-a87152ebbf10",
   "metadata": {
    "deletable": false,
    "editable": false,
    "nbgrader": {
     "checksum": "e41d6ddcdcf4ace571b9877148f2e295",
     "grade": false,
     "grade_id": "cell-789820b70009c6c0",
     "locked": true,
     "schema_version": 3,
     "solution": false,
     "task": false
    }
   },
   "source": [
    "Another very popular type of regularization is the Total variation regularization $J_{\\text{TV}}(s) = \\lambda \\| \\nabla s\\|_1$, which favors piecewise-constant solutions. Complete the function `solve_tv` using the **Proximal Gradient Descent** algorithm  to solve:\n",
    "    $$s^\\ast_\\lambda = \\arg \\min_s \\frac{1}{2} \\|h * s - y\\|_2^2 + \\lambda  \\| \\nabla s\\|_1\\,,$$\n",
    "where $\\lambda \\geq 0$ is an hyperparameter.\n",
    "\n",
    "The function `solve_tv` takes as inputs\n",
    " * `y`: the input corrupted image, \n",
    " * `h`: the centered kernel of size $(2k+1)\\times(2k+1)$,\n",
    " * `lam` (scalar): the hyperparameter $\\lambda \\geq 0$, \n",
    " * `nb_iterations` (int): fixed to 100 (do not modify), \n",
    " \n",
    "and returns `solution`, the formal solution $s^\\ast_\\lambda$.\n",
    "\n",
    "*Hint:* Use the function [`skimage.restoration.denoise_tv_chambolle`](https://scikit-image.org/docs/stable/api/skimage.restoration.html#skimage.restoration.denoise_tv_chambolle) with the correct `weight` parameter for computing the proximal step, as there exists no closed-form expression.\n",
    "    \n",
    "**Note:** Since [`skimage.restoration.denoise_tv_chambolle`](https://scikit-image.org/docs/stable/api/skimage.restoration.html#skimage.restoration.denoise_tv_chambolle) is also an iterative function, the algorithm may take some time."
   ]
  },
  {
   "cell_type": "code",
   "execution_count": null,
   "id": "64b44065-e696-4357-909b-e6bb7c20db6c",
   "metadata": {
    "deletable": false,
    "nbgrader": {
     "checksum": "14be9822e5b9e58ecfda329dc9312829",
     "grade": true,
     "grade_id": "cell-b43f9075d9623443",
     "locked": false,
     "points": 3,
     "schema_version": 3,
     "solution": true,
     "task": false
    },
    "tags": []
   },
   "outputs": [],
   "source": [
    "def solve_tv(y, h, lam, nb_iterations=100):\n",
    "    s = y # initialization\n",
    "    L = 1.0 # Lipschitz constant of data term\n",
    "    gamma = 1/L\n",
    "    for _ in range(nb_iterations):\n",
    "        # YOUR CODE HERE\n",
    "    solution = s\n",
    "    return solution"
   ]
  },
  {
   "cell_type": "code",
   "execution_count": null,
   "id": "456761b6",
   "metadata": {
    "deletable": false,
    "editable": false,
    "nbgrader": {
     "checksum": "a988ee02d9519abe3bb505e90e051558",
     "grade": false,
     "grade_id": "cell-e9fb724e736e1cb2",
     "locked": true,
     "schema_version": 3,
     "solution": false,
     "task": false
    }
   },
   "outputs": [],
   "source": [
    "# Perform sanity check for solve_tv\n",
    "np.random.seed(5678) # for reproductibility, do not modify\n",
    "y_sanity_check = np.random.rand(16, 16)\n",
    "h_sanity_check = np.array([[0.05, 0.1, 0.05], [0.1, 0.4, 0.1], [0.05, 0.1, 0.05]])\n",
    "lam_sanity_check = 5e-2\n",
    "solution_sanity_check = np.array([[0.37104013, 0.21921995, 0.39198927, 0.49997054],\n",
    "       [0.5447789 , 0.48547633, 0.51157949, 0.50653231],\n",
    "       [0.57900974, 0.46908567, 0.51937762, 0.52004448],\n",
    "       [0.66397081, 0.46555742, 0.52212   , 0.57628085]])\n",
    "if np.allclose(solution_sanity_check, solve_tv(y_sanity_check, h_sanity_check, lam_sanity_check)[:4, :4]):\n",
    "    print('Congratulations! Your function \"solve_tv\" seems to be working.') \n",
    "else:\n",
    "    print('WARNING!\\nYour function \"solve_tv\" is not correct!')"
   ]
  },
  {
   "cell_type": "markdown",
   "id": "fbf89729-59c7-4f63-aa66-fb3bebf5315d",
   "metadata": {
    "deletable": false,
    "editable": false,
    "nbgrader": {
     "checksum": "0eeea4370b1fdcd548f5a63e25824469",
     "grade": false,
     "grade_id": "cell-23eac3e74a277f84",
     "locked": true,
     "schema_version": 3,
     "solution": false,
     "task": false
    }
   },
   "source": [
    "Observe the effect of the regularization with hyperparameter $\\lambda = 10^{-1}$ for deblurring the Einstein image $y$.\n",
    "\n",
    "**Note**: `solve_tv` takes about 20 seconds for 100 iterations."
   ]
  },
  {
   "cell_type": "code",
   "execution_count": null,
   "id": "10d80d99-1467-4c73-8067-cb9335d06d11",
   "metadata": {
    "tags": []
   },
   "outputs": [],
   "source": [
    "lam = 1e-1\n",
    "recovered_einstein = solve_tv(blurred_and_weakly_noisy_einstein, kernel_h_2D, lam, nb_iterations=100)"
   ]
  },
  {
   "cell_type": "code",
   "execution_count": null,
   "id": "0ff1ade0-f5bd-4ed0-93c8-aab0ed3bbfe9",
   "metadata": {
    "tags": []
   },
   "outputs": [],
   "source": [
    "plt.close('all')\n",
    "view = viewer([recovered_einstein, blurred_and_weakly_noisy_einstein], widgets=True, hist=False, axis=True, cmap='gray')"
   ]
  },
  {
   "cell_type": "markdown",
   "id": "60a015f0-a451-4d28-977d-7aa9bbece473",
   "metadata": {
    "deletable": false,
    "editable": false,
    "nbgrader": {
     "checksum": "132a26eb5645010afc6a83eea7a79af7",
     "grade": false,
     "grade_id": "cell-6b0754118ba7f9af",
     "locked": true,
     "schema_version": 3,
     "solution": false,
     "task": false
    }
   },
   "source": [
    "#### Behavior at the limits"
   ]
  },
  {
   "cell_type": "markdown",
   "id": "d8987408-3720-4be8-ae18-265241b188fd",
   "metadata": {
    "deletable": false,
    "editable": false,
    "execution": {
     "iopub.execute_input": "2024-03-20T10:03:53.781352Z",
     "iopub.status.busy": "2024-03-20T10:03:53.780456Z",
     "iopub.status.idle": "2024-03-20T10:03:53.799268Z",
     "shell.execute_reply": "2024-03-20T10:03:53.796778Z",
     "shell.execute_reply.started": "2024-03-20T10:03:53.781280Z"
    },
    "nbgrader": {
     "checksum": "e722098fd14d47a40565ddeaadb9ed2a",
     "grade": false,
     "grade_id": "cell-ea3e6803f0e56bf8",
     "locked": true,
     "schema_version": 3,
     "solution": false,
     "task": false
    },
    "tags": []
   },
   "source": [
    "Answer the following MCQ:\n",
    "* What is $s_\\lambda^\\ast$ when $\\lambda$ tends to infinity ? \n",
    "\n",
    "**Note:** $\\mathbf{0}$ and $\\mathbf{1}$ denote the all-zeros vector and the all-ones vector of the same size as $y$, respectively.\n",
    "\n",
    "1. $y$\n",
    "2. $\\mathbf{0}$\n",
    "3. $\\mathbf{1}$\n",
    "4. $Hy$\n",
    "5. $H \\mathbf{1}$\n",
    "6. $\\operatorname{mean}(y) \\mathbf{1}$\n",
    "7. $\\operatorname{median}(y) \\mathbf{1}$\n",
    "\n",
    "Modify the variable `answer` in the next cell to reflect your choices. "
   ]
  },
  {
   "cell_type": "code",
   "execution_count": null,
   "id": "07a46761-b3ac-4235-8ef9-4df76e4daae6",
   "metadata": {
    "deletable": false,
    "nbgrader": {
     "checksum": "668749b34d078be8dc5d475f62e3f902",
     "grade": true,
     "grade_id": "cell-c028592cd160d889",
     "locked": false,
     "points": 1,
     "schema_version": 3,
     "solution": true,
     "task": false
    },
    "tags": []
   },
   "outputs": [],
   "source": [
    "# Assign your answer to this variable\n",
    "answer = None\n",
    "# YOUR CODE HERE"
   ]
  },
  {
   "cell_type": "code",
   "execution_count": null,
   "id": "0170452a-8129-403a-a6d8-83fbd9f39118",
   "metadata": {
    "deletable": false,
    "editable": false,
    "nbgrader": {
     "checksum": "97dcfa8aed48fd9743ec2c6204a6763b",
     "grade": false,
     "grade_id": "cell-2375e130dafc406d",
     "locked": true,
     "schema_version": 3,
     "solution": false,
     "task": false
    },
    "tags": []
   },
   "outputs": [],
   "source": [
    "if not answer in list(range(1, 8)): \n",
    "    print('WARNING!\\nPossible answers are integers between 1 and 7.')"
   ]
  },
  {
   "cell_type": "markdown",
   "id": "b2fd5076-3b07-4273-9107-ce1072cb8e40",
   "metadata": {
    "deletable": false,
    "editable": false,
    "nbgrader": {
     "checksum": "de8d669fc7a5d257e8e5cfca2967d703",
     "grade": false,
     "grade_id": "cell-9c1626e7ec8f19cb",
     "locked": true,
     "schema_version": 3,
     "solution": false,
     "task": false
    }
   },
   "source": [
    "Solving inverse problems by adding a term of regularization is powerful but requires implementing a specific optimization algorithm for each form of the regularizer and the forward operator. In the second part of this lab, we are going to see that the library Pyxu, developed at EPFL, may be helpful for this. "
   ]
  },
  {
   "cell_type": "markdown",
   "id": "41cab08f-f672-48a9-98d6-85c75d559ecd",
   "metadata": {
    "deletable": false,
    "editable": false,
    "nbgrader": {
     "checksum": "a2b641f5a6ea4b43ef15aeab2d002330",
     "grade": false,
     "grade_id": "cell-9171c008b2b2c20b",
     "locked": true,
     "schema_version": 3,
     "solution": false,
     "task": false
    }
   },
   "source": [
    "🎉 Congratulations on finishing the first part of the Inverse Problem lab!! 🎉\n",
    "\n",
    "Make sure to save your notebook (you might want to keep a copy on your personal computer) and upload it to Moodle, **in a zip file with the other notebook of this lab.**\n",
    "\n",
    "* Keep the name of the notebook as: *1_deconvolution.ipynb*,\n",
    "* Name the zip file: *inverse_problem_lab.zip*."
   ]
  }
 ],
 "metadata": {
  "kernelspec": {
   "display_name": "Python3",
   "language": "python",
   "name": "python3"
  },
  "language_info": {
   "codemirror_mode": {
    "name": "ipython",
    "version": 3
   },
   "file_extension": ".py",
   "mimetype": "text/x-python",
   "name": "python",
   "nbconvert_exporter": "python",
   "pygments_lexer": "ipython3",
   "version": "3.12.5"
  }
 },
 "nbformat": 4,
 "nbformat_minor": 5
}
