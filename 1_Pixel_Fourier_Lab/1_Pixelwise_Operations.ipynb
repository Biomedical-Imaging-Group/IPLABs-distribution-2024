{
 "cells": [
  {
   "cell_type": "markdown",
   "metadata": {
    "deletable": false,
    "editable": false,
    "kernel": "SoS",
    "nbgrader": {
     "cell_type": "markdown",
     "checksum": "8a0f857d5088515cb80a9287ab45dea5",
     "grade": false,
     "grade_id": "cell-87ef5277e6904d04",
     "locked": true,
     "schema_version": 3,
     "solution": false,
     "task": false
    }
   },
   "source": [
    "<img src=\"https://www.epfl.ch/about/overview/wp-content/uploads/2020/07/logo-epfl-1024x576.png\" style=\"padding-right:10px;width:140px;float:left\"></td>\n",
    "<h2 style=\"white-space: nowrap\">Image Processing Laboratory Notebooks</h2>\n",
    "<hr style=\"clear:both\">\n",
    "<p style=\"font-size:0.85em; margin:2px; text-align:justify\">\n",
    "This Juypter notebook is part of a series of computer laboratories which are designed\n",
    "to teach image-processing programming; they are running on the EPFL's Noto server. They are the practical complement of the theoretical lectures of the EPFL's Master course <b>Image Processing I</b> \n",
    "(<a href=\"https://moodle.epfl.ch/course/view.php?id=522\">MICRO-511</a>) taught by Prof. M. Unser and Prof. D. Van de Ville.\n",
    "</p>\n",
    "<p style=\"font-size:0.85em; margin:2px; text-align:justify\">\n",
    "The project is funded by the Center for Digital Education and the School of Engineering. It is owned by the <a href=\"http://bigwww.epfl.ch/\">Biomedical Imaging Group</a>. \n",
    "The distribution or the reproduction of the notebook is strictly prohibited without the written consent of the authors.  &copy; EPFL 2024.\n",
    "</p>\n",
    "<p style=\"font-size:0.85em; margin:0px\"><b>Authors</b>: \n",
    "    <a href=\"mailto:pol.delaguilapla@epfl.ch\">Pol del Aguila Pla</a>, \n",
    "    <a href=\"mailto:kay.lachler@epfl.ch\">Kay Lächler</a>,\n",
    "    <a href=\"mailto:alejandro.nogueronaramburu@epfl.ch\">Alejandro Noguerón Arámburu</a>,\n",
    "    <a href=\"mailto:zhiyuan.hu@epfl.ch\">Zhiyuan Hu</a>, and\n",
    "    <a href=\"mailto:daniel.sage@epfl.ch\">Daniel Sage</a>.\n",
    "</p>\n",
    "<hr style=\"clear:both\">\n",
    "<h1>Lab 1.1: Pixel-wise operations</h1>\n",
    "<div style=\"background-color:#F0F0F0;padding:4px\">\n",
    "    <p style=\"margin:4px;\"><b>Released</b>: Thursday September 26th, 2024</p>\n",
    "    <p style=\"margin:4px;\"><b>Submission</b>: Monday October 7th, 2024 (before 23:59) on <a href=\"https://moodle.epfl.ch/course/view.php?id=522\">Moodle</a></p>\n",
    "    <!--number of points is sum of both parts of the lab -->\n",
    "    <p style=\"margin:4px;\"><b>Grade weight</b>: Lab 1 (16 points), 9% of the overall grade</p>\n",
    "    <p style=\"margin:4px;\"><b>Related lectures</b>: Chapter 1</p>\n",
    "</div>"
   ]
  },
  {
   "cell_type": "markdown",
   "metadata": {
    "kernel": "SoS"
   },
   "source": [
    "### Student Name: \n",
    "### SCIPER: \n",
    "\n",
    "Double-click on this cell and fill your name and SCIPER number. Then, run the cell below to verify your identity in Noto and set the seed for random results."
   ]
  },
  {
   "cell_type": "code",
   "execution_count": null,
   "metadata": {
    "deletable": false,
    "editable": false,
    "kernel": "SoS",
    "nbgrader": {
     "cell_type": "code",
     "checksum": "8f4802af2c3f145d847b68c1cfddc319",
     "grade": true,
     "grade_id": "cell-2f6633932108c60f",
     "locked": true,
     "points": 0,
     "schema_version": 3,
     "solution": false,
     "task": false
    }
   },
   "outputs": [],
   "source": [
    "%use sos\n",
    "import getpass\n",
    "# This line recovers your camipro number to mark the images with your ID\n",
    "uid = int(getpass.getuser().split('-')[2]) if len(getpass.getuser().split('-')) > 2 else ord(getpass.getuser()[0])\n",
    "print(f'SCIPER: {uid}')"
   ]
  },
  {
   "cell_type": "markdown",
   "metadata": {
    "deletable": false,
    "editable": false,
    "kernel": "SoS",
    "nbgrader": {
     "cell_type": "markdown",
     "checksum": "21ea6bc90d5d8da1095efa5a168d7938",
     "grade": false,
     "grade_id": "cell-9f52138bd6524e0b",
     "locked": true,
     "schema_version": 3,
     "solution": false,
     "task": false
    }
   },
   "source": [
    "### Imports\n",
    "In the next cell, we import the Python libraries that we will use throughout the lab, as well as the `ImageViewer` class (Python package developed specifically for these laboratories, see documentation [here](https://github.com/Biomedical-Imaging-Group/interactive-kit/wiki/Image-Viewer), or run the python command `help(viewer)` after loading the class):\n",
    "* [`matplotlib.pyplot`](https://matplotlib.org), to display images,\n",
    "* [`ipywidgets`](https://ipywidgets.readthedocs.io/en/latest/), to make the image display interactive, and\n",
    "* [`numpy`](https://numpy.org/doc/stable/reference/), for mathematical operations on arrays.\n",
    "\n",
    "Finally, we load the images used in this lab and make sure that it is of type `float64`, for higher accuracy during operations.\n",
    "\n",
    "Run the next cell to get your notebook ready.\n",
    "\n",
    "<div class=\" alert alert-danger\">\n",
    "  <b>Note:</b> Always run the two import cells below before working on the notebook.    \n",
    "</div>"
   ]
  },
  {
   "cell_type": "code",
   "execution_count": null,
   "metadata": {
    "deletable": false,
    "editable": false,
    "kernel": "SoS",
    "nbgrader": {
     "cell_type": "code",
     "checksum": "9b59b93beb1146f721d10fb1b7ac8bf3",
     "grade": false,
     "grade_id": "cell-7ebcf2f0631aad5a",
     "locked": true,
     "schema_version": 3,
     "solution": false,
     "task": false
    }
   },
   "outputs": [],
   "source": [
    "%use sos\n",
    "# Configure plotting as dynamic\n",
    "%matplotlib widget\n",
    "\n",
    "# Import required packages for this lab\n",
    "import matplotlib.pyplot as plt\n",
    "import ipywidgets as widgets\n",
    "import numpy as np\n",
    "from skimage import io\n",
    "from interactive_kit import imviewer as viewer\n",
    "\n",
    "# Loading images\n",
    "hrct = io.imread(\"images/hrct.tif\").astype('float64')\n",
    "joux = io.imread(\"images/joux.tif\").astype('float64')"
   ]
  },
  {
   "cell_type": "markdown",
   "metadata": {
    "deletable": false,
    "editable": false,
    "kernel": "SoS",
    "nbgrader": {
     "cell_type": "markdown",
     "checksum": "0d61ec97da8e854137163d44da42415a",
     "grade": false,
     "grade_id": "cell-c68b35dfa4eeaa5d",
     "locked": true,
     "schema_version": 3,
     "solution": false,
     "task": false
    }
   },
   "source": [
    "In the following cell we import the JS `ImageAccess` class. You can find the documentation of the class [here](https://biomedical-imaging-group.github.io/image-access/)."
   ]
  },
  {
   "cell_type": "code",
   "execution_count": null,
   "metadata": {
    "deletable": false,
    "editable": false,
    "kernel": "JavaScript",
    "nbgrader": {
     "cell_type": "code",
     "checksum": "e9f158b5c3b65dfa9abe963c2c42fdb0",
     "grade": true,
     "grade_id": "cell-c6c746246d09f0e7",
     "locked": true,
     "points": 0,
     "schema_version": 3,
     "solution": false,
     "task": false
    }
   },
   "outputs": [],
   "source": [
    "%use javascript\n",
    "%get joux\n",
    "// import image-access as Image\n",
    "var Image = require('image-access')"
   ]
  },
  {
   "cell_type": "markdown",
   "metadata": {
    "deletable": false,
    "editable": false,
    "kernel": "SoS",
    "nbgrader": {
     "cell_type": "markdown",
     "checksum": "ae0c221a29f50cddab982b1d006d0d3b",
     "grade": false,
     "grade_id": "cell-9584117c30781c3d",
     "locked": true,
     "schema_version": 3,
     "solution": false,
     "task": false
    }
   },
   "source": [
    "# Pixel-wise operations (9 points)\n",
    "\n",
    "In this laboratory you will learn the basics of pixel-wise image processing by performing simple operations at a pixel level. This has many practical applications such as image normalization, colorization, and just to get information of an image. However, part of the goal of this laboratory is for you to feel comfortable with the process of accessing pixels of an image in both a high-level and a low-level language. Therefore, the laboratory will be mostly in *JavaScript*, and then we will use *Python* for a few applications.\n",
    "\n",
    "## <a id=\"ToC_1_Pixelwise_operations\"></a>Table of contents\n",
    "1. [16-bit gray-scale images: Visualization and Colorization](#1.-16-bit-gray-scale-images:-visualization-and-colorization-(3-points)) \n",
    "    1. [Limitations in visualization](#1.A.-Limitations-in-visualization-(1-point)) **(1 point)**\n",
    "    2. [Colorization](#1.B.-Colorization-(2-points)) **(2 points)**\n",
    "2. [Image normalization](#2.-Image-normalization-(6-points)) \n",
    "    1. [Pixelwise normalization](#2.A.-Pixelwise-normalization-(4-points)) **(4 points)**\n",
    "    2. [Normalization in Python](#2.B.-Normalization-in-Python-(2-points)) **(2 points)**\n",
    "\n",
    "<div class=\" alert alert-danger\">\n",
    "  <b>Important:</b> Each cell that contains code begins with <code>%use sos</code> or <code>%use javascript</code>. This indicates if the code in this specific cell should be executed in Python or JavaScript. Do not change or remove any lines of code that begin with an <code>%</code>. They need to be on the first line of each cell!\n",
    "</div>"
   ]
  },
  {
   "cell_type": "markdown",
   "metadata": {
    "deletable": false,
    "editable": false,
    "kernel": "SoS",
    "nbgrader": {
     "cell_type": "markdown",
     "checksum": "0a44cb00ee65353ce226b43ae30d7f73",
     "grade": false,
     "grade_id": "cell-5e2f118cc6a06a77",
     "locked": true,
     "schema_version": 3,
     "solution": false,
     "task": false
    }
   },
   "source": [
    "# 1. 16-bit gray-scale images: visualization and colorization (3 points)\n",
    "[Back to Table of contents](#ToC_1_Pixelwise_operations)\n",
    "\n",
    "\n",
    "Most standard screens use $8$ bits to display gray-level images, allowing for $2^8 = 256$ different gray-levels to be shown simultaneously. However, some applications like medical imaging require more than 256 values to store essential information. Medical images such as [HRCT](https://en.wikipedia.org/wiki/High-resolution_computed_tomography) are stored in 16-bit images with $2^{16} = 65536$ different gray-levels, which cannot be fully displayed on a standard screen at once. To address this limitation, a solution is to use [colormaps](https://matplotlib.org/stable/tutorials/colors/colormaps.html), which divide the range of gray-levels into sub-ranges of different colors. Colormaps increase contrast on an image and compensate for the inability of standard screens and human eyes to distinguish such a large number of gray shades. \n",
    "\n",
    "In the following section, the limitations of displaying a 16-bit grayscale image on a standard screen will be explored, followed by the application of colorization techniques to address this issue.\n",
    "\n",
    "## 1.A. Limitations in visualization (1 point)\n",
    "[Back to Table of contents](#ToC_1_Pixelwise_operations)\n",
    "\n",
    "To illustrate the problem we will look at the image `hrct`, which is encoded with $16$ bits. The image shows the result of a [computed tomography](https://en.wikipedia.org/wiki/CT_scan) scan of a human thorax. These type of images can, for example, be used to diagnose or assess the developement of COVID-19 in patients ([see more here](https://radiologyassistant.nl/chest/covid-19/covid19-imaging-findings)). \n",
    "\n",
    "Run the next cell and explore the gray-level range. Try to find hidden content in the image that is not visible at first (at first you will only see the thorax). \n",
    "<div class=\"alert alert-info\">\n",
    "    \n",
    "**Hint:** You can adjust the gray-level range of the image by adjusting the values (max / min) of the <i>Brightness & Contrast</i> slider. Observe the image, as well as the histogram. \n",
    "</div>"
   ]
  },
  {
   "cell_type": "code",
   "execution_count": null,
   "metadata": {
    "deletable": false,
    "editable": false,
    "kernel": "SoS",
    "nbgrader": {
     "cell_type": "code",
     "checksum": "0ffdc5230341111c8e081fd8d2050f99",
     "grade": false,
     "grade_id": "cell-f4b0e4cd2ccf0077",
     "locked": true,
     "schema_version": 3,
     "solution": false,
     "task": false
    }
   },
   "outputs": [],
   "source": [
    "%use sos\n",
    "# Display the hrct image to find hidden information\n",
    "plt.close(\"all\")\n",
    "hrct_viewer = viewer(hrct, title='HRCT', hist=True, widgets=True)"
   ]
  },
  {
   "cell_type": "markdown",
   "metadata": {
    "deletable": false,
    "editable": false,
    "kernel": "SoS",
    "nbgrader": {
     "cell_type": "markdown",
     "checksum": "4086b84b38bde22d7e9d389b53004443",
     "grade": false,
     "grade_id": "cell-0c90e6e39c1b2eb2",
     "locked": true,
     "schema_version": 3,
     "solution": false,
     "task": false
    }
   },
   "source": [
    "### Multiple choice question\n",
    "For **0.5 points each**, once you have explored the image, answer the next questions:\n",
    "\n",
    "* Q1: How many $8$-bit grayscale images do we need to cover the pixel values spanned by a generic $16$-bit image?\n",
    "    1. 2\n",
    "    2. 8\n",
    "    3. 256\n",
    "    4. 16\n",
    "\n",
    "\n",
    "* Q2: Using color is another option to see more of the information contained in a 16-bit image on screen. Choose `Options` and select the colormap `nipy_spectral` (make sure that the *Brightness & Contrast* slider spans the whole range). This view reveals wide-spread structures within the patient's lungs. Which of the following ranges of visualization would show those details best with a `gray` colormap?\n",
    "    1. $0\\%$ to $10\\%$\n",
    "    2. $90\\%$ to $100\\%$\n",
    "    3. $50\\%$ to $60\\%$\n",
    "\n",
    "Modify the variables `answer_one` and `answer_two` in the next cell to reflect your choice."
   ]
  },
  {
   "cell_type": "code",
   "execution_count": null,
   "metadata": {
    "deletable": false,
    "kernel": "SoS",
    "nbgrader": {
     "cell_type": "code",
     "checksum": "9229488737260c9852a102a307248572",
     "grade": false,
     "grade_id": "ans-6b13c749168967dc",
     "locked": false,
     "schema_version": 3,
     "solution": true,
     "task": false
    }
   },
   "outputs": [],
   "source": [
    "%use sos\n",
    "# Assign your answer to this variable\n",
    "answer_one = None\n",
    "answer_two = None\n",
    "# YOUR CODE HERE"
   ]
  },
  {
   "cell_type": "code",
   "execution_count": null,
   "metadata": {
    "deletable": false,
    "editable": false,
    "kernel": "SoS",
    "nbgrader": {
     "cell_type": "code",
     "checksum": "b81c1268af2432c34ad8cb2ce82fe807",
     "grade": true,
     "grade_id": "grad-448afa98ba9b0f69",
     "locked": true,
     "points": 0.5,
     "schema_version": 3,
     "solution": false,
     "task": false
    }
   },
   "outputs": [],
   "source": [
    "%use sos\n",
    "# Check that the answer is in the correct range\n",
    "assert answer_one in [1,2,3,4], 'Possible values are 1, 2, 3 or 4.'"
   ]
  },
  {
   "cell_type": "code",
   "execution_count": null,
   "metadata": {
    "deletable": false,
    "editable": false,
    "kernel": "SoS",
    "nbgrader": {
     "cell_type": "code",
     "checksum": "9db8d185b93cd4cb0dc0ecb9e94d1187",
     "grade": true,
     "grade_id": "grad-1cde3c313304ad30",
     "locked": true,
     "points": 0.5,
     "schema_version": 3,
     "solution": false,
     "task": false
    }
   },
   "outputs": [],
   "source": [
    "%use sos\n",
    "# Check that the answer is in the correct range\n",
    "assert answer_two in [1,2,3], 'Possible values are 1, 2, or 3.'"
   ]
  },
  {
   "cell_type": "markdown",
   "metadata": {
    "deletable": false,
    "editable": false,
    "kernel": "SoS",
    "nbgrader": {
     "cell_type": "markdown",
     "checksum": "d5f2d15722b6c926897ae69630c67781",
     "grade": false,
     "grade_id": "cell-ba4960a6f388a10f",
     "locked": true,
     "schema_version": 3,
     "solution": false,
     "task": false
    }
   },
   "source": [
    "## 1.B. Colorization (2 points) \n",
    "[Back to Table of contents](#ToC_1_Pixelwise_operations)\n",
    "\n",
    "Color is a powerful tool to overcome the representation limitations of $8$-bit screens. The idea is to represent the 16-bit range of [0, 65535] using three 8-bit channels with a range of [0, 255] each, resulting in a color (RGB) image. There are many alternatives to divide a range into sub-ranges, but for this exercise, we request you to implement the one specified in the picture below:\n",
    "\n",
    "<img src=\"images/graylevel_divide_rgb.png\" alt=\"Drawing\" style=\"width: 500px;\"/>\n",
    "\n",
    "The three lines reflect the intensity values of each channel depending on the original graylevel intensity (horizontal axis). $N$ is the maximum graylevel intensity; for a 16-bit image $N=2^{16} - 1$.\n",
    "\n",
    "For **1 point**, modify the function `color_pixel_wise(img)` in the next cell to iterate through every pixel in the image and create a new colorized image. The three color channels should be defined according to the figure above.\n",
    "<div class=\"alert alert-info\">\n",
    "\n",
    "**Note:** You only need to modify the variables `r`, `g` and `b`. Make sure you understand the code and fill in the blanks.\n",
    "</div>"
   ]
  },
  {
   "cell_type": "code",
   "execution_count": null,
   "metadata": {
    "deletable": false,
    "kernel": "JavaScript",
    "nbgrader": {
     "cell_type": "code",
     "checksum": "92ed4b999f5c7c4da6bfdad9ecb2bba9",
     "grade": false,
     "grade_id": "ans-ee93a8c0f1746b2a",
     "locked": false,
     "schema_version": 3,
     "solution": true,
     "task": false
    }
   },
   "outputs": [],
   "source": [
    "%use javascript\n",
    "// function that divides a 16 bit graylevel image into an rgb image with 8 bits per channel\n",
    "function color_pixel_wise(img){\n",
    "    // set the max value of the original image (16 bits) and of each channel of the new image (8 bits)\n",
    "    var N = Math.pow(2,16) - 1;\n",
    "    var new_N = 255;\n",
    "    // initialize output image (color image)\n",
    "    options = {}; options.rgb = true;\n",
    "    var output = new Image(img.ny, img.nx, options);\n",
    "    for(var x = 0; x < img.nx; x++){\n",
    "        for(var y = 0; y < img.ny; y++){\n",
    "            var r = 0, g = 0, b = 0;\n",
    "            var value = img.getPixel(x, y);\n",
    "            // assign the correct values to the red, green and blue channels according to the proposed mapping\n",
    "            \n",
    "            // YOUR CODE HERE\n",
    "            \n",
    "            // set the three color channels in the output image (convert them to integers using Math.round)\n",
    "            output.setPixel(x, y, [Math.round(r), Math.round(g), Math.round(b)])\n",
    "        }\n",
    "    }\n",
    "    return output;\n",
    "}"
   ]
  },
  {
   "cell_type": "markdown",
   "metadata": {
    "deletable": false,
    "editable": false,
    "kernel": "JavaScript",
    "nbgrader": {
     "cell_type": "markdown",
     "checksum": "7d031a0429b0f80fa56b9c9c092f4f06",
     "grade": false,
     "grade_id": "cell-1416bf10fe3e0039",
     "locked": true,
     "schema_version": 3,
     "solution": false,
     "task": false
    }
   },
   "source": [
    "Great, use the two cells below to visualize your image. <!--If everything went well,--> You should see most of the hidden details in red (blood vessels and details inside the lungs), the middle values in green (soft tissues, fat, etc.) and the higher values in blue (aorta, bone tissue, etc.). "
   ]
  },
  {
   "cell_type": "code",
   "execution_count": null,
   "metadata": {
    "deletable": false,
    "editable": false,
    "kernel": "JavaScript",
    "nbgrader": {
     "cell_type": "code",
     "checksum": "a0e2947685f7f3517a905e28ea263b15",
     "grade": false,
     "grade_id": "cell-ce224e861be6abd1",
     "locked": true,
     "schema_version": 3,
     "solution": false,
     "task": false
    }
   },
   "outputs": [],
   "source": [
    "%use javascript\n",
    "%get hrct\n",
    "%put hrct_colorized_js\n",
    "\n",
    "var hrct_img = new Image(hrct);\n",
    "var hrct_colorized_js = color_pixel_wise(hrct_img).toArray();"
   ]
  },
  {
   "cell_type": "markdown",
   "metadata": {
    "deletable": false,
    "editable": false,
    "kernel": "JavaScript",
    "nbgrader": {
     "cell_type": "markdown",
     "checksum": "854cd0ca56afcac4b3a27d64143cb62e",
     "grade": false,
     "grade_id": "cell-9c30e30bb733d166",
     "locked": true,
     "schema_version": 3,
     "solution": false,
     "task": false
    }
   },
   "source": [
    "<div class=\"alert alert-info\">\n",
    "    \n",
    "<b>Note: </b> SoS translates JS arrays as Python lists. However, <code>ImageViewer</code> (and every major IP library) works with <i>NumPy</i> arrays, so we have to explicitly call the function <code>np.array</code> on the result from JS.\n",
    "</div>"
   ]
  },
  {
   "cell_type": "code",
   "execution_count": null,
   "metadata": {
    "deletable": false,
    "editable": false,
    "kernel": "SoS",
    "nbgrader": {
     "cell_type": "code",
     "checksum": "a1801ab40fc5ecf82715a4fc4d7d401e",
     "grade": false,
     "grade_id": "cell-5ee440935eada122",
     "locked": true,
     "schema_version": 3,
     "solution": false,
     "task": false
    }
   },
   "outputs": [],
   "source": [
    "%use sos\n",
    "# Convert to NumPy array\n",
    "hrct_colorized_js = np.array(hrct_colorized_js)\n",
    "# Visualize\n",
    "plt.close('all')\n",
    "hrct_colorized_viewer = viewer(hrct_colorized_js, title='HRTC Colorized in JS')"
   ]
  },
  {
   "cell_type": "markdown",
   "metadata": {
    "deletable": false,
    "editable": false,
    "kernel": "JavaScript",
    "nbgrader": {
     "cell_type": "markdown",
     "checksum": "e74eff389694a61d0d87ea090c30404d",
     "grade": false,
     "grade_id": "cell-cb5a2a94f1aed1e3",
     "locked": true,
     "schema_version": 3,
     "solution": false,
     "task": false
    }
   },
   "source": [
    "Check your result by observing the color bar at the top of the image. You should see the color bar transition **smoothly** from black to red, red to green, green to blue, and back to black again.\n",
    "\n",
    "To ensure the image is indeed a color image and that each channel's values range from $0$ to $255$, let's conduct some sanity checks. \n",
    "\n",
    "<div class=\"alert alert-danger\">\n",
    "\n",
    "<b>Note:</b> The fact that you pass these sanity checks <b>does not</b> guarantee the points.\n",
    "</div>"
   ]
  },
  {
   "cell_type": "code",
   "execution_count": null,
   "metadata": {
    "deletable": false,
    "editable": false,
    "kernel": "SoS",
    "nbgrader": {
     "cell_type": "code",
     "checksum": "e07458de5c3b6da2c30a19b832839255",
     "grade": false,
     "grade_id": "cell-4d6f9c50702ecda0",
     "locked": true,
     "schema_version": 3,
     "solution": false,
     "task": false
    }
   },
   "outputs": [],
   "source": [
    "%use sos\n",
    "# Check that the image has indeed 3 color channels\n",
    "assert hrct_colorized_js.shape[2] == 3, \"The resulting image doesn't have 3 color channels!\"\n",
    "# Check that the max and min of each channel are 0 and 255\n",
    "assert np.min(hrct_colorized_js[:,:,0]) == 0, f\"The minimum of the red color channel is {np.min(hrct_colorized_js[:,:,0])} and not 0!\"\n",
    "assert np.min(hrct_colorized_js[:,:,1]) == 0, f\"The minimum of the green color channel is {np.min(hrct_colorized_js[:,:,1])} and not 0!\"\n",
    "assert np.min(hrct_colorized_js[:,:,2]) == 0, f\"The minimum of the blue color channel is {np.min(hrct_colorized_js[:,:,2])} and not 0!\"\n",
    "assert np.max(hrct_colorized_js[:,:,0]) == 255, f\"The maximum of the red color channel is {np.max(hrct_colorized_js[:,:,0])} and not 255!\"\n",
    "assert np.max(hrct_colorized_js[:,:,1]) == 255, f\"The maximum of the green color channel is {np.max(hrct_colorized_js[:,:,1])} and not 255!\"\n",
    "assert np.max(hrct_colorized_js[:,:,2]) == 255, f\"The maximum of the blue color channel is {np.max(hrct_colorized_js[:,:,2])} and not 255!\"\n",
    "print(\"Congrats, your function passed the sanity checks. However, that does not necessarily mean that everything is correct.\")"
   ]
  },
  {
   "cell_type": "markdown",
   "metadata": {
    "deletable": false,
    "editable": false,
    "kernel": "Python3",
    "nbgrader": {
     "cell_type": "markdown",
     "checksum": "5e29bd7ee8132ed64d74078d34259f62",
     "grade": false,
     "grade_id": "cell-208b89bc9642f0e6",
     "locked": true,
     "schema_version": 3,
     "solution": false,
     "task": false
    }
   },
   "source": [
    "To achieve the same colorization in *Python*, we avoid pixel-wise processing used in *JavaScript* because it is extremely slow. Instead, we utilize __[vectorization](https://en.wikipedia.org/wiki/Automatic_vectorization)__, available in Python through libraries like NumPy. This allows us to perform operations on entire arrays, making the code simpler and as fast as a `for` loop in a low-level programming language.\n",
    "\n",
    "In the following cell, we colorize your image in Python, without iterating through every pixel. This function produces the same output as the one you created in JavaScript, but we added the parameters `peak1`, `peak2` and `peak3`, which will be useful in the next exercise. Make sure to fully understand the function.\n",
    "\n",
    "Running the next cell will generate and display the variable `hrct_colorized_python`. It should look exactly like the result you got from the JavaScript function above. "
   ]
  },
  {
   "cell_type": "code",
   "execution_count": null,
   "metadata": {
    "deletable": false,
    "editable": false,
    "kernel": "SoS",
    "nbgrader": {
     "cell_type": "code",
     "checksum": "cb2793aaec72cc93d5df04375e3583bc",
     "grade": false,
     "grade_id": "cell-9f3c2d90af10ad23",
     "locked": true,
     "schema_version": 3,
     "solution": false,
     "task": false
    }
   },
   "outputs": [],
   "source": [
    "%use sos\n",
    "# Function that divides a `bits` bit graylevel image into a rgb image with 8 bits per channel depending on the three specified limits (in %)\n",
    "def color_vectorized(img, peak1=25, peak2=50, peak3=75, bits=16):     \n",
    "    # Initialize max values\n",
    "    N = 2**bits - 1\n",
    "    N_new = 2**8 - 1\n",
    "    \n",
    "    # Make sure that peak1 < peak2 < peak3\n",
    "    peak1, peak2, peak3 = np.sort([peak1, peak2, peak3])\n",
    "    \n",
    "    # Adjust limit values from percent to absolute value\n",
    "    peak1 = peak1 / 100 * N\n",
    "    peak2 = peak2 / 100 * N\n",
    "    peak3 = peak3 / 100 * N\n",
    "    \n",
    "    # Initialize 3 color channels with the appropriate dimensions\n",
    "    color_R = np.zeros(img.shape)\n",
    "    color_G = np.zeros(img.shape)\n",
    "    color_B = np.zeros(img.shape)\n",
    "    \n",
    "    # Generate boolean arrays corresponding to the 4 different sections. \n",
    "    section_1 = img < peak1\n",
    "    section_2 = np.logical_and(peak1 <= img, img < peak2)\n",
    "    section_3 = np.logical_and(peak2 <= img, img < peak3)\n",
    "    section_4 = peak3 <= img\n",
    "    \n",
    "    # Assign the pixel values of each channel depending on the section\n",
    "    color_R[section_1] = img[section_1] / peak1\n",
    "    color_R[section_2] = 1 - (img[section_2] - peak1) / (peak2 - peak1)\n",
    "    color_G[section_2] = (img[section_2] - peak1) / (peak2 - peak1)\n",
    "    color_G[section_3] = 1 - (img[section_3] - peak2) / (peak3 - peak2)\n",
    "    color_B[section_3] = (img[section_3] - peak2) / (peak3 - peak2)\n",
    "    color_B[section_4] = 1 - (img[section_4] - peak3) / (N - peak3)\n",
    "    \n",
    "    # Concatenate the three color channels into one color image    \n",
    "    color_img = np.dstack((color_R,color_G,color_B))\n",
    "    # Multiply by maximum and round to 8-bit integers\n",
    "    color_img = np.round(color_img * N_new).astype(np.uint8)\n",
    "\n",
    "    return(color_img)\n",
    "\n",
    "\n",
    "# Run the function for the same (evenly spaced) limits as in the JavaScript function\n",
    "hrct_colorized_python = color_vectorized(hrct)\n",
    "\n",
    "# Visualize results\n",
    "plt.close('all')\n",
    "hrct_colorized_python_viewer = viewer([hrct_colorized_js, hrct_colorized_python], \n",
    "                                      title=['JS colorization', 'Python colorizaiton'], subplots=(1,2)) "
   ]
  },
  {
   "cell_type": "markdown",
   "metadata": {
    "deletable": false,
    "editable": false,
    "kernel": "Python3",
    "nbgrader": {
     "cell_type": "markdown",
     "checksum": "e72e94bd8ee492e4de5af7bb02d11f93",
     "grade": false,
     "grade_id": "cell-626401e74f06d536",
     "locked": true,
     "schema_version": 3,
     "solution": false,
     "task": false
    }
   },
   "source": [
    "Besides the visual test, you can use the next cell to compare your *JavaScript* implementation to our function in *Python*. The function [`numpy.allclose`](https://numpy.org/doc/stable/reference/generated/numpy.allclose.html) is used to compare the two arrays. If the next cell runs smoothly, your implementation is correct! If not, we will use the `viewer` comparison tool to try to find your mistakes.  "
   ]
  },
  {
   "cell_type": "code",
   "execution_count": null,
   "metadata": {
    "deletable": false,
    "editable": false,
    "kernel": "SoS",
    "nbgrader": {
     "cell_type": "code",
     "checksum": "a59e9d0679991ecae2298ae743e6b5cf",
     "grade": true,
     "grade_id": "grad-e8ad92f1be35983c",
     "locked": true,
     "points": 1,
     "schema_version": 3,
     "solution": false,
     "task": false
    }
   },
   "outputs": [],
   "source": [
    "%use sos\n",
    "\n",
    "# Test if the two images are almost the same\n",
    "if np.allclose(hrct_colorized_python, hrct_colorized_js):\n",
    "    print('Congratulations! Your JS colorization seems to be perfect.')\n",
    "else : \n",
    "    print('You still have a few errors! Hint: Check your range limits. ')\n",
    "    viewer([hrct_colorized_python, hrct_colorized_js], compare=True)"
   ]
  },
  {
   "cell_type": "markdown",
   "metadata": {
    "deletable": false,
    "editable": false,
    "kernel": "Python3",
    "nbgrader": {
     "cell_type": "markdown",
     "checksum": "26f4ca712dff2eda82ad3160e8dba474",
     "grade": false,
     "grade_id": "cell-25f899a0b36fc40f",
     "locked": true,
     "schema_version": 3,
     "solution": false,
     "task": false
    }
   },
   "source": [
    "As you observe, this color representation is an improvement over using only one gray-level channel. However, we can further enhance it by adjusting the positions of the triangle peaks in the color mapping.\n",
    "\n",
    "In the cell below, we will add three sliders to the viewer, enabling peak adjustment for colorization. We will also display a histogram of the image overlaid with the triangles generated by the `color_vectorized()` method. The purpose is to help you identify which value ranges contain more information and design a colorization scheme to reveal this information. \n",
    "\n",
    "Click on the button `Extra Widgets` and use the sliders to adjust the peaks, then click `Apply Colorization` to observe the results."
   ]
  },
  {
   "cell_type": "code",
   "execution_count": null,
   "metadata": {
    "deletable": false,
    "editable": false,
    "kernel": "SoS",
    "nbgrader": {
     "cell_type": "code",
     "checksum": "afc8f090d40b3657214c927fc92038ab",
     "grade": false,
     "grade_id": "cell-1bb15a7a12da6f41",
     "locked": true,
     "schema_version": 3,
     "solution": false,
     "task": false
    }
   },
   "outputs": [],
   "source": [
    "%use sos\n",
    "plt.close('all')\n",
    "\n",
    "# Defining the sliders and the button of the extra widget\n",
    "peak1_slider = widgets.IntSlider(value=25, min=0, max=100, step=1, description='Peak 1 (%)')\n",
    "peak2_slider = widgets.IntSlider(value=50, min=0, max=100, step=1, description='Peak 2 (%)')\n",
    "peak3_slider = widgets.IntSlider(value=75, min=0, max=100, step=1, description='Peak 3 (%)')\n",
    "activation_button = widgets.Button(description='Apply Colorization')\n",
    "\n",
    "# Sort sliders whenever a user crosses them\n",
    "def sort_sliders():\n",
    "    peak1_slider.value, peak2_slider.value, peak3_slider.value=np.sort([peak1_slider.value, \n",
    "                                                                        peak2_slider.value, \n",
    "                                                                        peak3_slider.value])\n",
    "# Defining the callback function of the button\n",
    "def activation_callback(img):\n",
    "    # Sort sliders (should not be necessary)\n",
    "    sort_sliders()\n",
    "    # Colorize image\n",
    "    output = color_vectorized(img, peak1_slider.value, peak2_slider.value, peak3_slider.value)\n",
    "    return output\n",
    "\n",
    "# Visualize the image with the extra widget functionality\n",
    "colorization_ranges_viewer = viewer(hrct, title='Personalizing your colormap', \n",
    "                                    new_widgets=[peak1_slider, peak2_slider, peak3_slider, activation_button], \n",
    "                                    callbacks=[activation_callback], widgets=True)\n",
    "\n",
    "## The code below plots the interactive histogram.\n",
    "## Feel free to explore it, but without any pressure.\n",
    "\n",
    "# Maximum value in image\n",
    "N = np.amax(hrct)\n",
    "# Compute the histogram\n",
    "hist, bins = np.histogram(hrct, bins=70, range=(0, N))\n",
    "# 10% over maximum number of counts (arbitrary max value for triangles)\n",
    "Y = 1.1*np.amax(hist)\n",
    "# Declare a matplotlib figure, capture its axes, plot the histogram, select axis' limits, and set x ticks to %\n",
    "fig = plt.figure(num=f\"SCIPER: {uid}\", figsize=(4, 2.7)); ax = plt.gca()\n",
    "ax.bar(bins[:-1], hist, width=(bins[1] - bins[0]) / 1.2)\n",
    "ax.set_xlim(0, N); ax.set_ylim(0, Y); plt.yticks([],[])\n",
    "plt.xticks([0,.25*N,.5*N,.75*N,N],[r\"$0\\%$\",r\"$25\\%$\",r\"$50\\%$\",r\"$75\\%$\",r\"$100\\%$\"])\n",
    "plt.title(\"Image Histogram and Colorization\")\n",
    "# List to store the lines that will form the triangles\n",
    "lines = []\n",
    "# Function that generates the triangles based on the peaks' positions\n",
    "def generate_triangles(peak1, peak2, peak3):\n",
    "    peak1, peak2, peak3 = np.sort([peak1, peak2, peak3])\n",
    "    xdata = [[0, peak1], [peak1, peak2], [peak1, peak2], [peak2, peak3] , [peak2, peak3], [peak3, N]]\n",
    "    ydata = [[0, Y], [Y, 0], [0, Y], [Y, 0] , [0, Y], [Y, 0]]\n",
    "    return xdata, ydata\n",
    "\n",
    "# Initial plot of the lines that form the triangles (2 per triangle)\n",
    "color = 2*'r' + 2*'g'+ 2*'b' \n",
    "for i in range(6):\n",
    "    xdata, ydata = generate_triangles(N/4, N/2, 3*N/4)\n",
    "    lines.append(ax.plot(xdata[i], ydata[i], color[i]))\n",
    "    \n",
    "# Callback of sliders\n",
    "def update_histogram(change):\n",
    "    sort_sliders()  \n",
    "    # Get the data \n",
    "    xdata, _ = generate_triangles(N*peak1_slider.value/100, N*peak2_slider.value/100, N*peak3_slider.value/100)\n",
    "    # Update lines\n",
    "    count = 0    \n",
    "    for line in lines:\n",
    "        line[0].set_xdata(xdata[count])\n",
    "        count += 1\n",
    "        \n",
    "# Link sliders to callback (the three to the same callback)\n",
    "for slider in [peak1_slider, peak2_slider, peak3_slider]:\n",
    "    slider.observe(update_histogram, 'value') "
   ]
  },
  {
   "cell_type": "markdown",
   "metadata": {
    "deletable": false,
    "editable": false,
    "kernel": "Python3",
    "nbgrader": {
     "cell_type": "markdown",
     "checksum": "da81eb5df43b9e9e744aa987e106fd90",
     "grade": false,
     "grade_id": "cell-afc5006d54e9e9b4",
     "locked": true,
     "schema_version": 3,
     "solution": false,
     "task": false
    }
   },
   "source": [
    "### Multiple choice question\n",
    "For **1 point**, which of the following combination of peaks allows you to see the most information?\n",
    "<div class=\"alert alert-success\">\n",
    "    \n",
    "<b>Tip:</b> If you do not see the sliders' values, collapse the file browser on the left and/or reduce the magnification of your browser.\n",
    "</div>\n",
    "\n",
    "1. `Peak 1` = $10\\%$, `Peak 2` = $30\\%$, `Peak 3` = $60\\%$\n",
    "2. `Peak 1` = $25\\%$, `Peak 2` = $50\\%$, `Peak 3` = $75\\%$\n",
    "3. `Peak 1` = $10\\%$, `Peak 2` = $60\\%$, `Peak 3` = $85\\%$\n",
    "\n",
    "Modify the variable `answer` in the next cell to reflect your answer."
   ]
  },
  {
   "cell_type": "code",
   "execution_count": null,
   "metadata": {
    "deletable": false,
    "kernel": "SoS",
    "nbgrader": {
     "cell_type": "code",
     "checksum": "33979ef184370e2b5e9b4e7fa7b1896e",
     "grade": false,
     "grade_id": "ans-3ed4f2305a16c6ac",
     "locked": false,
     "schema_version": 3,
     "solution": true,
     "task": false
    }
   },
   "outputs": [],
   "source": [
    "%use sos\n",
    "# Assign your answer to this variable\n",
    "answer = None\n",
    "# YOUR CODE HERE"
   ]
  },
  {
   "cell_type": "code",
   "execution_count": null,
   "metadata": {
    "deletable": false,
    "editable": false,
    "kernel": "SoS",
    "nbgrader": {
     "cell_type": "code",
     "checksum": "66916b223fd8ee17b3cbde4c327ecdc6",
     "grade": true,
     "grade_id": "grad-94621f1a3de541fc",
     "locked": true,
     "points": 1,
     "schema_version": 3,
     "solution": false,
     "task": false
    }
   },
   "outputs": [],
   "source": [
    "%use sos\n",
    "# Check that the answer is in the valid range\n",
    "assert answer in [1, 2, 3], 'Possible answers are 1, 2 or 3.'"
   ]
  },
  {
   "cell_type": "markdown",
   "metadata": {
    "deletable": false,
    "editable": false,
    "kernel": "Python3",
    "nbgrader": {
     "cell_type": "markdown",
     "checksum": "25f42427081e9beefd4d8b62e00f7037",
     "grade": false,
     "grade_id": "cell-d963c49ec94a8613",
     "locked": true,
     "schema_version": 3,
     "solution": false,
     "task": false
    }
   },
   "source": [
    "# 2. Image normalization (6 points)\n",
    "[Back to table of contents](#ToC_1_Pixelwise_operations)\n",
    "\n",
    "Normalization is one of the key preprocessing steps in image processing. In this section, you will learn different ways to normalize an image.\n",
    "\n",
    "**For a total of 3 points**, complete the three functions below (**1 point each**), which output images normalized with respect to different statistics:\n",
    "\n",
    "* `makeZeroMean(img)`: Normalizes the image so that the **sample mean of the pixel values is zero**. The standard deviation remains the same.\n",
    "* `stretchContrast(img)`: Normalizes the image so that the **minimum value is $0$ and the maximum value is $1$ (the ratio $\\frac{\\sigma}{range}$ should not change)**. \n",
    "* `normalize2ndOrderStatistics(img)`: Normalizes the image so that the **sample mean of the pixel values is zero** and the **sample standard deviation is $1$**. \n",
    "\n",
    "JS, unlike Python, **does not** have a function to calculate the mean or the standard deviation. Thus, you will need to code them yourself explicitly.\n",
    "<div class=\"alert alert-success\">\n",
    "    \n",
    "<b>Hint: </b> You can use <code>img.getMin()</code> and <code>img.getMax()</code> to get the min and max value of a JavaScript image <code>img</code>. Remember also that you can access a wide range of mathematical functions through the Math library in JS (e.g., <code>Math.sqrt()</code>). You can read more about it <a href='https://developer.mozilla.org/en-US/docs/Web/JavaScript/Reference/Global_Objects/Math'>here</a>.\n",
    "</div>\n",
    "<div class=\"alert alert-warning\">\n",
    "    <b>Note:</b> Make sure to calculate the mean and standard deviation outside of the two for loops that iterate through the pixels of the image, otherwise the operation takes much too long to compute for real images!\n",
    "</div>\n",
    "\n",
    "First, implement the function `makeZeroMean` in the cell below."
   ]
  },
  {
   "cell_type": "code",
   "execution_count": null,
   "metadata": {
    "deletable": false,
    "kernel": "JavaScript",
    "nbgrader": {
     "cell_type": "code",
     "checksum": "4166e0f9f47eaff20cffbecf8b337660",
     "grade": false,
     "grade_id": "ans-900a75999b25ebb5",
     "locked": false,
     "schema_version": 3,
     "solution": true,
     "task": false
    }
   },
   "outputs": [],
   "source": [
    "%use javascript\n",
    "// function that normalizes the image so that the sample mean of the pixel values is zero.\n",
    "function makeZeroMean(img){\n",
    "    var output = new Image(img.shape());\n",
    "    \n",
    "    // YOUR CODE HERE\n",
    "    \n",
    "    return output;\n",
    "}"
   ]
  },
  {
   "cell_type": "markdown",
   "metadata": {
    "deletable": false,
    "editable": false,
    "kernel": "JavaScript",
    "nbgrader": {
     "cell_type": "markdown",
     "checksum": "ef8dc7ef6c42ea791ab1b1d6c193f9cf",
     "grade": false,
     "grade_id": "cell-bd10a14dc73fc1fa",
     "locked": true,
     "schema_version": 3,
     "solution": false,
     "task": false
    }
   },
   "source": [
    "Great! Now it's time to test your implementation. We will do two parallel tests: one on a simple $3×3$ array, one on a real image `joux`. If an error is thrown in any of the tests, you implementation is not yet correct. We will also test the execution time of your function, to tell you if you made a mistake. In future labs you will be responsible by yourself to check that you coded an efficient solution."
   ]
  },
  {
   "cell_type": "code",
   "execution_count": null,
   "metadata": {
    "deletable": false,
    "editable": false,
    "kernel": "JavaScript",
    "nbgrader": {
     "cell_type": "code",
     "checksum": "db05852702720def286d6f6ac1908ef7",
     "grade": true,
     "grade_id": "grad-35f8575ea043e141",
     "locked": true,
     "points": 1,
     "schema_version": 3,
     "solution": false,
     "task": false
    }
   },
   "outputs": [],
   "source": [
    "%use javascript\n",
    "%get joux\n",
    "\n",
    "// declare the test image\n",
    "test_img = new Image([[0, 1, 2], [3, 4, 5], [6, 7, 8]]);\n",
    "var joux_img = new Image(joux)\n",
    "\n",
    "// run the zero mean function on the test image and on 'joux'\n",
    "var test_zero_mean = makeZeroMean(test_img);\n",
    "var joux_zero_mean = makeZeroMean(joux_img);\n",
    "var start = Date.now();\n",
    "var duration = Date.now() - start;\n",
    "\n",
    "//Check the duration of your function (note that the unit of duration is ms)\n",
    "if (duration > 10000){\n",
    "    console.log('WARNING!\\nThe function `makeZeroMean`  is taking way too long. Make sure to optimize your code. In particular, check that you are not iterating the image an unnecessary number of times.');\n",
    "}\n",
    "\n",
    "// Check if the output is as expected \n",
    "if(!(test_zero_mean.imageCompare(new Image([[-4, -3, -2], [-1, 0, 1], [2, 3, 4]])))){\n",
    "    console.log(\"WARNING!\\n The function `makeZeroMean` is not yet correct\");\n",
    "}else{// print victory message\n",
    "    console.log('Nice, the function `makeZeroMean` seems to substract the mean!');}\n",
    "\n",
    "// Check if the image has the correct behaviour \n",
    "if (joux_img.getPixel(100, 100) - joux_zero_mean.getPixel(100, 100) > 122.66){\n",
    "    console.log(\"WARNING!\\nThe function `makeZeroMean` is not yet correct\");\n",
    "}else{// print victory message\n",
    "    console.log('Nice, the function `makeZeroMean` seems to work on real images!');}"
   ]
  },
  {
   "cell_type": "markdown",
   "metadata": {
    "deletable": false,
    "editable": false,
    "kernel": "JavaScript",
    "nbgrader": {
     "cell_type": "markdown",
     "checksum": "263133d1604e855128598897f5ece957",
     "grade": false,
     "grade_id": "cell-d6b3560707f58a30",
     "locked": true,
     "schema_version": 3,
     "solution": false,
     "task": false
    }
   },
   "source": [
    "Now, implement `stretchContrast`."
   ]
  },
  {
   "cell_type": "code",
   "execution_count": null,
   "metadata": {
    "deletable": false,
    "kernel": "JavaScript",
    "nbgrader": {
     "cell_type": "code",
     "checksum": "cc2bc273b44f0b40ad83099590f89c7d",
     "grade": false,
     "grade_id": "ans-00581def5a41cfb0",
     "locked": false,
     "schema_version": 3,
     "solution": true,
     "task": false
    }
   },
   "outputs": [],
   "source": [
    "%use javascript\n",
    "\n",
    "// function that normalizes the image so that all pixels have values between 0 and 1.\n",
    "function stretchContrast(img){\n",
    "    var output = new Image(img.shape());\n",
    "    \n",
    "    // YOUR CODE HERE\n",
    "    \n",
    "    return output;\n",
    "}"
   ]
  },
  {
   "cell_type": "markdown",
   "metadata": {
    "deletable": false,
    "editable": false,
    "kernel": "JavaScript",
    "nbgrader": {
     "cell_type": "markdown",
     "checksum": "f066b38612a2f90b952b557b62b94f17",
     "grade": false,
     "grade_id": "cell-97589d90a96488fd",
     "locked": true,
     "schema_version": 3,
     "solution": false,
     "task": false
    }
   },
   "source": [
    "Run the next cell to run a simple sanity check. Again, we will test on a simple $3\\times 3$ image and then on `joux`."
   ]
  },
  {
   "cell_type": "code",
   "execution_count": null,
   "metadata": {
    "deletable": false,
    "editable": false,
    "kernel": "JavaScript",
    "nbgrader": {
     "cell_type": "code",
     "checksum": "f52618edb7c51460dd30a599465cc4cd",
     "grade": true,
     "grade_id": "grad-190f791354a73164",
     "locked": true,
     "points": 1,
     "schema_version": 3,
     "solution": false,
     "task": false
    }
   },
   "outputs": [],
   "source": [
    "%use javascript\n",
    "\n",
    "// declare the test image\n",
    "test_img = new Image([[0, 1, 2], [3, 4, 5], [6, 7, 8]]);\n",
    "var joux_img = new Image(joux)\n",
    "\n",
    "// run the stretch contrast function on the test image\n",
    "var test_stretch = stretchContrast(test_img);\n",
    "var start = Date.now();\n",
    "var joux_stretch = stretchContrast(joux_img);\n",
    "var duration = Date.now() - start;\n",
    "\n",
    "// check the duration of your function (note that the unit of duration is ms)\n",
    "if (duration > 10000){\n",
    "    console.log('WARNING!\\nThe function `stretchConstrast` is taking way too long. Make sure to optimize your code. In particular, check that you are not iterating the image an unnecessary number of times.');\n",
    "}\n",
    "\n",
    "// compare the result to the correct result\n",
    "if(!(test_stretch.imageCompare(new Image([[0, 0.125, 0.25], [0.375, 0.5, 0.625], [0.75, 0.875, 1]])))){\n",
    "    console.log(\"WARNING!\\nThe function `stretchConstrast` is not yet correct.\");\n",
    "}else{\n",
    "    console.log('Nice, The function `stretchConstrast` seems to produce the correct output!');}\n",
    "\n",
    "if(joux_stretch.getMax() != 1){\n",
    "    console.log(\"WARNING!\\nThe function `stretchConstrast` does not work on real images.\");\n",
    "}else{\n",
    "    console.log('Nice, the function `stretchConstrast` is working on real images!');}"
   ]
  },
  {
   "cell_type": "markdown",
   "metadata": {
    "deletable": false,
    "editable": false,
    "kernel": "JavaScript",
    "nbgrader": {
     "cell_type": "markdown",
     "checksum": "e06102e83e485dbb88e3dfbb48fbba09",
     "grade": false,
     "grade_id": "cell-94ba3952742124b7",
     "locked": true,
     "schema_version": 3,
     "solution": false,
     "task": false
    }
   },
   "source": [
    "Finally, implement the function `normalize2ndOrderStatistics`."
   ]
  },
  {
   "cell_type": "code",
   "execution_count": null,
   "metadata": {
    "deletable": false,
    "kernel": "JavaScript",
    "nbgrader": {
     "cell_type": "code",
     "checksum": "f3b6c3c755594d92b08445dde7d44bec",
     "grade": false,
     "grade_id": "ans-47afab53a15e1b2b",
     "locked": false,
     "schema_version": 3,
     "solution": true,
     "task": false
    }
   },
   "outputs": [],
   "source": [
    "%use javascript\n",
    "\n",
    "// function that normalizes the image so that the sample mean of the pixel values is 0 and the sample standard deviation is 1.\n",
    "function normalize2ndOrderStatistics(img){\n",
    "    var output = new Image(img.shape());\n",
    "    \n",
    "    // YOUR CODE HERE\n",
    "    \n",
    "    return output;\n",
    "}"
   ]
  },
  {
   "cell_type": "markdown",
   "metadata": {
    "deletable": false,
    "editable": false,
    "kernel": "JavaScript",
    "nbgrader": {
     "cell_type": "markdown",
     "checksum": "7b5b433eafb00ba24606b54ae1b52fa5",
     "grade": false,
     "grade_id": "cell-008e6cfad20a7e48",
     "locked": true,
     "schema_version": 3,
     "solution": false,
     "task": false
    }
   },
   "source": [
    "And run the next cell for a quick test again."
   ]
  },
  {
   "cell_type": "code",
   "execution_count": null,
   "metadata": {
    "deletable": false,
    "editable": false,
    "kernel": "JavaScript",
    "nbgrader": {
     "cell_type": "code",
     "checksum": "772d7d35ae16ee3d6b160d8403f4c5d9",
     "grade": true,
     "grade_id": "grad-6e5e2b291291267a",
     "locked": true,
     "points": 1,
     "schema_version": 3,
     "solution": false,
     "task": false
    }
   },
   "outputs": [],
   "source": [
    "%use javascript\n",
    "\n",
    "// declare the test image\n",
    "test_img = new Image([[0, 1, 2], [3, 4, 5], [6, 7, 8]]);\n",
    "var joux_img = new Image(joux)\n",
    "\n",
    "// run the function on test_img\n",
    "var test_normalize = normalize2ndOrderStatistics(test_img).toArray();\n",
    "var start = Date.now();\n",
    "var joux_normalize = normalize2ndOrderStatistics(joux_img);\n",
    "var duration = Date.now() - start;\n",
    "\n",
    "// check the duration of your function (note that the unit of duration is ms)\n",
    "if (duration > 10000){\n",
    "    console.log('WARNING!\\nThe function `normalize2ndOrderStatistics` is taking way too long. Make sure to optimize your code. In particular, check that you are not iterating the image an unnecessary number of times.');\n",
    "}\n",
    "\n",
    "// compare the result to the correct result\n",
    "// test for unbiased estimator of variance\n",
    "if(!(Image.arrayCompare(test_normalize, [[ -1.4605934866804429, -1.0954451150103321, -0.7302967433402214 ],\n",
    "                                         [ -0.3651483716701107, 0, 0.3651483716701107 ],\n",
    "                                         [ 0.7302967433402214, 1.0954451150103321, 1.4605934866804429 ]]))){\n",
    "    // test for biased estimator of variance\n",
    "    if(!(Image.arrayCompare(test_normalize, [[ -1.5491933384829668, -1.161895003862225, -0.7745966692414834 ],\n",
    "                                             [ -0.3872983346207417, 0, 0.3872983346207417 ],\n",
    "                                             [ 0.7745966692414834, 1.161895003862225, 1.5491933384829668 ]]))){\n",
    "        console.log(\"WARNING!\\nThe function `normalize2ndOrderStatistics` is not yet correct!\");\n",
    "    }else{\n",
    "        // print victory message\n",
    "        console.log('Good job! The function `normalize2ndOrderStatistics` seems to produce the correct output! You\\'re using the biased estimator of the variance.');\n",
    "    }\n",
    "}else{\n",
    "    // print victory message\n",
    "    console.log('Good job! The function `normalize2ndOrderStatistics` seems to produce the correct output! You\\'re using the unbiased estimator of the variance.');\n",
    "}\n",
    "\n",
    "if (Math.abs(joux_normalize.getMax() -1.49) > 0.01 || Math.abs(joux_normalize.getMin() + 1.38) > 0.01){\n",
    "    console.log(\"WARNING!\\nThe function `normalize2ndOrderStatistics` is not working on real images!\");\n",
    "}else{\n",
    "    console.log('Good job! The function `normalize2ndOrderStatistics` seems to be working on real images.')\n",
    "}"
   ]
  },
  {
   "cell_type": "markdown",
   "metadata": {
    "deletable": false,
    "editable": false,
    "kernel": "JavaScript",
    "nbgrader": {
     "cell_type": "markdown",
     "checksum": "ee091f68221cf392b49aa7465f406fd4",
     "grade": false,
     "grade_id": "cell-a5b6fa8961824ffa",
     "locked": true,
     "schema_version": 3,
     "solution": false,
     "task": false
    }
   },
   "source": [
    "In order for you to see the relevance of image normalization, we provide a sequence of fluorescence microscopy images (see more [here](https://en.wikipedia.org/wiki/Fluorescence_microscope)), named `c_elegans`. These are consecutive slices of the same 3D volume but appear darker over time due to photobleaching (the loss of fluorescence, read more [here](https://en.wikipedia.org/wiki/Photobleaching)). Of course, this is a huge problem for the application, and to solve it we absolutely need to normalize these images.\n",
    "\n",
    "Run the next cell to load the `c_elegans` series, and display it. We will use the module [io](https://scikit-image.org/docs/0.8.0/api/skimage.io.html) of SciKit-Image, which allows us to read all the slices of a `.tif` file at once. Furthermore, we will pass it to JS so that we can use the functions you defined above.\n",
    "\n",
    "<div class = ' alert alert-success'>\n",
    "<b>Hint</b>: In the next cell, you will see the original images, and a graph that shows the effect of photobleaching on the mean value of each image. Make sure you explore the images and their histogram by clicking on the <code>Prev</code> and <code>Next</code> buttons!\n",
    "</div>"
   ]
  },
  {
   "cell_type": "code",
   "execution_count": null,
   "metadata": {
    "deletable": false,
    "editable": false,
    "kernel": "SoS",
    "nbgrader": {
     "cell_type": "code",
     "checksum": "c8448a4656fafc1ec5e3f4f45813e4ad",
     "grade": false,
     "grade_id": "cell-cc6d8187de5feefb",
     "locked": true,
     "schema_version": 3,
     "solution": false,
     "task": false
    }
   },
   "outputs": [],
   "source": [
    "%use sos\n",
    "%put c_elegans --to javascript\n",
    "\n",
    "# We import module io to import tif images as slices\n",
    "from skimage import io\n",
    "# The following cell loads the image c-elegans\n",
    "c_elegans = io.imread( \"images/c-elegans.tif\" ) \n",
    "# Show c_elegans images\n",
    "plt.close(\"all\")\n",
    "viewer([c_elegans[ind,:,:] for ind in range(12)], normalize=False, clip_range=[0, 255], title=[f\"c_elegans {ind+1}\" for ind in range(12)], hist=True)\n",
    "# Show decay of the mean value through time due to photobleaching\n",
    "fig = plt.figure(num=f\"SCIPER: {uid}\",figsize = (6, 4))\n",
    "plt.plot([ind+1 for ind in range(12)], [np.mean(c_elegans[ind,:,:]) for ind in range(12)])\n",
    "plt.xticks([ind+1 for ind in range(12)]); plt.xlabel(\"Image number\"); plt.ylabel(\"Mean value\"); \n",
    "plt.grid('both'); plt.show();"
   ]
  },
  {
   "cell_type": "markdown",
   "metadata": {
    "deletable": false,
    "editable": false,
    "kernel": "Python3",
    "nbgrader": {
     "cell_type": "markdown",
     "checksum": "7ba8510f2247552f9e1c190e48fef3bd",
     "grade": false,
     "grade_id": "cell-a9c5d66d7c677fe2",
     "locked": true,
     "schema_version": 3,
     "solution": false,
     "task": false
    }
   },
   "source": [
    "Now we are going to visualize the effect of each of your normalizing functions on `c_elegans`. For this purpose, we provide with you the function `make_montage(img_arr, mode, cols)`. It performs the operation specified by `mode` (1: zero mean, 2: stretch contrast, 3: normalize statistics) on each image, then places the result in the right place inside the montage `out`.\n",
    "\n",
    "Now run the next cell to declare the function `makeMontage()`."
   ]
  },
  {
   "cell_type": "code",
   "execution_count": null,
   "metadata": {
    "deletable": false,
    "editable": false,
    "kernel": "JavaScript",
    "nbgrader": {
     "cell_type": "code",
     "checksum": "5e42470cb23cb8ef150a714b3b791c90",
     "grade": false,
     "grade_id": "cell-bfcf756e6846fb2a",
     "locked": true,
     "schema_version": 3,
     "solution": false,
     "task": false
    }
   },
   "outputs": [],
   "source": [
    "%use javascript\n",
    "\n",
    "// function that creates a single image from multiple images (slices) and performs the specified function on the images\n",
    "function makeMontage(img_arr, mode, cols) {\n",
    "    // get dimensions of each image and determine the number of rows \n",
    "    var w = img_arr[0].nx;\n",
    "    var h = img_arr[0].ny;\n",
    "    var rows = img_arr.length/cols;\n",
    "    // initialize output image \n",
    "    var out = new Image(h*rows, w*cols);  \n",
    "    // iterate through each image in img_arr, apply the requested operation and put result in the corresponding place\n",
    "    for(t=0; t<rows*cols; t++){\n",
    "        var img = img_arr[t].copy();\n",
    "        if(mode == 1){ \n",
    "            img = makeZeroMean(img);\n",
    "        }             \n",
    "        if(mode == 2){\n",
    "            img = stretchContrast(img);\n",
    "        }\n",
    "        if(mode == 3){\n",
    "            img = normalize2ndOrderStatistics(img);\n",
    "        }            \n",
    "        out.putSubImage(Math.floor(t%cols)*w, Math.floor(t/cols)*h, img);\n",
    "    }\n",
    "    return out;\n",
    "}"
   ]
  },
  {
   "cell_type": "markdown",
   "metadata": {
    "deletable": false,
    "editable": false,
    "kernel": "JavaScript",
    "nbgrader": {
     "cell_type": "markdown",
     "checksum": "ad67f8210342294ffbc0d57664799d00",
     "grade": false,
     "grade_id": "cell-6cb32370ab6a4ede",
     "locked": true,
     "schema_version": 3,
     "solution": false,
     "task": false
    }
   },
   "source": [
    "Now, we are going apply your methods to the image slices we just loaded. First, we convert each element in the array `c_elegans`  to an `Image` object. Then, we call the function on the array with each of the three modes to visualize the result of the functions that you implemented above."
   ]
  },
  {
   "cell_type": "code",
   "execution_count": null,
   "metadata": {
    "deletable": false,
    "editable": false,
    "kernel": "JavaScript",
    "nbgrader": {
     "cell_type": "code",
     "checksum": "020693a4a4f4e3b9753481fa7dcdfd94",
     "grade": false,
     "grade_id": "cell-09e95f64e85124ce",
     "locked": true,
     "schema_version": 3,
     "solution": false,
     "task": false
    }
   },
   "outputs": [],
   "source": [
    "%use javascript\n",
    "%put montage_original montage_zero_mean_js montage_normalize_statistics_js montage_stretch_contrast_js \n",
    "\n",
    "// convert each element in the c_elegans array to an Image object\n",
    "var c_elegans_imgs = new Array();\n",
    "for(x = 0; x < c_elegans.length; x++){\n",
    "    c_elegans_imgs.push(new Image(c_elegans[x]));\n",
    "}\n",
    "\n",
    "// run makeMontage with all four functions (modes)\n",
    "var montage_original = makeMontage(c_elegans_imgs, 0, 3).toArray();\n",
    "var montage_zero_mean_js = makeMontage(c_elegans_imgs, 1, 3).toArray();\n",
    "var montage_stretch_contrast_js = makeMontage(c_elegans_imgs, 2, 3).toArray();\n",
    "var montage_normalize_statistics_js = makeMontage(c_elegans_imgs, 3, 3).toArray();"
   ]
  },
  {
   "cell_type": "markdown",
   "metadata": {
    "deletable": false,
    "editable": false,
    "kernel": "JavaScript",
    "nbgrader": {
     "cell_type": "markdown",
     "checksum": "ecdd98dfc4e83b0ce913a530ae153dbe",
     "grade": false,
     "grade_id": "cell-431ae3ac67dd5645",
     "locked": true,
     "schema_version": 3,
     "solution": false,
     "task": false
    }
   },
   "source": [
    "Now that we have applied your functions and that we have the variables in Python, let's visualize them. Run the following cell to do so. Use the buttons `Next` and `Prev` to browse through the three images. If your implementations passed the previous tests, you should see the correct result. Look carefully at the images and solve the two MCQs coming next."
   ]
  },
  {
   "cell_type": "code",
   "execution_count": null,
   "metadata": {
    "deletable": false,
    "editable": false,
    "kernel": "SoS",
    "nbgrader": {
     "cell_type": "code",
     "checksum": "29259b69ac5c5342188e7a74d1da45fb",
     "grade": false,
     "grade_id": "cell-884909364cd99acf",
     "locked": true,
     "schema_version": 3,
     "solution": false,
     "task": false
    }
   },
   "outputs": [],
   "source": [
    "%use sos\n",
    "# Define the lists of images and titles\n",
    "image_list = [np.array(montage_original), np.array(montage_zero_mean_js), np.array(montage_stretch_contrast_js), np.array(montage_normalize_statistics_js)]\n",
    "title_list = ['Original c_elegans', 'Zero Mean c_elegans', 'Stretch Contrast c_elegans', 'Normalize Statistics c_elegans']\n",
    "\n",
    "# Display the montages\n",
    "plt.close('all')\n",
    "normalization_viewer = viewer(image_list, title = title_list, widgets=True)"
   ]
  },
  {
   "cell_type": "markdown",
   "metadata": {
    "deletable": false,
    "editable": false,
    "kernel": "Python3",
    "nbgrader": {
     "cell_type": "markdown",
     "checksum": "1630b3945039040a8249e708c85ee93c",
     "grade": false,
     "grade_id": "cell-d06bb9e45c40c9d6",
     "locked": true,
     "schema_version": 3,
     "solution": false,
     "task": false
    }
   },
   "source": [
    "### Multiple choice questions\n",
    "\n",
    "Why does the bottom-right corner of the **Zero Mean Montage** have lower contrast than the top-left corner? (**0.5 points**)\n",
    "\n",
    "1. Because the different subimages in the montage have different spreads of values around their mean.\n",
    "2. It is an illumination effect.\n",
    "3. The bottom-right subimages of the montage are defective.\n",
    "\n",
    "Modify the variable `answer` in the next cell to reflect your choices."
   ]
  },
  {
   "cell_type": "code",
   "execution_count": null,
   "metadata": {
    "deletable": false,
    "kernel": "SoS",
    "nbgrader": {
     "cell_type": "code",
     "checksum": "3c2c0e8d623383e7a6cec9ceffbb884e",
     "grade": false,
     "grade_id": "ans-376291a90e1ea6c5",
     "locked": false,
     "schema_version": 3,
     "solution": true,
     "task": false
    }
   },
   "outputs": [],
   "source": [
    "%use sos\n",
    "# Assign your answer to this variable\n",
    "answer = None\n",
    "# YOUR CODE HERE"
   ]
  },
  {
   "cell_type": "code",
   "execution_count": null,
   "metadata": {
    "deletable": false,
    "editable": false,
    "kernel": "SoS",
    "nbgrader": {
     "cell_type": "code",
     "checksum": "b61a2c1223f2f8d4f3aebe69e9a70dd4",
     "grade": true,
     "grade_id": "grad-6695b3233dbda1e7",
     "locked": true,
     "points": 0.5,
     "schema_version": 3,
     "solution": false,
     "task": false
    }
   },
   "outputs": [],
   "source": [
    "%use sos\n",
    "assert answer in [1, 2, 3], 'Possible answers are 1, 2 or 3' "
   ]
  },
  {
   "cell_type": "markdown",
   "metadata": {
    "deletable": false,
    "editable": false,
    "kernel": "Python3",
    "nbgrader": {
     "cell_type": "markdown",
     "checksum": "a458c2d901df2300cfc84a456c594d54",
     "grade": false,
     "grade_id": "cell-7fc1d797c0aac343",
     "locked": true,
     "schema_version": 3,
     "solution": false,
     "task": false
    }
   },
   "source": [
    "Why is this not the case for the other two montages? (**0.5 points**)\n",
    "\n",
    "1. Because the images already had zero mean.\n",
    "2. Because the other two functions modify the contrast by adjusting the range of intensities.\n",
    "\n",
    "Modify the variable `answer` in the next cell to reflect your choices. As usual, there is another cell that will remind you to select a valid choice if you haven't."
   ]
  },
  {
   "cell_type": "code",
   "execution_count": null,
   "metadata": {
    "deletable": false,
    "kernel": "SoS",
    "nbgrader": {
     "cell_type": "code",
     "checksum": "9f5fff5d818404b7eff8e298dce1387c",
     "grade": false,
     "grade_id": "ans-213796640f2a5768",
     "locked": false,
     "schema_version": 3,
     "solution": true,
     "task": false
    }
   },
   "outputs": [],
   "source": [
    "%use sos\n",
    "# Assign your answer to this variable\n",
    "answer = None\n",
    "# YOUR CODE HERE"
   ]
  },
  {
   "cell_type": "code",
   "execution_count": null,
   "metadata": {
    "deletable": false,
    "editable": false,
    "kernel": "SoS",
    "nbgrader": {
     "cell_type": "code",
     "checksum": "c2836ce52b16b0adeeecb6365ac3d9f6",
     "grade": true,
     "grade_id": "grad-4cab3b4c7570a201",
     "locked": true,
     "points": 0.5,
     "schema_version": 3,
     "solution": false,
     "task": false
    }
   },
   "outputs": [],
   "source": [
    "%use sos\n",
    "assert answer in [1, 2], 'Possible answers are 1 and 2'"
   ]
  },
  {
   "cell_type": "markdown",
   "metadata": {
    "deletable": false,
    "editable": false,
    "kernel": "Python3",
    "nbgrader": {
     "cell_type": "markdown",
     "checksum": "9fec78c51c51190e4d0fe91dea0327f5",
     "grade": false,
     "grade_id": "cell-f96b682d6cdf0ff5",
     "locked": true,
     "schema_version": 3,
     "solution": false,
     "task": false
    }
   },
   "source": [
    "## 2.B. Normalization in Python (2 points)\n",
    "[Back to table of contents](#ToC_1_Pixelwise_operations)\n",
    "\n",
    "As you have probably realized by now, low level languages can get tedious. You can do the same thing you did in JavaScript in less lines in Python, by using NumPy arrays, so let's do it! \n",
    "\n",
    "As an example, we have implemented the function `make_zero_mean`. **For a total of 2 points**, implement the other two methods (`stretch_contrast` and `normalize_2nd_order_statistics`) in Python in the following cells (**1 point each**). \n",
    "\n",
    "<div class=\"alert alert-info\">\n",
    "\n",
    "<b>Hints:</b>\n",
    "It's possible to complete every function with only one line of code using Numpy built-in functions, so for-loops are not accepted!</li>\n",
    "</div>"
   ]
  },
  {
   "cell_type": "code",
   "execution_count": null,
   "metadata": {
    "deletable": false,
    "editable": false,
    "kernel": "SoS",
    "nbgrader": {
     "cell_type": "code",
     "checksum": "e77f672cd352df050f9c58bc19f04912",
     "grade": false,
     "grade_id": "ans-83302634006f5760",
     "locked": true,
     "schema_version": 3,
     "solution": false,
     "task": false
    }
   },
   "outputs": [],
   "source": [
    "%use sos\n",
    "# Function that normalizes the image so that the sample mean of the pixel values is zero.\n",
    "def make_zero_mean(img):\n",
    "    output = np.copy(img)\n",
    "    output = img-np.mean(img)\n",
    "    return output"
   ]
  },
  {
   "cell_type": "code",
   "execution_count": null,
   "metadata": {
    "deletable": false,
    "kernel": "SoS",
    "nbgrader": {
     "cell_type": "code",
     "checksum": "224f42caa397835b797c43ca78c3d00d",
     "grade": false,
     "grade_id": "cell-098ed0bb6b641a81",
     "locked": false,
     "schema_version": 3,
     "solution": true,
     "task": false
    }
   },
   "outputs": [],
   "source": [
    "%use sos\n",
    "# Function that normalizes the image so that all pixels have values between 0 and 1.\n",
    "def stretch_contrast(img):\n",
    "    output = np.copy(img)\n",
    "    \n",
    "    # YOUR CODE HERE\n",
    "    \n",
    "    return output"
   ]
  },
  {
   "cell_type": "code",
   "execution_count": null,
   "metadata": {
    "deletable": false,
    "kernel": "SoS",
    "nbgrader": {
     "cell_type": "code",
     "checksum": "7a9fd37efd361aa2c7f273dc52211f1e",
     "grade": false,
     "grade_id": "cell-78c902d701b4ca6d",
     "locked": false,
     "schema_version": 3,
     "solution": true,
     "task": false
    }
   },
   "outputs": [],
   "source": [
    "%use sos\n",
    "# Function that normalizes the image so that the sample mean of the pixel values is 0 and the sample standard deviation is 1.\n",
    "def normalize_2nd_order_statistics(img):\n",
    "    output = np.copy(img)\n",
    "    \n",
    "    # YOUR CODE HERE\n",
    "    \n",
    "    return output"
   ]
  },
  {
   "cell_type": "markdown",
   "metadata": {
    "deletable": false,
    "editable": false,
    "kernel": "Python3",
    "nbgrader": {
     "cell_type": "markdown",
     "checksum": "76b81b3e253d9d497977e68244778f9e",
     "grade": false,
     "grade_id": "cell-5a6cb7268418986b",
     "locked": true,
     "schema_version": 3,
     "solution": false,
     "task": false
    }
   },
   "source": [
    "Use the next two cells for a quick test on your functions. This cell tests the two characteristics requested for each function:\n",
    "* that the result of `stretch_contrast` is in the range $[0, 1]$, and\n",
    "* that the result of `normalize_2nd_order_statistics` has zero mean and unit variance. \n",
    "\n",
    "Run them, and if your implementations are correct, they shouldn't raise any errors."
   ]
  },
  {
   "cell_type": "code",
   "execution_count": null,
   "metadata": {
    "deletable": false,
    "editable": false,
    "kernel": "SoS",
    "nbgrader": {
     "cell_type": "code",
     "checksum": "6c01bb32630466db135222d20730ef76",
     "grade": true,
     "grade_id": "grad-925b5b8cd5ffa921",
     "locked": true,
     "points": 1,
     "schema_version": 3,
     "solution": false,
     "task": false
    }
   },
   "outputs": [],
   "source": [
    "%use sos\n",
    "# This cell tests your method stretch contrast\n",
    "# Here we run your function on the first slice of c_elegans\n",
    "test_stretch_contrast = stretch_contrast(c_elegans[0])\n",
    "\n",
    "# And we check that stretch_contrast effectively maps the pixels to the range [0,1]\n",
    "assert np.min(test_stretch_contrast) == 0, 'The minimum value in the result of stretch_contrast is not 0'\n",
    "assert np.max(test_stretch_contrast) == 1, 'The maximum value in the result of stretch_contrast is not 1'\n",
    "print(\"Well done! Your stretch_contrast function seems to be correct.\")"
   ]
  },
  {
   "cell_type": "code",
   "execution_count": null,
   "metadata": {
    "deletable": false,
    "editable": false,
    "kernel": "SoS",
    "nbgrader": {
     "cell_type": "code",
     "checksum": "ea8062cea41e2d577113dc84c016baf1",
     "grade": true,
     "grade_id": "grad-2e62d034adec415e",
     "locked": true,
     "points": 1,
     "schema_version": 3,
     "solution": false,
     "task": false
    }
   },
   "outputs": [],
   "source": [
    "%use sos\n",
    "\n",
    "# This cell tests your method normalize statistics\n",
    "# Here we run the method on the first slice of c_elegans\n",
    "test_normalize_statistics = normalize_2nd_order_statistics(c_elegans[0])\n",
    "\n",
    "# Now we check that normalize_statistics returns an image with mean = 0, \n",
    "assert np.abs(np.mean(test_normalize_statistics)) < 1e-10, 'Your mean in normalize_2nd_order_statistics is not 0'\n",
    "# And with std = 1 \n",
    "assert np.abs(np.std(test_normalize_statistics) - 1) < 1e-4 or np.abs(np.std(test_normalize_statistics, ddof=1) - 1) < 1e-5, 'Your standard deviation in normalize_2nd_order_statistics is not 1'\n",
    "print('Well done! Your normalization of 2nd order statistics seems to be correct.')"
   ]
  },
  {
   "cell_type": "markdown",
   "metadata": {
    "deletable": false,
    "editable": false,
    "kernel": "SoS",
    "nbgrader": {
     "cell_type": "markdown",
     "checksum": "b8770fe11af0c9d01eb6a45a104fe27c",
     "grade": false,
     "grade_id": "cell-c0b688fbfadebddd",
     "locked": true,
     "schema_version": 3,
     "solution": false,
     "task": false
    }
   },
   "source": [
    "<div class=\"alert alert-success\">\n",
    "    \n",
    "<p><b>Congratulations on finishing the first part of the Pixel-Fourier lab!</b></p>\n",
    "<p>\n",
    "Make sure to save your notebook (you might want to keep a copy on your personal computer) and upload it to <a href=\"https://moodle.epfl.ch/mod/assign/view.php?id=1157357\">Moodle</a>, in a zip file with the other notebook of this lab.\n",
    "</p>\n",
    "</div>\n",
    "\n",
    "* Keep the name of the notebook as: *1_Pixelwise_Operations.ipynb*,\n",
    "* Name the zip file: *Pixel_Fourier_Lab.zip*.\n",
    "\n",
    "<!-- <div class=\"alert alert-danger\">\n",
    "<h4>Feedback</h4>\n",
    "    <p style=\"margin:4px;\">\n",
    "    This is the first edition of the image-processing laboratories using Jupyter Notebooks running on Noto. Do not leave before giving us your <a href=\"https://moodle.epfl.ch/mod/feedback/view.php?id=1157363\">feedback here!</a></p>\n",
    "</div> -->"
   ]
  }
 ],
 "metadata": {
  "kernelspec": {
   "display_name": "SoS",
   "language": "sos",
   "name": "sos"
  },
  "language_info": {
   "codemirror_mode": "sos",
   "file_extension": ".sos",
   "mimetype": "text/x-sos",
   "name": "sos",
   "nbconvert_exporter": "sos_notebook.converter.SoS_Exporter",
   "pygments_lexer": "sos"
  },
  "sos": {
   "kernels": [
    [
     "JavaScript",
     "javascript",
     "JavaScript",
     "#c8e1ae",
     ""
    ],
    [
     "SoS",
     "sos",
     "",
     "",
     "sos"
    ]
   ],
   "panel": {
    "displayed": false,
    "height": 0
   },
   "version": "0.23.4"
  }
 },
 "nbformat": 4,
 "nbformat_minor": 4
}
