{
 "cells": [
  {
   "cell_type": "markdown",
   "metadata": {
    "deletable": false,
    "editable": false,
    "kernel": "SoS",
    "nbgrader": {
     "cell_type": "markdown",
     "checksum": "8a0f857d5088515cb80a9287ab45dea5",
     "grade": false,
     "grade_id": "cell-87ef5277e6904d04",
     "locked": true,
     "schema_version": 3,
     "solution": false,
     "task": false
    }
   },
   "source": [
    "<img src=\"https://www.epfl.ch/about/overview/wp-content/uploads/2020/07/logo-epfl-1024x576.png\" style=\"padding-right:10px;width:140px;float:left\"></td>\n",
    "<h2 style=\"white-space: nowrap\">Image Processing Laboratory Notebooks</h2>\n",
    "<hr style=\"clear:both\">\n",
    "<p style=\"font-size:0.85em; margin:2px; text-align:justify\">\n",
    "This Juypter notebook is part of a series of computer laboratories which are designed\n",
    "to teach image-processing programming; they are running on the EPFL's Noto server. They are the practical complement of the theoretical lectures of the EPFL's Master course <b>Image Processing I</b> \n",
    "(<a href=\"https://moodle.epfl.ch/course/view.php?id=522\">MICRO-511</a>) taught by Prof. M. Unser and Prof. D. Van de Ville.\n",
    "</p>\n",
    "<p style=\"font-size:0.85em; margin:2px; text-align:justify\">\n",
    "The project is funded by the Center for Digital Education and the School of Engineering. It is owned by the <a href=\"http://bigwww.epfl.ch/\">Biomedical Imaging Group</a>. \n",
    "The distribution or the reproduction of the notebook is strictly prohibited without the written consent of the authors.  &copy; EPFL 2024.\n",
    "</p>\n",
    "<p style=\"font-size:0.85em; margin:0px\"><b>Authors</b>: \n",
    "    <a href=\"mailto:pol.delaguilapla@epfl.ch\">Pol del Aguila Pla</a>, \n",
    "    <a href=\"mailto:kay.lachler@epfl.ch\">Kay Lächler</a>,\n",
    "    <a href=\"mailto:alejandro.nogueronaramburu@epfl.ch\">Alejandro Noguerón Arámburu</a>,\n",
    "    <a href=\"mailto:zhiyuan.hu@epfl.ch\">Zhiyuan Hu</a>, and\n",
    "    <a href=\"mailto:daniel.sage@epfl.ch\">Daniel Sage</a>.\n",
    "</p>\n",
    "<hr style=\"clear:both\">\n",
    "<h1>Lab 1.1: Pixel-wise operations</h1>\n",
    "<div style=\"background-color:#F0F0F0;padding:4px\">\n",
    "    <p style=\"margin:4px;\"><b>Released</b>: Thursday September 26th, 2024</p>\n",
    "    <p style=\"margin:4px;\"><b>Submission</b>: Monday October 7th, 2024 (before 23:59) on <a href=\"https://moodle.epfl.ch/course/view.php?id=522\">Moodle</a></p>\n",
    "    <!--number of points is sum of both parts of the lab -->\n",
    "    <p style=\"margin:4px;\"><b>Grade weight</b>: Lab 1 (16 points), 9% of the overall grade</p>\n",
    "    <p style=\"margin:4px;\"><b>Related lectures</b>: Chapter 1</p>\n",
    "</div>"
   ]
  },
  {
   "cell_type": "markdown",
   "metadata": {
    "kernel": "SoS"
   },
   "source": [
    "### Student Name: \n",
    "### SCIPER: \n",
    "\n",
    "Double-click on this cell and fill your name and SCIPER number. Then, run the cell below to verify your identity in Noto and set the seed for random results."
   ]
  },
  {
   "cell_type": "code",
   "execution_count": null,
   "metadata": {
    "deletable": false,
    "editable": false,
    "kernel": "SoS",
    "nbgrader": {
     "cell_type": "code",
     "checksum": "813503e599ff1f5d567993e83e7499ca",
     "grade": true,
     "grade_id": "cell-2f6633932108c60f",
     "locked": true,
     "points": 0,
     "schema_version": 3,
     "solution": false,
     "task": false
    }
   },
   "outputs": [],
   "source": [
    "import getpass\n",
    "# This line recovers your camipro number to mark the images with your ID\n",
    "uid = int(getpass.getuser().split('-')[2]) if len(getpass.getuser().split('-')) > 2 else ord(getpass.getuser()[0])\n",
    "print(f'SCIPER: {uid}')"
   ]
  },
  {
   "cell_type": "markdown",
   "metadata": {
    "deletable": false,
    "editable": false,
    "kernel": "SoS",
    "nbgrader": {
     "cell_type": "markdown",
     "checksum": "e21988b74c009cb19f94ed80983061fd",
     "grade": false,
     "grade_id": "cell-9f52138bd6524e0b",
     "locked": true,
     "schema_version": 3,
     "solution": false,
     "task": false
    }
   },
   "source": [
    "### Imports\n",
    "In the next cell we import the python libraries and load the images that we will use throughout the lab similar to the previous notebook. Run the next cell to get your notebook ready.\n",
    "<div class=\"alert alert-info\">\n",
    "    \n",
    "<b>Note:</b> While in the pixelwise operations lab we didn't need high accuracy, for transforms like the Fourier transform, as well as other transforms, it is essential to have the highest accuracy available.\n",
    "</div>"
   ]
  },
  {
   "cell_type": "code",
   "execution_count": null,
   "metadata": {
    "deletable": false,
    "editable": false,
    "kernel": "SoS",
    "nbgrader": {
     "cell_type": "code",
     "checksum": "58a5833361251db4f4fc5e0dde40df61",
     "grade": false,
     "grade_id": "cell-7ebcf2f0631aad5a",
     "locked": true,
     "schema_version": 3,
     "solution": false,
     "task": false
    }
   },
   "outputs": [],
   "source": [
    "# Configure plotting as dynamic\n",
    "%matplotlib widget\n",
    "\n",
    "# Import required packages for this lab\n",
    "import matplotlib.pyplot as plt\n",
    "import ipywidgets as widgets\n",
    "import numpy as np\n",
    "from skimage import io\n",
    "\n",
    "from interactive_kit import imviewer as viewer\n",
    "\n",
    "# Loading images\n",
    "joux = io.imread(\"images/joux.tif\").astype('float64')\n",
    "car = io.imread(\"images/car_pad.tif\").astype('float64')\n",
    "mandrill = io.imread(\"images/mandrill.tif\").astype('float64')\n",
    "impulse = np.zeros((65,65)); impulse[32,32] = 1;\n",
    "pens = io.imread(\"images/pens.tif\").astype('float64')\n",
    "zebra = io.imread(\"images/zebra.tif\").astype('float64')"
   ]
  },
  {
   "cell_type": "markdown",
   "metadata": {
    "deletable": false,
    "editable": false,
    "kernel": "SoS",
    "nbgrader": {
     "cell_type": "markdown",
     "checksum": "4e55cb46f47309b8815aa2d489f85a3b",
     "grade": false,
     "grade_id": "cell-9584117c30781c3d",
     "locked": true,
     "schema_version": 3,
     "solution": false,
     "task": false
    }
   },
   "source": [
    "# The Fourier transform (7 points)\n",
    "\n",
    "In this second part we will look at the 2D discrete Fourier transform (*DFT*).\n",
    "\n",
    "You are going to:\n",
    " * understand the effects of the elements in an image on its Fourier transform (*FT*), and then\n",
    " * understand how an image is reconstructed from its FT using the inverse Fourier transform (*iFT*). \n",
    "\n",
    "In this part of the lab we will only use Python. To compute the FT in Python, we will use the [`fft` module](https://numpy.org/doc/stable/reference/routines.fft.html) in NumPy, which implements the *FT* using a [fast Fourier transform (FFT)](https://en.wikipedia.org/wiki/Fast_Fourier_transform) algorithm.\n",
    "\n",
    "## <a id=\"ToC_2_Fourier_transform\"></a>Table of contents\n",
    "\n",
    "1. [Understanding the Fourier transform and its inverse](#1.-Understanding-the-Fourier-transform-and-its-inverse-(4-points)) **(4 points)**\n",
    "2. [Reconstruction of an image](#2.-Reconstruction-of-an-image-(3-points)) **(3 points)**\n",
    "    1. [Reconstruction error](#2.A.-Reconstruction-error-(1-point))\n",
    "    2. [Fourier components](#2.B.-Fourier-components-(1-point))"
   ]
  },
  {
   "cell_type": "markdown",
   "metadata": {
    "deletable": false,
    "editable": false,
    "kernel": "Python3",
    "nbgrader": {
     "cell_type": "markdown",
     "checksum": "8b38643772c2b881c325123bfdf83400",
     "grade": false,
     "grade_id": "cell-8f718308c0429f7e",
     "locked": true,
     "schema_version": 3,
     "solution": false,
     "task": false
    }
   },
   "source": [
    "Run the next cell to display the images and get familiar with them."
   ]
  },
  {
   "cell_type": "code",
   "execution_count": null,
   "metadata": {
    "deletable": false,
    "editable": false,
    "kernel": "SoS",
    "nbgrader": {
     "cell_type": "code",
     "checksum": "b971e525a069fb205caf0509b1723f3a",
     "grade": false,
     "grade_id": "cell-40e70c87a9f21f8b",
     "locked": true,
     "schema_version": 3,
     "solution": false,
     "task": false
    }
   },
   "outputs": [],
   "source": [
    "image_list = [joux, car, mandrill, impulse, pens, zebra]\n",
    "initial_viewer = viewer(image_list, hist=True)"
   ]
  },
  {
   "cell_type": "markdown",
   "metadata": {
    "deletable": false,
    "editable": false,
    "kernel": "Python3",
    "nbgrader": {
     "cell_type": "markdown",
     "checksum": "7eae44948bfc2ea586c2b16f8f7ef37b",
     "grade": false,
     "grade_id": "cell-be46dd7a6139a1e4",
     "locked": true,
     "schema_version": 3,
     "solution": false,
     "task": false
    }
   },
   "source": [
    "# 1. Understanding the Fourier transform and its inverse (4 points)\n",
    "[Back to table of contents](#ToC_2_Fourier_transform)\n",
    "\n",
    "First, we will provide the functions `fourier(img)` and `inverse_fourier(ft)`, which calculate the FT and the iFT respectively.\n",
    "\n",
    "Make sure to understand how we use the <a href='https://numpy.org/doc/stable/reference/routines.fft.html'><code>numpy.fft</code></a> module.\n",
    "\n",
    "<!--\n",
    "<div class=\"alert alert-info\">\n",
    "<b>Note:</b> The <a href='https://numpy.org/doc/stable/reference/generated/numpy.fft.fft2.html'><code>ft = np.fft.fft2(img)</code></a> function computes the 2D Fourier transform <code>ft</code> of an image <code>img</code> within the frequency range $[0, \\pi]$. In this representation, when displaying <code>ft</code>, the zero-frequency component is located at the origin of the image (top left corner). However, it's more natural to have the zero-frequency component at the center of the image <code>ft</code>. To achieve this, we can apply the <a href='https://numpy.org/doc/stable/reference/generated/numpy.fft.fftshift.html#numpy.fft.fftshift'><code>np.fft.fftshift(ft)</code></a> function, which shifts the frequency range of <code>ft</code> from $[0, \\pi]$ to $[-\\frac{\\pi}{2}, \\frac{\\pi}{2}]$. \n",
    "</div>\n",
    "-->"
   ]
  },
  {
   "cell_type": "code",
   "execution_count": null,
   "metadata": {
    "deletable": false,
    "editable": false,
    "kernel": "SoS",
    "nbgrader": {
     "cell_type": "code",
     "checksum": "59194514fdfe9169b09e729566b52f04",
     "grade": false,
     "grade_id": "cell-3e4d343d619b0837",
     "locked": true,
     "schema_version": 3,
     "solution": false,
     "task": false
    }
   },
   "outputs": [],
   "source": [
    "# Function that returns the FT\n",
    "def fourier(img):\n",
    "    # Generate the FT\n",
    "    ft = np.fft.fft2(img)\n",
    "    # Shift the frequency range to [-pi/2, pi/2] \n",
    "    shift_ft = np.fft.fftshift(ft)\n",
    "    return shift_ft\n",
    "\n",
    "# Function that return the inverse FT\n",
    "def inverse_fourier(ft):\n",
    "    # Shift the FT back to [0, pi]\n",
    "    ft = np.fft.ifftshift(ft)\n",
    "    # Get the inverse FT\n",
    "    ift = np.fft.ifft2(ft)\n",
    "    # Clip the imaginary part of the reconstruction\n",
    "    # (should be approximately zero anyway)\n",
    "    ift = np.real(ift)\n",
    "    return ift"
   ]
  },
  {
   "cell_type": "markdown",
   "metadata": {
    "deletable": false,
    "editable": false,
    "kernel": "SoS",
    "nbgrader": {
     "cell_type": "markdown",
     "checksum": "111ee73955e226b98b89404ef6d2db09",
     "grade": false,
     "grade_id": "cell-9f1d3140cb97f16b",
     "locked": true,
     "schema_version": 3,
     "solution": false,
     "task": false
    }
   },
   "source": [
    "Calculating the FT of an image generates a two-dimensional array (image) of complex values, which makes it challenging to visualize effectively. Therefore, we usually extract the **magnitude** and **phase** of the complex numbers. The magnitude of a complex number $z\\in\\mathbb{C}$ is given by\n",
    "\n",
    "$$|z| = \\sqrt{\\operatorname{Re}(z)^2+\\operatorname{Im}(z)^2}.$$\n",
    "\n",
    "Moreover, we usually visualize this magnitude in decibels (dB) using the formula\n",
    "\n",
    "$$|z|~[\\mathrm{dB}] = 10\\log_{10}\\left(|z|^2\\right)= 20\\log_{10}\\left(|z|\\right).$$\n",
    "\n",
    "This approach is favored because the magnitude of the Fourier transform can vary significantly, covering both small and large values. The logarithmic transformation enables us to represent both ranges in a single image.\n",
    "\n",
    "For **1 point**, complete the function `magnitude(ft)` which should return **the magnitude in decibels (`dB`)** of a FT given as an input parameter\n",
    " \n",
    "<div class=\"alert alert-info\">\n",
    "\n",
    "<b>Hints:</b>\n",
    "Check the Numpy built-in functions for complex numbers, pay attention to the base of the log function you use.\n",
    "</div>\n",
    "\n",
    "<div class=\"alert alert-danger\">\n",
    "<b>Warning:</b> Using <code>np.absolute</code> in this exercise will give you <b>0 points</b>! We want you to implement the function yourself.\n",
    "</div>"
   ]
  },
  {
   "cell_type": "code",
   "execution_count": null,
   "metadata": {
    "deletable": false,
    "kernel": "SoS",
    "nbgrader": {
     "cell_type": "code",
     "checksum": "bafbed8fe87ffb053b0644ef1707851a",
     "grade": false,
     "grade_id": "ans-7078161896540164",
     "locked": false,
     "schema_version": 3,
     "solution": true,
     "task": false
    }
   },
   "outputs": [],
   "source": [
    "# Function that returns the magnitude of the FT in dB\n",
    "def magnitude(ft):\n",
    "    output = None\n",
    "    \n",
    "    # YOUR CODE HERE\n",
    "    \n",
    "    return output"
   ]
  },
  {
   "cell_type": "code",
   "execution_count": null,
   "metadata": {
    "deletable": false,
    "editable": false,
    "kernel": "SoS",
    "nbgrader": {
     "cell_type": "code",
     "checksum": "fa3f94dc953dc29aa4e4bb196471a3da",
     "grade": true,
     "grade_id": "grad-aab6c96c21ed9da9",
     "locked": true,
     "points": 1,
     "schema_version": 3,
     "solution": false,
     "task": false
    }
   },
   "outputs": [],
   "source": [
    "# Let's do a sanity check\n",
    "# The complex number used for the test which has a magnitude of ~3 dB\n",
    "z = 1 + 1j\n",
    "# Check that the magnitude function is correct\n",
    "if np.round(magnitude(z), decimals=1) == 3.0:\n",
    "    print(\"Nice, your magnitude function passed the basic sanity check!\")\n",
    "else:\n",
    "    print(\"Something isn't quite right yet.\")"
   ]
  },
  {
   "cell_type": "markdown",
   "metadata": {
    "deletable": false,
    "editable": false,
    "kernel": "SoS",
    "nbgrader": {
     "cell_type": "markdown",
     "checksum": "e295e20fc9e10485b47abb346731b772",
     "grade": false,
     "grade_id": "cell-e83793b000b52116",
     "locked": true,
     "schema_version": 3,
     "solution": false,
     "task": false
    }
   },
   "source": [
    "\n",
    "Now, we will define a function to calculate the phase of the *FT*. For this we define the function `phase(ft)`, which takes as argument an *FT* and returns its phase.\n",
    "\n",
    "Remember that the phase of a complex number $z$ is given by\n",
    "$$\\angle(z)=\\arctan\\left(\\frac{\\operatorname{Im}(z)}{\\operatorname{Re}(z)}\\right)\\,.$$\n",
    "\n",
    "For **0.5 points**, complete the function `phase(ft)` in the cell below according to the equation given above.\n",
    "\n",
    "<div class=\"alert alert-info\">\n",
    "<b>Hint:</b> Compare <a href=\"https://numpy.org/doc/stable/reference/generated/numpy.arctan2.html\" ><code>np.arctan2()</code></a> and <a href=\"https://numpy.org/doc/stable/reference/generated/numpy.arctan.html#numpy.arctan\" ><code>np.arctan()</code></a>, which one is more convenient to calculate $\\angle(z)$? \n",
    "</div>\n",
    "<div class=\"alert alert-danger\">\n",
    "<b>Warning:</b> Using <code>np.angle</code> in this exercise will give you <b>0 points</b>! Implement the function yourself.\n",
    "</div>"
   ]
  },
  {
   "cell_type": "code",
   "execution_count": null,
   "metadata": {
    "deletable": false,
    "kernel": "SoS",
    "nbgrader": {
     "cell_type": "code",
     "checksum": "060652908179bf23cf7ecc8f3cac661f",
     "grade": false,
     "grade_id": "ans-63a15ac76c7b5d69",
     "locked": false,
     "schema_version": 3,
     "solution": true,
     "task": false
    }
   },
   "outputs": [],
   "source": [
    "# Function that calculates the phase of complex numbers\n",
    "def phase(ft):\n",
    "    output = None\n",
    "    \n",
    "    # YOUR CODE HERE\n",
    "    \n",
    "    return output"
   ]
  },
  {
   "cell_type": "code",
   "execution_count": null,
   "metadata": {
    "deletable": false,
    "editable": false,
    "kernel": "SoS",
    "nbgrader": {
     "cell_type": "code",
     "checksum": "8b05001c89a705579434d6bf0d9160f2",
     "grade": true,
     "grade_id": "grad-9ae7daa14c45d818",
     "locked": true,
     "points": 1,
     "schema_version": 3,
     "solution": false,
     "task": false
    }
   },
   "outputs": [],
   "source": [
    "# Let's do a sanity check\n",
    "# The complex number used for the test which has a phase of pi/4\n",
    "z = 1 + 1j\n",
    "# Check that the magnitude function is correct\n",
    "if phase(z) == np.pi/4:\n",
    "    print(\"Nice, your phase function passed the sanity check!\")\n",
    "else:\n",
    "    print(\"Something isn't quite right yet.\")"
   ]
  },
  {
   "cell_type": "markdown",
   "metadata": {
    "deletable": false,
    "editable": false,
    "kernel": "SoS",
    "nbgrader": {
     "cell_type": "markdown",
     "checksum": "a0d468fe6a150a2209192389bbf58ef7",
     "grade": false,
     "grade_id": "cell-133e10af0d745e6b",
     "locked": true,
     "schema_version": 3,
     "solution": false,
     "task": false
    }
   },
   "source": [
    "Now, let's run the next cell to observe the outcomes of the functions you just coded. For this we will apply the *FT* to the image `car`, calculate its magnitude and phase, and visualize the results as images.\n",
    "\n",
    "</div>\n",
    "<div class=\"alert alert-success\">\n",
    "<b>Hint:</b> If you don't see the phase of the image, use the sliding bar to slide to the right. You can also use <code>Ctrl + b</code> to hide the left sidebar of JupyterLab. \n",
    "</div>\n",
    "\n",
    "If everything went well you should see:\n",
    "<ul><li>For the magnitude: a diagonal cross in the center with stars spread over the image, and</li>\n",
    "<li>For the phase: random noise, cut by a near vertical line and a few other straight lines.</li>\n",
    "</ul>\n"
   ]
  },
  {
   "cell_type": "code",
   "execution_count": null,
   "metadata": {
    "deletable": false,
    "editable": false,
    "kernel": "SoS",
    "nbgrader": {
     "cell_type": "code",
     "checksum": "2f043484f272ea3a1f7d925facabd87c",
     "grade": false,
     "grade_id": "cell-eaa553653ffc69a1",
     "locked": true,
     "schema_version": 3,
     "solution": false,
     "task": false
    }
   },
   "outputs": [],
   "source": [
    "# Generate the FT of car with its magnitude and phase\n",
    "car_ft = fourier(car)\n",
    "car_ft_mag = magnitude(car_ft)\n",
    "car_ft_ph = phase(car_ft)\n",
    "\n",
    "# Visualize \n",
    "plt.close('all')\n",
    "ft_vis = viewer([car, car_ft_mag, car_ft_ph], title=['Car', 'Car FT magnitude', 'Car FT phase'], subplots=(1,3))"
   ]
  },
  {
   "cell_type": "markdown",
   "metadata": {
    "deletable": false,
    "editable": false,
    "kernel": "Python3",
    "nbgrader": {
     "cell_type": "markdown",
     "checksum": "981d408a2e2b27acb4eac950b00cc231",
     "grade": false,
     "grade_id": "cell-82c4152b3417a148",
     "locked": true,
     "schema_version": 3,
     "solution": false,
     "task": false
    }
   },
   "source": [
    "### Multiple Choice Questions \n",
    "The following MCQs will test your understanding of the relationship of an image with its FT **magnitude**. Each is worth **0.5 points**.\n",
    "\n",
    "Run the next cell to visualize the images `pens` and `car` together with their FT magnitudes and answer the upcoming questions."
   ]
  },
  {
   "cell_type": "code",
   "execution_count": null,
   "metadata": {
    "deletable": false,
    "editable": false,
    "kernel": "SoS",
    "nbgrader": {
     "cell_type": "code",
     "checksum": "89199b22095989120029d9a5916d3bce",
     "grade": false,
     "grade_id": "cell-b5b291649ebc0eb0",
     "locked": true,
     "schema_version": 3,
     "solution": false,
     "task": false
    }
   },
   "outputs": [],
   "source": [
    "# Get the FT magnitudes of the images using the fourier and magnitude functions\n",
    "car_ft  = magnitude(fourier(car))\n",
    "pens_ft = magnitude(fourier(pens))\n",
    "\n",
    "# Define the lits of images and names\n",
    "image_list = [car, car_ft, pens, pens_ft]\n",
    "title_list = ['Car', 'FT of Car', 'Pens', 'FT of Pens']\n",
    "\n",
    "# Display results\n",
    "plt.close('all')\n",
    "ft_viewer = viewer(image_list, title=title_list, subplots=(2,2), colorbar=True)"
   ]
  },
  {
   "cell_type": "markdown",
   "metadata": {
    "deletable": false,
    "editable": false,
    "kernel": "Python3",
    "nbgrader": {
     "cell_type": "markdown",
     "checksum": "2793c87455e1eb736e92ddf1a21a027e",
     "grade": false,
     "grade_id": "cell-5a9789ef912c906f",
     "locked": true,
     "schema_version": 3,
     "solution": false,
     "task": false
    }
   },
   "source": [
    "* Q1: Where do the little stars at different distances from the center in the FT of `car` come from?\n",
    "    1. From the car.\n",
    "    2. From the driver.\n",
    "    3. From the carpet under the car.\n",
    "    4. From the details of the car (JAGUAR text, doors, steering wheel, etc).\n",
    "    5. From the size of the image.\n",
    "\n",
    "In the next cell, modify the variable `answer` to reflect your choice."
   ]
  },
  {
   "cell_type": "code",
   "execution_count": null,
   "metadata": {
    "deletable": false,
    "kernel": "SoS",
    "nbgrader": {
     "cell_type": "code",
     "checksum": "fe4eae527c0ac7c4e248c4a338680df4",
     "grade": false,
     "grade_id": "ans-66af2208d33072da",
     "locked": false,
     "schema_version": 3,
     "solution": true,
     "task": false
    }
   },
   "outputs": [],
   "source": [
    "# Assign your answer to this variable\n",
    "answer = None\n",
    "# YOUR CODE HERE"
   ]
  },
  {
   "cell_type": "code",
   "execution_count": null,
   "metadata": {
    "deletable": false,
    "editable": false,
    "kernel": "SoS",
    "nbgrader": {
     "cell_type": "code",
     "checksum": "4511293783a05f49b22a206e6a8fc441",
     "grade": true,
     "grade_id": "grad-bda900129c0a32df",
     "locked": true,
     "points": 0.5,
     "schema_version": 3,
     "solution": false,
     "task": false
    }
   },
   "outputs": [],
   "source": [
    "assert answer in [1, 2, 3, 4, 5], 'Possible answers are 1, 2, 3, 4 and 5'"
   ]
  },
  {
   "cell_type": "markdown",
   "metadata": {
    "deletable": false,
    "editable": false,
    "kernel": "Python3",
    "nbgrader": {
     "cell_type": "markdown",
     "checksum": "bac3abb3e91f11cb43c5a9b4c67e549a",
     "grade": false,
     "grade_id": "cell-89a8354d6352e067",
     "locked": true,
     "schema_version": 3,
     "solution": false,
     "task": false
    }
   },
   "source": [
    "* Q2: Where do the two big intersecting lines in `car` come from? \n",
    "    1. From the contour of the car.\n",
    "    2. From the driver.\n",
    "    3. From the carpet under the car.\n",
    "    4. From the details of the car (JAGUAR text, doors, steering wheel, etc).\n",
    "    5. From the size of the image.\n",
    "\n",
    "In the next cell, modify the variable `answer` to reflect your choice."
   ]
  },
  {
   "cell_type": "code",
   "execution_count": null,
   "metadata": {
    "deletable": false,
    "kernel": "SoS",
    "nbgrader": {
     "cell_type": "code",
     "checksum": "1685716ed548981a1fe8bbbe70907adc",
     "grade": false,
     "grade_id": "ans-4a92583fb39143e6",
     "locked": false,
     "schema_version": 3,
     "solution": true,
     "task": false
    }
   },
   "outputs": [],
   "source": [
    "# Assign your answer to this variable\n",
    "answer = None\n",
    "# YOUR CODE HERE"
   ]
  },
  {
   "cell_type": "code",
   "execution_count": null,
   "metadata": {
    "deletable": false,
    "editable": false,
    "kernel": "SoS",
    "nbgrader": {
     "cell_type": "code",
     "checksum": "3abd6f9d947c397429086bc5123aaa1f",
     "grade": true,
     "grade_id": "grad-ad16b9572b4fa684",
     "locked": true,
     "points": 0.5,
     "schema_version": 3,
     "solution": false,
     "task": false
    }
   },
   "outputs": [],
   "source": [
    "assert answer in [1, 2, 3, 4, 5], 'Valid answers are 1, 2, 3, 4, and 5'"
   ]
  },
  {
   "cell_type": "markdown",
   "metadata": {
    "deletable": false,
    "editable": false,
    "kernel": "Python3",
    "nbgrader": {
     "cell_type": "markdown",
     "checksum": "55073cc91eed315e37286e839a0a35bd",
     "grade": false,
     "grade_id": "cell-7ef1a6f54162f8ca",
     "locked": true,
     "schema_version": 3,
     "solution": false,
     "task": false
    }
   },
   "source": [
    "* Q3: Why is there only one main line in the FT of `pens`, if there are two pens?\n",
    "    1. Because the background is constant.\n",
    "    2. Because they are ballpoint pens and not fountain pens.\n",
    "    3. Because the two pens are aligned.\n",
    "    4. Because the two pens are close to each other.\n",
    "\n",
    "In the next cell, modify the variable `answer` to reflect your choice."
   ]
  },
  {
   "cell_type": "code",
   "execution_count": null,
   "metadata": {
    "deletable": false,
    "kernel": "SoS",
    "nbgrader": {
     "cell_type": "code",
     "checksum": "0a637fd23b9cb4c301eef40b4ec963a1",
     "grade": false,
     "grade_id": "ans-b97ff3156f3b6688",
     "locked": false,
     "schema_version": 3,
     "solution": true,
     "task": false
    }
   },
   "outputs": [],
   "source": [
    "# Assign your answer to this variable\n",
    "answer = None\n",
    "# YOUR CODE HERE"
   ]
  },
  {
   "cell_type": "code",
   "execution_count": null,
   "metadata": {
    "deletable": false,
    "editable": false,
    "kernel": "SoS",
    "nbgrader": {
     "cell_type": "code",
     "checksum": "beca22735119bb229b78c6f3f4748f07",
     "grade": true,
     "grade_id": "grad-b5234dc1b8b8bafa",
     "locked": true,
     "points": 0.5,
     "schema_version": 3,
     "solution": false,
     "task": false
    }
   },
   "outputs": [],
   "source": [
    "assert answer in [1, 2, 3, 4], 'Valid answers are 1, 2, 3 or 4'"
   ]
  },
  {
   "cell_type": "markdown",
   "metadata": {
    "deletable": false,
    "editable": false,
    "kernel": "Python3",
    "nbgrader": {
     "cell_type": "markdown",
     "checksum": "ad609b53d28318b1a99499e3a791c4ab",
     "grade": false,
     "grade_id": "cell-0943d62710d73c80",
     "locked": true,
     "schema_version": 3,
     "solution": false,
     "task": false
    }
   },
   "source": [
    "* Q4: Why is the main line in the *FT* not aligned with the pens? \n",
    "\n",
    "    1. The frequency of a contour is perpendicular to the contour. \n",
    "    2. The main periodicity in the image is *parallel* to the pens because they have rough surfaces.\n",
    "    3. The `viewer` rotates the FT.\n",
    "    4. Numpy rotates the FT.\n",
    "\n",
    "In the next cell, modify the variable `answer` to reflect your choice."
   ]
  },
  {
   "cell_type": "code",
   "execution_count": null,
   "metadata": {
    "deletable": false,
    "kernel": "SoS",
    "nbgrader": {
     "cell_type": "code",
     "checksum": "7f62cfe3e8966a3f4314d0d245e259ca",
     "grade": false,
     "grade_id": "ans-8414e8b6a1607a1e",
     "locked": false,
     "schema_version": 3,
     "solution": true,
     "task": false
    }
   },
   "outputs": [],
   "source": [
    "# Assign your answer to this variable\n",
    "answer = None\n",
    "# YOUR CODE HERE"
   ]
  },
  {
   "cell_type": "code",
   "execution_count": null,
   "metadata": {
    "deletable": false,
    "editable": false,
    "kernel": "SoS",
    "nbgrader": {
     "cell_type": "code",
     "checksum": "f83b6f03ce2cb37f22df6db0e26bbd85",
     "grade": true,
     "grade_id": "grad-a59ca821abb77062",
     "locked": true,
     "points": 0.5,
     "schema_version": 3,
     "solution": false,
     "task": false
    },
    "tags": []
   },
   "outputs": [],
   "source": [
    "assert answer in [1, 2, 3, 4, 5], 'Valid answers are 1, 2, 3, 4 and 5'"
   ]
  },
  {
   "cell_type": "markdown",
   "metadata": {
    "deletable": false,
    "editable": false,
    "kernel": "Python3",
    "nbgrader": {
     "cell_type": "markdown",
     "checksum": "2449e617de30a9cebdcc4006f2b24a2c",
     "grade": false,
     "grade_id": "cell-fa915af9bcffb903",
     "locked": true,
     "schema_version": 3,
     "solution": false,
     "task": false
    }
   },
   "source": [
    "# 2. Reconstruction of an image (3 points)\n",
    "[Back to table of contents](#ToC_2_Fourier_transform)\n",
    "\n",
    "As you learned in the course, it is possible to reconstruct an image from its Fourier transform by performing the inverse Fourier transform. In the next exercise we will investigate the role that the magnitude and phase of the *FT* has on the reconstruction of an image. For this we first need to create a function that reconstructs an image from its *FT* magnitude (in $\\mathrm{dB}$) and phase.\n",
    "\n",
    "Run the next cell to define the function `reconstruct` and make sure that you understand every line of the code."
   ]
  },
  {
   "cell_type": "code",
   "execution_count": null,
   "metadata": {
    "deletable": false,
    "editable": false,
    "kernel": "SoS",
    "nbgrader": {
     "cell_type": "code",
     "checksum": "8881206c3c49ad533e4021fdc531222c",
     "grade": false,
     "grade_id": "cell-135e619da9bddb99",
     "locked": true,
     "schema_version": 3,
     "solution": false,
     "task": false
    }
   },
   "outputs": [],
   "source": [
    "# Function that reconstructs an image from its FT magnitude (in dB) and phase\n",
    "def reconstruct(mag, ph):\n",
    "    # Convert magnitude from dB to linear scale\n",
    "    mag = 10 ** (mag / 20)\n",
    "    # Restore complex Fourier Transform using polar representation\n",
    "    ft = mag * np.exp(1j * ph)\n",
    "    # Reconstruct the image using the inverse Fourier function\n",
    "    return inverse_fourier(ft)"
   ]
  },
  {
   "cell_type": "markdown",
   "metadata": {
    "deletable": false,
    "editable": false,
    "kernel": "SoS",
    "nbgrader": {
     "cell_type": "markdown",
     "checksum": "7e9d61e62bca79ed38598407a6ff0861",
     "grade": false,
     "grade_id": "cell-760695d66a5c92a8",
     "locked": true,
     "schema_version": 3,
     "solution": false,
     "task": false
    }
   },
   "source": [
    "Let's see if the function works. Run the cell below to reconstruct the car image from its magnitude and phase, and visualize the result. \n",
    "\n",
    "<div class = 'alert alert-danger'>\n",
    "<b>Warning:</b> If the reconstruction is not near perfect, check again your functions <code>magnitude</code> and <code>phase</code>. You will need both functions to answer the next questions. \n",
    "</div>"
   ]
  },
  {
   "cell_type": "code",
   "execution_count": null,
   "metadata": {
    "deletable": false,
    "editable": false,
    "kernel": "SoS",
    "nbgrader": {
     "cell_type": "code",
     "checksum": "fdd0a4b53487acc7de6a592d63306fb7",
     "grade": false,
     "grade_id": "cell-d3de1befc78e32cc",
     "locked": true,
     "schema_version": 3,
     "solution": false,
     "task": false
    }
   },
   "outputs": [],
   "source": [
    "# Reconstruct the car image\n",
    "car_reconstructed = reconstruct(car_ft_mag, car_ft_ph)\n",
    "# Display the result\n",
    "plt.close('all')\n",
    "ft_rec_vis = viewer([car, car_reconstructed], title=['Original car', 'Reconstructed car'], subplots=(1,2))\n",
    "np.testing.assert_array_almost_equal(car, car_reconstructed, err_msg='Check again your magnitude and phase functions!')"
   ]
  },
  {
   "cell_type": "markdown",
   "metadata": {
    "deletable": false,
    "editable": false,
    "kernel": "SoS",
    "nbgrader": {
     "cell_type": "markdown",
     "checksum": "8d7d3a2a89ca8e56e594e7597a77ac9b",
     "grade": false,
     "grade_id": "cell-725bb93760893450",
     "locked": true,
     "schema_version": 3,
     "solution": false,
     "task": false
    }
   },
   "source": [
    "Since we didn't make any changes to the *FT* before the reconstruction, the reconstructed image should be (almost) identical to the original image (if it's not, you should have seen an error message). \n",
    "\n",
    "For the next excercise we will use the `mandrill` image in addition to the car image. Run the next cell to visualize it again. Moreover, we will plot its *FT*'s magnitude and phase (browse through the images with the buttons `Next` & `Prev`)."
   ]
  },
  {
   "cell_type": "code",
   "execution_count": null,
   "metadata": {
    "deletable": false,
    "editable": false,
    "kernel": "SoS",
    "nbgrader": {
     "cell_type": "code",
     "checksum": "8a64ea7fae83e7a1d3042f2d28317c30",
     "grade": false,
     "grade_id": "cell-f2671c4dcbeb39a8",
     "locked": true,
     "schema_version": 3,
     "solution": false,
     "task": false
    }
   },
   "outputs": [],
   "source": [
    "# Generate FT of the mandrill image and extract the magnitude and phase\n",
    "mandrill_ft = fourier(mandrill)\n",
    "mandrill_ft_mag = magnitude(mandrill_ft)\n",
    "mandrill_ft_ph = phase(mandrill_ft)\n",
    "\n",
    "# Visualize\n",
    "plt.close('all')\n",
    "mandrill_vis = viewer([mandrill, mandrill_ft_mag, mandrill_ft_ph], widgets=True)"
   ]
  },
  {
   "cell_type": "markdown",
   "metadata": {
    "deletable": false,
    "editable": false,
    "kernel": "SoS",
    "nbgrader": {
     "cell_type": "markdown",
     "checksum": "2b5bb7b3058edd33c054c78cdfba8d6a",
     "grade": false,
     "grade_id": "cell-3632f02d41668d81",
     "locked": true,
     "schema_version": 3,
     "solution": false,
     "task": false
    }
   },
   "source": [
    "Now let's see what happens if we use the magnitude of one image and the phase of another image to do the reconstruction. What do you think will happen? Run the cell below and observe the results. Try to make a conclusion on what type of information is stored in the phase of the *FT*."
   ]
  },
  {
   "cell_type": "code",
   "execution_count": null,
   "metadata": {
    "deletable": false,
    "editable": false,
    "kernel": "SoS",
    "nbgrader": {
     "cell_type": "code",
     "checksum": "03e66a6ca9d2733712f86c8960aaab5e",
     "grade": false,
     "grade_id": "cell-edfa23d685d4fef9",
     "locked": true,
     "schema_version": 3,
     "solution": false,
     "task": false
    }
   },
   "outputs": [],
   "source": [
    "# Reconstruct an image with the magnitude of car and phase of mandrill\n",
    "car_mandrill = reconstruct(car_ft_mag, mandrill_ft_ph)\n",
    "# Reconstruct an image with the magnitude of mandrill and phase of car\n",
    "mandrill_car = reconstruct(mandrill_ft_mag, car_ft_ph)\n",
    "# Visualize the results\n",
    "plt.close('all')\n",
    "rec_comp_vis = viewer([car_mandrill, mandrill_car], title=['Magn. = car, Phase = mandrill', 'Magn. = mandrill, Phase = car'], subplots=(1,2))"
   ]
  },
  {
   "cell_type": "markdown",
   "metadata": {
    "deletable": false,
    "editable": false,
    "kernel": "SoS",
    "nbgrader": {
     "cell_type": "markdown",
     "checksum": "23fcf3b4a47e21bb0bbf433e5326e856",
     "grade": false,
     "grade_id": "cell-ba7b60defd1c42b0",
     "locked": true,
     "schema_version": 3,
     "solution": false,
     "task": false
    }
   },
   "source": [
    "### Multiple choice question\n",
    "\n",
    "What type of information of the image is stored in the **phase** of the FT that is **not stored** in the magnitude? (**0.5 points**)\n",
    "\n",
    "1. The spacial frequencies contained in the image.\n",
    "2. The light intensity of each pixel.\n",
    "3. The location and shape of objects in the image.\n",
    "\n",
    "Modify the variable `answer` in the next cell to reflect your choice."
   ]
  },
  {
   "cell_type": "code",
   "execution_count": null,
   "metadata": {
    "deletable": false,
    "kernel": "SoS",
    "nbgrader": {
     "cell_type": "code",
     "checksum": "1669be8b9f5cd78fa45b864af90576c1",
     "grade": false,
     "grade_id": "ans-7e7c03216cfd90a0",
     "locked": false,
     "schema_version": 3,
     "solution": true,
     "task": false
    }
   },
   "outputs": [],
   "source": [
    "# Assign your answer to this variable\n",
    "answer = None\n",
    "# YOUR CODE HERE"
   ]
  },
  {
   "cell_type": "code",
   "execution_count": null,
   "metadata": {
    "deletable": false,
    "editable": false,
    "kernel": "SoS",
    "nbgrader": {
     "cell_type": "code",
     "checksum": "af88361c19fea37c04b3d5f777aeb198",
     "grade": true,
     "grade_id": "grad-5da443479b1400ff",
     "locked": true,
     "points": 1,
     "schema_version": 3,
     "solution": false,
     "task": false
    }
   },
   "outputs": [],
   "source": [
    "# Sanity check\n",
    "assert answer in [1, 2, 3], 'Valid answers are 1, 2 or 3'"
   ]
  },
  {
   "cell_type": "markdown",
   "metadata": {
    "deletable": false,
    "editable": false,
    "kernel": "Python3",
    "nbgrader": {
     "cell_type": "markdown",
     "checksum": "d63638591427f5f19cbad665b0df78e4",
     "grade": false,
     "grade_id": "cell-9a92d5cbd8420331",
     "locked": true,
     "schema_version": 3,
     "solution": false,
     "task": false
    }
   },
   "source": [
    "## 2.A. Reconstruction error (1 point)\n",
    "[Back to table of contents](#ToC_2_Fourier_transform)\n",
    "\n",
    "How many Fourier coefficients do we really need to keep to still have the basic information present in an image? Do all coefficients contribute the same? In order to quantify _how good_ a certain reconstruction is, we will use a metric to assess the quality of the reconstruction.\n",
    "\n",
    "The metric we use is the normalized mean square error (NMSE) in dB. It calculates the difference between an image $f$ of size $K\\times L$ and its reconstruction $g$ normalizes by the total power of $f$.\n",
    "\n",
    "$$\\operatorname{NMSE}_f(g) =  \\frac{\\sum_{k=1}^{K} \\sum_{l=1}^L (g[k,l] - f[k,l])^2}{\\sum_{m=1}^{K} \\sum_{n=1}^L f[m,n]^2}, \\qquad \\qquad \\operatorname{NMSE}_f(g)~[\\mathrm{dB}] = 10 \\log_{10}\\left(\\operatorname{NMSE}_f(g)\\right).$$\n",
    "\n",
    "This makes it easier for one to observe, for example, when the error has doubled ($+3~\\mathrm{dB}$) or halved ($-3~\\mathrm{dB}$) in plots.\n",
    "\n",
    "For **1 point**, complete the function `nmse(f, g)` in the cell below according to the equation given above, where `f` and `g` are two NumPy arrays of the same shape.\n",
    "\n",
    "<div class=\"alert alert-danger\">\n",
    "<b>Warning</b>: Remember that your function should <b>not use <code>for</code> loops</b> to iterate through images (this will give you $0$ points), and should work for NumPy arrays of any shape.\n",
    "</div>"
   ]
  },
  {
   "cell_type": "code",
   "execution_count": null,
   "metadata": {
    "deletable": false,
    "kernel": "SoS",
    "nbgrader": {
     "cell_type": "code",
     "checksum": "72428adf2d1737b4e1aebd6f8a6db93e",
     "grade": false,
     "grade_id": "ans-8dded687cf67f4f1",
     "locked": false,
     "schema_version": 3,
     "solution": true,
     "task": false
    }
   },
   "outputs": [],
   "source": [
    "# Function that calculates the Normalized Mean Square Error in dB\n",
    "def nmse(f, g):\n",
    "    output = None\n",
    "    \n",
    "    # YOUR CODE HERE\n",
    "    \n",
    "    return output"
   ]
  },
  {
   "cell_type": "code",
   "execution_count": null,
   "metadata": {
    "deletable": false,
    "editable": false,
    "kernel": "SoS",
    "nbgrader": {
     "cell_type": "code",
     "checksum": "8eb99e614626a8f48a45e7367729ff96",
     "grade": true,
     "grade_id": "grad-f43f5970d01e3a71",
     "locked": true,
     "points": 1,
     "schema_version": 3,
     "solution": false,
     "task": false
    }
   },
   "outputs": [],
   "source": [
    "# Sanity check (do not worry about the divide by zero note)\n",
    "if  nmse(impulse, impulse) != -np.infty: \n",
    "    print('The error between two equal images should be zero. In dB -infinity.')\n",
    "# Check your function on the hrct image\n",
    "elif nmse(impulse, 0) != 0:\n",
    "    print('The error of any image and a zero-image should be 1. In dB, 0.')\n",
    "else:\n",
    "    print('Nice, your function seems to work! Do not worry about the divide by zero warning!')"
   ]
  },
  {
   "cell_type": "markdown",
   "metadata": {
    "deletable": false,
    "editable": false,
    "kernel": "SoS",
    "nbgrader": {
     "cell_type": "markdown",
     "checksum": "b60f75d7533b589ab7df53e109518812",
     "grade": false,
     "grade_id": "cell-0a2def51f8d1b167",
     "locked": true,
     "schema_version": 3,
     "solution": false,
     "task": false
    }
   },
   "source": [
    "## 2.B. Fourier components (1 point)\n",
    "[Back to table of contents](#ToC_2_Fourier_transform)\n",
    "\n",
    "In this section, we look into the reconstruction process of an image from part of its Fourier components. This touches a topic that will continue to appear in IP1 and IP2: how much does a given transform compress an image? \n",
    "\n",
    "We define a function `clip_fourier(img, percent)` that reconstructs an image for only `percent`$\\%$ of its Fourier coefficients. If `largest=True`, only the largest are kept, while \n",
    "if `largest=False`, they are excluded and only all the rest are kept. This will illustrate the uneven distribution of information contained in the Fourier components.\n",
    "\n",
    "Run the next cell to define the function `clip_fourier`."
   ]
  },
  {
   "cell_type": "code",
   "execution_count": null,
   "metadata": {
    "deletable": false,
    "editable": false,
    "kernel": "SoS",
    "nbgrader": {
     "cell_type": "code",
     "checksum": "1db25fdc6e39da534da419d6c1aa99ee",
     "grade": false,
     "grade_id": "cell-f35ca285f774a8b7",
     "locked": true,
     "schema_version": 3,
     "solution": false,
     "task": false
    }
   },
   "outputs": [],
   "source": [
    " def clip_fourier(img, percent, largest=True, perc=True):\n",
    "    # Get number of coefficients to keep\n",
    "    if perc:\n",
    "        n = np.round(img.size * percent / 100 ).astype(int)\n",
    "    else: \n",
    "        n = percent\n",
    "    img_ft = np.fft.fft2(img)\n",
    "    # Get the threshold value. To do this, we order the Fourier coefficients \n",
    "    # from low to high and select the n-to-last ([-n]) coefficients\n",
    "    threshold = np.sort(np.abs(img_ft.flatten()))[-n]\n",
    "    # Get the inverse Fourier transform of the thresholded Fourier transform\n",
    "    if largest == True:\n",
    "        clipped_ift = np.real(np.fft.ifft2((np.abs(img_ft) >= threshold) * img_ft))\n",
    "    else:\n",
    "        clipped_ift = np.real(np.fft.ifft2((np.abs(img_ft) < threshold) * img_ft))\n",
    "    return clipped_ift"
   ]
  },
  {
   "cell_type": "markdown",
   "metadata": {
    "deletable": false,
    "editable": false,
    "kernel": "SoS",
    "nbgrader": {
     "cell_type": "markdown",
     "checksum": "9f33cddbab02fab2d64ece089435afb3",
     "grade": false,
     "grade_id": "cell-9445799bbeb15ffe",
     "locked": true,
     "schema_version": 3,
     "solution": false,
     "task": false
    }
   },
   "source": [
    "Let's use the error metric `nmse` defined before to illustrate the difference in information contained in the few largest Fourier components compared to the information contained in the rest. In the cell below we will reconstruct the image `zebra` using: \n",
    " * only the `percent` largest Fourier components, and \n",
    " * using the `100-percent` smallest components. \n",
    "\n",
    "Then we will compare the reconstruction error by applying the `nmse` function defined above with both reconstructions. Run the cell below to see the different reconstruction errors. Play with the variable `percent` and see what happens."
   ]
  },
  {
   "cell_type": "code",
   "execution_count": null,
   "metadata": {
    "kernel": "SoS"
   },
   "outputs": [],
   "source": [
    "import warnings\n",
    "# Suppress traitlets deprecation warning - do not modify\n",
    "warnings.simplefilter(\"ignore\")\n",
    "\n",
    "percent = 20\n",
    "# First, reconstruct zebra using the largest components\n",
    "zebra_largest = clip_fourier(zebra, percent)\n",
    "# Reconstruct zebra using the smallest components\n",
    "zebra_smallest = clip_fourier(zebra, percent, largest=False)\n",
    "# Calculate the errors\n",
    "error_l = nmse(zebra,zebra_largest )\n",
    "error_s = nmse(zebra,zebra_smallest)\n",
    "# Compare the error\n",
    "print(f'The reconstruction error when using the {percent}% largest  components: NMSE = {error_l:.4f}')\n",
    "print(f\"The reconstruction error when using the {100 - percent}% smallest components: NMSE = {error_s:6.4f}\")\n",
    "# Visualize images\n",
    "view = viewer([zebra, zebra_largest, zebra_smallest], \n",
    "              title=['Original', f'{percent}% Largest Components', f'{100-percent}% Smallest Components'], \n",
    "              widgets=True)"
   ]
  },
  {
   "cell_type": "markdown",
   "metadata": {
    "deletable": false,
    "editable": false,
    "kernel": "SoS",
    "nbgrader": {
     "cell_type": "markdown",
     "checksum": "ab028d52c9cd1ba12e48e384a23b27aa",
     "grade": false,
     "grade_id": "cell-af1dad6c7d299b33",
     "locked": true,
     "schema_version": 3,
     "solution": false,
     "task": false
    }
   },
   "source": [
    "In the long run, this type of characteristics of transforms are explored using graphs like the one below, where the NMSE can be seen as a function of the percentage of the largest coefficients kept."
   ]
  },
  {
   "cell_type": "code",
   "execution_count": null,
   "metadata": {
    "deletable": false,
    "editable": false,
    "kernel": "SoS",
    "nbgrader": {
     "cell_type": "code",
     "checksum": "42a398134d662067074ed05990c41398",
     "grade": false,
     "grade_id": "cell-9ee60b5808fea24d",
     "locked": true,
     "schema_version": 3,
     "solution": false,
     "task": false
    }
   },
   "outputs": [],
   "source": [
    "plt.close(\"all\")\n",
    "# Create figure\n",
    "fig = plt.figure(num=f\"SCIPER: {uid}\",figsize=(8,5));\n",
    "# Plot the NMSE vs kept coefficients curve\n",
    "plt.plot(np.arange(.5, 100, 5), [nmse(zebra, clip_fourier(zebra, perc)) for perc in np.arange(.5, 100, 5)], 'bo-');\n",
    "# Labels and titles for clear plotting\n",
    "plt.xlabel(\"Percentage of coefficients kept\"); plt.ylabel(\"NMSE [dB]\"); \n",
    "plt.xticks([0, 20, 40, 60, 80, 100], [f\"{perc}%\" for perc in [0, 20, 40, 60, 80, 100]]);\n",
    "plt.title(\"Reconstructing zebra with the largest Fourier coefs.\")\n",
    "plt.show()"
   ]
  },
  {
   "cell_type": "markdown",
   "metadata": {
    "deletable": false,
    "editable": false,
    "kernel": "Python3",
    "nbgrader": {
     "cell_type": "markdown",
     "checksum": "f44beac2945d34a1843d7afb02653986",
     "grade": false,
     "grade_id": "cell-aca9c2e4d2518fc6",
     "locked": true,
     "schema_version": 3,
     "solution": false,
     "task": false
    }
   },
   "source": [
    "Now we will create a widget to apply the function to an image and dynamically visualize its effect. \n",
    "\n",
    "We will define a slider to choose an integer `n` such that **the number of largest coefficients kept is $2^n$**. \n",
    "<div class = \"alert alert-info\">\n",
    "<b>Note</b>: This is because the visual difference between the reconstructions is only apparent for percentages between $0\\%$ and $2\\%$, and very small steps would be needed. Keep in mind that you are not working with percentages anymore.\n",
    "    \n",
    "</div>\n",
    "\n",
    "We will also provide a checkbox to switch between the two modes of operation (keeping the largest or keeping all the rest). Click the button `Apply` to apply `clip_fourier()` with the chosen parameter on the image. Run the next cell and click on `Extra Widgets` to use the widget. Explore the results carefully."
   ]
  },
  {
   "cell_type": "code",
   "execution_count": null,
   "metadata": {
    "deletable": false,
    "editable": false,
    "kernel": "SoS",
    "nbgrader": {
     "cell_type": "code",
     "checksum": "c99b49a9b895dda6c150bd2a3db2c514",
     "grade": false,
     "grade_id": "cell-c4b7a812e25017e1",
     "locked": true,
     "schema_version": 3,
     "solution": false,
     "task": false
    }
   },
   "outputs": [],
   "source": [
    "# Declare slider and checkbox\n",
    "n_slider = widgets.IntSlider(value=16, min=0, max=16, step=1, description='n' )\n",
    "checkbox = widgets.Checkbox(value=True, description='Use largest components')\n",
    "\n",
    "# Declare button\n",
    "button = widgets.Button(description='Apply')\n",
    "\n",
    "# Declare the button callback\n",
    "def button_callback(image):\n",
    "    n      = n_slider.value\n",
    "    check  = checkbox.value\n",
    "    output = clip_fourier(image, 2**n, largest=check, perc=False)\n",
    "    return output\n",
    "\n",
    "# Visualize\n",
    "plt.close('all')\n",
    "cfourier_viewer = viewer(zebra, title=\"Clipping the FT\", new_widgets=[n_slider, checkbox, button], callbacks=[button_callback], widgets=True, normalize=True)"
   ]
  },
  {
   "cell_type": "markdown",
   "metadata": {
    "deletable": false,
    "editable": false,
    "kernel": "Python3",
    "nbgrader": {
     "cell_type": "markdown",
     "checksum": "529b7e4e42a2e2d8da3b420030760449",
     "grade": false,
     "grade_id": "cell-167b4895c49676c8",
     "locked": true,
     "schema_version": 3,
     "solution": false,
     "task": false
    }
   },
   "source": [
    "### Multiple Choice Question\n",
    "Congratulations! You made it to the end of the notebook. Now you just need to answer these last two MCQ questions (**0.5 points** each).\n",
    "\n",
    "* Q1: How many largest Fourier coefficients are required to start clearly seeing a zebra shape in the image?\n",
    "    1. $2^{1}$\n",
    "    2. $2^{4}$\n",
    "    3. $2^{11}$\n",
    "    4. $2^{16}$\n",
    "\n",
    "Modify the variable `answer` to reflect your choice. "
   ]
  },
  {
   "cell_type": "code",
   "execution_count": null,
   "metadata": {
    "deletable": false,
    "kernel": "SoS",
    "nbgrader": {
     "cell_type": "code",
     "checksum": "2b9ba4b7ba53423c1c11a10975f66721",
     "grade": false,
     "grade_id": "ans-ee040ab2d1398a93",
     "locked": false,
     "schema_version": 3,
     "solution": true,
     "task": false
    }
   },
   "outputs": [],
   "source": [
    "# Assign your answer to this variable\n",
    "answer = None\n",
    "# YOUR CODE HERE"
   ]
  },
  {
   "cell_type": "code",
   "execution_count": null,
   "metadata": {
    "deletable": false,
    "editable": false,
    "kernel": "SoS",
    "nbgrader": {
     "cell_type": "code",
     "checksum": "bae0f556ebd6dab19e9e503aeab8ab4e",
     "grade": true,
     "grade_id": "grad-614f5700675a0260",
     "locked": true,
     "points": 0.5,
     "schema_version": 3,
     "solution": false,
     "task": false
    }
   },
   "outputs": [],
   "source": [
    "assert answer in [1, 2, 3, 4], 'Possible answers are 1, 2, 3 and 4'"
   ]
  },
  {
   "cell_type": "markdown",
   "metadata": {
    "deletable": false,
    "editable": false,
    "kernel": "Python3",
    "nbgrader": {
     "cell_type": "markdown",
     "checksum": "5caccb8d1b4866a8de8ba94032fe37d4",
     "grade": false,
     "grade_id": "cell-fea792cc3a05b29b",
     "locked": true,
     "schema_version": 3,
     "solution": false,
     "task": false
    }
   },
   "source": [
    "* Q2: How is it possible to reconstruct a non-periodic object such as the zebra (there is only one zebra in the image) in an image from only periodic components?\n",
    "    1. The black and white stripes in the zebra make it possible.\n",
    "    2. The FT assumes that the image is periodic in space.\n",
    "    3. The biggest components of the FT are non-periodic, to account for such features in an image.\n",
    "\n",
    "Modify the variable `answer` to reflect your choice. "
   ]
  },
  {
   "cell_type": "code",
   "execution_count": null,
   "metadata": {
    "deletable": false,
    "kernel": "SoS",
    "nbgrader": {
     "cell_type": "code",
     "checksum": "e02cbb923865a1c12ad140a428731c00",
     "grade": false,
     "grade_id": "ans-9a7c38e4ea3a4322",
     "locked": false,
     "schema_version": 3,
     "solution": true,
     "task": false
    }
   },
   "outputs": [],
   "source": [
    "# Assign your answer to this variable\n",
    "answer = None\n",
    "# YOUR CODE HERE"
   ]
  },
  {
   "cell_type": "code",
   "execution_count": null,
   "metadata": {
    "deletable": false,
    "editable": false,
    "kernel": "SoS",
    "nbgrader": {
     "cell_type": "code",
     "checksum": "3af52c4be977d791edbf44b5d644ab7e",
     "grade": true,
     "grade_id": "grad-08af35ecf1d0b4b8",
     "locked": true,
     "points": 0.5,
     "schema_version": 3,
     "solution": false,
     "task": false
    }
   },
   "outputs": [],
   "source": [
    "assert answer in [1, 2, 3], 'Possible answers are 1, 2, and 3'"
   ]
  },
  {
   "cell_type": "markdown",
   "metadata": {
    "deletable": false,
    "editable": false,
    "kernel": "SoS",
    "nbgrader": {
     "cell_type": "markdown",
     "checksum": "053340c49762904141d1a5a2b0ac6c0b",
     "grade": false,
     "grade_id": "cell-6deaf74b6ab1ae1f",
     "locked": true,
     "schema_version": 3,
     "solution": false,
     "task": false
    }
   },
   "source": [
    "<div class=\"alert alert-success\">\n",
    "<p><b>Congratulations on finishing the second part of the Pixel-Fourier lab!</b></p>\n",
    "<p>\n",
    "Make sure to save your notebook (you might want to keep a copy on your personal computer) and upload it to <a href=\"https://moodle.epfl.ch/mod/assign/view.php?id=1303112\">Moodle</a>, in a zip file with the other notebook of this lab.\n",
    "</p>\n",
    "</div>\n",
    "\n",
    "* Keep the name of the notebook as: *2_Fourier_Transform.ipynb*,\n",
    "* Name the zip file: *Pixel_Fourier_Lab.zip*."
   ]
  }
 ],
 "metadata": {
  "kernelspec": {
   "display_name": "SoS",
   "language": "sos",
   "name": "sos"
  },
  "language_info": {
   "codemirror_mode": "sos",
   "file_extension": ".sos",
   "mimetype": "text/x-sos",
   "name": "sos",
   "nbconvert_exporter": "sos_notebook.converter.SoS_Exporter",
   "pygments_lexer": "sos"
  },
  "sos": {
   "kernels": [
    [
     "JavaScript",
     "javascript",
     "JavaScript",
     "#c8e1ae",
     ""
    ],
    [
     "SoS",
     "sos",
     "",
     "",
     "sos"
    ]
   ],
   "panel": {
    "displayed": false,
    "height": 0
   },
   "version": "0.21.9"
  }
 },
 "nbformat": 4,
 "nbformat_minor": 4
}
