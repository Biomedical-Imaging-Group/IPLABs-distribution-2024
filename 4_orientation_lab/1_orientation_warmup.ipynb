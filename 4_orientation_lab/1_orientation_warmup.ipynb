{
 "cells": [
  {
   "cell_type": "markdown",
   "metadata": {
    "deletable": false,
    "editable": false,
    "nbgrader": {
     "cell_type": "markdown",
     "checksum": "2aee8304e09b8875f3f27560359cbbab",
     "grade": false,
     "grade_id": "header",
     "locked": true,
     "schema_version": 3,
     "solution": false,
     "task": false
    }
   },
   "source": [
    "<img src=\"https://www.epfl.ch/about/overview/wp-content/uploads/2020/07/logo-epfl-1024x576.png\" width=\"140px\" alt=\"EPFL_logo\">\n",
    "\n",
    "## Image Processing Laboratory Notebooks\n",
    "---\n",
    "\n",
    "This Jupyter Notebook is part of a series of computer laboratories that are designed\n",
    "to teach image-processing programming; they are running on the EPFL's Noto server. They are the practical complement of the theoretical lectures of the EPFL's Master course \n",
    "[**MICRO-512 Image Processing II**](https://moodle.epfl.ch/course/view.php?id=463) taught by Prof. M. Unser and Prof. D. Van de Ville.\n",
    "\n",
    "The project is funded by the Center for Digital Education and the School of Engineering. It is owned by the [Biomedical Imaging Group](http://bigwww.epfl.ch/). \n",
    "The distribution or reproduction of the notebook is strictly prohibited without the written consent of the authors.  &copy; EPFL 2025.\n",
    "\n",
    "**Authors**: \n",
    "    [Pol del Aguila Pla](mailto:pol.delaguilapla@epfl.ch), \n",
    "    [Kay L\u00e4chler](mailto:kay.lachler@epfl.ch),\n",
    "    [Alejandro Noguer\u00f3n Ar\u00e1mburu](mailto:alejandro.nogueronaramburu@epfl.ch),\n",
    "    [Kamil Seghrouchni](mailto:kamil.seghrouchni@epfl.ch), and\n",
    "    [Daniel Sage](mailto:daniel.sage@epfl.ch).\n",
    "    \n",
    "\n",
    "# Lab 4.1: Orientation Warmup\n",
    "**Released**: Thursday, February 20, 2025\n",
    "\n",
    "**Submission deadline**: Friday, February 28, 2025, before 23:59 on [Moodle](https://moodle.epfl.ch/course/view.php?id=463)\n",
    "\n",
    "**Grade weight**: Lab 4 (16 points), 7.5 % of the overall grade\n",
    "\n",
    "**Help Session**: Thursday, February 27, 2025\n",
    "\n",
    "**Related lectures**: Chapter 6"
   ]
  },
  {
   "cell_type": "markdown",
   "metadata": {},
   "source": [
    "Double-click on this cell and fill your name and SCIPER number. Then, run the cell below to verify your identity in Noto and set the seed for random results.\n",
    "\n",
    "**Student Name**: \n",
    "\n",
    "**SCIPER**:"
   ]
  },
  {
   "cell_type": "code",
   "execution_count": null,
   "metadata": {
    "deletable": false,
    "editable": false,
    "nbgrader": {
     "cell_type": "code",
     "checksum": "0f831ff2920b0017c4931faefa7c359a",
     "grade": true,
     "grade_id": "cell-5c658c62e400d791",
     "locked": true,
     "points": 0,
     "schema_version": 3,
     "solution": false,
     "task": false
    }
   },
   "outputs": [],
   "source": [
    "import getpass\n",
    "# This line recovers your camipro number to mark the images with your ID\n",
    "uid = int(getpass.getuser().split('-')[2]) if len(getpass.getuser().split('-')) > 2 else ord(getpass.getuser()[0])\n",
    "print(f'SCIPER: {uid}')"
   ]
  },
  {
   "cell_type": "markdown",
   "metadata": {
    "deletable": false,
    "editable": false,
    "nbgrader": {
     "cell_type": "markdown",
     "checksum": "607788646a8513767366f05f07c34969",
     "grade": false,
     "grade_id": "cell-4b72a2bcfd3b306d",
     "locked": true,
     "schema_version": 3,
     "solution": false,
     "task": false
    }
   },
   "source": [
    "# Orientation warm-up (3 points)\n",
    "\n",
    "In this lab, we implement image processing algorithms and systems relying on directional analysis, i.e., on the orientation features of an image.\n",
    "To obtain orientation features, we mainly use linear filtering, which was covered in [Lab 2: Digital filtering](../2_Filtering_lab/1_Filtering.ipynb) of [Image Processing I](https://moodle.epfl.ch/enrol/index.php?id=522).\n",
    "In the first part of this lab, we (re-)familiarize ourselves with tools used in the upcoming labs, and discuss some *advanced* and *efficient* filtering techniques.\n",
    "In particular, we implement efficient approximate Gaussian smoothing, introduced in [Image Processing I](https://moodle.epfl.ch/course/view.php?id=522).\n",
    "If anything about the basic tools is unclear, make sure to check the introductory lab (Lab 0) again."
   ]
  },
  {
   "cell_type": "markdown",
   "metadata": {
    "deletable": false,
    "editable": false,
    "nbgrader": {
     "cell_type": "markdown",
     "checksum": "68b36627c4a716bbbdb51f664a104689",
     "grade": false,
     "grade_id": "cell-10efff8d480e43f9",
     "locked": true,
     "schema_version": 3,
     "solution": false,
     "task": false
    }
   },
   "source": [
    "# Efficient Gaussian smoothing\n",
    "\n",
    "Gaussian smoothing is a fundamental part of many image-processing algorithms.\n",
    "It is often used to denoise images, improving the reliability of downstream algorithms.\n",
    "We already implemented separable Gaussian smoothing in [Lab 2: Digital Filtering](../2_Filtering_lab/1_Filtering.ipynb), which is provided in the next cell.\n",
    "Although the separable implementation significantly improves the runtime, it is still not suitable for time-critical applications when $\\sigma$ is large.\n",
    "Therefore, we implement an approximate Gaussian smoothing with runtime independent of $\\sigma$.\n",
    "\n",
    "The next cell implements the separable Gaussian smoothing to compare the execution time."
   ]
  },
  {
   "cell_type": "code",
   "execution_count": null,
   "metadata": {
    "deletable": false,
    "editable": false,
    "nbgrader": {
     "cell_type": "code",
     "checksum": "f39f65c619375086ecb229e50dab0cfe",
     "grade": false,
     "grade_id": "cell-c9928143955445bc",
     "locked": true,
     "schema_version": 3,
     "solution": false,
     "task": false
    }
   },
   "outputs": [],
   "source": [
    "import numpy as np\n",
    "\n",
    "\n",
    "def gaussian(sigma):\n",
    "    # To capture significant influence of the Gaussian, we consider\n",
    "    # pixels with up to 3*s distance. + 1 ensures an odd filter size\n",
    "    # for well-defined center; see also the course notes\n",
    "    n = int(2 * np.ceil(3 * sigma) + 1)\n",
    "    x = np.linspace(-n // 2 + 1, n // 2, n)\n",
    "    g = np.exp(-x ** 2 / (2 * sigma**2))\n",
    "    return g / g.sum()\n",
    "\n",
    "\n",
    "def gaussian_filter(image, sigma):\n",
    "    kernel = gaussian(sigma)\n",
    "    convolved = np.empty_like(image)\n",
    "\n",
    "    for i in range(image.shape[0]):\n",
    "        convolved[i] = filter1d(image[i], kernel)\n",
    "\n",
    "    for j in range(image.shape[1]):\n",
    "        convolved[:, j] = filter1d(convolved[:, j], kernel)\n",
    "\n",
    "    return convolved\n",
    "    \n",
    "\n",
    "def filter1d(image, kernel):\n",
    "    padding = kernel.shape[0] // 2\n",
    "    padded = np.pad(image, padding, mode='reflect')\n",
    "    convolved = np.zeros_like(image)\n",
    "    for i in range(convolved.shape[0]):\n",
    "        for j in range(kernel.shape[0]):\n",
    "            convolved[i] += padded[i + j] * kernel[-j - 1]\n",
    "    return convolved"
   ]
  },
  {
   "cell_type": "markdown",
   "metadata": {
    "deletable": false,
    "editable": false,
    "nbgrader": {
     "cell_type": "markdown",
     "checksum": "cab644117eeec740425593d6da81d055",
     "grade": false,
     "grade_id": "cell-8050287e1974edbf",
     "locked": true,
     "schema_version": 3,
     "solution": false,
     "task": false
    }
   },
   "source": [
    "## Generating the box filter widths (1 point)\n",
    "\n",
    "We approximate Gaussian smoothing with successive [**box filtering**](https://en.wikipedia.org/wiki/Box_blur) passes with different box widths; theoretical foundations of this are discussed more formally later in the course.\n",
    "The box kernel is a square with constant values that sum to 1; the box kernel with box width $3$ is\n",
    "\n",
    "$$\\frac{1}{9} \\begin{bmatrix} 1 & 1 & 1 \\\\ 1 & 1 & 1 \\\\ 1 & 1 & 1 \\end{bmatrix}\\,.$$\n",
    "\n",
    "When approximating Gaussian smoothing with successive passes of box filtering, the width of the boxes needs to be chosen to account for $\\sigma$ and the number of box filter passes.\n",
    "In this lab, we explore the choice proposed in [\\[1\\]](https://www.peterkovesi.com/papers/FastGaussianSmoothing.pdf), though other choices with benefits and drawbacks for different applications exist.\n",
    "The approximation uses $m$ box filters with width $w_0, w_1, \\dots, w_{m-1}$, where\n",
    "\n",
    "$$w_i = \\begin{cases}\n",
    "    w_0, & \\text{if } i < \\gamma,\\\\\n",
    "    w_0 + 2,              & \\text{otherwise,}\n",
    "\\end{cases} \\quad \\text{where}\\ \\gamma = \\left\\lfloor \\frac{12 \\sigma^2 - mw_0^2 - 4mw_0 - 3 m}{-4w_0 - 4} \\right\\rceil.$$\n",
    "\n",
    "There, $w_0$ is defined as\n",
    "\n",
    "$$w_0 = \\begin{cases} \n",
    "    \\tilde{w}_0\\,, &\\mbox{if } \\tilde{w}_0 \\mbox{ is odd} \\,, \\\\\n",
    "    \\tilde{w}_0 - 1\\,, & \\mbox{ otherwise,} \n",
    "\\end{cases} \\quad\\text{and}\\ \\tilde{w}_0 = \\left\\lfloor \\sqrt{\\frac{12 \\sigma^2}{m}+1} \\right\\rfloor.$$\n",
    "\n",
    "\n",
    "Here, $\\lfloor\\,\\cdot\\,\\rfloor$ is the floor function (see [`np.floor`](https://numpy.org/doc/stable/reference/generated/numpy.floor.html)) and $\\lfloor\\,\\cdot\\,\\rceil$ is the rounding function (see [`np.around`](https://numpy.org/doc/stable/reference/generated/numpy.around.html#numpy.around)).\n",
    "\n",
    "**For 1 point**, implement `box_widths` taking the arguments\n",
    " * `sigma`: The standard deviation of the Gaussian blur to approximate,\n",
    " * `m`: The number of box filters to use. \n",
    " \n",
    "and returning:\n",
    " * the widths $w_0$ to $w_{m-1}$ in a NumPy array according to the formulas above.\n",
    "\n",
    "[\\[1\\]](https://www.peterkovesi.com/papers/FastGaussianSmoothing.pdf): \"Fast Almost-Gaussian Filtering,\" Peter Kovesi, _2010 IEEE International Conference on Digital Image Computing: Techniques and Applications_, Sydney, NSW, Australia"
   ]
  },
  {
   "cell_type": "code",
   "execution_count": null,
   "metadata": {
    "deletable": false,
    "nbgrader": {
     "cell_type": "code",
     "checksum": "c170a9450c8b7a0fea3db49c212dd8db",
     "grade": false,
     "grade_id": "cell-2deed408ae7dee96",
     "locked": false,
     "schema_version": 3,
     "solution": true,
     "task": false
    }
   },
   "outputs": [],
   "source": [
    "def box_widths(sigma, m):\n",
    "    widths = np.empty(m, dtype=np.uint8)\n",
    "    \n",
    "    # YOUR CODE HERE\n",
    "    \n",
    "    return widths"
   ]
  },
  {
   "cell_type": "markdown",
   "metadata": {
    "deletable": false,
    "editable": false,
    "nbgrader": {
     "cell_type": "markdown",
     "checksum": "169860508e45c96a1df4033aa85400c8",
     "grade": false,
     "grade_id": "cell-8310108c1bb36a05",
     "locked": true,
     "schema_version": 3,
     "solution": false,
     "task": false
    }
   },
   "source": [
    "The next cell performs some sanity checks on `box_widths`."
   ]
  },
  {
   "cell_type": "code",
   "execution_count": null,
   "metadata": {
    "deletable": false,
    "editable": false,
    "nbgrader": {
     "cell_type": "code",
     "checksum": "4fb5ccd0f407e4c65cda357f1a99d273",
     "grade": true,
     "grade_id": "cell-0f28c78c36fdc71d",
     "locked": true,
     "points": 1,
     "schema_version": 3,
     "solution": false,
     "task": false
    }
   },
   "outputs": [],
   "source": [
    "refs = {\n",
    "    (3, 7): np.array([3, 3, 3, 3, 5, 5, 5]),\n",
    "    (5.4, 9): np.array([5, 5, 5, 7, 7, 7, 7, 7, 7]),\n",
    "}\n",
    "ours = {args: box_widths(*args) for args in refs.keys()}\n",
    "\n",
    "if len(ours[(3, 7)]) != 7:\n",
    "    print('Warning: The length of the output list should be equal to m.')\n",
    "\n",
    "if np.any(ours[(3, 7)] % 2 == 0):\n",
    "    print('Warning: Ensure that the box widths are always odd.')\n",
    "\n",
    "for args in refs.keys():\n",
    "    our = ours[args]\n",
    "    ref = refs[args]\n",
    "    if not np.allclose(our, ref):\n",
    "        print(f'Warning: The output for {args} should be {ref}, got {our}.')\n",
    "    "
   ]
  },
  {
   "cell_type": "markdown",
   "metadata": {
    "deletable": false,
    "editable": false,
    "nbgrader": {
     "cell_type": "markdown",
     "checksum": "e6425bfbfd76d3028aa1db074ffa8ea4",
     "grade": false,
     "grade_id": "cell-7ba6b15b019331f9",
     "locked": true,
     "schema_version": 3,
     "solution": false,
     "task": false
    }
   },
   "source": [
    "We compare the box filter approximation to the exactly discretized Gaussian filter and calculate the error between the impulse responses depending on the number of box filters used.\n",
    "You can change $\\sigma$ with the slider below the figure, and you change the maximum number of box passes in the code (now set to $5$).\n",
    "Observe the effect this has on the MSE."
   ]
  },
  {
   "cell_type": "code",
   "execution_count": null,
   "metadata": {},
   "outputs": [],
   "source": [
    "%matplotlib widget\n",
    "import matplotlib.pyplot as plt\n",
    "import ipywidgets as widgets\n",
    "\n",
    "\n",
    "def mse_db(a, b):\n",
    "    length = max(len(a), len(b))\n",
    "    a_pad = np.pad(a, (length - len(a)) // 2)\n",
    "    b_pad = np.pad(b, (length - len(b)) // 2)\n",
    "    return 10*np.log10(np.mean((a_pad - b_pad) ** 2))\n",
    "\n",
    "\n",
    "sigma_slider = widgets.FloatSlider(value=0.2, min=0.2, max=8, step=0.2, description='\\u03C3', continuous_update=False) \n",
    "box_passes = 5\n",
    "ns = np.arange(1, box_passes + 1)\n",
    "\n",
    "plt.close('all')\n",
    "fig, axs = plt.subplots(1, 2, figsize=(10, 5))\n",
    "\n",
    "def plot_approximation(change):\n",
    "    sigma = change.new\n",
    "    errors = []\n",
    "    axs[0].clear()\n",
    "    axs[1].clear()\n",
    "    n = int(2 * np.ceil(3 * sigma) + 1)\n",
    "    x_g = np.linspace(-n // 2 + 1, n // 2, n)\n",
    "    gauss_exact = gaussian(sigma)\n",
    "    axs[0].plot(x_g, gauss_exact, 'k')\n",
    "    # Iterate through box filters\n",
    "    for p, n in enumerate(ns):\n",
    "        boxes = box_widths(sigma, n)\n",
    "        conv = np.ones(boxes[0]) / boxes[0]\n",
    "        for i in range(1, len(boxes)):\n",
    "            box = np.ones(boxes[i]) / boxes[i]\n",
    "            conv = np.convolve(conv, box)\n",
    "        x_b = np.linspace(-conv.shape[0]//2+1, conv.shape[0]//2, conv.shape[0])\n",
    "        errors.append(mse_db(conv, gauss_exact))\n",
    "        axs[0].plot(x_b, conv, alpha=0.5)\n",
    "    # Format plot\n",
    "    axs[0].legend(['Exact Gaussian'] + [f'{n} box passes' for n in ns])\n",
    "    axs[0].set_xlabel('x')\n",
    "    axs[0].set_ylabel('h[x]')\n",
    "    axs[0].set_title(f'Gaussian $\\\\sigma$={sigma:.2f} vs Box filter approximations')\n",
    "    axs[0].grid()\n",
    "    axs[1].plot(ns, errors)\n",
    "    axs[1].set_xlabel('Number of box passes')\n",
    "    axs[1].set_ylabel('MSE [dB]')\n",
    "    axs[1].set_title(f'MSE, Gaussian $\\\\sigma$={sigma:.2f} vs Box filter approximations')\n",
    "    axs[1].grid()\n",
    "    fig.tight_layout()\n",
    "\n",
    "# Didplay widget and link to callback\n",
    "display(sigma_slider)\n",
    "sigma_slider.observe(plot_approximation, 'value')\n",
    "sigma_slider.value = 3"
   ]
  },
  {
   "cell_type": "markdown",
   "metadata": {
    "deletable": false,
    "editable": false,
    "nbgrader": {
     "cell_type": "markdown",
     "checksum": "cd58bd64349eb9a5bd5cebcf3fea5df8",
     "grade": false,
     "grade_id": "cell-8c35247b8c60ee54",
     "locked": true,
     "schema_version": 3,
     "solution": false,
     "task": false
    }
   },
   "source": [
    "We observe that method does not work well for small $\\sigma$, as the box widths are all 1.\n",
    "However, when $\\sigma > 0.6$ the results are acceptable.\n",
    "We now plot the MSE between the approximation and the exactly discretized Gaussian depending on $\\sigma$, with $\\sigma$ ranging from $0.6$ to $10$. \n",
    "We can change the number of box filtering passes using the slider below the figure.\n",
    "Observe the effect this has on the MSE."
   ]
  },
  {
   "cell_type": "code",
   "execution_count": null,
   "metadata": {},
   "outputs": [],
   "source": [
    "# Initialize slider to define the number of box filters to use\n",
    "box_slider = widgets.IntSlider(value=1, min=1, max=12, step=1, description='Number of box passes', continuous_update=False, \n",
    "                               style={'description_width':'initial'}, layout={'width':'400px'}) \n",
    "\n",
    "# Declare array with sigma values to evaluate\n",
    "sigmas = np.linspace(0.5, 10, 1000)\n",
    "\n",
    "# Initialize Matplotlib figure\n",
    "plt.close(\"all\")\n",
    "fig = plt.figure(figsize = (10,6))\n",
    "ax = plt.gca()\n",
    "\n",
    "def plot_mse(change):\n",
    "    n = change.new\n",
    "    ax.clear()\n",
    "    errors = []\n",
    "    for sigma in sigmas:\n",
    "        gauss_exact = gaussian(sigma)\n",
    "        boxes = box_widths(sigma, n)\n",
    "        conv = np.ones(boxes[0]) / boxes[0]\n",
    "        for i in range(1, len(boxes)):\n",
    "            box = np.ones(boxes[i]) / boxes[i]\n",
    "            conv = np.convolve(conv, box)\n",
    "        errors.append(mse_db(conv, gauss_exact))\n",
    "    ax.plot(sigmas, errors);\n",
    "    ax.set_xlabel('$\\\\sigma$'); ax.set_ylabel('MSE [dB]')\n",
    "    ax.set_title(f'MSE, {n} box filter approximation vs Gaussian impulse response')\n",
    "    ax.grid()\n",
    "    \n",
    "display(box_slider)\n",
    "box_slider.observe(plot_mse, 'value')\n",
    "box_slider.value = 6"
   ]
  },
  {
   "cell_type": "markdown",
   "metadata": {
    "deletable": false,
    "editable": false,
    "nbgrader": {
     "cell_type": "markdown",
     "checksum": "7609d30f71808a033e1d9520a3b81208",
     "grade": false,
     "grade_id": "cell-fc5ca0000e7a6ef1",
     "locked": true,
     "schema_version": 3,
     "solution": false,
     "task": false
    }
   },
   "source": [
    "## Implementation of a separable accumulation box filter (2 points)\n",
    "\n",
    "Given the previous analysis, we stick to $m=4$ box filter passes, offering a good compromise between numerical accuracy and execution time. \n",
    "We now implement the box filtering efficiently via a **separable accumulator**, making execution time independent of the width of the filter.\n",
    "In detail, as the box filter is constant, computing the next unknown output amounts to adding the new pixel now covered by the filter and subtracting the pixel no longer covered by the filter.\n",
    "Thus, the computation time is independent of the filter width, as we only need to perform $2$ operations per pixel (besides the very first pixel in every row/column).\n",
    "The accumulator needs to be filled only for the first output pixel.\n",
    "\n",
    "A visual representation of a horizontal accumulation box filter of **width 5** using mirroring boundary conditions applied to the first row is given below.\n",
    "\n",
    "![Visual representation of the accumulation box filter.](images/box_filter_gif_snapshots.png)\n",
    "\n",
    "In the next cell, we have implemented `box_gauss_approximation`, which approximates the Gaussian filter through successive passes of box filters with different widths.\n",
    "Since the box filter is separable, we implement the two-dimensional box filter as two passes of a one-dimensional box filter.\n",
    "**For 2 points**, implement `box_filter1d` using the accumulator strategy."
   ]
  },
  {
   "cell_type": "code",
   "execution_count": null,
   "metadata": {
    "deletable": false,
    "nbgrader": {
     "cell_type": "code",
     "checksum": "c30b98242ccfffc51efac6b47fbb7a5b",
     "grade": false,
     "grade_id": "cell-6ceb8525013be8ce",
     "locked": false,
     "schema_version": 3,
     "solution": true,
     "task": false
    }
   },
   "outputs": [],
   "source": [
    "def box_gauss_approximation(img, sigma, m=4):\n",
    "    output = img.copy()\n",
    "    widths = box_widths(sigma, m)\n",
    "    for width in widths:\n",
    "        output = box_filter2d(output, width=width)\n",
    "    return output\n",
    "\n",
    "\n",
    "def box_filter2d(image, width):\n",
    "    convolved = np.empty_like(image)\n",
    "\n",
    "    for i in range(image.shape[0]):\n",
    "        convolved[i] = box_filter1d(image[i], width)\n",
    "\n",
    "    for j in range(image.shape[1]):\n",
    "        convolved[:, j] = box_filter1d(convolved[:, j], width)\n",
    "\n",
    "    return convolved\n",
    "\n",
    "\n",
    "def box_filter1d(image, width):\n",
    "    padding = int(width // 2)\n",
    "    padded = np.pad(image, padding, mode='reflect')\n",
    "    convolved = np.zeros_like(image)\n",
    "    # YOUR CODE HERE\n",
    "    return convolved / width"
   ]
  },
  {
   "cell_type": "markdown",
   "metadata": {
    "deletable": false,
    "editable": false,
    "nbgrader": {
     "cell_type": "markdown",
     "checksum": "e4a9348fbcba7392c69af3357840fd90",
     "grade": false,
     "grade_id": "cell-d182206ba07d639f",
     "locked": true,
     "schema_version": 3,
     "solution": false,
     "task": false
    }
   },
   "source": [
    "The next cell has a sanity check on a small example."
   ]
  },
  {
   "cell_type": "code",
   "execution_count": null,
   "metadata": {
    "deletable": false,
    "editable": false,
    "nbgrader": {
     "cell_type": "code",
     "checksum": "a10a41ec24938f2798ffc760586f8b04",
     "grade": true,
     "grade_id": "cell-1bef1f267d600d02",
     "locked": true,
     "points": 1,
     "schema_version": 3,
     "solution": false,
     "task": false
    }
   },
   "outputs": [],
   "source": [
    "test_img = np.zeros((5, 5))\n",
    "test_img[0, 0] = 1\n",
    "test_img[2, 2] = 1\n",
    "test_img[4, 4] = 1\n",
    "\n",
    "comp = np.array([\n",
    "    [1/9, 1/9, 0, 0, 0],\n",
    "    [1/9, 2/9, 1/9, 1/9, 0],\n",
    "    [0, 1/9, 1/9, 1/9, 0],\n",
    "    [0, 1/9, 1/9, 2/9, 1/9],\n",
    "    [0, 0, 0, 1/9, 1/9]\n",
    "])\n",
    "\n",
    "convolved = box_filter2d(test_img, 3)\n",
    "\n",
    "if not np.allclose(convolved, comp): print('Your function does not pass the sanity check')\n"
   ]
  },
  {
   "cell_type": "markdown",
   "metadata": {
    "deletable": false,
    "editable": false,
    "nbgrader": {
     "cell_type": "markdown",
     "checksum": "3a753430dec68292df4792428f15fd98",
     "grade": false,
     "grade_id": "cell-b1e96a7dee854ca1",
     "locked": true,
     "schema_version": 3,
     "solution": false,
     "task": false
    }
   },
   "source": [
    "# Runtime comparison\n",
    "\n",
    "Finally, we compare the box filter approximation to the separable Gaussian filter.\n",
    "First, we compare the runtime of both methods depending on the standard deviation of the Gaussian.\n",
    "You can experiment with the values, but beware that large sigmas lead to long runtime!\n",
    "The cell below runs both smoothing methods for all the $\\sigma$ values defined in the cell above on the image `dendrochronology`, which has a size of $512 \\times 512$ pixels."
   ]
  },
  {
   "cell_type": "code",
   "execution_count": null,
   "metadata": {
    "deletable": false,
    "editable": false,
    "nbgrader": {
     "cell_type": "code",
     "checksum": "88eefdf576459e3310cde7396789d211",
     "grade": true,
     "grade_id": "cell-436e36c33c6e900a",
     "locked": true,
     "points": 1,
     "schema_version": 3,
     "solution": false,
     "task": false
    }
   },
   "outputs": [],
   "source": [
    "import time\n",
    "import imageio.v3 as imageio\n",
    "\n",
    "image = imageio.imread('images/dendrochronolgy.tif') / 255.\n",
    "\n",
    "\n",
    "sigmas = [0.1, 1, 2, 3, 4, 5, 8]\n",
    "errors, times_approx, times_exact = [np.empty((len(sigmas), )) for _ in range(3)]\n",
    "print('Running for s =', end=' ')\n",
    "for i, sigma in enumerate(sigmas):\n",
    "    print(f'{sigma:.1f},', end=' ')\n",
    "    \n",
    "    start = time.time()\n",
    "    approximated = box_gauss_approximation(image, sigma)\n",
    "    times_approx[i] = time.time() - start\n",
    "    \n",
    "    start = time.time()\n",
    "    exact = gaussian_filter(image, sigma)\n",
    "    times_exact[i] = time.time() - start\n",
    "\n",
    "print('\\nFinished running.')\n",
    "\n",
    "plt.close('all') \n",
    "fig, ax = plt.subplots(1, 2, figsize=(12, 4))\n",
    "ax[0].plot(sigmas, times_exact, marker='o')\n",
    "ax[0].plot(sigmas, times_approx, marker='s')\n",
    "ax[0].legend(['Separable Gaussian', 'Accumulation box filters'])\n",
    "ax[0].set_xlabel('$\\\\sigma$')\n",
    "ax[0].set_ylabel('Runtime [s]')\n",
    "ax[0].grid()\n",
    "ax[0].set_title('Runtime comparison')\n",
    "ax[1].plot(sigmas, times_exact / times_approx, marker='^')\n",
    "ax[1].set_xlabel('$\\\\sigma$');\n",
    "ax[1].grid()\n",
    "ax[1].set_title('Speedup')\n",
    "plt.show()"
   ]
  },
  {
   "cell_type": "markdown",
   "metadata": {
    "deletable": false,
    "editable": false,
    "nbgrader": {
     "cell_type": "markdown",
     "checksum": "6c02027ef2bc948d7903e6d7fbcf6970",
     "grade": false,
     "grade_id": "cell-5b58a2220a3f0c4e",
     "locked": true,
     "schema_version": 3,
     "solution": false,
     "task": false
    }
   },
   "source": [
    "We see that the runtime of the accumulation box filters is independent of $\\sigma$, whereas the runtime of the separable Gaussian increases linearly with $\\sigma$.\n",
    "For a non-separable Gaussian filter we would probably still be waiting for the results as the runtime is proportional to $\\sigma^2$, demonstrating the benefit of separable filters and the accumulation strategy.\n",
    "\n",
    "Finally, we compare the accuracy of our method to the Gaussian filter provided by SciPy."
   ]
  },
  {
   "cell_type": "code",
   "execution_count": null,
   "metadata": {
    "deletable": false,
    "editable": false,
    "nbgrader": {
     "cell_type": "code",
     "checksum": "48ae751552cf3b089be4b901cc82712b",
     "grade": false,
     "grade_id": "cell-4c06455f0c95f03b",
     "locked": true,
     "schema_version": 3,
     "solution": false,
     "task": false
    }
   },
   "outputs": [],
   "source": [
    "import scipy.ndimage as nd\n",
    "\n",
    "sigmas = [0.5, 1, 1.5, 2, 3, 4, 5, 6, 7, 8, 9, 10, 12, 14, 16, 18, 22, 26, 30]\n",
    "\n",
    "exact = np.empty((len(sigmas), *image.shape))\n",
    "approx = np.empty((len(sigmas), *image.shape))\n",
    "errors = np.empty((len(sigmas), ))\n",
    "print('Running for \\u03C3 =', end=' ')\n",
    "for i, sigma in enumerate(sigmas):\n",
    "    print(f\"{sigma:.1f},\", end=' ')\n",
    "    approx[i] = box_gauss_approximation(image, sigma)\n",
    "    exact[i] = nd.gaussian_filter(image, sigma, radius=int(np.ceil(3 * sigma)))\n",
    "    errors[i] = mse_db(exact[i], approx[i])\n",
    "\n",
    "\n",
    "print('\\nFinished running for all standard deviations.')\n",
    "\n",
    "# Display result\n",
    "plt.close('all')\n",
    "plt.figure('Average pixel error')\n",
    "plt.plot(sigmas, errors)\n",
    "plt.xlabel('$\\\\sigma$')\n",
    "plt.ylabel('Avg pixel error (%)')\n",
    "plt.title('Average error per pixel')\n",
    "plt.grid()\n",
    "plt.show()"
   ]
  },
  {
   "cell_type": "markdown",
   "metadata": {
    "deletable": false,
    "editable": false,
    "nbgrader": {
     "cell_type": "markdown",
     "checksum": "223b92d373b6797999dbc9d8b6eeb8dc",
     "grade": false,
     "grade_id": "cell-60240147405632a8",
     "locked": true,
     "schema_version": 3,
     "solution": false,
     "task": false
    }
   },
   "source": [
    "In accordance with the previous analysis, the approximation works well for large standard deviations, getting an MSE below $-50$dB, which is acceptable for most applications.\n",
    "\n",
    "Finally, run the cell below to visually compare the smoothed images."
   ]
  },
  {
   "cell_type": "code",
   "execution_count": null,
   "metadata": {},
   "outputs": [],
   "source": [
    "from interactive_kit import imviewer as viewer\n",
    "\n",
    "# Change the sigma index to see the result for different sigmas\n",
    "sigma_idx = 11\n",
    "# Give information to user\n",
    "print(f'Average pixel error for \\u03C3 = {sigmas[sigma_idx]}: {errors[sigma_idx]:.4}%')\n",
    "plt.close('all')\n",
    "img_list = [image, exact[sigma_idx], approx[sigma_idx]]\n",
    "title_list = ['Original Image', f'Gaussian smoothed $\\\\sigma$={sigmas[sigma_idx]}', f'box filter smoothed $\\\\sigma$={sigmas[sigma_idx]}']\n",
    "view = viewer(img_list, title=title_list, subplots=(1,3))"
   ]
  },
  {
   "cell_type": "markdown",
   "metadata": {
    "deletable": false,
    "editable": false,
    "nbgrader": {
     "cell_type": "markdown",
     "checksum": "645c708783f1433d5762b8773e3c61e0",
     "grade": false,
     "grade_id": "footer",
     "locked": true,
     "schema_version": 3,
     "solution": false,
     "task": false
    }
   },
   "source": [
    "\ud83c\udf89 Congratulations on finishing the first warm-up lab of IP2, reintroducing some of the basic tools we will use later.\n",
    "\n",
    "\n",
    "Make sure to save your notebook (you might want to keep a copy on your personal computer) and upload it to Moodle, **in a zip file with the other notebook of this lab.**\n",
    "\n",
    "* Keep the name of the notebook as: *1_orientation_warmup.ipynb*,\n",
    "* Name the `zip` file: *orientation_lab.zip*."
   ]
  }
 ],
 "metadata": {
  "kernelspec": {
   "display_name": "Python3",
   "language": "python",
   "name": "python3"
  },
  "language_info": {
   "codemirror_mode": {
    "name": "ipython",
    "version": 3
   },
   "file_extension": ".py",
   "mimetype": "text/x-python",
   "name": "python",
   "nbconvert_exporter": "python",
   "pygments_lexer": "ipython3",
   "version": "3.12.5"
  },
  "notify_time": "10"
 },
 "nbformat": 4,
 "nbformat_minor": 4
}