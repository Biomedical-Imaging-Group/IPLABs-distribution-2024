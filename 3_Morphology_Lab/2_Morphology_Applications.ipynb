{
 "cells": [
  {
   "cell_type": "markdown",
   "metadata": {
    "deletable": false,
    "editable": false,
    "nbgrader": {
     "checksum": "f5cfb1b34aac86a9c54d0ffbd886de2d",
     "grade": false,
     "grade_id": "header",
     "locked": true,
     "schema_version": 3,
     "solution": false,
     "task": false
    }
   },
   "source": [
    "<img src=\"https://www.epfl.ch/about/overview/wp-content/uploads/2020/07/logo-epfl-1024x576.png\" width=\"140px\" alt=\"EPFL_logo\">\n",
    "\n",
    "## Image Processing Laboratory Notebooks\n",
    "---\n",
    "\n",
    "This Jupyter Notebook is part of a series of computer laboratories that are designed\n",
    "to teach image-processing programming; they are running on the EPFL's Noto server. They are the practical complement of the theoretical lectures of the EPFL's Master course \n",
    "[**MICRO-511 Image Processing I**](https://moodle.epfl.ch/course/view.php?id=522) taught by Prof. M. Unser and Prof. D. Van de Ville.\n",
    "\n",
    "The project is funded by the Center for Digital Education and the School of Engineering. It is owned by the [Biomedical Imaging Group](http://bigwww.epfl.ch/). \n",
    "The distribution or reproduction of the notebook is strictly prohibited without the written consent of the authors.  &copy; EPFL 2024.\n",
    "\n",
    "**Authors**: \n",
    "    [Pol del Aguila Pla](mailto:pol.delaguilapla@epfl.ch), \n",
    "    [Kay Lächler](mailto:kay.lachler@epfl.ch),\n",
    "    [Alejandro Noguerón Arámburu](mailto:alejandro.nogueronaramburu@epfl.ch),\n",
    "    [Yan Liu](mailto:yan.liu@epfl.ch), and\n",
    "    [Daniel Sage](mailto:daniel.sage@epfl.ch).\n",
    "    \n",
    "---\n",
    "# Lab 3: Morphology\n",
    "**Released**: Thursday, December 12, 2024\n",
    "\n",
    "**Submission deadline**: Monday, December 23, 2024, before 23:59 on [Moodle](https://moodle.epfl.ch/course/view.php?id=522)\n",
    "\n",
    "**Grade weight**: Lab 3 (17 points), 10% of the overall grade"
   ]
  },
  {
   "cell_type": "markdown",
   "metadata": {},
   "source": [
    "### Student Name: \n",
    "### SCIPER: \n",
    "\n",
    "Double-click on this cell and fill your name and SCIPER number. Then, run the cell below to verify your identity in Noto and set the seed for random results."
   ]
  },
  {
   "cell_type": "code",
   "execution_count": null,
   "metadata": {
    "deletable": false,
    "editable": false,
    "nbgrader": {
     "checksum": "e4b18bea3c3a916e8dc0212aedf1c4f1",
     "grade": true,
     "grade_id": "cell-130e5abf5c999981",
     "locked": true,
     "points": 0,
     "schema_version": 3,
     "solution": false,
     "task": false
    }
   },
   "outputs": [],
   "source": [
    "import getpass\n",
    "# This line recovers your camipro number to mark the images with your ID\n",
    "uid = int(getpass.getuser().split('-')[2]) if len(getpass.getuser().split('-')) > 2 else ord(getpass.getuser()[0])\n",
    "print(f'SCIPER: {uid}')"
   ]
  },
  {
   "cell_type": "markdown",
   "metadata": {
    "deletable": false,
    "editable": false,
    "nbgrader": {
     "checksum": "e08d574fb2f636fb8bff6013125f9ed0",
     "grade": false,
     "grade_id": "cell-ec554584890a6dec",
     "locked": true,
     "schema_version": 3,
     "solution": false,
     "task": false
    }
   },
   "source": [
    "## Imports\n",
    "In this first cell, we import the required Python libraries:\n",
    "* [`matplotlib.pyplot`](https://matplotlib.org), to display images\n",
    "* [`ipywidgets`](https://ipywidgets.readthedocs.io/en/latest/), to make the image display interactive\n",
    "* [`numpy`](https://numpy.org/doc/stable/reference/index.html), for mathematical operations on arrays\n",
    "* [`cv2`](https://docs.opencv.org/master/), for image processing in Python\n",
    "\n",
    "We will then load the `ImageViewer` class. For more information on it, you can either see the complete documentation [here](https://github.com/Biomedical-Imaging-Group/interactive-kit/wiki/Image-Viewer), run the Python command `help(viewer)` after loading the class, or refer to [Lab 0: Introduction](../0_Introductory_lab/Introductory.ipynb)).\n",
    "\n",
    "Finally, we load the images you will use in the exercise to test your algorithms."
   ]
  },
  {
   "cell_type": "code",
   "execution_count": null,
   "metadata": {
    "deletable": false,
    "editable": false,
    "nbgrader": {
     "checksum": "c9697d01a1f87c95fa6ecfa21ac928d7",
     "grade": false,
     "grade_id": "cell-86c9a200318ee724",
     "locked": true,
     "schema_version": 3,
     "solution": false,
     "task": false
    }
   },
   "outputs": [],
   "source": [
    "# Configure plotting as dynamic\n",
    "%matplotlib widget\n",
    "\n",
    "# Import standard required packages for this exercise\n",
    "import matplotlib.pyplot as plt\n",
    "import ipywidgets as widgets\n",
    "import numpy as np\n",
    "import cv2 as cv\n",
    "\n",
    "from interactive_kit import imviewer as viewer\n",
    "\n",
    "# Load images to be used in this lab \n",
    "test_contact = cv.imread('images/test-contact.tif', cv.IMREAD_UNCHANGED)\n",
    "test_scratch = cv.imread('images/test-scratch.tif', cv.IMREAD_UNCHANGED)\n",
    "test_img = cv.imread('images/test-skeleton.tif', cv.IMREAD_UNCHANGED)\n",
    "hands = cv.imread('images/hands.tif', cv.IMREAD_UNCHANGED)\n",
    "b_letter = cv.imread('images/b-letter.tif', cv.IMREAD_UNCHANGED)"
   ]
  },
  {
   "cell_type": "markdown",
   "metadata": {
    "deletable": false,
    "editable": false,
    "nbgrader": {
     "checksum": "c71c2677475f95989d27c38d50f9bcd5",
     "grade": false,
     "grade_id": "cell-0e902253d4c30d16",
     "locked": true,
     "schema_version": 3,
     "solution": false,
     "task": false
    }
   },
   "source": [
    "Now run the next cell to re-declare the function `disc` that creates a circular structuring element."
   ]
  },
  {
   "cell_type": "code",
   "execution_count": null,
   "metadata": {
    "deletable": false,
    "editable": false,
    "nbgrader": {
     "checksum": "5b0667a3d8b360b0b5fd304572ca7939",
     "grade": false,
     "grade_id": "cell-cce42b0c3102122c",
     "locked": true,
     "schema_version": 3,
     "solution": false,
     "task": false
    }
   },
   "outputs": [],
   "source": [
    "# Function that generates a disc structuring element in python\n",
    "def disc(n):\n",
    "    # Define the function of a circle as a lambda function\n",
    "    circle_func = lambda i, j: ((i - n//2)**2 + (j - n//2)**2) <= (n//2)**2\n",
    "    # Set all elements of the array that are inside the circle of diameter n to 1 - np.uint8 to match the type used by OpenCV for structuring elements\n",
    "    output = np.fromfunction(circle_func, shape=(n,n)).astype(np.uint8)\n",
    "    # Return the structuring element\n",
    "    return output"
   ]
  },
  {
   "cell_type": "markdown",
   "metadata": {
    "deletable": false,
    "editable": false,
    "nbgrader": {
     "checksum": "66ca32d57d98f2fa0dfa3bc0dc7310bb",
     "grade": false,
     "grade_id": "cell-07b0b5fc205b9f1a",
     "locked": true,
     "schema_version": 3,
     "solution": false,
     "task": false
    }
   },
   "source": [
    "# Morphology Applications (5 points)\n",
    "\n",
    "# 1. Direct applications (2 points)\n",
    "\n",
    "Now let's look at some applications of morphological filters.\n",
    "\n",
    "Try to solve the following problems as best you can. Use **only one** of the morphological filters presented in [the first part of the lab](./1_Morphology_Implementations.ipynb#3.-Morphological-filters-(9-points)), followed by a threshold operation. Make sure to select an appropriate threshold value to get a binary image ($x \\in \\{0, 255\\}$).\n",
    "\n",
    "⚠️ **Note:**\n",
    "- **A threshold operation on `img`, given a threshold `thresh`, can be performed using [`np.where`](https://numpy.org/doc/stable/reference/generated/numpy.where.html) like this: `img_binary = np.where(img > thresh, 255, 0).astype(np.uint8)`.**\n",
    "- **This is a Python-only notebook, and the functions you defined before are not declared here, so you'll need to use the OpenCV operators.**\n",
    "- **Using ***only one*** morphological operator means that if you want to do an opening, for example, use the `cv.morphologyEx` function with the correct parameters instead of performing the opening manually using `cv.erode` and `cv.dilate`.**\n",
    "\n",
    "## 1.A. Disconnecting round objects\n",
    "\n",
    "In the image `test_contact`, **for 1 point**, disconnect the roundish white objects while keeping at least 1 white pixel per roundish object. You should get **exactly** 61 round objects.\n",
    "\n",
    "| <img alt=\"test-contact showcase\" src=\"images/test-contact_showcase.png\" width=\"500\"> |\n",
    "|:--:| \n",
    "| *Using only one morphological operation, you can separate all the roundish objects, as shown in the two images above.* |\n",
    "\n",
    "Run the next cell to visualize the image you will be working on within this exercise. Then insert your code into the function `disconnect`.\n",
    "\n",
    "💡 *Hint: In this exercise, you don't need to explicitly threshold anything because the original image is already binary. Remember to try the different parameters of a morphological operation! For example, you can change the operator, the size, and the type of a structural element.*"
   ]
  },
  {
   "cell_type": "code",
   "execution_count": null,
   "metadata": {
    "deletable": false,
    "editable": false,
    "nbgrader": {
     "checksum": "706ea08815809b9dbee13c3735454711",
     "grade": false,
     "grade_id": "cell-18b572552885969b",
     "locked": true,
     "schema_version": 3,
     "solution": false,
     "task": false
    }
   },
   "outputs": [],
   "source": [
    "img_vis = viewer(test_contact)"
   ]
  },
  {
   "cell_type": "code",
   "execution_count": null,
   "metadata": {
    "deletable": false,
    "nbgrader": {
     "checksum": "4c049ed97b8b1b1f74395ee1a20499a3",
     "grade": false,
     "grade_id": "cell-434a223c8d67c6c1",
     "locked": false,
     "schema_version": 3,
     "solution": true,
     "task": false
    }
   },
   "outputs": [],
   "source": [
    "# Function that performs a single morphological filter with some structuring element of size n\n",
    "def disconnect(img, n):\n",
    "    # Initialize output\n",
    "    output = np.zeros(img.shape)\n",
    "    \n",
    "    # YOUR CODE HERE\n",
    "\n",
    "    return output"
   ]
  },
  {
   "cell_type": "markdown",
   "metadata": {
    "deletable": false,
    "editable": false,
    "nbgrader": {
     "checksum": "349e85bf1074436e284f5b4142f263c1",
     "grade": false,
     "grade_id": "cell-e3b020c935a3c02d",
     "locked": true,
     "schema_version": 3,
     "solution": false,
     "task": false
    }
   },
   "source": [
    "Run the next cell to check that the result only consists of binary values **(object = 255, background = 0)** using [`np.unique()`](https://numpy.org/doc/stable/reference/generated/numpy.unique.html)."
   ]
  },
  {
   "cell_type": "code",
   "execution_count": null,
   "metadata": {
    "deletable": false,
    "editable": false,
    "nbgrader": {
     "checksum": "0ab63b2ca0219dcd2e17bb15de8c6055",
     "grade": true,
     "grade_id": "cell-ddbc2a5f0227f32e",
     "locked": true,
     "points": 0.5,
     "schema_version": 3,
     "solution": false,
     "task": false
    }
   },
   "outputs": [],
   "source": [
    "# Check that the output is binary\n",
    "check_bin = disconnect(test_contact, 25)\n",
    "if not np.all(np.unique(check_bin)==[0,255]):\n",
    "    print('WARNING!\\nThe output is not binary with values {0, 255}.')\n",
    "else:\n",
    "    print(\"Good, the output is binary with values {0,255}.\")"
   ]
  },
  {
   "cell_type": "markdown",
   "metadata": {
    "deletable": false,
    "editable": false,
    "nbgrader": {
     "checksum": "0a48188a726b345dc40bad33bf2da42e",
     "grade": false,
     "grade_id": "cell-0ba8afaed462cb8a",
     "locked": true,
     "schema_version": 3,
     "solution": false,
     "task": false
    }
   },
   "source": [
    "To make it easy for you to find the right size of the structuring element, we will add an interactive slider to the image display using the `ImageViewer` class. Run the next cell to use the interactive widget.\n",
    "\n",
    "To use the slider, click the button `Extra Widgets`. Then you can adjust the size of the structuring element with the slider and click the button `Disconnect` to apply the `disconnect()` function with the currently selected size on the original image."
   ]
  },
  {
   "cell_type": "code",
   "execution_count": null,
   "metadata": {
    "deletable": false,
    "editable": false,
    "nbgrader": {
     "checksum": "4d769eaa4ac992a8eb2794f72a9d4274",
     "grade": false,
     "grade_id": "cell-6887864531849b6e",
     "locked": true,
     "schema_version": 3,
     "solution": false,
     "task": false
    }
   },
   "outputs": [],
   "source": [
    "# Instantiate the size slider\n",
    "size_slider = widgets.IntSlider(value=25, min=0, max=50, step=1, description='n')\n",
    "# Instantiate the diconnect button\n",
    "button = widgets.Button(description='Disconnect')\n",
    "\n",
    "# Define the callback function of the button\n",
    "def button_callback(image):\n",
    "    # run the disconnect function on the image with the size indicated by the slider\n",
    "    output = disconnect(image, n=size_slider.value)\n",
    "    return output\n",
    "\n",
    "# Display the image with the extra slider functionality\n",
    "plt.close('all')\n",
    "test_contact_display = viewer(test_contact, title=\"Disconnect test_contact\", new_widgets=[size_slider, button], callbacks=[button_callback], widgets=True)"
   ]
  },
  {
   "cell_type": "markdown",
   "metadata": {
    "deletable": false,
    "editable": false,
    "nbgrader": {
     "checksum": "8d1824acc6e628f2524bff16c83fa930",
     "grade": false,
     "grade_id": "cell-6e331b3560be3baa",
     "locked": true,
     "schema_version": 3,
     "solution": false,
     "task": false
    }
   },
   "source": [
    "In the following cell, assign `n` with the size of the structuring element you think works best for this task. This number may be different depending on the structuring element you used in the `disconnect()` function."
   ]
  },
  {
   "cell_type": "code",
   "execution_count": null,
   "metadata": {
    "deletable": false,
    "nbgrader": {
     "checksum": "79211eb61075bb4144f7b242d6ebbfc5",
     "grade": false,
     "grade_id": "cell-acd8240d60d4cbc1",
     "locked": false,
     "schema_version": 3,
     "solution": true,
     "task": false
    }
   },
   "outputs": [],
   "source": [
    "# Assign the size of the structuring element\n",
    "n = None\n",
    "# YOUR CODE HERE"
   ]
  },
  {
   "cell_type": "code",
   "execution_count": null,
   "metadata": {
    "deletable": false,
    "editable": false,
    "nbgrader": {
     "checksum": "79cc8704a442bf756b44282228a9e0bd",
     "grade": true,
     "grade_id": "cell-0f994de3d2a89c40",
     "locked": true,
     "points": 0.5,
     "schema_version": 3,
     "solution": false,
     "task": false
    }
   },
   "outputs": [],
   "source": [
    "# Perform a sanity check on n\n",
    "if not 0 < n < 50: \n",
    "    print('WARNING!\\nThe chosen size doesn\\'t really make sense.')"
   ]
  },
  {
   "cell_type": "markdown",
   "metadata": {
    "deletable": false,
    "editable": false,
    "nbgrader": {
     "checksum": "7540fb8b33026b35d636098744ebb210",
     "grade": false,
     "grade_id": "cell-b5705210e16ad0b2",
     "locked": true,
     "schema_version": 3,
     "solution": false,
     "task": false
    }
   },
   "source": [
    "## 1.B. Detecting horizontal lines\n",
    "\n",
    "In the image `test_scratch`, **for 1 point**, detect the horizontal white lines of thickness of 1 or more pixels.\n",
    "\n",
    "| <img alt=\"test-scratch showcase\" src=\"images/test-scratch_showcase.png\" width=\"500\"> |\n",
    "|:--:| \n",
    "| *Using only one morphological operation followed by a binarization, you should be able to extract the image on the right from the one on the left.* |\n",
    "\n",
    "Run the next cell to visualize the image you will be working on within this exercise.\n",
    "\n",
    "Insert your code into the function `detect_hlines(img, n, threshold)`. **Don't code the definition of the morphological operator if it already exists in the library.**"
   ]
  },
  {
   "cell_type": "code",
   "execution_count": null,
   "metadata": {
    "deletable": false,
    "editable": false,
    "nbgrader": {
     "checksum": "a0b72a249374c16b4a4cba72f25ca1be",
     "grade": false,
     "grade_id": "cell-c8036f2b4299fb19",
     "locked": true,
     "schema_version": 3,
     "solution": false,
     "task": false
    }
   },
   "outputs": [],
   "source": [
    "plt.close('all')\n",
    "img_vis = viewer(test_scratch)"
   ]
  },
  {
   "cell_type": "code",
   "execution_count": null,
   "metadata": {
    "deletable": false,
    "nbgrader": {
     "checksum": "76b99ef40cca8c7b0419b14580592c03",
     "grade": false,
     "grade_id": "cell-0a90d218165528b4",
     "locked": false,
     "schema_version": 3,
     "solution": true,
     "task": false
    }
   },
   "outputs": [],
   "source": [
    "# Function that performs a single morphological filter with some structuring element of size n followed by thresholding\n",
    "def detect_hlines(img, n, threshold):\n",
    "    # Initialize output\n",
    "    output = np.zeros(img.shape)\n",
    "    \n",
    "    # YOUR CODE HERE\n",
    "\n",
    "    return output"
   ]
  },
  {
   "cell_type": "markdown",
   "metadata": {
    "deletable": false,
    "editable": false,
    "nbgrader": {
     "checksum": "a1158f3d3f027b414e2d2b0ce43b737d",
     "grade": false,
     "grade_id": "cell-2727f18b876a1998",
     "locked": true,
     "schema_version": 3,
     "solution": false,
     "task": false
    }
   },
   "source": [
    "Run the next cell to check that the result only consists of binary values **(object = 255, background = 0)** using [`np.unique()`](https://numpy.org/doc/stable/reference/generated/numpy.unique.html)."
   ]
  },
  {
   "cell_type": "code",
   "execution_count": null,
   "metadata": {},
   "outputs": [],
   "source": [
    "# You can enter any values that work for you for the size and threshold\n",
    "n = 25\n",
    "threshold = 125\n",
    "\n",
    "# Check if the image consists of only one value\n",
    "assert len(np.unique(detect_hlines(test_scratch, n, threshold))) != 1, \\\n",
    "       f\"Your image consists of one value: {np.unique(detect_hlines(test_scratch, n, threshold))}. \\\n",
    "       Try changing the values for n and threshold. If this issue persists, you probably made a mistake in your code\"\n",
    "\n",
    "# Check if the image is binary\n",
    "assert len(np.unique(detect_hlines(test_scratch, n, threshold))) == 2, \\\n",
    "       f\"Your image is not binary, it still consists of {len(np.unique(detect_hlines(test_scratch, n, threshold)))} different values. \\\n",
    "       Check your thresholding operation.\"\n",
    "    \n",
    "# Check that the lower binary value is 0\n",
    "assert np.unique(detect_hlines(test_scratch, n, threshold))[0] == 0, \\\n",
    "       f\"The lower binary value should be 0, not {np.unique(detect_hlines(test_scratch, n, threshold))[0]}.\"\n",
    "\n",
    "# Check that the upper binary value is 255\n",
    "assert np.unique(detect_hlines(test_scratch, n, threshold))[1] == 255, \\\n",
    "       f\"The upper binary value should be 255, not {np.unique(detect_hlines(test_scratch, n, threshold))[1]}.\"\n",
    "\n",
    "# Print victory message\n",
    "print(f'Well done! Your output image consists of only two values: {{{np.unique(detect_hlines(test_scratch, n, threshold))[0]},{np.unique(detect_hlines(test_scratch, n, threshold))[1]}}}')"
   ]
  },
  {
   "cell_type": "markdown",
   "metadata": {
    "deletable": false,
    "editable": false,
    "nbgrader": {
     "checksum": "f64f1bad2adc49a3263fe9b2c9658248",
     "grade": false,
     "grade_id": "cell-682c04f28ddd857d",
     "locked": true,
     "schema_version": 3,
     "solution": false,
     "task": false
    }
   },
   "source": [
    "Again, we will make it easier for you to select the appropriate size and threshold values by adding an extra widget to the image display. Run the next cell to use the interactive widget."
   ]
  },
  {
   "cell_type": "code",
   "execution_count": null,
   "metadata": {
    "deletable": false,
    "editable": false,
    "nbgrader": {
     "checksum": "ab72710677e0c08beae31da46599de27",
     "grade": true,
     "grade_id": "cell-a2402007478152d3",
     "locked": true,
     "points": 0.5,
     "schema_version": 3,
     "solution": false,
     "task": false
    }
   },
   "outputs": [],
   "source": [
    "# Instantiate the size slider\n",
    "size_slider = widgets.IntSlider(value=25, min=0, max=50, step=1, description='n')\n",
    "# Instantiate the threshold slider\n",
    "thresh_slider = widgets.IntSlider(value=125, min=0, max=255, step=1, description='threshold')\n",
    "# Instantiate the diconnect button\n",
    "button = widgets.Button(description='Detect H-lines')\n",
    "\n",
    "# Define the callback function of the button\n",
    "def button_callback(image):\n",
    "    # Run the disconnect function on the image with the size indicated by the slider\n",
    "    output = detect_hlines(image, n=size_slider.value, threshold=thresh_slider.value)\n",
    "    return output\n",
    "\n",
    "# Display the image with the extra slider functionality\n",
    "plt.close('all')\n",
    "test_scratch_display = viewer(test_scratch, title=\"Detect horizontal lines\", new_widgets=[size_slider, thresh_slider, button], \n",
    "                              callbacks=[button_callback], widgets=True)"
   ]
  },
  {
   "cell_type": "markdown",
   "metadata": {
    "deletable": false,
    "editable": false,
    "nbgrader": {
     "checksum": "cfb40165e1a8c58240437b2960fdf3f4",
     "grade": false,
     "grade_id": "cell-fcf4a396aa5202dc",
     "locked": true,
     "schema_version": 3,
     "solution": false,
     "task": false
    }
   },
   "source": [
    "In the following cell, assign `n` with the size of the structuring element and `threshold` with the threshold you think works best for this task."
   ]
  },
  {
   "cell_type": "code",
   "execution_count": null,
   "metadata": {
    "deletable": false,
    "nbgrader": {
     "checksum": "0661ecdca4bbe90aa638b9839a7897a1",
     "grade": false,
     "grade_id": "cell-5dccd90aa3edb18f",
     "locked": false,
     "schema_version": 3,
     "solution": true,
     "task": false
    }
   },
   "outputs": [],
   "source": [
    "# Assign your values here\n",
    "n = None\n",
    "threshold = None\n",
    "\n",
    "# YOUR CODE HERE"
   ]
  },
  {
   "cell_type": "code",
   "execution_count": null,
   "metadata": {
    "deletable": false,
    "editable": false,
    "nbgrader": {
     "checksum": "ce7b4de46f5d1f7a9d60f5d589fc73a6",
     "grade": true,
     "grade_id": "cell-422958427de9dd46",
     "locked": true,
     "points": 0.25,
     "schema_version": 3,
     "solution": false,
     "task": false
    }
   },
   "outputs": [],
   "source": [
    "# Perform a sanity check on n\n",
    "if not 0 < n < 50: \n",
    "    print('The chosen size doesn\\'t really make sense.')"
   ]
  },
  {
   "cell_type": "code",
   "execution_count": null,
   "metadata": {
    "deletable": false,
    "editable": false,
    "nbgrader": {
     "checksum": "d87ad2d180933a974aa300a9a1074423",
     "grade": true,
     "grade_id": "cell-2f264d5dbbd6d53a",
     "locked": true,
     "points": 0.25,
     "schema_version": 3,
     "solution": false,
     "task": false
    }
   },
   "outputs": [],
   "source": [
    "# Perform a sanity check on threshold\n",
    "if not 0 < threshold < 255: \n",
    "    print('The chosen threshold does not really make sense.')"
   ]
  },
  {
   "cell_type": "markdown",
   "metadata": {
    "deletable": false,
    "editable": false,
    "nbgrader": {
     "checksum": "737704eacc245d7be27b9a47c6c0769a",
     "grade": false,
     "grade_id": "cell-fff9aed466f227d0",
     "locked": true,
     "schema_version": 3,
     "solution": false,
     "task": false
    }
   },
   "source": [
    "# 2. Combining morphological filters (1 point)\n",
    "\n",
    "**For 1 point**, using **one or several** of the morphological filters followed by a threshold operation, detect **the 23 round white objects of diameter $20 \\pm 4$ pixels (the smaller round objects)** in the image `test_scratch`. Try to preserve their original shapes. Select an appropriate threshold value to get a binary image.\n",
    "\n",
    "| <img alt=\"test-scratch round showcase\" src=\"images/test-scratch_round_showcase.png\" width=\"500\"> |\n",
    "|:--:| \n",
    "| *Using 3 morphological operations, you can get the image on the right from the image on the left.* |\n",
    "\n",
    "Insert your code into the function `detect_round(img)`.\n",
    "\n",
    "💡 *Hints: Because you can use as many operators as you like with different structuring elements of multiple sizes, it would be too complicated to generate interactive sliders for all of them. That means you need to hard-code the sizes of the structuring elements and the threshold value directly into the code and change them by hand to find the combination that works for you. Design your workflow thinking in terms of simple tasks! For example, what kind of features do you want to keep or get rid of? The effect of each of the operators can be summarized in an effect, e.g. getting rid of big objects.*"
   ]
  },
  {
   "cell_type": "code",
   "execution_count": null,
   "metadata": {
    "deletable": false,
    "nbgrader": {
     "checksum": "b48178bf53080959b5aa30c9a5cccd9e",
     "grade": false,
     "grade_id": "cell-5f30d1fb2b5d7cbf",
     "locked": false,
     "schema_version": 3,
     "solution": true,
     "task": false
    }
   },
   "outputs": [],
   "source": [
    "# Function that detects roundish white objects of diamater 20 +/- 4 pixels\n",
    "def detect_round(img):\n",
    "    # Initialize the output image\n",
    "    output = np.zeros(img.shape)\n",
    "    \n",
    "    # YOUR CODE HERE\n",
    "    \n",
    "    return output\n",
    "\n",
    "# Run the function on the image test_scratch\n",
    "test_scratch_modified = detect_round(test_scratch)\n",
    "\n",
    "# Display the images\n",
    "plt.close('all')\n",
    "images = [test_scratch, test_scratch_modified]\n",
    "titles = ['Original', 'Round objects detected']\n",
    "\n",
    "test_round_viewer = viewer(images, title=titles, subplots=(1,2))"
   ]
  },
  {
   "cell_type": "markdown",
   "metadata": {
    "deletable": false,
    "editable": false,
    "nbgrader": {
     "checksum": "898594dbf2388b035cd260c208775448",
     "grade": false,
     "grade_id": "cell-e14d10112dfbce9a",
     "locked": true,
     "schema_version": 3,
     "solution": false,
     "task": false
    }
   },
   "source": [
    "Run the next few cells to test if the output has the required properties (background = 0, foreground = 255)."
   ]
  },
  {
   "cell_type": "code",
   "execution_count": null,
   "metadata": {
    "deletable": false,
    "editable": false,
    "nbgrader": {
     "checksum": "e7e74bdab53de8611f89d1fcf38a9c9c",
     "grade": true,
     "grade_id": "cell-9d1ea205b6de37e4",
     "locked": true,
     "points": 0.3,
     "schema_version": 3,
     "solution": false,
     "task": false
    }
   },
   "outputs": [],
   "source": [
    "# Check if the image consists of only one value\n",
    "if len(np.unique(detect_round(test_scratch))) == 1:\n",
    "       print(f\"WARNING!\\nYour image consists of one value: {np.unique(detect_round(test_scratch))}. You probably made a mistake in your code.\\n\")\n",
    "# Check if the image is binary\n",
    "if len(np.unique(detect_round(test_scratch))) != 2:\n",
    "       print(f\"WARNING!\\nYour image is not binary, it still consists of {len(np.unique(detect_round(test_scratch)))} different values. Check your thresholding operation.\")\n",
    "else:\n",
    "    print(f'Good, the image is binary.')"
   ]
  },
  {
   "cell_type": "code",
   "execution_count": null,
   "metadata": {
    "deletable": false,
    "editable": false,
    "nbgrader": {
     "checksum": "486734b2f4c67a07694ab4fbba9d4446",
     "grade": true,
     "grade_id": "cell-6cced6faec74c07d",
     "locked": true,
     "points": 0.4,
     "schema_version": 3,
     "solution": false,
     "task": false
    }
   },
   "outputs": [],
   "source": [
    "# Check that the lower binary value is 0\n",
    "if np.unique(detect_round(test_scratch))[0] != 0: \n",
    "    print(f\"The lower binary value should be 0, not {np.unique(detect_round(test_scratch))[0]}.\")\n",
    "else:\n",
    "    print(f'The lower binary value is correct.')"
   ]
  },
  {
   "cell_type": "code",
   "execution_count": null,
   "metadata": {
    "deletable": false,
    "editable": false,
    "nbgrader": {
     "checksum": "baa541753775e4fd85a94d287dd83aef",
     "grade": true,
     "grade_id": "cell-f90fd07fc6c11cb4",
     "locked": true,
     "points": 0.3,
     "schema_version": 3,
     "solution": false,
     "task": false
    }
   },
   "outputs": [],
   "source": [
    "# Check that the upper binary value is 255\n",
    "if np.unique(detect_round(test_scratch))[1] != 255: \n",
    "    print(f\"The upper binary value should be 255, not {np.unique(detect_round(test_scratch))[1]}.\")\n",
    "else:\n",
    "    # Print victory message\n",
    "    print(f'The upper binary value is correct.')"
   ]
  },
  {
   "cell_type": "markdown",
   "metadata": {
    "deletable": false,
    "editable": false,
    "nbgrader": {
     "checksum": "6bef29cdbfea45723b568542d4cf3044",
     "grade": false,
     "grade_id": "cell-36cd34d11a5e9c1c",
     "locked": true,
     "schema_version": 3,
     "solution": false,
     "task": false
    }
   },
   "source": [
    "# 3. Lantuéjoul's skeleton (2 points)\n",
    "\n",
    "In this part, we're going to implement a 2D skeletonizing algorithm. This process is commonly used in handwritten text recognition, fingerprint validation, and [raster-to-vector](https://en.wikipedia.org/wiki/Image_tracing) conversion. \n",
    "\n",
    "## 3.A. Classic Lantuéjoul's algorithm\n",
    "\n",
    "Lantuéjoul's algorithm is an iterative erosion procedure that gives an approximation of the skeleton of an object. The input is a binary image (object = 255, background = 0). The output is also a binary image (skeleton = 255, background = 0).\n",
    "\n",
    "\n",
    "| <img alt=\"skeletonize showcase\" src=\"images/skeletonize_showcase.png\" width=\"600\"> |\n",
    "|:--:| \n",
    "| *Lantuéjoul's algorithm: original image (left), simple Lantuéjoul's algorithm (center) and Lantuéjoul's algorithm with pruning (right).* |\n",
    "\n",
    "The algorithm makes $N$ successive erosions $e_n$ of the image until the objects are **completely eroded** (stopping condition), using a **$3\\times 3$ cross** as a structuring element. As a consequence, the number $N$ of iterations is variable and depends on the size of the objects to erode. In Python, this can be implemented using a while loop.\n",
    "The skeleton is the union of $N$ partial skeletons $s_n$:\n",
    "\n",
    "$$\\mathrm{skel} =\\bigcup_{n \\in \\lbrace1,2,\\dots,N\\rbrace} s_{n} = \\bigcup_{n \\in \\lbrace1,2,\\dots,N\\rbrace}[ e_n - (e_n \\circ b) ]\\,.$$\n",
    "\n",
    "Each partial skeleton $s_n$ is obtained by performing a Top-hat operation on an eroded image $e_n$ using a **$3 \\times 3$ square** structuring element $b$.\n",
    "\n",
    "### 3.A.a. Implementing skeletonize\n",
    "\n",
    "**For 1 point**, complete the function `skeletonize` that returns the skeleton and that writes $n$ in the console (use `print(n)`, do not return $n$). Test your code on the image `test_skeleton`.\n",
    "\n",
    "💡 *Hint:*\n",
    "- *You can use [`np.count_nonzero(img)`](https://numpy.org/doc/stable/reference/generated/numpy.count_nonzero.html) to get the number of non-zero pixels in `img`.*\n",
    "- *The correct way to add up two binary images (to get the union above) is to use [`cv.bitwise_or(img_1, img_2)`](https://docs.opencv.org/2.4/modules/core/doc/operations_on_arrays.html#bitwise-or).*\n",
    "\n",
    "⚠️ **Note: If you don't set the correct stopping condition in the while loop, it can run forever and block the execution of all other code. The cell should generate its output in a few seconds, otherwise you likely created an infinite loop. If this happens you can click on `Kernel` in the toolbar on top and select `Interrupt` to stop the infinite loop. After that, you can adjust your code and rerun the cell.**"
   ]
  },
  {
   "cell_type": "code",
   "execution_count": null,
   "metadata": {
    "deletable": false,
    "nbgrader": {
     "checksum": "4559c54c02325bbba5c003b09f8a2cb6",
     "grade": false,
     "grade_id": "cell-6d0d6f86725d0f79",
     "locked": false,
     "schema_version": 3,
     "solution": true,
     "task": false
    }
   },
   "outputs": [],
   "source": [
    "# Function that takes as input a binary image and returns its skeleton\n",
    "def skeletonize(img):\n",
    "    # Defining the output image (an array of zeros with the same shape as the input image of type 'uint8')\n",
    "    output = np.zeros(img.shape, np.uint8)\n",
    "    \n",
    "    # YOUR CODE HERE\n",
    "    \n",
    "    return output\n",
    "    \n",
    "# Run the function on the test image\n",
    "test_skeleton = skeletonize(test_img)\n",
    "    \n",
    "# Define the lists of images and names\n",
    "images = [test_img, test_skeleton]\n",
    "titles = ['Original', 'Skeleton']\n",
    "\n",
    "# Display the images\n",
    "plt.close('all')\n",
    "skeletonize_viewer = viewer(images, title = titles, subplots=(1,2))"
   ]
  },
  {
   "cell_type": "markdown",
   "metadata": {
    "deletable": false,
    "editable": false,
    "nbgrader": {
     "checksum": "bdef4666bd778ee986b2cd22de50b0c7",
     "grade": false,
     "grade_id": "cell-28f62b028938ac1d",
     "locked": true,
     "schema_version": 3,
     "solution": false,
     "task": false
    }
   },
   "source": [
    "Run the cell below to verify that the output of your function is binary."
   ]
  },
  {
   "cell_type": "code",
   "execution_count": null,
   "metadata": {
    "deletable": false,
    "editable": false,
    "nbgrader": {
     "checksum": "1d706125583b123f3b25b6fb4bde222e",
     "grade": true,
     "grade_id": "cell-e9bb165d95c6d36c",
     "locked": true,
     "points": 0.8,
     "schema_version": 3,
     "solution": false,
     "task": false
    }
   },
   "outputs": [],
   "source": [
    "# Check that the output is binary\n",
    "if (len(np.unique(test_skeleton)) != 2 or \n",
    "    np.max(np.unique(test_skeleton)) != 255 or \n",
    "    np.min(np.unique(test_skeleton)) != 0): \n",
    "    print('WARNING!\\nThe output is not binary with values {0, 255}.')\n",
    "else:\n",
    "    print('Good, the output is binary.')"
   ]
  },
  {
   "cell_type": "markdown",
   "metadata": {
    "deletable": false,
    "editable": false,
    "nbgrader": {
     "checksum": "2e4c098468c773ae7e1f343f7b40d94c",
     "grade": false,
     "grade_id": "cell-612b061031df97e0",
     "locked": true,
     "schema_version": 3,
     "solution": false,
     "task": false
    }
   },
   "source": [
    "### 3.A.b. Testing skeletonize\n",
    "\n",
    "Apply your `skeletonize()` function on the `hands` image and display the result using the `viewer`."
   ]
  },
  {
   "cell_type": "code",
   "execution_count": null,
   "metadata": {
    "deletable": false,
    "nbgrader": {
     "checksum": "6570a57e65bb9ef7fd641a224f91ca63",
     "grade": false,
     "grade_id": "cell-aeb87fc307044b89",
     "locked": false,
     "schema_version": 3,
     "solution": true,
     "task": false
    }
   },
   "outputs": [],
   "source": [
    "# YOUR CODE HERE"
   ]
  },
  {
   "cell_type": "markdown",
   "metadata": {
    "deletable": false,
    "editable": false,
    "nbgrader": {
     "checksum": "efa31bd0931585d40304de6e882104c4",
     "grade": false,
     "grade_id": "cell-8275a5738b636d9f",
     "locked": true,
     "schema_version": 3,
     "solution": false,
     "task": false
    }
   },
   "source": [
    "In the next cell, assign to the variable `N` the number of erosions it took to generate the skeleton of the `hands` image."
   ]
  },
  {
   "cell_type": "code",
   "execution_count": null,
   "metadata": {
    "deletable": false,
    "nbgrader": {
     "checksum": "351d855ba64aaea755ded7986a8761df",
     "grade": false,
     "grade_id": "cell-3a06229cd80ff86c",
     "locked": false,
     "schema_version": 3,
     "solution": true,
     "task": false
    }
   },
   "outputs": [],
   "source": [
    "# Number of erosions to skeletonize the image\n",
    "N = None\n",
    "# YOUR CODE HERE"
   ]
  },
  {
   "cell_type": "code",
   "execution_count": null,
   "metadata": {
    "deletable": false,
    "editable": false,
    "nbgrader": {
     "checksum": "57ad40ff0c75a3a1f5c1296257aa6e01",
     "grade": true,
     "grade_id": "cell-f5d016db35613c63",
     "locked": true,
     "points": 0.2,
     "schema_version": 3,
     "solution": false,
     "task": false
    }
   },
   "outputs": [],
   "source": [
    "# Perform sanity check on n\n",
    "if not 0 < N < 200: \n",
    "    print('WARNING!\\nThe selected number of erosions is not really reasonable.')"
   ]
  },
  {
   "cell_type": "markdown",
   "metadata": {
    "deletable": false,
    "editable": false,
    "nbgrader": {
     "checksum": "67f06cd2548dd99645b336836b41846b",
     "grade": false,
     "grade_id": "cell-557716420790bebb",
     "locked": true,
     "schema_version": 3,
     "solution": false,
     "task": false
    }
   },
   "source": [
    "## 3.B. Pruning and post-processing\n",
    "\n",
    "As you can observe in the `hands` image, the algorithm creates undesired small branches in the skeleton. When the objects have a constant thickness, it is possible to prune the skeleton by constructing a skeleton as the union of the partial skeletons from $M$th to $N$th, with $1 \\leq M \\leq N$.\n",
    "The pruned skeleton is the following union of partial skeletons $s_n$:\n",
    "\n",
    "$$\\mathrm{skel}_{\\mathrm{pruned}} =\\bigcup_{n \\in \\lbrace M,M+1,\\dots,N\\rbrace} s_{n} = \\bigcup_{n \\in \\lbrace M,M+1,\\dots,N\\rbrace}[ e_n - (e_n \\circ b) ]\\,.$$\n",
    "\n",
    "This should remove some of the unwanted branches.\n",
    "\n",
    "**For 1 point**, implement this new method and test in the tasks below.\n",
    "\n",
    "### 3.B.a. Implementing pruning\n",
    "\n",
    "Program the method `skeletonize_and_prune(img, M)` that returns the pruned skeleton, with $M$ a parameter of the function."
   ]
  },
  {
   "cell_type": "code",
   "execution_count": null,
   "metadata": {
    "deletable": false,
    "nbgrader": {
     "checksum": "634e85c3a5e32988fee9f62aacf24ea3",
     "grade": false,
     "grade_id": "cell-b75cb7dbfff47ea8",
     "locked": false,
     "schema_version": 3,
     "solution": true,
     "task": false
    }
   },
   "outputs": [],
   "source": [
    "# Function that takes as input a binary image as well as an integer m and returns its skeleton\n",
    "# composed of the union from the mth to the last skeleton\n",
    "def skeletonize_and_prune(img, M):\n",
    "    # Defining the output image\n",
    "    output = np.zeros(img.shape, np.uint8)\n",
    "    \n",
    "    # YOUR CODE HERE\n",
    "    \n",
    "    return output"
   ]
  },
  {
   "cell_type": "markdown",
   "metadata": {
    "deletable": false,
    "editable": false,
    "nbgrader": {
     "checksum": "4db57dead4065503f39135a5734f749a",
     "grade": false,
     "grade_id": "cell-88b7c80852ccc976",
     "locked": true,
     "schema_version": 3,
     "solution": false,
     "task": false
    }
   },
   "source": [
    "Run the cell below to verify that the output of your function is binary."
   ]
  },
  {
   "cell_type": "code",
   "execution_count": null,
   "metadata": {
    "deletable": false,
    "editable": false,
    "nbgrader": {
     "checksum": "92c4d96773b71d51423ce085c6de4c09",
     "grade": true,
     "grade_id": "cell-3d6adb3b57c4533b",
     "locked": true,
     "points": 0.8,
     "schema_version": 3,
     "solution": false,
     "task": false
    }
   },
   "outputs": [],
   "source": [
    "# Check that the output is binary\n",
    "check_bin = skeletonize_and_prune(hands, 0)\n",
    "if (len(np.unique(check_bin)) != 2 or \n",
    "    np.max(np.unique(check_bin)) != 255 or \n",
    "    np.min(np.unique(check_bin)) != 0):\n",
    "    print('WARNING!\\nThe output is not binary with values [0, 255].')\n",
    "else:\n",
    "    print('Nice, the output is binary')"
   ]
  },
  {
   "cell_type": "markdown",
   "metadata": {
    "deletable": false,
    "editable": false,
    "nbgrader": {
     "checksum": "88c2ef7bed59cb6471fa1c72a63b5dc5",
     "grade": false,
     "grade_id": "cell-daedcf8b07045f72",
     "locked": true,
     "schema_version": 3,
     "solution": false,
     "task": false
    }
   },
   "source": [
    "Test your code on the image `hands` and play with the parameter $M$ (by adjusting the slider in the extra widget created) to see the difference in the skeletons. Run the cell below to launch the interactive widget and test your function. Feel free to try on other images too.\n",
    "\n",
    "💡 *Hint: Note that $M=1$ gives the unpruned skeletonized image. Use this fact to test that the result for $M = 1$ is the same as without pruning.*"
   ]
  },
  {
   "cell_type": "code",
   "execution_count": null,
   "metadata": {
    "deletable": false,
    "editable": false,
    "nbgrader": {
     "checksum": "bba49883a827825daac9fe146528bec4",
     "grade": false,
     "grade_id": "cell-4c543f36bdd2b510",
     "locked": true,
     "schema_version": 3,
     "solution": false,
     "task": false
    }
   },
   "outputs": [],
   "source": [
    "# Instantiate the size slider\n",
    "m_slider = widgets.IntSlider(value=25, min=1, max=50, step=1, description='M')\n",
    "# Instantiate the diconnect button\n",
    "button = widgets.Button(description='Skeletonize and Prune')\n",
    "\n",
    "# Define the callback function of the button\n",
    "def button_callback(image):\n",
    "    # Run the disconnect function on the image with the size indicated by the slider\n",
    "    output = skeletonize_and_prune(image, M=m_slider.value)\n",
    "    return output\n",
    "\n",
    "# Display the image with the extra slider functionality\n",
    "plt.close('all')\n",
    "skeletonize_prune_display = viewer(hands, title=\"Skeletonize and prune test\", new_widgets=[m_slider, button], \n",
    "                                   callbacks=[button_callback], widgets=True)"
   ]
  },
  {
   "cell_type": "markdown",
   "metadata": {
    "deletable": false,
    "editable": false,
    "nbgrader": {
     "checksum": "b5ea76e5a8ece3e0f49b2fe21c0f7bf5",
     "grade": false,
     "grade_id": "cell-6279e632690ba921",
     "locked": true,
     "schema_version": 3,
     "solution": false,
     "task": false
    }
   },
   "source": [
    "### 3.B.b. Testing skeletonize and prune\n",
    "\n",
    "Apply your algorithm on the image `b_letter`, choosing the appropriate $M$ to best capture the shape of the letter B. Run the next cell to launch the interactive widget."
   ]
  },
  {
   "cell_type": "code",
   "execution_count": null,
   "metadata": {
    "deletable": false,
    "editable": false,
    "nbgrader": {
     "checksum": "e813ebcc8c8c5a8effab1713a4c332b5",
     "grade": false,
     "grade_id": "cell-23cc409a7b0edd3f",
     "locked": true,
     "schema_version": 3,
     "solution": false,
     "task": false
    }
   },
   "outputs": [],
   "source": [
    "# Instantiate the size slider\n",
    "m_slider = widgets.IntSlider(value=25, min=0, max=50, step=1, description='M')\n",
    "# Instantiate the diconnect button\n",
    "button = widgets.Button(description='Skeletonize and Prune')\n",
    "\n",
    "# Define the callback function of the button\n",
    "def button_callback(image):\n",
    "    # Run the disconnect function on the image with the size indicated by the slider\n",
    "    output = skeletonize_and_prune(image, M=m_slider.value)\n",
    "    return output\n",
    "\n",
    "# Display the image with the extra slider functionality\n",
    "plt.close('all')\n",
    "skeletonize_prune_b_display = viewer(b_letter, title=\"Skeletonize and prune B\", new_widgets=[m_slider, button], callbacks=[button_callback], widgets=True)"
   ]
  },
  {
   "cell_type": "markdown",
   "metadata": {
    "deletable": false,
    "editable": false,
    "nbgrader": {
     "checksum": "ed9d103941bed88a80900c3287c37a09",
     "grade": false,
     "grade_id": "cell-0fea5fe5fa07962f",
     "locked": true,
     "schema_version": 3,
     "solution": false,
     "task": false
    }
   },
   "source": [
    "In the next cell, assign to the variable `M` the value for $M$ you think works best to capture the shape of the letter $B$, while removing as many of the undesired small branches as possible."
   ]
  },
  {
   "cell_type": "code",
   "execution_count": null,
   "metadata": {
    "deletable": false,
    "nbgrader": {
     "checksum": "3641ff612c16ca0b12b2d1ca58797e65",
     "grade": false,
     "grade_id": "cell-6dd79b16c9b53842",
     "locked": false,
     "schema_version": 3,
     "solution": true,
     "task": false
    }
   },
   "outputs": [],
   "source": [
    "# Best value for m\n",
    "M = None\n",
    "# YOUR CODE HERE"
   ]
  },
  {
   "cell_type": "code",
   "execution_count": null,
   "metadata": {
    "deletable": false,
    "editable": false,
    "nbgrader": {
     "checksum": "86cbfc29414c9c67d815fc92e9d0c09c",
     "grade": true,
     "grade_id": "cell-a857ee8083085d85",
     "locked": true,
     "points": 0.2,
     "schema_version": 3,
     "solution": false,
     "task": false
    }
   },
   "outputs": [],
   "source": [
    "# Perform sanity check on m\n",
    "if not 0 < M < 50: \n",
    "    print('WARNING!\\nThe value for m is most likely not correct.')"
   ]
  },
  {
   "cell_type": "markdown",
   "metadata": {
    "deletable": false,
    "editable": false,
    "nbgrader": {
     "checksum": "481072c1cfebf9378e75f1573493f9cb",
     "grade": false,
     "grade_id": "cell-ddf9bfc36a3fb5ad",
     "locked": true,
     "schema_version": 3,
     "solution": false,
     "task": false
    }
   },
   "source": [
    "# 4. Cartoonize your picture!\n",
    "\n",
    "Choose a natural picture of your choice from the internet or from your own collection (it shouldn't be too large, otherwise the operations will take a long time). If you're too busy to search for an image yourself you can also use the _natural_image.jpg_ provided in the `images` directory. Using a combination of morphological operators, arithmetic operators, inversion, and threshold operations, gives a cartoon effect to your picture! You can try to make it look like a painting or to give it a distortion effect, explore the possibilities! \n",
    "\n",
    "**Note: You can invert an image using [`cv.bitwise_not(img)`](https://docs.opencv.org/2.4/modules/core/doc/operations_on_arrays.html#bitwise-not).**"
   ]
  },
  {
   "cell_type": "code",
   "execution_count": null,
   "metadata": {
    "deletable": false,
    "nbgrader": {
     "checksum": "d4b2ff881bade3c33423bd0163b3ae3c",
     "grade": false,
     "grade_id": "cell-c2cd6ce69ca34fdb",
     "locked": false,
     "schema_version": 3,
     "solution": true,
     "task": false
    }
   },
   "outputs": [],
   "source": [
    "orig = cv.cvtColor(cv.imread('images/natural_image.jpg'), cv.COLOR_BGR2RGB)\n",
    "img = orig\n",
    "\n",
    "# YOUR CODE HERE\n",
    "\n",
    "cartoon_viewer = viewer([orig, img], title = ['Original', 'Cartoonized'], subplots=(1,2))"
   ]
  },
  {
   "cell_type": "markdown",
   "metadata": {
    "deletable": false,
    "editable": false,
    "nbgrader": {
     "checksum": "66e1ce3836a4cbcae1619471560f2fd9",
     "grade": false,
     "grade_id": "footer",
     "locked": true,
     "schema_version": 3,
     "solution": false,
     "task": false
    }
   },
   "source": [
    "🎉 Congratulations on finishing the Morphology lab! 🎉\n",
    "\n",
    "Make sure to save your notebook (you might want to keep a copy on your personal computer) and upload it to [Moodle](https://moodle.epfl.ch/course/view.php?id=522), **in a zip file with other notebooks of this lab**.\n",
    "\n",
    "* Please do not rename the notebook!\n",
    "* Name the `zip` file *Morphology_Lab.zip*."
   ]
  }
 ],
 "metadata": {
  "kernelspec": {
   "display_name": "Python3",
   "language": "python",
   "name": "python3"
  },
  "language_info": {
   "codemirror_mode": {
    "name": "ipython",
    "version": 3
   },
   "file_extension": ".py",
   "mimetype": "text/x-python",
   "name": "python",
   "nbconvert_exporter": "python",
   "pygments_lexer": "ipython3",
   "version": "3.12.5"
  }
 },
 "nbformat": 4,
 "nbformat_minor": 4
}
