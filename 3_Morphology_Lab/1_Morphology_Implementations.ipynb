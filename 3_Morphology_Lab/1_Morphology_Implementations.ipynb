{
 "cells": [
  {
   "cell_type": "markdown",
   "metadata": {
    "deletable": false,
    "editable": false,
    "kernel": "SoS",
    "nbgrader": {
     "cell_type": "markdown",
     "checksum": "f5cfb1b34aac86a9c54d0ffbd886de2d",
     "grade": false,
     "grade_id": "header",
     "locked": true,
     "schema_version": 3,
     "solution": false,
     "task": false
    }
   },
   "source": [
    "<img src=\"https://www.epfl.ch/about/overview/wp-content/uploads/2020/07/logo-epfl-1024x576.png\" width=\"140px\" alt=\"EPFL_logo\">\n",
    "\n",
    "## Image Processing Laboratory Notebooks\n",
    "---\n",
    "\n",
    "This Jupyter Notebook is part of a series of computer laboratories that are designed\n",
    "to teach image-processing programming; they are running on the EPFL's Noto server. They are the practical complement of the theoretical lectures of the EPFL's Master course \n",
    "[**MICRO-511 Image Processing I**](https://moodle.epfl.ch/course/view.php?id=522) taught by Prof. M. Unser and Prof. D. Van de Ville.\n",
    "\n",
    "The project is funded by the Center for Digital Education and the School of Engineering. It is owned by the [Biomedical Imaging Group](http://bigwww.epfl.ch/). \n",
    "The distribution or reproduction of the notebook is strictly prohibited without the written consent of the authors.  &copy; EPFL 2024.\n",
    "\n",
    "**Authors**: \n",
    "    [Pol del Aguila Pla](mailto:pol.delaguilapla@epfl.ch), \n",
    "    [Kay Lächler](mailto:kay.lachler@epfl.ch),\n",
    "    [Alejandro Noguerón Arámburu](mailto:alejandro.nogueronaramburu@epfl.ch),\n",
    "    [Yan Liu](mailto:yan.liu@epfl.ch), and\n",
    "    [Daniel Sage](mailto:daniel.sage@epfl.ch).\n",
    "    \n",
    "---\n",
    "# Lab 3: Morphology\n",
    "**Released**: Thursday, December 12, 2024\n",
    "\n",
    "**Submission deadline**: Monday, December 23, 2024, before 23:59 on [Moodle](https://moodle.epfl.ch/course/view.php?id=522)\n",
    "\n",
    "**Grade weight**: Lab 3 (17 points), 10% of the overall grade"
   ]
  },
  {
   "cell_type": "markdown",
   "metadata": {
    "kernel": "SoS"
   },
   "source": [
    "### Student Name: \n",
    "### SCIPER: \n",
    "\n",
    "Double-click on this cell and fill your name and SCIPER number. Then, run the cell below to verify your identity in Noto and set the seed for random results."
   ]
  },
  {
   "cell_type": "code",
   "execution_count": null,
   "metadata": {
    "deletable": false,
    "editable": false,
    "kernel": "SoS",
    "nbgrader": {
     "cell_type": "code",
     "checksum": "538c756d0f9db8e2dc2dd5c0941bc58c",
     "grade": true,
     "grade_id": "cell-ee14ef1f328029fa",
     "locked": true,
     "points": 0,
     "schema_version": 3,
     "solution": false,
     "task": false
    }
   },
   "outputs": [],
   "source": [
    "%use sos\n",
    "import getpass\n",
    "# This line recovers your camipro number to mark the images with your ID\n",
    "uid = int(getpass.getuser().split('-')[2]) if len(getpass.getuser().split('-')) > 2 else ord(getpass.getuser()[0])\n",
    "print(f'SCIPER: {uid}')"
   ]
  },
  {
   "cell_type": "markdown",
   "metadata": {
    "deletable": false,
    "editable": false,
    "kernel": "SoS",
    "nbgrader": {
     "cell_type": "markdown",
     "checksum": "2e04258bc453c0790a89cc00981995b1",
     "grade": false,
     "grade_id": "cell-4c702668cab4a994",
     "locked": true,
     "schema_version": 3,
     "solution": false,
     "task": false
    }
   },
   "source": [
    "## Imports\n",
    "In this first cell we import the required Python libraries:\n",
    "* [`matplotlib.pyplot`](https://matplotlib.org), to display images\n",
    "* [`ipywidgets`](https://ipywidgets.readthedocs.io/en/latest/), to make the image display interactive\n",
    "* [`numpy`](https://numpy.org/doc/stable/reference/index.html), for mathematical operations on arrays\n",
    "* [`cv2`](https://docs.opencv.org/master/), for image processing in Python\n",
    "\n",
    "We will then load the `ImageViewer` class. For more information on it, you can either see the complete documentation [here](https://github.com/Biomedical-Imaging-Group/interactive-kit/wiki/Image-Viewer), run the Python command `help(viewer)` after loading the class, or refer to [Lab 0: Introduction](../0_Introductory_lab/Introductory.ipynb)).\n",
    "\n",
    "Finally, we load the images you will use in the exercise to test your algorithms. "
   ]
  },
  {
   "cell_type": "code",
   "execution_count": null,
   "metadata": {
    "deletable": false,
    "editable": false,
    "kernel": "SoS",
    "nbgrader": {
     "cell_type": "code",
     "checksum": "ab3086cffc7e32a637c569f0d8793934",
     "grade": false,
     "grade_id": "cell-64acc6f65a687846",
     "locked": true,
     "schema_version": 3,
     "solution": false,
     "task": false
    }
   },
   "outputs": [],
   "source": [
    "%use sos\n",
    "# Configure plotting as dynamic\n",
    "%matplotlib widget\n",
    "\n",
    "# Import required packages for this lab\n",
    "import matplotlib.pyplot as plt\n",
    "import ipywidgets as widgets\n",
    "import numpy as np\n",
    "import cv2 as cv\n",
    "from interactive_kit import imviewer as viewer \n",
    "\n",
    "# Load images to be used in this lab \n",
    "plate = cv.imread('images/plate.tif', cv.IMREAD_UNCHANGED)\n",
    "butterfly = cv.imread('images/butterfly-graylevel.tif', cv.IMREAD_UNCHANGED)"
   ]
  },
  {
   "cell_type": "markdown",
   "metadata": {
    "deletable": false,
    "editable": false,
    "kernel": "Python3",
    "nbgrader": {
     "cell_type": "markdown",
     "checksum": "167749fc01794cfa491397339bfd36a8",
     "grade": false,
     "grade_id": "cell-f207d4672be791cc",
     "locked": true,
     "schema_version": 3,
     "solution": false,
     "task": false
    }
   },
   "source": [
    "In the following cell we import the JavaScript `ImageAccess` class, created specifically for this course, which facilitates the creation and modification of images. You can find the full documentation of the class [here](https://biomedical-imaging-group.github.io/image-access/)."
   ]
  },
  {
   "cell_type": "code",
   "execution_count": null,
   "metadata": {
    "deletable": false,
    "editable": false,
    "kernel": "JavaScript",
    "nbgrader": {
     "cell_type": "code",
     "checksum": "139335d03956855412265ed242d2c5d9",
     "grade": true,
     "grade_id": "cell-7b83d6cee82ae0e4",
     "locked": true,
     "points": 0,
     "schema_version": 3,
     "solution": false,
     "task": false
    }
   },
   "outputs": [],
   "source": [
    "%use javascript\n",
    "// import image-access as Image\n",
    "var Image = require('image-access')"
   ]
  },
  {
   "cell_type": "markdown",
   "metadata": {
    "deletable": false,
    "editable": false,
    "kernel": "SoS",
    "nbgrader": {
     "cell_type": "markdown",
     "checksum": "563f015000c23eebc120df6b962d6918",
     "grade": false,
     "grade_id": "cell-2e0620dcb77bf49f",
     "locked": true,
     "schema_version": 3,
     "solution": false,
     "task": false
    }
   },
   "source": [
    "# Morphology Implementations (12 points)\n",
    "\n",
    "In the first part of this laboratory, you will learn\n",
    "\n",
    "1. how to implement several morphological filters in a low-level language (like JavaScript), and\n",
    "2. how to apply them in image processing applications using [`OpenCV`](https://opencv.org/).\n",
    "\n",
    "We will focus mainly on 2D gray-level morphology, but keep in mind that the same operations can easily be adapted to color images by treating each color channel as an independent gray-level image.\n",
    "\n",
    "⚠️ **Note: Each cell that contains code begins with `%use sos` or `%use javascript`. This indicates if the code in this specific cell should be written in Python or JavaScript. Do not change or remove any lines of code that begin with an `%`. They need to be on the first line of each cell!**\n",
    "\n",
    "# 1. Structuring elements (2 points)\n",
    "\n",
    "As you have seen in the course, a structuring element (often abbreviated with `strel` in the code) can be described by a binary image consisting of a foreground and a background, which are usually represented with `true` (or $1$) and `false` (or $0$), respectively. They are used in morphological filters such as dilation, erosion, opening, closing, and all others that are derived from those. The purpose of the structuring element is to define the shape and size used by a morphological filter. **Your task in this section is to implement 2 different structuring elements, namely a cross and a disc.**\n",
    "\n",
    "**For 1 point each**, implement the functions `cross(n)` and `disc(n)` to build the shapes of the structuring elements of size $n \\times n$. The function `square(n)` is provided and serves as a reference. The \"disc\" shape contains elements that are inside a circle tangent to the frame of the $n \\times n$ square, and the \"cross\" shape contains a horizontal and a vertical line that meet in the center of the square, both with a single-pixel width.\n",
    "\n",
    "The images below show an example of how the different elements should look with a size of $9 \\times 9$.\n",
    "\n",
    "| ![Structuring elements](images/Structuring_elements_showcase.png) |\n",
    "|:--:| \n",
    "| *Examples of how a correct $9\\times 9$ cross, disc and square structuring elements look like.* |\n",
    "\n",
    "\n",
    "⚠️ **Note: The proposed structuring elements are all symmetric and ***you only need to implement for odd $n$***, it is not necessary to reflect the structuring element as we would do in a generic implementation. However, you can still do it if you want.**\n",
    "\n",
    "## 1.A. Square structuring element\n",
    "\n",
    "The next cell provides the example function `square(n)`, which returns a square of size $n \\times n$ filled with $1$s."
   ]
  },
  {
   "cell_type": "code",
   "execution_count": null,
   "metadata": {
    "deletable": false,
    "editable": false,
    "kernel": "JavaScript",
    "nbgrader": {
     "cell_type": "code",
     "checksum": "83cf363241a629f753e18a774a6feded",
     "grade": false,
     "grade_id": "cell-a0c0cf734dffb7d8",
     "locked": true,
     "schema_version": 3,
     "solution": false,
     "task": false
    }
   },
   "outputs": [],
   "source": [
    "%use javascript\n",
    "// function that takes as input an integer n and returns an n x n image of '1's\n",
    "function square(n){ \n",
    "    // declare the output image\n",
    "    var output = new Image(n, n);\n",
    "    // iterate through each pixel\n",
    "    for(var x = 0; x < n; x++){  \n",
    "        for(var y = 0; y < n; y++){\n",
    "            // assign pixel value at location (x,y) to '1'\n",
    "            output.setPixel(x, y, 1);\n",
    "        }\n",
    "    }\n",
    "    return output;\n",
    "}"
   ]
  },
  {
   "cell_type": "markdown",
   "metadata": {
    "deletable": false,
    "editable": false,
    "kernel": "JavaScript",
    "nbgrader": {
     "cell_type": "markdown",
     "checksum": "e6ddd59c793db32e6f9a3950c29bfae4",
     "grade": false,
     "grade_id": "cell-6a24e5506b1a1e5c",
     "locked": true,
     "schema_version": 3,
     "solution": false,
     "task": false
    }
   },
   "source": [
    "The next cell runs the function `square(n)` and stores the result in the variable `strel_square` which is converted to Python to display it in another cell. Feel free to experiment with the size passed to the function and observe the results.\n",
    "   \n",
    "⚠️ **Note: The method `.toArray()` is needed to convert the variable to Python.**"
   ]
  },
  {
   "cell_type": "code",
   "execution_count": null,
   "metadata": {
    "kernel": "JavaScript"
   },
   "outputs": [],
   "source": [
    "%use javascript\n",
    "%put strel_square\n",
    "// runs the function you implemented above and converts the Image object to an array\n",
    "// feel free to change the size passed to this function and observe the result\n",
    "var strel_square = square(9).toArray();"
   ]
  },
  {
   "cell_type": "markdown",
   "metadata": {
    "deletable": false,
    "editable": false,
    "kernel": "JavaScript",
    "nbgrader": {
     "cell_type": "markdown",
     "checksum": "cf7790b620c74a316e9847a0ff3722a7",
     "grade": false,
     "grade_id": "cell-8ac8155685c079b1",
     "locked": true,
     "schema_version": 3,
     "solution": false,
     "task": false
    }
   },
   "source": [
    "Run the next cell to use Python to display the structuring element as an image.\n",
    "    \n",
    "⚠️ **Note: Throughout the lab, we will reuse the following general cell structure:**\n",
    "\n",
    "- **Function/Code,**\n",
    "- **Running the function,**\n",
    "- **Display/evaluate the results**\n",
    "\n",
    "**We will not give a detailed description every time and we will let you do more and more on your own as we progress.**"
   ]
  },
  {
   "cell_type": "code",
   "execution_count": null,
   "metadata": {
    "deletable": false,
    "editable": false,
    "kernel": "SoS",
    "nbgrader": {
     "cell_type": "code",
     "checksum": "72e10768b4a811069ace801eb6ef8dff",
     "grade": false,
     "grade_id": "cell-05d28157642baacf",
     "locked": true,
     "schema_version": 3,
     "solution": false,
     "task": false
    }
   },
   "outputs": [],
   "source": [
    "%use sos\n",
    "# Display the binary image with a title and numerated pixel grid\n",
    "plt.close('all')\n",
    "disp_square = viewer(np.array(strel_square), title=f'Square structuring element of size {np.shape(strel_square)}', clip_range=[0, 1], axis=True, pixel_grid=True, cmap='viridis')"
   ]
  },
  {
   "cell_type": "markdown",
   "metadata": {
    "deletable": false,
    "editable": false,
    "kernel": "Python3",
    "nbgrader": {
     "cell_type": "markdown",
     "checksum": "d0c792f9a2dd565b4303ff2085f165db",
     "grade": false,
     "grade_id": "cell-7a2c833d72c711c2",
     "locked": true,
     "schema_version": 3,
     "solution": false,
     "task": false
    }
   },
   "source": [
    "When working in Python, we can use the [OpenCV](https://docs.opencv.org/master/) library to generate structuring elements and perform image processing tasks.\n",
    "\n",
    "To use OpenCV (called `cv2` in Python for historical reasons) it is best practice to import it as `cv`, which has already been done in the first cell of the notebook. When using the morphological filters provided by OpenCV, the structuring element that should be passed to the functions is a `numpy` array. We can either define it ourselves using NumPy, for example, a $9 \\times 9$ square as in the cell below."
   ]
  },
  {
   "cell_type": "code",
   "execution_count": null,
   "metadata": {
    "deletable": false,
    "editable": false,
    "kernel": "SoS",
    "nbgrader": {
     "cell_type": "code",
     "checksum": "e264ee8bf3d65568b595ae23577e12ce",
     "grade": false,
     "grade_id": "cell-47c8517ad563f234",
     "locked": true,
     "schema_version": 3,
     "solution": false,
     "task": false
    }
   },
   "outputs": [],
   "source": [
    "%use sos\n",
    "strel_square_custom = np.ones((9,9))"
   ]
  },
  {
   "cell_type": "markdown",
   "metadata": {
    "deletable": false,
    "editable": false,
    "kernel": "Python3",
    "nbgrader": {
     "cell_type": "markdown",
     "checksum": "2792dfc4696a66a3f5518270a30a3f5d",
     "grade": false,
     "grade_id": "cell-ccfb56d022329d2c",
     "locked": true,
     "schema_version": 3,
     "solution": false,
     "task": false
    }
   },
   "source": [
    "or we can use [`cv.getStructuringElement()`](https://docs.opencv.org/trunk/d4/d86/group__imgproc__filter.html#gac342a1bb6eabf6f55c803b09268e36dc), which takes as input parameters:\n",
    "* `shape`: [`cv.MORPH_RECT`](https://docs.opencv.org/master/d4/d86/group__imgproc__filter.html#gac2db39b56866583a95a5680313c314ad) to generate a rectangle, [`cv.MORPH_ELLIPSE`](https://docs.opencv.org/master/d4/d86/group__imgproc__filter.html#gac2db39b56866583a95a5680313c314ad) to generate an ellipse, [`cv.MORPH_CROSS`](https://docs.opencv.org/master/d4/d86/group__imgproc__filter.html#gac2db39b56866583a95a5680313c314ad) to generate a cross, and\n",
    "* `ksize`: The shape of the structuring element, e.g. `(9, 9)`\n",
    "\n",
    "You can look at the documentation for a full description of the function. Run the next cell to get the same $9 \\times 9$ square we defined above."
   ]
  },
  {
   "cell_type": "code",
   "execution_count": null,
   "metadata": {
    "deletable": false,
    "editable": false,
    "kernel": "SoS",
    "nbgrader": {
     "cell_type": "code",
     "checksum": "f21f6afcfb0b7c868654c2f25d197cf1",
     "grade": false,
     "grade_id": "cell-0baa0e8fa64ea55b",
     "locked": true,
     "schema_version": 3,
     "solution": false,
     "task": false
    }
   },
   "outputs": [],
   "source": [
    "%use sos\n",
    "strel_square_cv = cv.getStructuringElement(cv.MORPH_RECT, ksize=(9,9))"
   ]
  },
  {
   "cell_type": "markdown",
   "metadata": {
    "deletable": false,
    "editable": false,
    "kernel": "Python3",
    "nbgrader": {
     "cell_type": "markdown",
     "checksum": "84008a277c1db3ea893161bf343d91eb",
     "grade": false,
     "grade_id": "cell-add8d70af233fb3d",
     "locked": true,
     "schema_version": 3,
     "solution": false,
     "task": false
    }
   },
   "source": [
    "We can compare the three structuring elements (JS, NumPy, OpenCV). We can do this either visually by providing the `ImageViewer` class with a list of images and titles, as in the cell below.\n",
    "\n",
    "⚠️ **Note: If you changed the size of the JS structuring element, change it back to $9$ and rerun for the following comparisons. If the right-most image is only partially visible, make sure to close the file browser tab on the left by clicking on the folder symbol or try zooming out the webpage.**"
   ]
  },
  {
   "cell_type": "code",
   "execution_count": null,
   "metadata": {
    "deletable": false,
    "editable": false,
    "kernel": "SoS",
    "nbgrader": {
     "cell_type": "code",
     "checksum": "6a20f8b5854bcaa547b3528a847b8ec6",
     "grade": false,
     "grade_id": "cell-04441f42af591822",
     "locked": true,
     "schema_version": 3,
     "solution": false,
     "task": false
    }
   },
   "outputs": [],
   "source": [
    "%use sos\n",
    "\n",
    "# Close existing figures to release memory\n",
    "plt.close('all')\n",
    "# Display the three structuring elemnts side by side to compare them\n",
    "disp_square = viewer([np.array(strel_square), strel_square_custom, strel_square_cv], title=['JavaScript', 'Custom numpy array', 'OpenCV'], \n",
    "                     subplots=(1,3), clip_range=[0, 1], cmap='viridis', axis=True, pixel_grid=True)"
   ]
  },
  {
   "cell_type": "markdown",
   "metadata": {
    "deletable": false,
    "editable": false,
    "kernel": "Python3",
    "nbgrader": {
     "cell_type": "markdown",
     "checksum": "a59212469efb51aa4dd9a3a084a8392f",
     "grade": false,
     "grade_id": "cell-5f705271946eff0c",
     "locked": true,
     "schema_version": 3,
     "solution": false,
     "task": false
    }
   },
   "source": [
    "or numerically, to make sure all the implementations provide the same result by using the `assert` statement, as in the cell below.\n",
    "\n",
    "**Note: [`np.allclose(arr1, arr2)`](https://numpy.org/doc/stable/reference/generated/numpy.allclose.html) returns `True` if `arr1` and `arr2` are equal to a certain tolerance.**"
   ]
  },
  {
   "cell_type": "code",
   "execution_count": null,
   "metadata": {
    "deletable": false,
    "editable": false,
    "kernel": "SoS",
    "nbgrader": {
     "cell_type": "code",
     "checksum": "dceb710168419458284d144a1d724770",
     "grade": false,
     "grade_id": "cell-fe90e675d4380fbe",
     "locked": true,
     "schema_version": 3,
     "solution": false,
     "task": false
    }
   },
   "outputs": [],
   "source": [
    "%use sos\n",
    "# Compare the JS version to the custom numpy array by subtracting one from the other and then counting the number of non-zero pixels, which should be 0\n",
    "assert np.allclose(strel_square, strel_square_custom), 'The JS and NumPy version do not agree.'\n",
    "# Compare the JS version to the OpenCV version similarly\n",
    "assert np.allclose(strel_square, strel_square_cv), 'The JS and OpenCV version do not agree.'\n",
    "print('Indeed, the three structuring elements are exactly the same.')"
   ]
  },
  {
   "cell_type": "markdown",
   "metadata": {
    "deletable": false,
    "editable": false,
    "kernel": "Python3",
    "nbgrader": {
     "cell_type": "markdown",
     "checksum": "36cb7d25326df2984a7a17dd38d08502",
     "grade": false,
     "grade_id": "cell-00399f22f2685744",
     "locked": true,
     "schema_version": 3,
     "solution": false,
     "task": false
    }
   },
   "source": [
    "## 1.B. Cross structuring element\n",
    "\n",
    "Now it's your turn! In the cell below, **for 1 point**, complete the code in JavaScript to implement the `cross(n)` function.\n",
    "\n",
    "💡 *Hint: If you need to, you can use the function `parseInt(x)` to get the largest integer smaller than a given $x\\in\\mathbb{R}$. Remember that your implementation only needs to work for odd `n` (this is true for the whole section).*"
   ]
  },
  {
   "cell_type": "code",
   "execution_count": null,
   "metadata": {
    "deletable": false,
    "kernel": "JavaScript",
    "nbgrader": {
     "cell_type": "code",
     "checksum": "6903ae2b7972bc01a2bebcef33297da0",
     "grade": false,
     "grade_id": "cell-3ab036d9bd373d3c",
     "locked": false,
     "schema_version": 3,
     "solution": true,
     "task": false
    }
   },
   "outputs": [],
   "source": [
    "%use javascript\n",
    "\n",
    "// function that takes as input an integer n and returns the cross structuring element of size (n x n)\n",
    "function cross(n){ \n",
    "    // declare output image\n",
    "    var output = new Image(n, n);\n",
    "    \n",
    "    // YOUR CODE HERE\n",
    "    \n",
    "    return output;\n",
    "}"
   ]
  },
  {
   "cell_type": "markdown",
   "metadata": {
    "deletable": false,
    "editable": false,
    "kernel": "JavaScript",
    "nbgrader": {
     "cell_type": "markdown",
     "checksum": "565bcda9d772557ef4431db1739d2d4d",
     "grade": false,
     "grade_id": "cell-5954a71512e8a425",
     "locked": true,
     "schema_version": 3,
     "solution": false,
     "task": false
    }
   },
   "source": [
    "Now run the following $2$ cells to generate a $9\\times 9$ structuring element and visualize it in Python. Feel free to change the size in the next cell."
   ]
  },
  {
   "cell_type": "code",
   "execution_count": null,
   "metadata": {
    "kernel": "JavaScript"
   },
   "outputs": [],
   "source": [
    "%use javascript\n",
    "%put strel_cross\n",
    "// runs the function you implemented above and converts the Image object to an array\n",
    "// feel free to change the size passed to this function and observe the result\n",
    "var strel_cross = cross(9).toArray();"
   ]
  },
  {
   "cell_type": "code",
   "execution_count": null,
   "metadata": {
    "deletable": false,
    "editable": false,
    "kernel": "SoS",
    "nbgrader": {
     "cell_type": "code",
     "checksum": "6497eb8d2ee8c9f99793d307bd0ae772",
     "grade": false,
     "grade_id": "cell-c777a0135a5581c4",
     "locked": true,
     "schema_version": 3,
     "solution": false,
     "task": false
    }
   },
   "outputs": [],
   "source": [
    "%use sos\n",
    "# Display the binary image with a title and numbered pixel grid\n",
    "plt.close('all')\n",
    "disp_cross = viewer(np.array(strel_cross), title=f'Cross structuring element of size {np.shape(strel_cross)}', \n",
    "                    axis=True, pixel_grid=True, cmap='viridis', clip_range=[0, 1])"
   ]
  },
  {
   "cell_type": "markdown",
   "metadata": {
    "deletable": false,
    "editable": false,
    "kernel": "Python3",
    "nbgrader": {
     "cell_type": "markdown",
     "checksum": "38f9b2f6647a7c23cca672ff1f72b1a9",
     "grade": false,
     "grade_id": "cell-a4a4f34fcfcf70a8",
     "locked": true,
     "schema_version": 3,
     "solution": false,
     "task": false
    }
   },
   "source": [
    "In Python, we have several ways of generating a cross structuring element. One, using only NumPy is to generate an array of zeros and use advanced indexing to set the middle row/column to $1$. However, OpenCV also offers us a straightforward way by passing `cv.MORPH_CROSS` to `getStructuringElement`. Run the cell below to create and display the OpenCV cross. You can also change the size of the structuring element and see the result."
   ]
  },
  {
   "cell_type": "code",
   "execution_count": null,
   "metadata": {
    "kernel": "SoS"
   },
   "outputs": [],
   "source": [
    "%use sos\n",
    "# Generate the cross structuring element with OpenCV - feel free to play with the size passed to this function\n",
    "strel_cross_cv = cv.getStructuringElement(cv.MORPH_CROSS, ksize=(9, 9))\n",
    "\n",
    "# Display it\n",
    "plt.close('all')\n",
    "disp_cross_cv = viewer(strel_cross_cv, title=f'Python cross of size {np.shape(strel_cross_cv)}', \n",
    "                       axis=True, pixel_grid=True, cmap='viridis', clip_range=[0, 1])"
   ]
  },
  {
   "cell_type": "markdown",
   "metadata": {
    "deletable": false,
    "editable": false,
    "kernel": "SoS",
    "nbgrader": {
     "cell_type": "markdown",
     "checksum": "83c965dd4318bacdc3d0c1a3a2da30aa",
     "grade": false,
     "grade_id": "cell-616ec20bf908e4da",
     "locked": true,
     "schema_version": 3,
     "solution": false,
     "task": false
    }
   },
   "source": [
    "The following cell tests if the Python and JavaScript structuring elements are identical. To make sure you pass the test, **verify that both are of the same size**!\n",
    "\n",
    "⚠️ **Note: Throughout this section, we will give you the freedom to choose the size of the JS and the OpenCV structuring element. However, if you do change it, make sure to change it back to the original for the following comparisons. This is true for every exercise. When you hand in your notebook, all comparison cells should run without any errors.**"
   ]
  },
  {
   "cell_type": "code",
   "execution_count": null,
   "metadata": {
    "deletable": false,
    "editable": false,
    "kernel": "JavaScript",
    "nbgrader": {
     "cell_type": "code",
     "checksum": "d3713bcb0540ba544c576a460531c036",
     "grade": true,
     "grade_id": "cell-86c5622466d41cc9",
     "locked": true,
     "points": 1,
     "schema_version": 3,
     "solution": false,
     "task": false
    }
   },
   "outputs": [],
   "source": [
    "%use javascript\n",
    "%get strel_cross_cv\n",
    "// Make a small test on the size of the structuring elements\n",
    "if(Image.arrayCompare(Image.shape(strel_cross), Image.shape(strel_cross_cv)) == false){\n",
    "    console.log('WARNING!\\nThe size of the two structuring elements is not the same:\\nstrel_cross = (' + Image.shape(strel_cross) + '), strel_cross_cv = (' + Image.shape(strel_cross_cv) + ')\\n');\n",
    "} \n",
    "// Now on their pixel-wise equality\n",
    "if(Image.arrayCompare(strel_cross, strel_cross_cv) == false){\n",
    "    console.log('WARNING!\\nThe two structuring elements are not the same. Look at the difference between the two images above and try to find what you are doing wrong.\\n');\n",
    "}else{\n",
    "    // If everything is ok, print a victory message\n",
    "    console.log(\"Yes! The crosses are identical.\");}"
   ]
  },
  {
   "cell_type": "markdown",
   "metadata": {
    "deletable": false,
    "editable": false,
    "kernel": "Python3",
    "nbgrader": {
     "cell_type": "markdown",
     "checksum": "3089d9c0ec8f99ccdef45b9f62ebceaa",
     "grade": false,
     "grade_id": "cell-89b3c91f239dcff5",
     "locked": true,
     "schema_version": 3,
     "solution": false,
     "task": false
    }
   },
   "source": [
    "## 1.C. Disc structuring element \n",
    "\n",
    "In the cell below, **for 1 point**, complete the code in JavaScript to implement the `disc(n)` function."
   ]
  },
  {
   "cell_type": "code",
   "execution_count": null,
   "metadata": {
    "deletable": false,
    "kernel": "JavaScript",
    "nbgrader": {
     "cell_type": "code",
     "checksum": "c776fd216d04fede719d30b9e8eebd10",
     "grade": false,
     "grade_id": "cell-87ff6b8a831a4ccf",
     "locked": false,
     "schema_version": 3,
     "solution": true,
     "task": false
    }
   },
   "outputs": [],
   "source": [
    "%use javascript\n",
    "\n",
    "// function that takes as input an integer n and returns the disc structuring element of size (n x n)\n",
    "function disc(n){ \n",
    "    // Ddclare output image\n",
    "    var output = new Image(n, n);\n",
    "    \n",
    "    // YOUR CODE HERE\n",
    "    \n",
    "    return output;\n",
    "}"
   ]
  },
  {
   "cell_type": "code",
   "execution_count": null,
   "metadata": {
    "kernel": "JavaScript"
   },
   "outputs": [],
   "source": [
    "%use javascript\n",
    "%put strel_disc\n",
    "// runs the function you implemented above and converts the Image object to an array\n",
    "// feel free to change the size passed to this function and observe the result\n",
    "var strel_disc = disc(9).toArray();"
   ]
  },
  {
   "cell_type": "code",
   "execution_count": null,
   "metadata": {
    "deletable": false,
    "editable": false,
    "kernel": "SoS",
    "nbgrader": {
     "cell_type": "code",
     "checksum": "309553914c4c438967bea3d6daa268c3",
     "grade": false,
     "grade_id": "cell-a8a8971a53e8d6d9",
     "locked": true,
     "schema_version": 3,
     "solution": false,
     "task": false
    }
   },
   "outputs": [],
   "source": [
    "%use sos\n",
    "# Display the binary image with a title and numerated pixel grid\n",
    "plt.close('all')\n",
    "disp_disc = viewer(np.array(strel_disc), title=f'Disc structuring element of size {np.shape(strel_disc)}', \n",
    "                   axis=True, pixel_grid=True, cmap='viridis', clip_range=[0, 1])"
   ]
  },
  {
   "cell_type": "markdown",
   "metadata": {
    "deletable": false,
    "editable": false,
    "kernel": "Python3",
    "nbgrader": {
     "cell_type": "markdown",
     "checksum": "4f612943545bbbd3f7ab98cd2d778ece",
     "grade": false,
     "grade_id": "cell-d691a68cc365a595",
     "locked": true,
     "schema_version": 3,
     "solution": false,
     "task": false
    }
   },
   "source": [
    "Unfortunately, OpenCV doesn't provide a disc structuring element. However, it provides elliptical structuring elements by passing `cv.MORPH_ELLIPSE` to `getStructuringElement`. Usually, an ellipse that has the same height and width should be just a normal circle/disc, so let's see what happens if we generate such a disc using OpenCV's ellipse generator. Run the cell below to generate an OpenCV interpretation of a disc."
   ]
  },
  {
   "cell_type": "code",
   "execution_count": null,
   "metadata": {
    "deletable": false,
    "editable": false,
    "kernel": "SoS",
    "nbgrader": {
     "cell_type": "code",
     "checksum": "ed45719b56f3111ed94dde4aaa34066b",
     "grade": false,
     "grade_id": "cell-e62ac485376f154b",
     "locked": true,
     "schema_version": 3,
     "solution": false,
     "task": false
    }
   },
   "outputs": [],
   "source": [
    "%use sos\n",
    "# Generate an ellipse with height = width\n",
    "strel_ellipse = cv.getStructuringElement(cv.MORPH_ELLIPSE, ksize=(9,9))\n",
    "# Display the result\n",
    "plt.close('all')\n",
    "disp_ellipse = viewer(strel_ellipse, title='OpenCV\\'s definition of a disc', pixel_grid=True, axis=True, cmap='viridis')"
   ]
  },
  {
   "cell_type": "markdown",
   "metadata": {
    "deletable": false,
    "editable": false,
    "kernel": "Python3",
    "nbgrader": {
     "cell_type": "markdown",
     "checksum": "f2315e2b385d59b799cab5b4ba2040f4",
     "grade": false,
     "grade_id": "cell-bc1c5938016de761",
     "locked": true,
     "schema_version": 3,
     "solution": false,
     "task": false
    }
   },
   "source": [
    "Does your JavaScript implementation look different from the *disc* in the cell above? If so, don't worry, you didn't do anything wrong. As you can hopefully see, this isn't a circular disc, but still some kind of ellipse, even though the height and width are set to the same value. Either this is a bug in the implementation of `getStructuringElement()` or they simply have another interpretation of a circle (which is wrong). Anyhow, the lesson here is, do not trust anything blindly. This means we need to create our own function in Python to generate a disc structuring element. Luckily for you, we have already done this.\n",
    "\n",
    "**Note: Because it is very inefficient to use for loops in Python (and you should only do it if necessary!), this task was implemented using a [`lambda` function](https://docs.python.org/3/tutorial/controlflow.html#lambda-expressions) and the NumPy function [`np.fromfunction`](https://numpy.org/doc/stable/reference/generated/numpy.fromfunction.html).**\n",
    "    \n",
    "For the scope of this lab, you do not need to understand the `lambda` function. However, we do recommend you to go through the documentation and completely understand the following cell -- it will improve your programming skills!\n",
    "\n",
    "Run the next cell to declare the function `disc(n)`."
   ]
  },
  {
   "cell_type": "code",
   "execution_count": null,
   "metadata": {
    "deletable": false,
    "editable": false,
    "kernel": "SoS",
    "nbgrader": {
     "cell_type": "code",
     "checksum": "68b9c4078a08dc142b2143ab8a953610",
     "grade": false,
     "grade_id": "cell-79c5d84be5e2bb87",
     "locked": true,
     "schema_version": 3,
     "solution": false,
     "task": false
    }
   },
   "outputs": [],
   "source": [
    "%use sos\n",
    "# Function that generates a disc structuring element in python\n",
    "def disc(n):\n",
    "    # Define the function of a circle as a lambda function\n",
    "    circle_func = lambda i, j: ((i - n//2)**2 + (j - n//2)**2) <= (n//2)**2\n",
    "    # Set all elements of the array that are inside the circle of diameter n to 1 - np.uint8 to match the type used by OpenCV for structuring elements\n",
    "    output = np.fromfunction(circle_func, shape=(n,n)).astype(np.uint8)\n",
    "    # Return the structuring element\n",
    "    return output"
   ]
  },
  {
   "cell_type": "markdown",
   "metadata": {
    "deletable": false,
    "editable": false,
    "kernel": "SoS",
    "nbgrader": {
     "cell_type": "markdown",
     "checksum": "d2843b1e2f0770676385fd2e4d9b11c4",
     "grade": false,
     "grade_id": "cell-0ffddb02c46c59d0",
     "locked": true,
     "schema_version": 3,
     "solution": false,
     "task": false
    }
   },
   "source": [
    "Now run the next one to declare a circular structuring element. Feel free to change `n`, and look at the effect."
   ]
  },
  {
   "cell_type": "code",
   "execution_count": null,
   "metadata": {
    "kernel": "SoS"
   },
   "outputs": [],
   "source": [
    "%use sos\n",
    "# Here we generate a disc structuring element with python by calling the function implemented above\n",
    "strel_disc_python = disc(9)\n",
    "# And display it\n",
    "plt.close('all')\n",
    "disp_disc = viewer(strel_disc_python, title=f'Python disc of size {np.shape(strel_disc_python)}', \n",
    "                   pixel_grid=True, axis=True, cmap='viridis')"
   ]
  },
  {
   "cell_type": "markdown",
   "metadata": {
    "deletable": false,
    "editable": false,
    "kernel": "Python3",
    "nbgrader": {
     "cell_type": "markdown",
     "checksum": "9d63ab50a48e223cbfc5e36c21c3778e",
     "grade": false,
     "grade_id": "cell-206f274c48dfa490",
     "locked": true,
     "schema_version": 3,
     "solution": false,
     "task": false
    }
   },
   "source": [
    "Now that we have a working function to compare your implementation to, lets do it! Run the cell below to test your implementation in JS."
   ]
  },
  {
   "cell_type": "code",
   "execution_count": null,
   "metadata": {
    "deletable": false,
    "editable": false,
    "kernel": "JavaScript",
    "nbgrader": {
     "cell_type": "code",
     "checksum": "5927d30a144b7b43a4a88f6f216a4ce8",
     "grade": true,
     "grade_id": "cell-600d6e08251e0b8d",
     "locked": true,
     "points": 1,
     "schema_version": 3,
     "solution": false,
     "task": false
    }
   },
   "outputs": [],
   "source": [
    "%use javascript\n",
    "%get strel_disc_python\n",
    "// This cell tests if the two structuring elements (JavaScript and Python) are identical, which they should be\n",
    "if(Image.arrayCompare(Image.shape(strel_disc), Image.shape(strel_disc_python)) == false){\n",
    "    console.log('WARNING!\\nThe size of the two structuring elements is not the same:\\nstrel_cross = (' + Image.shape(strel_disc) + '), strel_cross_cv = (' + Image.shape(strel_disc_python) + ')\\n');\n",
    "}\n",
    "if(Image.arrayCompare(strel_disc, strel_disc_python) == false){\n",
    "    console.log('WARNING!\\nThe two structuring elements are not the same. Look at the difference between the two images above and try to find what you are doing wrong.\\n');\n",
    "}else{\n",
    "    // If they are, we print a victory message\n",
    "    console.log(\"Well done! Your disc is better than that of OpenCV.\");}"
   ]
  },
  {
   "cell_type": "markdown",
   "metadata": {
    "deletable": false,
    "editable": false,
    "kernel": "Python3",
    "nbgrader": {
     "cell_type": "markdown",
     "checksum": "c11ab635e4fa5a8b619cfb58d98117ec",
     "grade": false,
     "grade_id": "cell-bbcccc47a0e46a80",
     "locked": true,
     "schema_version": 3,
     "solution": false,
     "task": false
    }
   },
   "source": [
    "# 2. Debugging (1 point)\n",
    "\n",
    "This section is the introduction to implementing morphological operators. The provided function `erodeBug` (given in the next cell) is supposed to perform an erosion operation on an image, using a square structuring element of size $3 \\times 3$. While **all the JavaScript syntax is correct, there are two bugs in the implementation of `erodeBug`**. **For 1 point**, inspect the code below, fix the two bugs, and explore the cells below to run the function on the images `plate` and `butterfly` to see the result. If you have trouble finding the bugs, it might be a good idea to look at the incorrect output of the function first.\n",
    "\n",
    "**Note:**\n",
    "- **`img.nx` and `img.ny` can be used to get the dimensions of `img`,**\n",
    "- **`img.getNbh(x, y, w, h)` returns the neighbourhood of size $(w\\times h)$ around the location $(x,y)$ of `img`,**\n",
    "- **`Math.min(a,b)` calculates the minimum between $a$ and $b$.**"
   ]
  },
  {
   "cell_type": "code",
   "execution_count": null,
   "metadata": {
    "kernel": "JavaScript"
   },
   "outputs": [],
   "source": [
    "%use javascript\n",
    "\n",
    "// function that erodes a structure with a (3 x 3) square. Original contains two bugs.\n",
    "function erodeBug(img){ \n",
    "    // the structuring element b should be a 3x3 square\n",
    "    var b = square(3);\n",
    "\n",
    "    // loop through every pixel of the image\n",
    "    for(var x = 0; x < img.ny; x++){\n",
    "        for(var y = 0; y < img.ny; y++){\n",
    "            // extract the 3x3 neighbourhood around pixel (x,y)\n",
    "            var neigh = img.getNbh(x, y, 3, 3);\n",
    "            // initializing the minimum value to the largest number possible in JS\n",
    "            var valmin = Number.MAX_VALUE;\n",
    "            // loop through every pixel of the neighborhood\n",
    "            for(var k = 0; k < 3; k++){\n",
    "                for(var l = 0; l < 3; l++){\n",
    "                    // check if the structuring element is either 'true' or '1' at the pixel location\n",
    "                    if(b.getPixel(k, l) == true || b.getPixel(k, l) == 1){\n",
    "                        // calculate new minimum value\n",
    "                        valmin = Math.min(neigh.getPixel(k, l), valmin);\n",
    "                    }\n",
    "                }\n",
    "            }\n",
    "            // set the pixel at location (x,y) to the calculated minimum value\n",
    "            img.setPixel(x, y, valmin);\n",
    "        }\n",
    "    }    \n",
    "    \n",
    "    return img;\n",
    "}"
   ]
  },
  {
   "cell_type": "markdown",
   "metadata": {
    "deletable": false,
    "editable": false,
    "kernel": "JavaScript",
    "nbgrader": {
     "cell_type": "markdown",
     "checksum": "0bcca0f58c885ae4c1fce29b4af841b0",
     "grade": false,
     "grade_id": "cell-d24e842b4783fa8d",
     "locked": true,
     "schema_version": 3,
     "solution": false,
     "task": false
    }
   },
   "source": [
    "Run the next cell to apply the function `erodeBug()` to both images and put the result in Python."
   ]
  },
  {
   "cell_type": "code",
   "execution_count": null,
   "metadata": {
    "deletable": false,
    "editable": false,
    "kernel": "JavaScript",
    "nbgrader": {
     "cell_type": "code",
     "checksum": "2a14bdc7adf3d129fe5e8792ff95f0a5",
     "grade": false,
     "grade_id": "cell-5a2d79a6a37c0f6a",
     "locked": true,
     "schema_version": 3,
     "solution": false,
     "task": false
    }
   },
   "outputs": [],
   "source": [
    "%use javascript\n",
    "%get plate\n",
    "%get butterfly\n",
    "%put eroded_plate\n",
    "%put eroded_butterfly\n",
    "\n",
    "// convert the images to Image objects\n",
    "var plate_img = new Image(plate);\n",
    "var butterfly_img = new Image(butterfly);\n",
    "// run erodeBug for the plate image\n",
    "var eroded_plate = erodeBug(plate_img).toArray()\n",
    "// run erodeBug for the butterfly image\n",
    "var eroded_butterfly = erodeBug(butterfly_img).toArray()"
   ]
  },
  {
   "cell_type": "markdown",
   "metadata": {
    "deletable": false,
    "editable": false,
    "kernel": "JavaScript",
    "nbgrader": {
     "cell_type": "markdown",
     "checksum": "8b07dd495f432167d7e4f09348f440b6",
     "grade": false,
     "grade_id": "cell-3a5555e88f05dfbf",
     "locked": true,
     "schema_version": 3,
     "solution": false,
     "task": false
    }
   },
   "source": [
    "Run the next cell to see the result of your version of `erodeBug`, as well as the difference between the original and your result. You should be able to test visually whether you fixed the bugs succesfully. "
   ]
  },
  {
   "cell_type": "code",
   "execution_count": null,
   "metadata": {
    "deletable": false,
    "editable": false,
    "kernel": "SoS",
    "nbgrader": {
     "cell_type": "code",
     "checksum": "7605ad967fa2ad03470bc458d079d3c1",
     "grade": false,
     "grade_id": "cell-2e0e470ef4e82db4",
     "locked": true,
     "schema_version": 3,
     "solution": false,
     "task": false
    },
    "tags": []
   },
   "outputs": [],
   "source": [
    "%use sos\n",
    "# Defining the images and their titles\n",
    "images = [plate, np.array(eroded_plate),  butterfly, np.array(eroded_butterfly)]\n",
    "titles = ['Original plate', 'Eroded plate', 'Original butterfly', 'Eroded butterfly']\n",
    "# Close all previous figures to release memory\n",
    "plt.close('all')\n",
    "# Display the images with their titles (you can pass lists of images and titles as arguments)\n",
    "disp_erodeBug = viewer(images, title=titles, subplots=(2,2))"
   ]
  },
  {
   "cell_type": "markdown",
   "metadata": {
    "deletable": false,
    "editable": false,
    "kernel": "Python3",
    "nbgrader": {
     "cell_type": "markdown",
     "checksum": "d833c5cd36151ced096d8a0197b4b104",
     "grade": false,
     "grade_id": "cell-cd756a37684f9fb6",
     "locked": true,
     "schema_version": 3,
     "solution": false,
     "task": false
    }
   },
   "source": [
    "If you're unsure about the result, it's always a good idea to test a function on an input to which we know the output. For example, we know that if we erode a rectangle of height 3 surrounded by zeros with a $3 \\times 3$ square, the result should be a black image with a white horizontal line, right? So let's try it... Run the cells below to create the test image and apply the function `erodeBug` on it."
   ]
  },
  {
   "cell_type": "code",
   "execution_count": null,
   "metadata": {
    "deletable": false,
    "editable": false,
    "kernel": "SoS",
    "nbgrader": {
     "cell_type": "code",
     "checksum": "0c2bcec5525f24a02908380386fb96c4",
     "grade": false,
     "grade_id": "cell-bd43e04a59f028ff",
     "locked": true,
     "schema_version": 3,
     "solution": false,
     "task": false
    }
   },
   "outputs": [],
   "source": [
    "%use sos\n",
    "%put square_image --to javascript\n",
    "# To define the image with a square in the middle, we initialize a 9x9 image of zeros\n",
    "square_image = np.zeros((5, 11))\n",
    "# and insert the rectangle of 1s\n",
    "square_image[1:4, 1:10] = 1\n",
    "# Let's see how it looks\n",
    "img_square_image = viewer(square_image, title='Rectangle of height 3 sorrounded by zeros', pixel_grid=True, axis=True, subplots=(1,1))"
   ]
  },
  {
   "cell_type": "code",
   "execution_count": null,
   "metadata": {
    "deletable": false,
    "editable": false,
    "kernel": "JavaScript",
    "nbgrader": {
     "cell_type": "code",
     "checksum": "0f64e536a03f0a555d8c68ca5d9ab2ee",
     "grade": true,
     "grade_id": "cell-0add2483a0f49514",
     "locked": true,
     "points": 1,
     "schema_version": 3,
     "solution": false,
     "task": false
    }
   },
   "outputs": [],
   "source": [
    "%use javascript\n",
    "%put eroded_square\n",
    "// run the function erodeBug on the square image\n",
    "var eroded_square = erodeBug(new Image(square_image)).toArray();"
   ]
  },
  {
   "cell_type": "markdown",
   "metadata": {
    "deletable": false,
    "editable": false,
    "kernel": "JavaScript",
    "nbgrader": {
     "cell_type": "markdown",
     "checksum": "113ff65f352b974a6edde745c3f37e64",
     "grade": false,
     "grade_id": "cell-69408c2a32c1e24f",
     "locked": true,
     "schema_version": 3,
     "solution": false,
     "task": false
    }
   },
   "source": [
    "As mentioned above, the result should be a horizontal line of **height 1** and **width 7**, in an otherwise black image. If this isn't the case, there might still be a bug in the `erodeBug` function above."
   ]
  },
  {
   "cell_type": "code",
   "execution_count": null,
   "metadata": {
    "deletable": false,
    "editable": false,
    "kernel": "SoS",
    "nbgrader": {
     "cell_type": "code",
     "checksum": "ab59c973dbfa5bd0beb354b5db430419",
     "grade": false,
     "grade_id": "cell-3ff0a139e1867c20",
     "locked": true,
     "schema_version": 3,
     "solution": false,
     "task": false
    }
   },
   "outputs": [],
   "source": [
    "%use sos\n",
    "# Display the result of the eroded square\n",
    "plt.close('all')\n",
    "img_eroded_square = viewer(np.array(eroded_square), title='erodeBug() on rectangle image', pixel_grid=True, axis=True, clip_range=[0, 1], subplots=(1,1))"
   ]
  },
  {
   "cell_type": "markdown",
   "metadata": {
    "deletable": false,
    "editable": false,
    "kernel": "Python3",
    "nbgrader": {
     "cell_type": "markdown",
     "checksum": "6baa2dffb7e5c8ae21efae1d730e1ec7",
     "grade": false,
     "grade_id": "cell-ea95ea021ba95165",
     "locked": true,
     "schema_version": 3,
     "solution": false,
     "task": false
    }
   },
   "source": [
    "# 3. Morphological filters (9 points)\n",
    "\n",
    "In this part, you are asked to implement the morphological filters given in the table below. Click on their names for a quick link to where you have to implement them.\n",
    "\n",
    "| $\\text{Filter}$ | $\\text{Function}$ | $\\text{Definition / Mathematical notation}$   |\n",
    "|------------|---------------|----------------------------------------------------------|\n",
    "| [Erosion](#3.A.-Erosion)              (3.A) | `erosion()`   | $f \\ominus b$                                            |\n",
    "| [Dilation](#3.B.-Dilation)            (3.B) | `dilation()`  | $f \\oplus b$                                             |\n",
    "| [Median](#3.C.-Median-filter)         (3.C) | `median()`    | $\\mathrm{MED}(f, b)$                                     |\n",
    "| [Open](#3.D.-Opening)                 (3.D) | `open()`      | $f \\circ b = (f \\ominus b) \\oplus b$                     |\n",
    "| [Close](#3.E.-Closing)                (3.E) | `close()`     | $f \\bullet b = (f \\oplus b) \\ominus b$                   |\n",
    "| [Gradient](#3.F.-Gradient-filter)     (3.F) | `gradient()`  | $\\bigtriangledown (f, b) = (f \\oplus b) - (f \\ominus b)$ |\n",
    "| [Top-hat](#3.G.-Top-hat-filter)       (3.G) | `topHat()`    | $\\mathrm{TH}(f, b) = f - (f \\circ b)$                    |\n",
    "| [Bottom-hat](#3.H.-Bottom-hat-filter) (3.H) | `bottomHat()` | $\\mathrm{BH}(f, b) = (f \\bullet b) - f$                  |\n",
    "\n",
    "Each function is worth **1 point**. You will start by implementing the most basic morphological filters: `erosion()`, `dilation()`, and `median()` in JavaScript and compare them to the OpenCV equivalents. The rest will be implemented in Python. The results of your implementation will be shown on the images `plate` and `butterfly`.\n",
    "\n",
    "## 3.A. Erosion\n",
    "\n",
    "In the cell below, **for 1 point**, complete the code in JavaScript to implement the `erosion(img, b)`.\n",
    "    \n",
    "⚠️ **Note: We hope that you looked in detail at the function `erodeBug`, as you can use it as a hint on how to solve the exercises of this section. Note the main difference between your correct version of `erodeBug` and the function `erosion` is: `erosion` takes as input parameter the structuring element `b`!**\n",
    "\n",
    "Remember from your course notes, given an image $f$ with support $\\Omega_f$ and a structuring element $b$ with support $\\Omega_b$, we define erosion as\n",
    "\n",
    "$$\n",
    "    (f \\ominus b)[\\mathbf{k}] = \\min_{\\mathbf{q}\\in\\Omega_b}\\left\\lbrace f\\left[\\mathbf{k} + \\mathbf{q}\\right] \\mid (\\mathbf{k}+\\mathbf{q})\\in\\Omega_f \\right\\rbrace\\,.\n",
    "$$\n",
    " \n",
    "As we mentioned before, because all the structuring elements are symmetric and $N$ is odd, you need not worry about reflecting them. See the note in [1. Structuring elements](#1.-Structuring-elements-(2-points)).\n",
    "    \n",
    "💡 *Hint: You can use `Number.MAX_VALUE` to get the highest number possible in JavaScript.*"
   ]
  },
  {
   "cell_type": "code",
   "execution_count": null,
   "metadata": {
    "deletable": false,
    "kernel": "JavaScript",
    "nbgrader": {
     "cell_type": "code",
     "checksum": "d76a957d2169dae416b2640930f914c9",
     "grade": false,
     "grade_id": "cell-558deaa9dadede64",
     "locked": false,
     "schema_version": 3,
     "solution": true,
     "task": false
    }
   },
   "outputs": [],
   "source": [
    "%use javascript\n",
    "\n",
    "// function that performs an erosion on the image 'img' using the structuring element 'b'\n",
    "function erosion(img, b){\n",
    "    // declaring the output image\n",
    "    var output = new Image(img.shape());\n",
    "    \n",
    "    // YOUR CODE HERE\n",
    "    \n",
    "    return output;\n",
    "}\n",
    "\n",
    "// here we declare the structuring element\n",
    "var b = square(5); // Feel free to change it to your liking (using the functions implemented in part 1) and observe the results."
   ]
  },
  {
   "cell_type": "markdown",
   "metadata": {
    "deletable": false,
    "editable": false,
    "kernel": "JavaScript",
    "nbgrader": {
     "cell_type": "markdown",
     "checksum": "d1af67edc430a237fc87bcd1ff7c4e65",
     "grade": false,
     "grade_id": "cell-2de840a13e301d35",
     "locked": true,
     "schema_version": 3,
     "solution": false,
     "task": false
    }
   },
   "source": [
    "Run the next cell to apply the `erosion()` function to the images `plate` and `butterfly`."
   ]
  },
  {
   "cell_type": "code",
   "execution_count": null,
   "metadata": {
    "deletable": false,
    "editable": false,
    "kernel": "JavaScript",
    "nbgrader": {
     "cell_type": "code",
     "checksum": "b97ab6e94452cb1c797a7c3309947c8b",
     "grade": true,
     "grade_id": "cell-08b4541789a329de",
     "locked": true,
     "points": 1,
     "schema_version": 3,
     "solution": false,
     "task": false
    }
   },
   "outputs": [],
   "source": [
    "%use javascript\n",
    "%put plate_erosion\n",
    "%put butterfly_erosion\n",
    "\n",
    "// running the operation and converting the images back to python\n",
    "var plate_erosion = erosion(new Image(plate), b).toArray();\n",
    "var butterfly_erosion = erosion(new Image(butterfly), b).toArray();"
   ]
  },
  {
   "cell_type": "markdown",
   "metadata": {
    "deletable": false,
    "editable": false,
    "kernel": "JavaScript",
    "nbgrader": {
     "cell_type": "markdown",
     "checksum": "ee8cede96efdad894b0463cc0c665b34",
     "grade": false,
     "grade_id": "cell-552d7619f2e92c83",
     "locked": true,
     "schema_version": 3,
     "solution": false,
     "task": false
    }
   },
   "source": [
    "Run the next cell to visualize the results."
   ]
  },
  {
   "cell_type": "code",
   "execution_count": null,
   "metadata": {
    "deletable": false,
    "editable": false,
    "kernel": "SoS",
    "nbgrader": {
     "cell_type": "code",
     "checksum": "33116087076630335d690c87d06e63ab",
     "grade": false,
     "grade_id": "cell-7d4d2567fb9affc0",
     "locked": true,
     "schema_version": 3,
     "solution": false,
     "task": false
    }
   },
   "outputs": [],
   "source": [
    "%use sos\n",
    "# Declare the lists of images and titles for the display\n",
    "images = [plate, butterfly, np.array(plate_erosion), np.array(butterfly_erosion)]\n",
    "image_names = ['plate', 'butterfly', 'plate eroded', 'butterfly eroded']\n",
    "\n",
    "# Display all 4 images\n",
    "plt.close('all')\n",
    "erosion_results = viewer(images, title=image_names, subplots=(2,2))"
   ]
  },
  {
   "cell_type": "markdown",
   "metadata": {
    "deletable": false,
    "editable": false,
    "kernel": "Python3",
    "nbgrader": {
     "cell_type": "markdown",
     "checksum": "b8461e33ad8438f8f6155ab5af398608",
     "grade": false,
     "grade_id": "cell-e7a490f8b2651312",
     "locked": true,
     "schema_version": 3,
     "solution": false,
     "task": false
    }
   },
   "source": [
    "OpenCV has implemented the function [`cv.erode`](https://docs.opencv.org/4.5.3/d4/d86/group__imgproc__filter.html#gaeb1e0c1033e3f6b891a25d0511362aeb), which we can use to erode an image with a custom structuring element. The main parameters are:\n",
    " * `src`: The original image, \n",
    " * `kernel`: The structuring element, \n",
    " * `borderType`: The boundary conditions. \n",
    " \n",
    "We encourage you to look at the [documentation](https://docs.opencv.org/4.5.3/d4/d86/group__imgproc__filter.html#gaeb1e0c1033e3f6b891a25d0511362aeb) for more details.\n",
    "You might find some other interesting parameters, such as `iterations`. \n",
    "    \n",
    "⚠️ **Notes: We use mirror padding here specifically because the `getNbh` method used in JavaScript applies this padding by default. This way we can correctly compare the two results, If the two images are not equal, you will see the differences in red (red areas mean that those pixels do not match). Make sure that you are using the same structuring elements! And use the info from the red areas to see where the differences might come from.**\n",
    "\n",
    "It is best practice to explicitly declare arguments to Python functions when using image processing libraries -- except for the original image, as it is always the first one -- as we have been doing with `cv.getStructuringElement`. This is because the optional arguments are not necessarily in the order in which we will use them, and explicit declaration can avoid confusion (e.g. `cv.erode(img, kernel=b, borderType=cv.BORDER_REFLECT)` is not the same as `cv.erode(img, b, cv.BORDER_REFLECT)`! If you go through the documentation, you will see that there is the parameter `dst` in between them."
   ]
  },
  {
   "cell_type": "code",
   "execution_count": null,
   "metadata": {
    "kernel": "SoS"
   },
   "outputs": [],
   "source": [
    "%use sos\n",
    "# Lets erode the plate image with OpenCV to see if the results are the same\n",
    "# Define structuring element - feel free to change it, but it should be the same as in JavaScript for the comparison to make sense!\n",
    "b = cv.getStructuringElement(cv.MORPH_RECT, ksize=(5,5))\n",
    "# Erode plate\n",
    "plate_erosion_cv = cv.erode(plate, kernel=b, borderType=cv.BORDER_REFLECT)\n",
    "\n",
    "# Compare the two versions visually\n",
    "plt.close('all')\n",
    "erosion_comp = viewer([np.array(plate_erosion), plate_erosion_cv], title=['JS eroded plate', 'OpenCV eroded plate'], subplots=(1,2), compare=True)"
   ]
  },
  {
   "cell_type": "code",
   "execution_count": null,
   "metadata": {
    "deletable": false,
    "editable": false,
    "kernel": "SoS",
    "nbgrader": {
     "cell_type": "code",
     "checksum": "76ae94dbd0c1e484ff3115825e956172",
     "grade": false,
     "grade_id": "cell-b8193a13d777fc44",
     "locked": true,
     "schema_version": 3,
     "solution": false,
     "task": false
    }
   },
   "outputs": [],
   "source": [
    "%use sos\n",
    "# And numerically\n",
    "assert np.allclose(plate_erosion, plate_erosion_cv), 'Sorry, but the eroded images are not identical. Make sure you used the same structuring elements for both functions.'\n",
    "print('Nice! Your erosion function gives the same result as OpenCV on the plate image.')"
   ]
  },
  {
   "cell_type": "markdown",
   "metadata": {
    "deletable": false,
    "editable": false,
    "kernel": "Python3",
    "nbgrader": {
     "cell_type": "markdown",
     "checksum": "44f18ba53434919251fddb3a6eee6232",
     "grade": false,
     "grade_id": "cell-4476420d03439e33",
     "locked": true,
     "schema_version": 3,
     "solution": false,
     "task": false
    }
   },
   "source": [
    "## 3.B. Dilation\n",
    "\n",
    "In the cell below, **for 1 point**, complete the code in JavaScript to implement the `dilation(img, b)`.\n",
    "\n",
    "Remember that in the course, given an image $f$ with support $\\Omega_f$ and a structuring element $b$ with support $\\Omega_b$, we define dilation as\n",
    "\n",
    "$$\n",
    "    (f \\oplus b)[\\mathbf{k}] = \\max_{\\mathbf{q}\\in\\Omega_b}\\left\\lbrace f\\left[\\mathbf{k} - \\mathbf{q}\\right] \\mid (\\mathbf{k}-\\mathbf{q})\\in\\Omega_f \\right\\rbrace\\,.\n",
    "$$"
   ]
  },
  {
   "cell_type": "code",
   "execution_count": null,
   "metadata": {
    "deletable": false,
    "kernel": "JavaScript",
    "nbgrader": {
     "cell_type": "code",
     "checksum": "e450ab1101a1b4ec1cf09dbf39231ab7",
     "grade": false,
     "grade_id": "cell-9e323415140d5185",
     "locked": false,
     "schema_version": 3,
     "solution": true,
     "task": false
    }
   },
   "outputs": [],
   "source": [
    "%use javascript\n",
    "\n",
    "// function that performs a dilation on the image 'img' using the structuring element 'b'\n",
    "function dilation(img, b) {\n",
    "    // declaring the output image\n",
    "    var output = new Image(img.shape());\n",
    "    \n",
    "    // YOUR CODE HERE\n",
    "    \n",
    "    return output;\n",
    "}\n",
    "\n",
    "// Here we declare the structuring element\n",
    "var b = square(5); // Feel free to change it to your liking (using the functions implemented in part 1) and observe the results."
   ]
  },
  {
   "cell_type": "markdown",
   "metadata": {
    "deletable": false,
    "editable": false,
    "kernel": "JavaScript",
    "nbgrader": {
     "cell_type": "markdown",
     "checksum": "bafca61d1ba375c21d29476ed2a5e7a6",
     "grade": false,
     "grade_id": "cell-d382ba4c146ea777",
     "locked": true,
     "schema_version": 3,
     "solution": false,
     "task": false
    }
   },
   "source": [
    "Now run the next two cells to dilate the images `plate` and `butterfly` and see the results. "
   ]
  },
  {
   "cell_type": "code",
   "execution_count": null,
   "metadata": {
    "deletable": false,
    "editable": false,
    "kernel": "JavaScript",
    "nbgrader": {
     "cell_type": "code",
     "checksum": "efbb7d432dbfdba020b64962f00b5e89",
     "grade": true,
     "grade_id": "cell-7fd13ac756f82691",
     "locked": true,
     "points": 1,
     "schema_version": 3,
     "solution": false,
     "task": false
    }
   },
   "outputs": [],
   "source": [
    "%use javascript\n",
    "%put plate_dilation\n",
    "%put butterfly_dilation\n",
    "\n",
    "// running the operation and converting the images back to python\n",
    "var plate_dilation = dilation(new Image(plate), b).toArray();\n",
    "var butterfly_dilation = dilation(new Image(butterfly), b).toArray();"
   ]
  },
  {
   "cell_type": "code",
   "execution_count": null,
   "metadata": {
    "deletable": false,
    "editable": false,
    "kernel": "SoS",
    "nbgrader": {
     "cell_type": "code",
     "checksum": "b4ec67979e231bcdbec06338d5ab5d55",
     "grade": false,
     "grade_id": "cell-d7547b4bb1c44286",
     "locked": true,
     "schema_version": 3,
     "solution": false,
     "task": false
    }
   },
   "outputs": [],
   "source": [
    "%use sos\n",
    "# Define the image and title lists for the visualization\n",
    "images = [plate, butterfly, np.array(plate_dilation), np.array(butterfly_dilation)]\n",
    "image_names = ['plate', 'butterfly', 'plate dilated', 'butterfly dilated']\n",
    "\n",
    "# Display the results\n",
    "plt.close('all')\n",
    "dilation_results = viewer(images, title=image_names, subplots=(2,2))"
   ]
  },
  {
   "cell_type": "markdown",
   "metadata": {
    "deletable": false,
    "editable": false,
    "kernel": "Python3",
    "nbgrader": {
     "cell_type": "markdown",
     "checksum": "c42fa83961491895bcd9390ad52700c4",
     "grade": false,
     "grade_id": "cell-981c9d9a61d0ecf5",
     "locked": true,
     "schema_version": 3,
     "solution": false,
     "task": false
    }
   },
   "source": [
    "As we did for the erosion, in Python we can use [`cv.dilate`](https://docs.opencv.org/4.5.3/d4/d86/group__imgproc__filter.html#ga4ff0f3318642c4f469d0e11f242f3b6c) to dilate an image `img` with a structuring element `b`. The input arguments are the same as for `cv.erode`. Run the cells below to compare your implementation to the one of OpenCV."
   ]
  },
  {
   "cell_type": "code",
   "execution_count": null,
   "metadata": {
    "kernel": "SoS"
   },
   "outputs": [],
   "source": [
    "%use sos\n",
    "# Lets dilate the plate image using OpenCV\n",
    "# As always, we first define the structuring element we want to use\n",
    "b = cv.getStructuringElement(cv.MORPH_RECT, ksize=(5,5))\n",
    "\n",
    "# Then we perform the dilation\n",
    "plate_dilation_cv = cv.dilate(plate, kernel=b, borderType=cv.BORDER_REFLECT)\n",
    "\n",
    "# And compare the two versions visually\n",
    "plt.close('all')\n",
    "dilation_comp = viewer([np.array(plate_dilation), plate_dilation_cv], title=['JS dilated plate', 'OpenCV dilated plate'], subplots=(1,2), compare=True)"
   ]
  },
  {
   "cell_type": "code",
   "execution_count": null,
   "metadata": {
    "deletable": false,
    "editable": false,
    "kernel": "SoS",
    "nbgrader": {
     "cell_type": "code",
     "checksum": "11c168be0a43c8c8ef39d4214923e398",
     "grade": false,
     "grade_id": "cell-f2a2b54f8bf23beb",
     "locked": true,
     "schema_version": 3,
     "solution": false,
     "task": false
    }
   },
   "outputs": [],
   "source": [
    "%use sos\n",
    "# And compare numerically\n",
    "assert np.allclose(plate_dilation, plate_dilation_cv), 'Sorry, but the dilated images are not identical. Make sure you used the same structuring elements for both functions.'\n",
    "print(\"That's it! Your dilation function produces the same result as OpenCV on the plate image.\")"
   ]
  },
  {
   "cell_type": "markdown",
   "metadata": {
    "deletable": false,
    "editable": false,
    "kernel": "Python3",
    "nbgrader": {
     "cell_type": "markdown",
     "checksum": "29aa6ef66d78de38af6dd6ec5bcadc5f",
     "grade": false,
     "grade_id": "cell-2318f19ed09eca46",
     "locked": true,
     "schema_version": 3,
     "solution": false,
     "task": false
    }
   },
   "source": [
    "## 3.C. Median filter\n",
    "\n",
    "In the cell below, **for 1 point**, complete the code in JavaScript to implement the `median()` filter.\n",
    "\n",
    "Remember that in the course, given an image $f$ with support $\\Omega_f$ and a structuring element $b$ with support $\\Omega_b$, we define the median filter as\n",
    "\n",
    "$$\n",
    "    \\mathrm{MED}(f, b)[\\mathbf{k}] = \\mathrm{median}\\left( \\left\\lbrace f\\left[\\mathbf{k} - \\mathbf{q}\\right] \\mid \\mathbf{q}\\in\\Omega_b, (\\mathbf{k}-\\mathbf{q})\\in\\Omega_f \\right\\rbrace \\right)\\,.\n",
    "$$\n",
    "\n",
    "Here, $\\mathrm{median}(\\cdot)$ is a function that acts on a set of numbers, as usual in statistics (see, e.g., [here](https://en.wikipedia.org/wiki/Median#Finite_data_set_of_numbers)). These numbers are specified by the mathematical expression inside $\\lbrace\\cdot\\rbrace$. \n",
    "\n",
    "💡 *Hint: You can use `nbh.sort(b)` to get a sorted (low to high) 1D `Image`object of the pixels in `nbh` that are under the `True` values of the structuring element `b` The sorted `Image` object consists of just one row, so the length of the sorted numbers is given by `sorted.nx`. Example: use `sorted.getPixel(2, 0)` to extract the 3rd smallest value.*"
   ]
  },
  {
   "cell_type": "code",
   "execution_count": null,
   "metadata": {
    "deletable": false,
    "kernel": "JavaScript",
    "nbgrader": {
     "cell_type": "code",
     "checksum": "dd3edd335495cc9b3b7aae240975e8fe",
     "grade": false,
     "grade_id": "cell-15c84b0f0f6ca155",
     "locked": false,
     "schema_version": 3,
     "solution": true,
     "task": false
    }
   },
   "outputs": [],
   "source": [
    "%use javascript\n",
    "\n",
    "// function that performs a median on the image 'img' using the structuring element 'b'\n",
    "function median(img, b) {\n",
    "    // declaring the output image\n",
    "    var output = new Image(img.shape());\n",
    "    \n",
    "    // YOUR CODE HERE\n",
    "    \n",
    "    return output;\n",
    "}\n",
    "\n",
    "// here we declare the structuring element\n",
    "var b = square(5); // Feel free to change it to your liking (using the functions implemented in part 1) and observe the results."
   ]
  },
  {
   "cell_type": "code",
   "execution_count": null,
   "metadata": {
    "deletable": false,
    "editable": false,
    "kernel": "JavaScript",
    "nbgrader": {
     "cell_type": "code",
     "checksum": "a3306a5c0fa458b462fb3a686df82380",
     "grade": true,
     "grade_id": "cell-62ff998f6f64f1a5",
     "locked": true,
     "points": 1,
     "schema_version": 3,
     "solution": false,
     "task": false
    }
   },
   "outputs": [],
   "source": [
    "%use javascript\n",
    "%put plate_median\n",
    "%put butterfly_median\n",
    "\n",
    "// running the operation and converting the images back to python\n",
    "var plate_median = median(new Image(plate), b).toArray();\n",
    "var butterfly_median = median(new Image(butterfly), b).toArray();"
   ]
  },
  {
   "cell_type": "code",
   "execution_count": null,
   "metadata": {
    "deletable": false,
    "editable": false,
    "kernel": "SoS",
    "nbgrader": {
     "cell_type": "code",
     "checksum": "71f34538f2d3c01ea2151174c1b2d47e",
     "grade": false,
     "grade_id": "cell-608714a13da59807",
     "locked": true,
     "schema_version": 3,
     "solution": false,
     "task": false
    }
   },
   "outputs": [],
   "source": [
    "%use sos\n",
    "# Define the lists of names and images for visualization\n",
    "images = [plate, butterfly, np.array(plate_median), np.array(butterfly_median)]\n",
    "image_names = ['plate', 'butterfly', 'plate median', 'butterfly median']\n",
    "\n",
    "# Display the results\n",
    "plt.close('all')\n",
    "median_results = viewer(images, title=image_names, subplots=(2,2))"
   ]
  },
  {
   "cell_type": "markdown",
   "metadata": {
    "deletable": false,
    "editable": false,
    "kernel": "Python3",
    "nbgrader": {
     "cell_type": "markdown",
     "checksum": "8c92366833b11da093ee956e4e189b48",
     "grade": false,
     "grade_id": "cell-e0aaf359cd8a2707",
     "locked": true,
     "schema_version": 3,
     "solution": false,
     "task": false
    }
   },
   "source": [
    "To apply a median filter to an image `img` with an $n \\times n$ **square** structuring element using OpenCV, we can use [`cv.medianBlur(img, ksize=n)`](https://docs.opencv.org/4.5.3/d4/d86/group__imgproc__filter.html#ga564869aa33e58769b4469101aac458f9). Run the cell below to compare your median to the OpenCV median.\n",
    "\n",
    "**Note: In OpenCV, the median filter can only be applied with a square structuring element, and uses \"repeat padding\" at the border, i.e., it repeats the last pixel. That means that you just coded a more versatile median filter than the one from one of the most recognized image-processing libraries!**"
   ]
  },
  {
   "cell_type": "code",
   "execution_count": null,
   "metadata": {
    "kernel": "SoS"
   },
   "outputs": [],
   "source": [
    "%use sos\n",
    "# Lets apply the median to the plate image\n",
    "# Set the size of the square structuring element\n",
    "n = 5\n",
    "# Run the operation\n",
    "plate_median_cv = cv.medianBlur(plate, ksize=n)\n",
    "# Compare the two versions visually\n",
    "plt.close('all')\n",
    "median_comp = viewer([np.array(plate_median), plate_median_cv], title=['JS median filtered plate', 'OpenCV median filtered plate'], subplots=(1,2), compare=True)"
   ]
  },
  {
   "cell_type": "markdown",
   "metadata": {
    "deletable": false,
    "editable": false,
    "kernel": "Python3",
    "nbgrader": {
     "cell_type": "markdown",
     "checksum": "f9fc7021edd405a2b1a6446c1a7e7365",
     "grade": false,
     "grade_id": "cell-9d2d6fdc206f8592",
     "locked": true,
     "schema_version": 3,
     "solution": false,
     "task": false
    }
   },
   "source": [
    "⚠️ **Note: Because the OpenCV median uses \"repeat padding\" instead of \"mirror padding\" as we do, we should not compare the border region of the images. To be sure, we leave the $\\frac{n}{2} + 1$ outer-most rows and columns out of the comparison, where $n$ is the size of the square structuring element.**"
   ]
  },
  {
   "cell_type": "code",
   "execution_count": null,
   "metadata": {
    "deletable": false,
    "editable": false,
    "kernel": "SoS",
    "nbgrader": {
     "cell_type": "code",
     "checksum": "b1b3bec0ede0371c60a6069357adbed8",
     "grade": false,
     "grade_id": "cell-f5116f1fe6ae30ab",
     "locked": true,
     "schema_version": 3,
     "solution": false,
     "task": false
    }
   },
   "outputs": [],
   "source": [
    "%use sos\n",
    "# And numerically\n",
    "assert np.allclose(np.array(plate_median)[n//2+1:np.shape(plate_median)[0]-n//2, n//2+1:np.shape(plate_median)[1]-n//2], \n",
    "                   plate_median_cv[n//2+1:plate_median_cv.shape[0]-n//2, n//2+1:plate_median_cv.shape[1]-n//2]), 'Sorry, but your median filter still needs some work.'\n",
    "print(\"Very good! Your median filter gives the same result as OpenCV for the plate image.\")"
   ]
  },
  {
   "cell_type": "markdown",
   "metadata": {
    "deletable": false,
    "editable": false,
    "kernel": "JavaScript",
    "nbgrader": {
     "cell_type": "markdown",
     "checksum": "b720879bf1552002c0d3f5666eeed8c1",
     "grade": false,
     "grade_id": "cell-9a5ae8e09b341817",
     "locked": true,
     "schema_version": 3,
     "solution": false,
     "task": false
    }
   },
   "source": [
    "Now let's take a moment to look at the [morphological filters' table](#3.-Morphological-filters-(9-points)), given at the beginning of Part 3. There, you will see that all the morphological filters that we have not implemented yet are simple combinations of some of those that we have implemented, namely `dilation` and `erosion`. Since the idea of this lab is for you to understand how morphological filters work and not to write down an unnecessary amount of `for` loops in JavaScript, **we will now switch to only using Python and OpenCV for the rest of the lab**."
   ]
  },
  {
   "cell_type": "markdown",
   "metadata": {
    "deletable": false,
    "editable": false,
    "kernel": "Python3",
    "nbgrader": {
     "cell_type": "markdown",
     "checksum": "36cb6ba6506291aa018d2e45dd573899",
     "grade": false,
     "grade_id": "cell-382cddbb0af7fa9f",
     "locked": true,
     "schema_version": 3,
     "solution": false,
     "task": false
    }
   },
   "source": [
    "## 3.D. Opening\n",
    "\n",
    "In the cell below, **for 1 point**, implement the `open()` function **using only the [`cv.dilate`](https://docs.opencv.org/4.5.3/d4/d86/group__imgproc__filter.html#ga4ff0f3318642c4f469d0e11f242f3b6c) and [`cv.erode`](https://docs.opencv.org/4.5.3/d4/d86/group__imgproc__filter.html#gaeb1e0c1033e3f6b891a25d0511362aeb) functions presented above**.\n",
    "\n",
    "⚠️ **Note: To be consistent, make sure you use `cv.BORDER_REFLECT` as the border type for all functions.**"
   ]
  },
  {
   "cell_type": "code",
   "execution_count": null,
   "metadata": {
    "deletable": false,
    "kernel": "SoS",
    "nbgrader": {
     "cell_type": "code",
     "checksum": "3426d867de5a18c66c3a29f50c94ddc2",
     "grade": false,
     "grade_id": "cell-617782b56656e291",
     "locked": false,
     "schema_version": 3,
     "solution": true,
     "task": false
    }
   },
   "outputs": [],
   "source": [
    "%use sos\n",
    "\n",
    "# Function that performs an opening on the image 'img' using the structuring element 'b'\n",
    "def opening(img, b):\n",
    "    # Declaring the output image\n",
    "    AoB = np.zeros(img.shape)\n",
    "    \n",
    "    # YOUR CODE HERE\n",
    "    \n",
    "    return AoB\n",
    "\n",
    "# Here we declare the structuring element\n",
    "b = cv.getStructuringElement(cv.MORPH_RECT, ksize=(5,5)); # Feel free to change it to your liking (using the functions presented in part 1) and observe the results.\n",
    "\n",
    "# Directly run the function on the two images since we do not need to convert any variables between JavaScript and Python\n",
    "plate_open = opening(plate, b)\n",
    "butterfly_open = opening(butterfly, b)\n",
    "\n",
    "# and also display the result\n",
    "# Define the lists of images and titles\n",
    "images = [plate, butterfly, plate_open, butterfly_open]\n",
    "image_names = ['plate', 'butterfly', 'plate opened', 'butterfly opened']\n",
    "# Visualize them\n",
    "plt.close('all')\n",
    "open_results = viewer(images, title=image_names, subplots=(2,2))"
   ]
  },
  {
   "cell_type": "markdown",
   "metadata": {
    "deletable": false,
    "editable": false,
    "kernel": "Python3",
    "nbgrader": {
     "cell_type": "markdown",
     "checksum": "0a23a465f86bda999c8d8cb63731b1c9",
     "grade": false,
     "grade_id": "cell-b0eb28fc267ccd10",
     "locked": true,
     "schema_version": 3,
     "solution": false,
     "task": false
    }
   },
   "source": [
    "Now let's compare your `open` function to the one that OpenCV provides. Using OpenCV, you can perform the opening of an image `img` with a structuring element `b` using [`cv.morphologyEx`](https://docs.opencv.org/4.5.2/d4/d86/group__imgproc__filter.html#ga67493776e3ad1a3df63883829375201f). Its main parameters are very similar to the other morphology related functions:\n",
    " * `src`: the original image, \n",
    " * `op`: The operation to be performed (see OpenCV's [MorphTypes](https://docs.opencv.org/4.5.2/d4/d86/group__imgproc__filter.html#ga7be549266bad7b2e6a04db49827f9f32) list)\n",
    " * `kernel`: Structuring element to use, \n",
    " * `borderType`: Boundary conditions.\n",
    "\n",
    "Again we use `borderType=cv.BORDER_REFLECT` for consistency. Run the next cell to compare the functions.\n",
    "\n",
    "⚠️ **Note: Of course, it is forbidden to use the function `cv.morphologyEx` inside your functions `opening`, `closing`, and `gradient`.**"
   ]
  },
  {
   "cell_type": "code",
   "execution_count": null,
   "metadata": {
    "deletable": false,
    "editable": false,
    "kernel": "SoS",
    "nbgrader": {
     "cell_type": "code",
     "checksum": "31cef4177c6152be4a536b4cc523da77",
     "grade": true,
     "grade_id": "cell-617a9f1ce45c44fe",
     "locked": true,
     "points": 1,
     "schema_version": 3,
     "solution": false,
     "task": false
    }
   },
   "outputs": [],
   "source": [
    "%use sos\n",
    "# Perform the opening on plate with OpenCV using the same structuring element b\n",
    "plate_open_cv = cv.morphologyEx(src=plate, op=cv.MORPH_OPEN, kernel=b, borderType=cv.BORDER_REFLECT)\n",
    "# Compare the two versions\n",
    "if not np.allclose(plate_open, plate_open_cv): \n",
    "    print('WARNING!\\nSorry, your opening does not match the opening of OpenCV.')\n",
    "else :\n",
    "    print(\"Great! Your opening gives the same result as OpenCV on the plate image.\")"
   ]
  },
  {
   "cell_type": "markdown",
   "metadata": {
    "deletable": false,
    "editable": false,
    "kernel": "Python3",
    "nbgrader": {
     "cell_type": "markdown",
     "checksum": "30314dcd5b595c954ac1bde9ce67366a",
     "grade": false,
     "grade_id": "cell-8d6f728a2ac07908",
     "locked": true,
     "schema_version": 3,
     "solution": false,
     "task": false
    }
   },
   "source": [
    "## 3.E. Closing\n",
    "\n",
    "In the cell below, **for 1 point**, implement the `close()` function **using only the [`cv.dilate`](https://docs.opencv.org/4.5.3/d4/d86/group__imgproc__filter.html#ga4ff0f3318642c4f469d0e11f242f3b6c) and [`cv.erode`](https://docs.opencv.org/4.5.3/d4/d86/group__imgproc__filter.html#gaeb1e0c1033e3f6b891a25d0511362aeb) functions presented above**."
   ]
  },
  {
   "cell_type": "code",
   "execution_count": null,
   "metadata": {
    "deletable": false,
    "kernel": "SoS",
    "nbgrader": {
     "cell_type": "code",
     "checksum": "21c40e40605a90bf101fdd45bfde8703",
     "grade": false,
     "grade_id": "cell-4b1c2a5eb77a0878",
     "locked": false,
     "schema_version": 3,
     "solution": true,
     "task": false
    }
   },
   "outputs": [],
   "source": [
    "%use sos\n",
    "\n",
    "# Function that performs a closing on the image 'img' using the structuring element 'b'\n",
    "def closing(img, b):\n",
    "    # Declaring the output image\n",
    "    AcB = np.zeros(img.shape)\n",
    "    \n",
    "    # YOUR CODE HERE\n",
    "    \n",
    "    return AcB\n",
    "\n",
    "# Here we declare the structuring element\n",
    "b = cv.getStructuringElement(cv.MORPH_RECT, ksize=(5,5)); # Feel free to change it to your liking (using the functions discussed and implemented in part 1) and observe the results.\n",
    "\n",
    "# Directly run the function on the two images since we do not need to convert any variables between JavaScript and Python\n",
    "plate_close = closing(plate, b)\n",
    "butterfly_close = closing(butterfly, b)\n",
    "\n",
    "# and also display the result\n",
    "# Define the lists of images and titles\n",
    "images = [plate, butterfly, plate_close, butterfly_close]\n",
    "image_names = ['plate', 'butterfly', 'plate closed', 'butterfly closed']\n",
    "# Visualize them\n",
    "plt.close('all')\n",
    "close_results = viewer(images, title=image_names, subplots=(2,2))"
   ]
  },
  {
   "cell_type": "markdown",
   "metadata": {
    "deletable": false,
    "editable": false,
    "kernel": "Python3",
    "nbgrader": {
     "cell_type": "markdown",
     "checksum": "687ff29d893bf07b0f9aa9bb0b0491cb",
     "grade": false,
     "grade_id": "cell-8d605c9327d5d110",
     "locked": true,
     "schema_version": 3,
     "solution": false,
     "task": false
    }
   },
   "source": [
    "To perform the closing operation with OpenCV, we use `cv.MORPH_CLOSE` instead of `cv.MORPH_OPEN` in the `cv.morphologyEx` function presented above. Run the cell below to compare the functions."
   ]
  },
  {
   "cell_type": "code",
   "execution_count": null,
   "metadata": {
    "deletable": false,
    "editable": false,
    "kernel": "SoS",
    "nbgrader": {
     "cell_type": "code",
     "checksum": "be3d1b851e74cbacf371c4235ff7b2d3",
     "grade": true,
     "grade_id": "cell-dd4b09e73fbba1ed",
     "locked": true,
     "points": 1,
     "schema_version": 3,
     "solution": false,
     "task": false
    }
   },
   "outputs": [],
   "source": [
    "%use sos\n",
    "# Perform the closing on plate with OpenCV using the same structuring element b\n",
    "plate_close_cv = cv.morphologyEx(src=plate, op=cv.MORPH_CLOSE, kernel=b, borderType=cv.BORDER_REFLECT)\n",
    "# Compare the two versions\n",
    "if not np.allclose(plate_close, plate_close_cv): \n",
    "    print('Sorry, your closing is not quite right.')\n",
    "else:\n",
    "    print(\"Great! Your closing gives the same result as OpenCV on the plate image.\")"
   ]
  },
  {
   "cell_type": "markdown",
   "metadata": {
    "deletable": false,
    "editable": false,
    "kernel": "Python3",
    "nbgrader": {
     "cell_type": "markdown",
     "checksum": "55f038e491029ed76c69bc9f93d43754",
     "grade": false,
     "grade_id": "cell-995f62a8f8688a6e",
     "locked": true,
     "schema_version": 3,
     "solution": false,
     "task": false
    }
   },
   "source": [
    "## 3.F. Gradient filter\n",
    "\n",
    "In the cell below, **for 1 point**, implement the `gradient()` function **using only the [`cv.dilate`](https://docs.opencv.org/4.5.3/d4/d86/group__imgproc__filter.html#ga4ff0f3318642c4f469d0e11f242f3b6c) and [`cv.erode`](https://docs.opencv.org/4.5.3/d4/d86/group__imgproc__filter.html#gaeb1e0c1033e3f6b891a25d0511362aeb) functions presented above** and basic arithmetics (`+`,`-`,`*`, or `/`).\n",
    "\n",
    "💡 *Hint: Remember that in Python you can add/subtract whole images simply by using the $+/-$ operators, without the need to iterate with `for` loops.*"
   ]
  },
  {
   "cell_type": "code",
   "execution_count": null,
   "metadata": {
    "deletable": false,
    "kernel": "SoS",
    "nbgrader": {
     "cell_type": "code",
     "checksum": "fe57097d76329af004b6d18a8e658f42",
     "grade": false,
     "grade_id": "cell-9a9f40693c09445e",
     "locked": false,
     "schema_version": 3,
     "solution": true,
     "task": false
    }
   },
   "outputs": [],
   "source": [
    "%use sos\n",
    "\n",
    "# function that performs a gradient on the image 'img' using the structuring element 'b'\n",
    "def gradient(img, b):\n",
    "    # declaring the output image\n",
    "    grad = np.zeros(img.shape)\n",
    "    \n",
    "    # YOUR CODE HERE\n",
    "    \n",
    "    return grad\n",
    "\n",
    "# here we declare the structuring element\n",
    "b = cv.getStructuringElement(cv.MORPH_RECT, ksize=(5,5)); # Feel free to change it to your liking (using the functions discussed and implemented in part 1) and observe the results.\n",
    "\n",
    "# directly run the function on the two images since we do not need to convert any variables between JavaScript and Python\n",
    "plate_gradient = gradient(plate, b)\n",
    "butterfly_gradient = gradient(butterfly, b)\n",
    "\n",
    "# and also display the result\n",
    "# define the lists of images and titles\n",
    "images = [plate, butterfly, plate_gradient, butterfly_gradient]\n",
    "image_names = ['plate', 'butterfly', 'plate gradient', 'butterfly gradient']\n",
    "# visualize them\n",
    "plt.close('all')\n",
    "gradient_results = viewer(images, title=image_names, subplots=(2,2))"
   ]
  },
  {
   "cell_type": "markdown",
   "metadata": {
    "deletable": false,
    "editable": false,
    "kernel": "JavaScript",
    "nbgrader": {
     "cell_type": "markdown",
     "checksum": "182e6c877136ec0bf1ffa9f7825d794d",
     "grade": false,
     "grade_id": "cell-836e995482cb3131",
     "locked": true,
     "schema_version": 3,
     "solution": false,
     "task": false
    }
   },
   "source": [
    "In OpenCV, the identifier `cv.MORPH_GRADIENT` can be used to calculate the gradient with the `cv.morphologyEx` function presented above. Run the next cell to check your function."
   ]
  },
  {
   "cell_type": "code",
   "execution_count": null,
   "metadata": {
    "deletable": false,
    "editable": false,
    "kernel": "SoS",
    "nbgrader": {
     "cell_type": "code",
     "checksum": "d6429845dfd4c62f0c3ff3571c81b846",
     "grade": true,
     "grade_id": "cell-caa2bf39cb6eff21",
     "locked": true,
     "points": 1,
     "schema_version": 3,
     "solution": false,
     "task": false
    }
   },
   "outputs": [],
   "source": [
    "%use sos\n",
    "# Perform the gradient on plate with OpenCV using the same structuring element b\n",
    "plate_gradient_cv = cv.morphologyEx(src=plate, op=cv.MORPH_GRADIENT, kernel=b, borderType=cv.BORDER_REFLECT)\n",
    "# Compare the two versions\n",
    "if not np.allclose(plate_gradient, plate_gradient_cv): \n",
    "    print('WARNING!\\nSorry, your gradient is not quite right.')\n",
    "else:\n",
    "    print(\"Great! Your gradient operator produces the same result as OpenCV on the plate image.\")"
   ]
  },
  {
   "cell_type": "markdown",
   "metadata": {
    "deletable": false,
    "editable": false,
    "kernel": "Python3",
    "nbgrader": {
     "cell_type": "markdown",
     "checksum": "576b8aec98a41e29eebf845bb9b88426",
     "grade": false,
     "grade_id": "cell-4e809795785e168e",
     "locked": true,
     "schema_version": 3,
     "solution": false,
     "task": false
    }
   },
   "source": [
    "## 3.G. Top-hat filter\n",
    "\n",
    "In the cell below, **for 1 point**, implement the `topHat()` function by **using only the OpenCV functions we have seen in Tasks [3.A.](#3.A.-Erosion) to [3.E.](#3.E.-Closing)**.\n",
    "\n",
    "⚠️ **Note: You are not allowed to use `cv.morphologyEx` with `cv.MORPH_TOPHAT` in this function.**"
   ]
  },
  {
   "cell_type": "code",
   "execution_count": null,
   "metadata": {
    "deletable": false,
    "kernel": "SoS",
    "nbgrader": {
     "cell_type": "code",
     "checksum": "acc5f18d5ebecdc4a2e80aa88bcaf9cf",
     "grade": false,
     "grade_id": "cell-7cf45ee1fa80cd3f",
     "locked": false,
     "schema_version": 3,
     "solution": true,
     "task": false
    }
   },
   "outputs": [],
   "source": [
    "%use sos\n",
    "\n",
    "# function that performs a topHat on the image 'img' using the structuring element 'b'\n",
    "def topHat(img, b):\n",
    "    # declaring the output image\n",
    "    tophat = np.zeros(img.shape)\n",
    "    \n",
    "    # YOUR CODE HERE\n",
    "\n",
    "    return tophat\n",
    "    \n",
    "# here we declare the structuring element\n",
    "b = cv.getStructuringElement(cv.MORPH_RECT, ksize=(5, 5)); # Feel free to change it to your liking (using the functions discussed and implemented in part 1) and observe the results.\n",
    "\n",
    "# directly run the function on the two images since we do not need to convert any variables between JavaScript and Python\n",
    "plate_tophat = topHat(plate, b)\n",
    "butterfly_tophat = topHat(butterfly, b)\n",
    "\n",
    "# and also display the result\n",
    "# define the lists of images and titles\n",
    "images = [plate, butterfly, plate_tophat, butterfly_tophat]\n",
    "image_names = ['plate', 'butterfly', 'plate tophat', 'butterfly tophat']\n",
    "# visualize them\n",
    "plt.close('all')\n",
    "tophat_results = viewer(images, title=image_names, subplots=(2,2))"
   ]
  },
  {
   "cell_type": "markdown",
   "metadata": {
    "deletable": false,
    "editable": false,
    "kernel": "JavaScript",
    "nbgrader": {
     "cell_type": "markdown",
     "checksum": "911990bb2c369aaabd55a8bc321e8c4d",
     "grade": false,
     "grade_id": "cell-39bdb75254ab565d",
     "locked": true,
     "schema_version": 3,
     "solution": false,
     "task": false
    }
   },
   "source": [
    "To perform the topHat filter in OpenCV, one uses `cv.MORPH_TOPHAT`. Run the cell below to check your function."
   ]
  },
  {
   "cell_type": "code",
   "execution_count": null,
   "metadata": {
    "deletable": false,
    "editable": false,
    "kernel": "SoS",
    "nbgrader": {
     "cell_type": "code",
     "checksum": "8e126e9413770e45df293a6a7aa8239e",
     "grade": true,
     "grade_id": "cell-c063466a7f6b89cb",
     "locked": true,
     "points": 1,
     "schema_version": 3,
     "solution": false,
     "task": false
    }
   },
   "outputs": [],
   "source": [
    "%use sos\n",
    "# Perform the top hat on plate with OpenCV using the same structuring element b\n",
    "plate_tophat_cv = cv.morphologyEx(src=plate, op=cv.MORPH_TOPHAT, kernel=b, borderType=cv.BORDER_REFLECT)\n",
    "# Compare the two versions\n",
    "if not np.allclose(plate_tophat, plate_tophat_cv): \n",
    "    print('Sorry, your topHat filter is not quite right.')\n",
    "else :\n",
    "    print(\"Great! Your topHat operator produces the same result as OpenCV on the plate image.\")"
   ]
  },
  {
   "cell_type": "markdown",
   "metadata": {
    "deletable": false,
    "editable": false,
    "kernel": "Python3",
    "nbgrader": {
     "cell_type": "markdown",
     "checksum": "50b926bb3f886e44dad2e2c05ab87650",
     "grade": false,
     "grade_id": "cell-adafb1c0e468b9a5",
     "locked": true,
     "schema_version": 3,
     "solution": false,
     "task": false
    }
   },
   "source": [
    "## 3.H. Bottom-hat filter\n",
    "\n",
    "In the cell below, **for 1 point**, implement the `bottomHat()` function by **using only the OpenCV functions we have seen in Tasks [3.A.](#3.A.-Erosion) to [3.E.](#3.E.-Closing)**.\n",
    "\n",
    "⚠️ **Note: You are not allowed to use `cv.morphologyEx` with `op=cv.MORPH_BLACKHAT` in this function.**"
   ]
  },
  {
   "cell_type": "code",
   "execution_count": null,
   "metadata": {
    "deletable": false,
    "kernel": "SoS",
    "nbgrader": {
     "cell_type": "code",
     "checksum": "1d95d4cd6389ab7cecf7b98e4e5a3214",
     "grade": false,
     "grade_id": "cell-f5652a9cab08f5a0",
     "locked": false,
     "schema_version": 3,
     "solution": true,
     "task": false
    }
   },
   "outputs": [],
   "source": [
    "%use sos\n",
    "\n",
    "# function that performs a bottomHat on the image 'img' using the structuring element 'b'\n",
    "def bottomHat(img, b):\n",
    "    # declaring the output image\n",
    "    bottomhat = np.zeros(img.shape)\n",
    "    \n",
    "    # YOUR CODE HERE\n",
    "    \n",
    "    return bottomhat\n",
    "\n",
    "# here we declare the structuring element\n",
    "b = cv.getStructuringElement(cv.MORPH_RECT, ksize=(5,5)); # Feel free to change it to your liking (using the functions discussed and implemented in part 1) and observe the results.\n",
    "\n",
    "# directly run the function on the two images since we do not need to convert any variables between JavaScript and Python\n",
    "plate_bottomhat = bottomHat(plate, b)\n",
    "butterfly_bottomhat = bottomHat(butterfly, b)\n",
    "\n",
    "# and also display the result\n",
    "# define the lists of images and titles\n",
    "images = [plate, butterfly, plate_bottomhat, butterfly_bottomhat]\n",
    "image_names = ['plate', 'butterfly', 'plate bottomHat', 'butterfly bottomHat']\n",
    "# visualize them\n",
    "plt.close('all')\n",
    "bottomhat_results = viewer(images, title=image_names, subplots=(2,2))"
   ]
  },
  {
   "cell_type": "markdown",
   "metadata": {
    "deletable": false,
    "editable": false,
    "kernel": "JavaScript",
    "nbgrader": {
     "cell_type": "markdown",
     "checksum": "2ed9b3c51b0cfa573a28b353fc8e61d8",
     "grade": false,
     "grade_id": "cell-bbdf5902faa83225",
     "locked": true,
     "schema_version": 3,
     "solution": false,
     "task": false
    }
   },
   "source": [
    "In OpenCV we use `cv.MORPH_BLACKHAT` to perform a bottomHat filter. Run the next cell to check your function."
   ]
  },
  {
   "cell_type": "code",
   "execution_count": null,
   "metadata": {
    "deletable": false,
    "editable": false,
    "kernel": "SoS",
    "nbgrader": {
     "cell_type": "code",
     "checksum": "664d3df5f4d229422c149182f08a6b5a",
     "grade": true,
     "grade_id": "cell-16ac63103d72782c",
     "locked": true,
     "points": 1,
     "schema_version": 3,
     "solution": false,
     "task": false
    }
   },
   "outputs": [],
   "source": [
    "%use sos\n",
    "# Perform the bottom hat on plate with OpenCV using the same structuring element b\n",
    "plate_bottomhat_cv = cv.morphologyEx(plate, cv.MORPH_BLACKHAT, b, borderType=cv.BORDER_REFLECT)\n",
    "# Compare the two versions\n",
    "if not np.allclose(plate_bottomhat, plate_bottomhat_cv): \n",
    "    print('Sorry, your bottomHat filter is not quite right.')\n",
    "else:\n",
    "    print(\"Great! Your bottomHat operator produces the same result as OpenCV on the plate image.\")"
   ]
  },
  {
   "cell_type": "markdown",
   "metadata": {
    "deletable": false,
    "editable": false,
    "kernel": "Python3",
    "nbgrader": {
     "cell_type": "markdown",
     "checksum": "911c5d21016c41aca4e875a9eb35d5ec",
     "grade": false,
     "grade_id": "cell-d9e341f0f95b2e61",
     "locked": true,
     "schema_version": 3,
     "solution": false,
     "task": false
    }
   },
   "source": [
    "## 3.I. Understanding morphological filters\n",
    "\n",
    "Which of the following statements are correct? Here, $N\\times$ Function(`name`, $y$) refers to composing a function $N$ times with the structuring element given by `name` with size $y\\times y$.\n",
    "\n",
    "1. The results of $3 \\times$ Erosion(Square, 3) and Erosion(Square, 7) are the same.\n",
    "2. The results of $3 \\times$ Open(Cross, 5) and Open(Cross, 5) are the same.\n",
    "3. The results of $3 \\times$ Close(Disk, 5) and Close(Disk, 5) are the same.\n",
    "4. The results of Top-Hat(Square, 3) and Bottom-Hat (Square, 3) are the same.\n",
    "\n",
    "You can use the next cell to compare the different propositions by modifying the existing code and inserting your own.\n",
    "\n",
    "⚠️ **Note:** \n",
    "- **You can use all the Python tools that you have seen previously to answer the questions.**\n",
    "- **You will not be graded on the code below, but only on the answers.**\n",
    "- **To get a disc structuring element you can use the `disc` function we provided in Part [1.C](#1.C.-Disc-structuring-element).**"
   ]
  },
  {
   "cell_type": "code",
   "execution_count": null,
   "metadata": {
    "deletable": false,
    "kernel": "SoS",
    "nbgrader": {
     "cell_type": "code",
     "checksum": "3ac5682faf9403a8d80ff04084c0ccea",
     "grade": false,
     "grade_id": "cell-714b1d972384f6cb",
     "locked": false,
     "schema_version": 3,
     "solution": true,
     "task": false
    }
   },
   "outputs": [],
   "source": [
    "%use sos\n",
    "# We use the butterfly image, feel free to use any other image\n",
    "modified_1 = butterfly\n",
    "modified_2 = butterfly\n",
    "\n",
    "# Apply the morphological operators\n",
    "\n",
    "# YOUR CODE HERE\n",
    "\n",
    "# Display the two modified images as well as their difference\n",
    "images = [modified_1, modified_2, modified_2 - modified_1]\n",
    "titles = ['Operation 1', 'Operation 2', 'Difference']\n",
    "\n",
    "plt.close('all')\n",
    "operation_comparison = viewer(images, title=titles, subplots=(2,2))"
   ]
  },
  {
   "cell_type": "markdown",
   "metadata": {
    "deletable": false,
    "editable": false,
    "kernel": "Python3",
    "nbgrader": {
     "cell_type": "markdown",
     "checksum": "f931be26dd65da2896ef37acd2ad0af2",
     "grade": false,
     "grade_id": "cell-3a73356cd72be7fd",
     "locked": true,
     "schema_version": 3,
     "solution": false,
     "task": false
    }
   },
   "source": [
    "**In the next cell, ***for 0.25 points*** per statement, assign `True` to the statements you think are correct and assign `False` to the statements you think are incorrect. The following cells are for you to check that your answers are valid.**"
   ]
  },
  {
   "cell_type": "code",
   "execution_count": null,
   "metadata": {
    "deletable": false,
    "kernel": "SoS",
    "nbgrader": {
     "cell_type": "code",
     "checksum": "47cb3e4d2b80796d0aa0d41f47023466",
     "grade": false,
     "grade_id": "cell-ee651aa4373db6b0",
     "locked": false,
     "schema_version": 3,
     "solution": true,
     "task": false
    }
   },
   "outputs": [],
   "source": [
    "%use sos\n",
    "# Example: 'statement_0 = True' or 'statement_0 = False'\n",
    "statement_1 = None\n",
    "statement_2 = None\n",
    "statement_3 = None\n",
    "statement_4 = None\n",
    "\n",
    "# YOUR CODE HERE"
   ]
  },
  {
   "cell_type": "code",
   "execution_count": null,
   "metadata": {
    "deletable": false,
    "editable": false,
    "kernel": "SoS",
    "nbgrader": {
     "cell_type": "code",
     "checksum": "4ada8a4e093e7bc03bc43a3f2f35521d",
     "grade": true,
     "grade_id": "cell-d23b839cbf5a692d",
     "locked": true,
     "points": 0.25,
     "schema_version": 3,
     "solution": false,
     "task": false
    }
   },
   "outputs": [],
   "source": [
    "%use sos\n",
    "# Perform sanity check on statement_1\n",
    "if not statement_1 in [True, False]: \n",
    "    print('WARNING!\\nAssign either True or False to statement_1.')"
   ]
  },
  {
   "cell_type": "code",
   "execution_count": null,
   "metadata": {
    "deletable": false,
    "editable": false,
    "kernel": "SoS",
    "nbgrader": {
     "cell_type": "code",
     "checksum": "af7722ccfc7b372313b50d2bed4d8611",
     "grade": true,
     "grade_id": "cell-880f09079601e5cb",
     "locked": true,
     "points": 0.25,
     "schema_version": 3,
     "solution": false,
     "task": false
    }
   },
   "outputs": [],
   "source": [
    "%use sos\n",
    "# Perform sanity check on statement_2\n",
    "if not statement_2 in [True, False]: \n",
    "    print('WARNING!\\nAssign either True or False to statement_2.')"
   ]
  },
  {
   "cell_type": "code",
   "execution_count": null,
   "metadata": {
    "deletable": false,
    "editable": false,
    "kernel": "SoS",
    "nbgrader": {
     "cell_type": "code",
     "checksum": "ea849c5ad45adff0c22c482e9fa11a21",
     "grade": true,
     "grade_id": "cell-ccf763b01a3fa21b",
     "locked": true,
     "points": 0.25,
     "schema_version": 3,
     "solution": false,
     "task": false
    }
   },
   "outputs": [],
   "source": [
    "%use sos\n",
    "# Perform sanity check on statement_3\n",
    "if not statement_3 in [True, False]:\n",
    "    print('WARNING!\\nAssign either True or False to statement_3.')"
   ]
  },
  {
   "cell_type": "code",
   "execution_count": null,
   "metadata": {
    "deletable": false,
    "editable": false,
    "kernel": "SoS",
    "nbgrader": {
     "cell_type": "code",
     "checksum": "eda0346b69c80a057e3737771ae8726f",
     "grade": true,
     "grade_id": "cell-d746686ae0759d39",
     "locked": true,
     "points": 0.25,
     "schema_version": 3,
     "solution": false,
     "task": false
    }
   },
   "outputs": [],
   "source": [
    "%use sos\n",
    "# Perform sanity check on statement_4\n",
    "if not statement_4 in [True, False]: \n",
    "    print('WARNING!\\nAssign either True or False to statement_4.')"
   ]
  },
  {
   "cell_type": "markdown",
   "metadata": {
    "deletable": false,
    "editable": false,
    "kernel": "SoS",
    "nbgrader": {
     "cell_type": "markdown",
     "checksum": "d574f84382eae4527c12f917a67f3145",
     "grade": false,
     "grade_id": "footer",
     "locked": true,
     "schema_version": 3,
     "solution": false,
     "task": false
    }
   },
   "source": [
    "🎉 Congratulations on finishing the first part of the Morphology lab! 🎉 Hopefully, you are now familiar with the basic tools needed to perform morphological operations. Your next step is to complete the second part of the lab, [Lab 3.2: Morphology Applications](./2_Morphology_Applications.ipynb), in which you will apply the basic tools you've learned in this part, to create interesting and useful image processing applications.\n",
    "\n",
    "Make sure to save your notebook (you might want to keep a copy on your personal computer) and upload it to [Moodle](https://moodle.epfl.ch/course/view.php?id=522), **in a zip file with other notebooks of this lab**.\n",
    "\n",
    "* Please do not rename the notebook!\n",
    "* Name the `zip` file *Morphology_Lab.zip*."
   ]
  }
 ],
 "metadata": {
  "kernelspec": {
   "display_name": "SoS",
   "language": "sos",
   "name": "sos"
  },
  "language_info": {
   "codemirror_mode": "sos",
   "file_extension": ".sos",
   "mimetype": "text/x-sos",
   "name": "sos",
   "nbconvert_exporter": "sos_notebook.converter.SoS_Exporter",
   "pygments_lexer": "sos"
  },
  "sos": {
   "kernels": [
    [
     "JavaScript",
     "javascript",
     "JavaScript",
     "#c8e1ae",
     ""
    ],
    [
     "SoS",
     "sos",
     "",
     "",
     "sos"
    ]
   ],
   "panel": {
    "displayed": false,
    "height": 0
   },
   "version": "0.23.3"
  }
 },
 "nbformat": 4,
 "nbformat_minor": 4
}
