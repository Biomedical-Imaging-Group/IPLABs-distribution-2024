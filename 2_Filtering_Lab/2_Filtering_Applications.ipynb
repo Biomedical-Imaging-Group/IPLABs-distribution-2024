{
 "cells": [
  {
   "cell_type": "markdown",
   "metadata": {
    "deletable": false,
    "editable": false,
    "kernel": "SoS",
    "nbgrader": {
     "cell_type": "markdown",
     "checksum": "a03166e046c5ea27141c6f5677be46e5",
     "grade": false,
     "grade_id": "cell-7c4908ae5468bfa2",
     "locked": true,
     "schema_version": 3,
     "solution": false,
     "task": false
    }
   },
   "source": [
    "# Image Processing Laboratory Notebooks <img src=\"https://www.epfl.ch/about/overview/wp-content/uploads/2020/07/logo-epfl-1024x576.png\" alt=\"EPFL_logo\" style=\"padding-right:10px;height:40px;float:left\">\n",
    "\n",
    "---\n",
    "\n",
    "This Jupyter Notebook is part of a series of computer laboratories designed\n",
    "to teach image-processing programming. They are running on the EPFL's Noto server. They are the practical complement of the theoretical lectures of the EPFL's Master course \n",
    "[**MICRO-511 Image Processing I**](https://moodle.epfl.ch/course/view.php?id=522) taught by Prof. M. Unser and Prof. D. Van de Ville.\n",
    "\n",
    "The project is funded by the Center for Digital Education and the School of Engineering. It is owned by the [Biomedical Imaging Group](http://bigwww.epfl.ch/). \n",
    "The distribution or reproduction of the notebook is strictly prohibited without the written consent of the authors.  &copy; EPFL 2024.\n",
    "\n",
    "**Authors**: \n",
    "    [Pol del Aguila Pla](mailto:pol.delaguilapla@epfl.ch), \n",
    "    [Kay Lächler](mailto:kay.lachler@epfl.ch),\n",
    "    [Alejandro Noguerón Arámburu](mailto:alejandro.nogueronaramburu@epfl.ch),\n",
    "    [Yan Liu](mailto:yan.liu@epfl.ch),\n",
    "    [Zhiyuan Hu](mailto:zhiyuan.hu@epfl.ch), and\n",
    "    [Daniel Sage](mailto:daniel.sage@epfl.ch).\n",
    "\n",
    "---\n",
    "\n",
    "# Lab 2.2: Filtering Applications\n",
    "**Released**: Thursday, November 7, 2024\n",
    "\n",
    "**Submission deadline**: Monday, November 18, 2024, before 23:59 on [Moodle](https://moodle.epfl.ch/course/view.php?id=522)\n",
    "\n",
    "**Grade weight**: Lab 2 (18 points), 10 % of the overall grade"
   ]
  },
  {
   "cell_type": "markdown",
   "metadata": {
    "deletable": false,
    "editable": false,
    "kernel": "SoS",
    "nbgrader": {
     "cell_type": "markdown",
     "checksum": "b0c9115d20e634ad25ac0e5f6702dc24",
     "grade": false,
     "grade_id": "cell-f170398fa3e1fc82",
     "locked": true,
     "schema_version": 3,
     "solution": false,
     "task": false
    }
   },
   "source": [
    "<div class=\"alert alert-danger\">\n",
    "<b>Important:</b> don't forget to write down your name and SCIPER!\n",
    "</div>\n",
    "\n",
    "## Student Name: \n",
    "## SCIPER: \n",
    "\n",
    "Double-click on this cell and fill your name and SCIPER number. Then, run the cell below to verify your identity in Noto and set the seed for random results."
   ]
  },
  {
   "cell_type": "code",
   "execution_count": null,
   "metadata": {
    "deletable": false,
    "editable": false,
    "kernel": "SoS",
    "nbgrader": {
     "cell_type": "code",
     "checksum": "181db843e2a8484c104865f047736fe1",
     "grade": true,
     "grade_id": "cell-5808010fef9a8499",
     "locked": true,
     "points": 0,
     "schema_version": 3,
     "solution": false,
     "task": false
    },
    "tags": []
   },
   "outputs": [],
   "source": [
    "%use sos\n",
    "import getpass\n",
    "# This line recovers your camipro number to mark the images with your ID\n",
    "uid = int(getpass.getuser().split('-')[2]) if len(getpass.getuser().split('-')) > 2 else ord(getpass.getuser()[0])\n",
    "print(f'SCIPER: {uid}')"
   ]
  },
  {
   "cell_type": "markdown",
   "metadata": {
    "deletable": false,
    "editable": false,
    "kernel": "SoS",
    "nbgrader": {
     "cell_type": "markdown",
     "checksum": "ddd66ebc137e7622182739165566c7a4",
     "grade": false,
     "grade_id": "cell-22d02ae9386542b4",
     "locked": true,
     "schema_version": 3,
     "solution": false,
     "task": false
    }
   },
   "source": [
    "## Imports\n",
    "In the next cells we import the libraries and load the images that we will use throughout the lab."
   ]
  },
  {
   "cell_type": "code",
   "execution_count": null,
   "metadata": {
    "deletable": false,
    "editable": false,
    "kernel": "SoS",
    "nbgrader": {
     "cell_type": "code",
     "checksum": "f59cea44588141e4875fae288b0f689c",
     "grade": false,
     "grade_id": "cell-e71e32bb6c3077e0",
     "locked": true,
     "schema_version": 3,
     "solution": false,
     "task": false
    },
    "tags": []
   },
   "outputs": [],
   "source": [
    "%use sos\n",
    "# Configure plotting as dynamic\n",
    "%matplotlib widget\n",
    "\n",
    "# Import standard required packages for this exercise\n",
    "import matplotlib.pyplot as plt\n",
    "import numpy as np\n",
    "import ipywidgets as widgets\n",
    "import skimage\n",
    "import scipy\n",
    "from skimage import io\n",
    "from interactive_kit import imviewer as viewer\n",
    "\n",
    "# Load images to be used in this exercise \n",
    "bikesgray = io.imread('images/bikesgray.tif').astype('float64')\n",
    "camera = io.imread('images/camera-16bits.tif').astype('float64')\n",
    "spots = io.imread('images/spots.tif').astype('float64')"
   ]
  },
  {
   "cell_type": "code",
   "execution_count": null,
   "metadata": {
    "deletable": false,
    "editable": false,
    "kernel": "JavaScript",
    "nbgrader": {
     "cell_type": "code",
     "checksum": "4ec2f105d4591df15745f8f8096cbcee",
     "grade": true,
     "grade_id": "cell-c6c746246d09f0e7",
     "locked": true,
     "points": 0,
     "schema_version": 3,
     "solution": false,
     "task": false
    },
    "tags": []
   },
   "outputs": [],
   "source": [
    "%use javascript\n",
    "%get bikesgray camera spots\n",
    "// import IPLabImageAccess as Image\n",
    "var Image = require('image-access')"
   ]
  },
  {
   "cell_type": "markdown",
   "metadata": {
    "deletable": false,
    "editable": false,
    "kernel": "SoS",
    "nbgrader": {
     "cell_type": "markdown",
     "checksum": "81451fe4730944367fece303958744d8",
     "grade": false,
     "grade_id": "cell-4b72a2bcfd3b306d",
     "locked": true,
     "schema_version": 3,
     "solution": false,
     "task": false
    }
   },
   "source": [
    "# Filtering applications (9 points)\n",
    "\n",
    "After the [first part](./1_Filtering.ipynb) of the lab, we expect you to feel comfortable with the basics of filtering. In this part we will look in detail at the implementation of a Gaussian filter, as well as some of its direct applications. Gaussian filters are known to be near-optimal smoothing filters, and represent perhaps the most used preprocessing step in image processing to improve robustness in a workflow and to denoise images."
   ]
  },
  {
   "cell_type": "markdown",
   "metadata": {
    "deletable": false,
    "editable": false,
    "kernel": "SoS",
    "nbgrader": {
     "cell_type": "markdown",
     "checksum": "1d7289ebb9ea5f1f51fd46e5e2e6ff56",
     "grade": false,
     "grade_id": "cell-74e9fa45faa39321",
     "locked": true,
     "schema_version": 3,
     "solution": false,
     "task": false
    }
   },
   "source": [
    "### Visualize images\n",
    "Get familiar with the images that you are going to use by running the next cell."
   ]
  },
  {
   "cell_type": "code",
   "execution_count": null,
   "metadata": {
    "deletable": false,
    "editable": false,
    "kernel": "SoS",
    "nbgrader": {
     "cell_type": "code",
     "checksum": "fbe71724e99bfd105ce3032b7b182935",
     "grade": false,
     "grade_id": "cell-fe1a26f8c6df6294",
     "locked": true,
     "schema_version": 3,
     "solution": false,
     "task": false
    },
    "tags": []
   },
   "outputs": [],
   "source": [
    "%use sos\n",
    "image_list = [bikesgray, camera, spots]\n",
    "imgs_viewer = viewer(image_list, widgets=True, hist=True)"
   ]
  },
  {
   "cell_type": "markdown",
   "metadata": {
    "deletable": false,
    "editable": false,
    "kernel": "Python3",
    "nbgrader": {
     "cell_type": "markdown",
     "checksum": "9140a206c708de64acc772c8969e0f39",
     "grade": false,
     "grade_id": "cell-727e084ec8969cc3",
     "locked": true,
     "schema_version": 3,
     "solution": false,
     "task": false
    }
   },
   "source": [
    "# 1. Gaussian filter (4 points)\n",
    "\n",
    "An [isotropic 2D Gaussian](https://en.wikipedia.org/wiki/Multivariate_normal_distribution) is represented by its impulse response,\n",
    "\n",
    "$$h_\\sigma(x,y) = \\frac{1}{2\\pi\\sigma^2}\\exp\\left(-\\frac{x^2 + y^2}{2\\sigma^2}\\right) \\overset{\\mathrm{separability}}{=} \\frac{1}{\\sqrt{2\\pi}\\sigma}\\exp\\left(-\\frac{x^2}{2\\sigma^2}\\right) \\frac{1}{\\sqrt{2\\pi}\\sigma}\\exp\\left(-\\frac{ y^2}{2\\sigma^2}\\right) \\,,$$\n",
    "\n",
    "where $\\sigma$ is the standard deviation and controls the smoothing strength.\n",
    "\n",
    "In this section, you will implement a 2D Gaussian filter with impulse response $h_{\\sigma}[m,n]$, which discretizes $h_\\sigma(x,y)$ between $[-\\lceil3\\sigma\\rceil,\\lceil 3\\sigma\\rceil]$ in $x$ and $y$. Here, $\\lceil x \\rceil$ refers to the smallest integer larger than a given $x\\in\\mathbb{R}$. \n",
    "\n",
    "Choose the size of the filter to be $N = 2\\lceil 3\\sigma \\rceil+1$ (hence, $N$ is always odd), and **ensure the impulse response adds up to $1$**, using appropriate normalization."
   ]
  },
  {
   "cell_type": "markdown",
   "metadata": {
    "deletable": false,
    "editable": false,
    "kernel": "Python3",
    "nbgrader": {
     "cell_type": "markdown",
     "checksum": "602f219fb03e3bf42e864be586844b8a",
     "grade": false,
     "grade_id": "cell-4ee31adda2ebf52a",
     "locked": true,
     "schema_version": 3,
     "solution": false,
     "task": false
    }
   },
   "source": [
    "## 1.A. Implementation of a 2D Gaussian filter (3 points)\n",
    "\n",
    "For **3 points**, implement the function `gaussian(img, sigma)` that convolves an image with a Gaussian filter using a **separable implementation** in JavaScript. Take advantage of the `filter1D` function from Section [1.B.](./1_Filtering.ipynb#1.B.-Separable-implementation-(2-points)) that we have copied here for you in the next cell.\n",
    "\n",
    "<div class=\"alert alert-success\">\n",
    "    <b>Hint: </b>\n",
    "    <ul>\n",
    "    <li>You can use <a href=\"https://developer.mozilla.org/en-US/docs/Web/JavaScript/Reference/Global_Objects/Math\">the <code>Math</code> library</a> to access different mathematical functions.</li>\n",
    "    <li>The first argument to the <code>Image</code> constructor is the <b>height</b> and the second is the <b>width</b>: <code>new Image(height, width)</code> or <code>new Image([height, width])</code>. Feel free to go back to <a href=\"../0_Introductory_lab/Introductory.ipynb#3.-Javascript-image-access-class-(2-points)\">Lab 0: Introduction</a> to review the basic usage of the ImageAccess class.</li>\n",
    "    </ul>\n",
    "</div>"
   ]
  },
  {
   "cell_type": "code",
   "execution_count": null,
   "metadata": {
    "deletable": false,
    "kernel": "JavaScript",
    "nbgrader": {
     "cell_type": "code",
     "checksum": "2d3ecf31019c2acce8dfade09451b754",
     "grade": false,
     "grade_id": "cell-6afcfd812f79ebb9",
     "locked": false,
     "schema_version": 3,
     "solution": true,
     "task": false
    },
    "tags": []
   },
   "outputs": [],
   "source": [
    "%use javascript\n",
    "// function that performs a gaussian filter with sigma on img\n",
    "function gaussian(img, sigma){\n",
    "    var output = new Image(img.shape());\n",
    "    \n",
    "    // Define normalized mask\n",
    "    // YOUR CODE HERE\n",
    "    \n",
    "    // Filter using separable implementation (hint: your mask should be 1D)\n",
    "    // You can use the filter1D function defined below\n",
    "    // YOUR CODE HERE\n",
    "    return output\n",
    "}\n",
    "\n",
    "// function that applies a 1D filter\n",
    "function filter1D(img, mask){\n",
    "    // transpose the input variables if necessary\n",
    "    if(img.nx == 1){\n",
    "        img.transposeImage();\n",
    "    }\n",
    "    if(mask.nx == 1){\n",
    "        mask.transposeImage();\n",
    "    }\n",
    "    var output = new Image(img.shape());\n",
    "    // iterate through all pixels\n",
    "    for(var x = 0; x < img.nx; x++){\n",
    "        // get the neighbourhood around position x\n",
    "        var neigh = img.getNbh(x, 0, mask.nx, 1);\n",
    "        var val = 0;\n",
    "        // iterate through the neighbourhood\n",
    "        for(var i = 0; i < neigh.nx; i++){\n",
    "            // perform convolution\n",
    "            val += neigh.getPixel(i, 0) * mask.getPixel(mask.nx - 1 - i, 0);\n",
    "        }\n",
    "        output.setPixel(x, 0, val);\n",
    "    }\n",
    "    return output\n",
    "}"
   ]
  },
  {
   "cell_type": "markdown",
   "metadata": {
    "deletable": false,
    "editable": false,
    "kernel": "JavaScript",
    "nbgrader": {
     "cell_type": "markdown",
     "checksum": "6a466b0ecf5d85da81eeb64b0e417292",
     "grade": false,
     "grade_id": "cell-6e545f157757b7dd",
     "locked": true,
     "schema_version": 3,
     "solution": false,
     "task": false
    }
   },
   "source": [
    "We have designed a quick test for you to evaluate your method, applying it to a $5 \\times 5$ impulse image. Run the following cell and check that your output has all the desired properties of a Gaussian."
   ]
  },
  {
   "cell_type": "code",
   "execution_count": null,
   "metadata": {
    "deletable": false,
    "editable": false,
    "kernel": "JavaScript",
    "nbgrader": {
     "cell_type": "code",
     "checksum": "acec1734abc96ae5a67591803e3fedfa",
     "grade": true,
     "grade_id": "cell-60827fde3a4cfda5",
     "locked": true,
     "points": 2,
     "schema_version": 3,
     "solution": false,
     "task": false
    },
    "tags": []
   },
   "outputs": [],
   "source": [
    "%use javascript\n",
    "\n",
    "var impulse = new Image([[0, 0, 0, 0, 0], [0, 0, 0, 0, 0], [0, 0, 1, 0, 0], [0, 0, 0, 0, 0], [0, 0, 0, 0, 0]]);\n",
    "var impulse_gaussian = gaussian(impulse, 0.5);\n",
    "\n",
    "// look at result, verify that it has the properties of a Gaussian\n",
    "console.log('Your impulse Gaussian:\\n' + impulse_gaussian.visualize());\n",
    "\n",
    "// this assertion checks proper behaviour: that the center is the maximum, and that two pixels in equivalent positions have the same values.\n",
    "if(impulse_gaussian.getPixel(2, 2) < impulse_gaussian.getPixel(2, 3) || impulse_gaussian.getPixel(2, 1) !== impulse_gaussian.getPixel(2, 3)){\n",
    "    console.log('WARNING!!!\\nThere are still some mistakes with your implementation! Look at the sanity checks to understand the mistakes');\n",
    "}else{\n",
    "    console.log('The symmetry of the Gaussian seems good.');\n",
    "}\n",
    "\n",
    "// check normalization\n",
    "var sum = 0\n",
    "for(var x = 0; x < impulse_gaussian.nx; x++){\n",
    "    for (var y = 0; y < impulse_gaussian.ny; y++){\n",
    "        sum += impulse_gaussian.getPixel(x, y);\n",
    "    }\n",
    "}\n",
    "if(Math.abs(sum - 1) > 1e-5){\n",
    "    console.log(\"WARNING!!\\nNormalization not correct\");\n",
    "}else{\n",
    "    console.log(\"Well done! The output sums up to approximately 1.\");\n",
    "}"
   ]
  },
  {
   "cell_type": "markdown",
   "metadata": {
    "deletable": false,
    "editable": false,
    "kernel": "Python3",
    "nbgrader": {
     "cell_type": "markdown",
     "checksum": "68f67066b40087b4ed7a37bf97a86940",
     "grade": false,
     "grade_id": "cell-55250fb304b56fbb",
     "locked": true,
     "schema_version": 3,
     "solution": false,
     "task": false
    }
   },
   "source": [
    "We will apply your Gaussian filter to the image `bikesgray` using various values of $\\sigma$. Observe the changes in the mean and standard deviation by checking the statistics box in the `viewer`, or by using the functions `np.mean` and `np.std`. \n",
    "\n",
    "Run and modify the two following cells to apply Gaussian filters with different $\\sigma$ values to `bikesgray` and view the result. Then, answer the two multiple choice questions.\n",
    "\n",
    "<div class=\"alert alert-danger\">\n",
    "<b>Important:</b> don't forget to change $\\sigma$ to a normal (small) value after your exploration!\n",
    "</div>"
   ]
  },
  {
   "cell_type": "code",
   "execution_count": null,
   "metadata": {
    "kernel": "JavaScript",
    "tags": []
   },
   "outputs": [],
   "source": [
    "%use javascript\n",
    "%put bikesgray_gaussian1 bikesgray_gaussian5\n",
    "\n",
    "// apply filter to Image object. To try different sigma values, change the variables or declare more. \n",
    "var bikesgray_gaussian1 = gaussian(new Image(bikesgray), 1).toArray()\n",
    "var bikesgray_gaussian5 = gaussian(new Image(bikesgray), 5).toArray()"
   ]
  },
  {
   "cell_type": "code",
   "execution_count": null,
   "metadata": {
    "kernel": "SoS",
    "tags": []
   },
   "outputs": [],
   "source": [
    "%use sos\n",
    "\n",
    "# Declare parameters for ImageViewer. If you want to visualize more sigma values, update the previous cell and these lists accordingly\n",
    "image_list_blur = [bikesgray, bikesgray_gaussian1, bikesgray_gaussian5]\n",
    "title_list_blur = ['Original', 'Sigma: 1', 'Sigma: 5']\n",
    "for i in range(len(image_list_blur)):\n",
    "    image_list_blur[i] = np.array(image_list_blur[i])\n",
    "plt.close('all')\n",
    "blurred_bikesgray_viewer = viewer(image_list_blur, title=title_list_blur, hist=True)"
   ]
  },
  {
   "cell_type": "markdown",
   "metadata": {
    "deletable": false,
    "editable": false,
    "kernel": "Python3",
    "nbgrader": {
     "cell_type": "markdown",
     "checksum": "deda7a703dccac4dad434668631fa336",
     "grade": false,
     "grade_id": "cell-ad335badddb0d387",
     "locked": true,
     "schema_version": 3,
     "solution": false,
     "task": false
    }
   },
   "source": [
    "### Multiple Choice Question\n",
    "\n",
    "After modifying the two cells above and visualizing the results, answer the next two questions (worth **0.5 points** each).\n",
    "\n",
    "* Q1: How will the Fourier transform of an image change after applying a Gaussian filter?\n",
    "    1. It will have lower values for higher frequencies.\n",
    "    2. It will have higher values for higher frequencies.\n",
    "    3. It will have lower values for lower frequencies.\n",
    "    4. It will not change.\n",
    "\n",
    "\n",
    "* Q2: What will be the output image when $\\sigma\\rightarrow \\infty$? What type of filter would that be?\n",
    "    1. An image equal to the original. It would be an all-pass filter.\n",
    "    2. A constant image. It would be a high-pass filter.\n",
    "    3. A 2D Gaussian. It would be a band-pass filter.\n",
    "    4. A constant image. It would be a low-pass filter.\n",
    "\n",
    "Modify the variables `answer_one` and `answer_two` in the next cell to match your choices. The second and third cells are for you to make sure that your answer is in the valid range (they should not raise any error)."
   ]
  },
  {
   "cell_type": "code",
   "execution_count": null,
   "metadata": {
    "deletable": false,
    "kernel": "SoS",
    "nbgrader": {
     "cell_type": "code",
     "checksum": "32a9b32c3392f858306ebd5a37335037",
     "grade": false,
     "grade_id": "cell-d31ab4ed244354b6",
     "locked": false,
     "schema_version": 3,
     "solution": true,
     "task": false
    },
    "tags": []
   },
   "outputs": [],
   "source": [
    "%use sos\n",
    "# Modify these variables\n",
    "answer_one = None\n",
    "answer_two = None\n",
    "# YOUR CODE HERE"
   ]
  },
  {
   "cell_type": "code",
   "execution_count": null,
   "metadata": {
    "deletable": false,
    "editable": false,
    "kernel": "SoS",
    "nbgrader": {
     "cell_type": "code",
     "checksum": "a6c11fceb2417e3d502be51a2e48235d",
     "grade": true,
     "grade_id": "cell-798aea71d77a0954",
     "locked": true,
     "points": 0.5,
     "schema_version": 3,
     "solution": false,
     "task": false
    },
    "tags": []
   },
   "outputs": [],
   "source": [
    "%use sos\n",
    "# Sanity test\n",
    "if not answer_one in [1, 2, 3, 4, 5]:\n",
    "    print('WARNING!\\nAnswer one of 1, 2, 3, 4 or 5.')"
   ]
  },
  {
   "cell_type": "code",
   "execution_count": null,
   "metadata": {
    "deletable": false,
    "editable": false,
    "kernel": "SoS",
    "nbgrader": {
     "cell_type": "code",
     "checksum": "4a81512f0a7bec47e5b282c4ac4df153",
     "grade": true,
     "grade_id": "cell-54c9fa3efc0ce756",
     "locked": true,
     "points": 0.5,
     "schema_version": 3,
     "solution": false,
     "task": false
    },
    "tags": []
   },
   "outputs": [],
   "source": [
    "%use sos\n",
    "# Sanity test\n",
    "if not answer_two in [1, 2, 3, 4]:\n",
    "    print('WARNING!\\nAnswer one of 1, 2, 3 or 4.')"
   ]
  },
  {
   "cell_type": "markdown",
   "metadata": {
    "deletable": false,
    "editable": false,
    "kernel": "Python3",
    "nbgrader": {
     "cell_type": "markdown",
     "checksum": "fff1f158543f380c041b3f1af387c39f",
     "grade": false,
     "grade_id": "cell-ab3b2bafff5869b1",
     "locked": true,
     "schema_version": 3,
     "solution": false,
     "task": false
    }
   },
   "source": [
    "## 1.B. Gaussian filter in Python (1 point)\n",
    "\n",
    "There are several implementations of Gaussian filters in Python. In this section, we will use the `scikit-image` implementation [`skimage.filters.gaussian`](https://scikit-image.org/docs/dev/api/skimage.filters.html#skimage.filters.gaussian). Here is an example how to use it:\n",
    "\n",
    "```python\n",
    "output = skimage.filters.gaussian(input, sigma=10, mode='reflect', truncate=3, preserve_range=True)\n",
    "```\n",
    "The above line specifies that we apply on the `input` image a Gaussian filter with $\\sigma=10$, reflective boundary condition, truncated to $3\\sigma$ range and keep the original range of values of `input`.\n",
    "\n",
    "\n",
    "In the next cells, we will apply it to the image `bikesgray` and compare it to your implementation. "
   ]
  },
  {
   "cell_type": "code",
   "execution_count": null,
   "metadata": {
    "deletable": false,
    "editable": false,
    "kernel": "SoS",
    "nbgrader": {
     "cell_type": "code",
     "checksum": "748a4660407f782ca5eb729f9e808cd8",
     "grade": false,
     "grade_id": "cell-96a61b2fe62e1965",
     "locked": true,
     "schema_version": 3,
     "solution": false,
     "task": false
    },
    "tags": []
   },
   "outputs": [],
   "source": [
    "%use sos\n",
    "\n",
    "bikesgray_gaussian_skimage = skimage.filters.gaussian(bikesgray, sigma=10 , mode='reflect', truncate=3, preserve_range=True)\n",
    "gaussian_viewer = viewer(bikesgray_gaussian_skimage)"
   ]
  },
  {
   "cell_type": "markdown",
   "metadata": {
    "deletable": false,
    "editable": false,
    "kernel": "Python3",
    "nbgrader": {
     "cell_type": "markdown",
     "checksum": "71848b360db97dfd4fc96117e6e42980",
     "grade": false,
     "grade_id": "cell-7bd5fa00998f0187",
     "locked": true,
     "schema_version": 3,
     "solution": false,
     "task": false
    }
   },
   "source": [
    "Now, we will compare it to your implementation in JavaScript to make sure that they are equivalent (up to errors on the order of $10^{-14}$). For this, we call the `gaussian` function you implemented with the image `bikesgray`, also for $\\sigma = 10$.\n",
    "\n",
    "If the images are not the same, an `ImageViewer` will show the differing regions in red to help identify mistakes.  "
   ]
  },
  {
   "cell_type": "code",
   "execution_count": null,
   "metadata": {
    "deletable": false,
    "editable": false,
    "kernel": "JavaScript",
    "nbgrader": {
     "cell_type": "code",
     "checksum": "2763a19bbde91bb065126343822365ac",
     "grade": false,
     "grade_id": "cell-ea846baf9848b17b",
     "locked": true,
     "schema_version": 3,
     "solution": false,
     "task": false
    },
    "tags": []
   },
   "outputs": [],
   "source": [
    "%use javascript\n",
    "%put bikesgray_gaussian10\n",
    "\n",
    "var bikesgray_gaussian10 = gaussian(new Image(bikesgray), 10).toArray()"
   ]
  },
  {
   "cell_type": "code",
   "execution_count": null,
   "metadata": {
    "deletable": false,
    "editable": false,
    "kernel": "SoS",
    "nbgrader": {
     "cell_type": "code",
     "checksum": "261f39c703366ad1d30ca56351b82531",
     "grade": true,
     "grade_id": "cell-fbc96337ae903689",
     "locked": true,
     "points": 1,
     "schema_version": 3,
     "solution": false,
     "task": false
    },
    "tags": []
   },
   "outputs": [],
   "source": [
    "%use sos\n",
    "\n",
    "bikesgray_gaussian10 = np.array(bikesgray_gaussian10)\n",
    "image_list = [bikesgray_gaussian10, bikesgray_gaussian_skimage, np.abs(bikesgray_gaussian_skimage - bikesgray_gaussian10)]\n",
    "title_list = ['JS', 'Skimage', 'Difference']\n",
    "plt.close('all')\n",
    "if not np.allclose(bikesgray_gaussian10, bikesgray_gaussian_skimage):\n",
    "    print('The results of your Gaussian filter do not match Skimage results! Look at the red areas in the viewer to see where you might have gone wrong.')\n",
    "    skimage_gaussian_viewer = viewer([bikesgray_gaussian10, bikesgray_gaussian_skimage], title=['JS', 'Skimage'], widgets=True, compare=True)\n",
    "else :\n",
    "    print('Seems like your Gaussian filter is correct!')"
   ]
  },
  {
   "cell_type": "markdown",
   "metadata": {
    "deletable": false,
    "editable": false,
    "kernel": "Python3",
    "nbgrader": {
     "cell_type": "markdown",
     "checksum": "2dcba1ee5e1623289dc66d6631d9ac80",
     "grade": false,
     "grade_id": "cell-fbad05695a20a7ac",
     "locked": true,
     "schema_version": 3,
     "solution": false,
     "task": false
    }
   },
   "source": [
    "# 2. Application: Spot detector (5 points)\n",
    "\n",
    "Now, we will apply Gaussian filtering to create a *spot detector* using the Difference of Gaussians (DoG) filter, which is an approximation of the Laplacian-of-Gaussian (LoG) filter. We will perform these tasks using **only Python libraries**.\n",
    "\n",
    "To detect spots, we will compute the local maximum on the output of the DoG filter. In the upcoming exercises, we will work with an image called `spots`. Run the next cell to visualize the image.\n",
    "\n",
    "<div class = 'alert alert-success'>\n",
    "<b>Note</b>: At first, it may seem tempting to use a simple thresholding approach to detect <i><u>bright</u></i> spots, given their higher intensity compared to the rest of the image. However, by hovering your mouse around the image and examining the pixel values, you will quickly realize that there exists no such threshold. This is precisely why we need to use more sophisiticated techniques. Moreover, the <i>spot detector</i> you will code is robust to noise, and to changing pixel values accross images. "
   ]
  },
  {
   "cell_type": "code",
   "execution_count": null,
   "metadata": {
    "deletable": false,
    "editable": false,
    "kernel": "SoS",
    "nbgrader": {
     "cell_type": "code",
     "checksum": "72b0f9aa237d1e9890f39787161f27f0",
     "grade": false,
     "grade_id": "cell-47d11e507bc385e4",
     "locked": true,
     "schema_version": 3,
     "solution": false,
     "task": false
    },
    "tags": []
   },
   "outputs": [],
   "source": [
    "%use sos\n",
    "plt.close('all')\n",
    "spots_vis = viewer(spots)"
   ]
  },
  {
   "cell_type": "markdown",
   "metadata": {
    "deletable": false,
    "editable": false,
    "kernel": "SoS",
    "nbgrader": {
     "cell_type": "markdown",
     "checksum": "dca004cc1a6c3876f59669838286bb50",
     "grade": false,
     "grade_id": "cell-23b603ff28264ca5",
     "locked": true,
     "schema_version": 3,
     "solution": false,
     "task": false
    }
   },
   "source": [
    "## 2.A. Difference of Gaussians (2 points)\n",
    "\n",
    "The DoG is constructed from the subtraction of two Gaussian functions, i.e., $\\mathrm{DoG}(x) = h_{\\sigma_{1}}(x) - h_{\\sigma_2}(x)$. It is usually parametrised only by $\\sigma_1$, and $\\sigma_2$ is chosen as $\\sigma_2 = \\sqrt{2}\\sigma_1$. \n",
    "\n",
    "Experiment with the value of $\\sigma_1$ in the next cell to see the kind of profile generated by this filter in 1D."
   ]
  },
  {
   "cell_type": "code",
   "execution_count": null,
   "metadata": {
    "deletable": false,
    "editable": false,
    "kernel": "SoS",
    "nbgrader": {
     "cell_type": "code",
     "checksum": "d33332f065996beb123bfa3ae2b77870",
     "grade": false,
     "grade_id": "cell-81f9d8b8afe93d36",
     "locked": true,
     "schema_version": 3,
     "solution": false,
     "task": false
    },
    "tags": []
   },
   "outputs": [],
   "source": [
    "%use sos\n",
    "# Choose sigmas\n",
    "sigma_slider = widgets.FloatSlider(value=0.5, min=0.5, max=5, description=r'$\\sigma_1$')\n",
    "\n",
    "# Initialize figure\n",
    "plt.close('all')\n",
    "fig, ax = plt.subplots(1, 1, num=f\"Difference of Gaussians filter in 1D - SCIPER: {uid}\", figsize=[10,4])\n",
    "ax.plot(0, 0, 0, 0, 0, 0);\n",
    "ax.set_xlabel(r\"$x$\"); plt.legend([r\"$h_{\\sigma_1}(x)$\", r\"$h_{\\sigma_2}(x)$\", r\"$\\mathrm{DoG}_{\\sigma_1}(x)$\"]);\n",
    "ax.set_xlim([-20, 20]); ax.set_ylim([-0.1, 0.8])\n",
    "ax.grid(); fig.tight_layout()\n",
    " \n",
    "# Plotting function - Callback for slider\n",
    "def dog_1d(change):\n",
    "    # Get value of sigma, initialize variables of interest and clear axes\n",
    "    sigma_1 = change.new\n",
    "    sigma_2 = sigma_1*np.sqrt(2)\n",
    "    # Update plot\n",
    "    x = np.arange(-3*sigma_2, (3+6./100)*sigma_2, 6*sigma_2/100)\n",
    "    ax.lines[0].set_data(x, scipy.stats.norm(scale=sigma_1).pdf(x))\n",
    "    ax.lines[1].set_data(x, scipy.stats.norm(scale=sigma_2).pdf(x))\n",
    "    ax.lines[2].set_data(x, scipy.stats.norm(scale=sigma_1).pdf(x) - scipy.stats.norm(scale=sigma_2).pdf(x));\n",
    "\n",
    "sigma_slider.observe(dog_1d, 'value')\n",
    "sigma_slider.value = 1\n",
    "display(sigma_slider)"
   ]
  },
  {
   "cell_type": "markdown",
   "metadata": {
    "deletable": false,
    "editable": false,
    "kernel": "SoS",
    "nbgrader": {
     "cell_type": "markdown",
     "checksum": "6c75774bcd9d6c6e33b78d78027ca79d",
     "grade": false,
     "grade_id": "cell-d32eba378f29b254",
     "locked": true,
     "schema_version": 3,
     "solution": false,
     "task": false
    }
   },
   "source": [
    "For **1 point**, modify the next cell and write the function `dog`, that takes as input an image and the value of $\\sigma_1$, then outputs the normalized DoG of this image so that its intensity is in the range$[0,1]$. **You should hardcode the value of $\\sigma_2 = \\sigma_1\\sqrt{2}$ inside the function**. \n",
    "\n",
    "\n",
    "<div class = 'alert alert-info'>\n",
    "    <b>Note</b>: Check the documentation of the <code>skimage.filters.gaussian</code> function <a href='https://scikit-image.org/docs/stable/api/skimage.filters.html#skimage.filters.gaussian'>here</a>.  <b>Make sure you use the correct parameters</b>, like <code>preserve_range = True</code> option, truncating the filter at $3\\sigma$ (so $N = 2\\lceil 3\\sigma \\rceil+1$), and using <code>'reflect'</code> or equivalent boundary conditions.\n",
    "</div>\n",
    "\n",
    "Complete the function `dog` in the next cell, where we have also included an initial sanity check."
   ]
  },
  {
   "cell_type": "code",
   "execution_count": null,
   "metadata": {
    "deletable": false,
    "kernel": "SoS",
    "nbgrader": {
     "cell_type": "code",
     "checksum": "75be5374520a354b21499c18fbde08e6",
     "grade": false,
     "grade_id": "cell-674ef161dfa3e785",
     "locked": false,
     "schema_version": 3,
     "solution": true,
     "task": false
    },
    "tags": []
   },
   "outputs": [],
   "source": [
    "%use sos\n",
    "\n",
    "def dog(image, sigma_1):\n",
    "    output = np.copy(image)\n",
    "    \n",
    "    # Apply the DoG filter to image\n",
    "    # YOUR CODE HERE\n",
    "    \n",
    "    return output\n",
    "\n",
    "err_message = \"Remember to normalize the output so that it spans the range [0,1].\"\n",
    "assert dog(spots, 1).max() == 1, err_message\n",
    "assert dog(spots, 1).min() == 0, err_message"
   ]
  },
  {
   "cell_type": "markdown",
   "metadata": {
    "deletable": false,
    "editable": false,
    "kernel": "Python3",
    "nbgrader": {
     "cell_type": "markdown",
     "checksum": "61192658d918abfd4ffc43c6214b8d65",
     "grade": false,
     "grade_id": "cell-c377142e63832728",
     "locked": true,
     "schema_version": 3,
     "solution": false,
     "task": false
    }
   },
   "source": [
    "In the next two cells, you will visualize the results of your function for different $\\sigma_1$ values. Go to the menu `Extra Widgets`, where you can find a slider to modify the value of $\\sigma_1$.  "
   ]
  },
  {
   "cell_type": "code",
   "execution_count": null,
   "metadata": {
    "deletable": false,
    "editable": false,
    "kernel": "SoS",
    "nbgrader": {
     "cell_type": "code",
     "checksum": "61cb63e6dc9071c3e94922a082ec1c20",
     "grade": true,
     "grade_id": "cell-285ed553c8175cd9",
     "locked": true,
     "points": 0.5,
     "schema_version": 3,
     "solution": false,
     "task": false
    },
    "tags": []
   },
   "outputs": [],
   "source": [
    "%use sos\n",
    "# Define sliders and button\n",
    "sigma_slider = widgets.FloatSlider(value=1, min=0.5, max=10.0, step=0.5, description='\\u03c3\\u2081:')\n",
    "button = widgets.Button(description='Apply DoG')\n",
    "# Define callback function\n",
    "def button_dog(image):\n",
    "    sigma = sigma_slider.value\n",
    "    image = dog(image, sigma)\n",
    "    return image"
   ]
  },
  {
   "cell_type": "code",
   "execution_count": null,
   "metadata": {
    "deletable": false,
    "editable": false,
    "kernel": "SoS",
    "nbgrader": {
     "cell_type": "code",
     "checksum": "a2a6b83f7edfe12966c70e87f22a01d0",
     "grade": true,
     "grade_id": "cell-7d39aaad843fd5f9",
     "locked": true,
     "points": 0.5,
     "schema_version": 3,
     "solution": false,
     "task": false
    },
    "tags": []
   },
   "outputs": [],
   "source": [
    "%use sos\n",
    "\n",
    "plt.close(\"all\")\n",
    "dog_viewer = viewer(spots, title = \"DoG Spots\", new_widgets = [sigma_slider, button], callbacks=[button_dog], widgets=True, normalize=True)"
   ]
  },
  {
   "cell_type": "markdown",
   "metadata": {
    "deletable": false,
    "editable": false,
    "kernel": "Python3",
    "nbgrader": {
     "cell_type": "markdown",
     "checksum": "586eef9785e1391bb7eec6751ac0e9ac",
     "grade": false,
     "grade_id": "cell-fcf5fd34130ddd5f",
     "locked": true,
     "schema_version": 3,
     "solution": false,
     "task": false
    }
   },
   "source": [
    "### Multiple choice question\n",
    "\n",
    "* Q1: What type of filter is the DoG?\n",
    "\n",
    "    1. Low-pass  \n",
    "    2. Band-pass  \n",
    "    3. High-pass  \n",
    "\n",
    "\n",
    "* Q2: Which $\\sigma$ would you choose to highlight the spots?\n",
    "\n",
    "    1. 1.5  \n",
    "    2. 5  \n",
    "    3. 10 \n",
    "\n",
    "\n",
    "Modify the variables `answer_one` and `answer_two` in the next cell to your choices."
   ]
  },
  {
   "cell_type": "code",
   "execution_count": null,
   "metadata": {
    "deletable": false,
    "kernel": "SoS",
    "nbgrader": {
     "cell_type": "code",
     "checksum": "be2c913856eded346f758da32ad5f40e",
     "grade": false,
     "grade_id": "cell-dda6c8f5f9a1c163",
     "locked": false,
     "schema_version": 3,
     "solution": true,
     "task": false
    },
    "tags": []
   },
   "outputs": [],
   "source": [
    "%use sos\n",
    "# Modify these variables\n",
    "answer_one = None\n",
    "answer_two = None\n",
    "# YOUR CODE HERE"
   ]
  },
  {
   "cell_type": "code",
   "execution_count": null,
   "metadata": {
    "deletable": false,
    "editable": false,
    "kernel": "SoS",
    "nbgrader": {
     "cell_type": "code",
     "checksum": "ed2f9ddf9360987af8c4ab38ef756000",
     "grade": true,
     "grade_id": "cell-d7c3a04da9a8c7b5",
     "locked": true,
     "points": 0.5,
     "schema_version": 3,
     "solution": false,
     "task": false
    },
    "tags": []
   },
   "outputs": [],
   "source": [
    "%use sos\n",
    "# Sanity check\n",
    "if not answer_one in [1, 2, 3]:\n",
    "    print('WARNING!\\nAnswer one of 1, 2 or 3.')\n",
    "assert answer_one in [1, 2, 3], 'Choose one of 1, 2 or 3.'"
   ]
  },
  {
   "cell_type": "code",
   "execution_count": null,
   "metadata": {
    "deletable": false,
    "editable": false,
    "kernel": "SoS",
    "nbgrader": {
     "cell_type": "code",
     "checksum": "79ebf3abdd70741fc35ed55b6b79881d",
     "grade": true,
     "grade_id": "cell-7cf69ee788a9b5d6",
     "locked": true,
     "points": 0.5,
     "schema_version": 3,
     "solution": false,
     "task": false
    },
    "tags": []
   },
   "outputs": [],
   "source": [
    "%use sos\n",
    "# Sanity check\n",
    "if not answer_two in [1, 2, 3]:\n",
    "    print('WARNING!\\nAnswer one of 1, 2 or 3.')"
   ]
  },
  {
   "cell_type": "markdown",
   "metadata": {
    "deletable": false,
    "editable": false,
    "kernel": "Python3",
    "nbgrader": {
     "cell_type": "markdown",
     "checksum": "08645f93049b7711a9d2ba3502a53a33",
     "grade": false,
     "grade_id": "cell-81417b2b120db889",
     "locked": true,
     "schema_version": 3,
     "solution": false,
     "task": false
    }
   },
   "source": [
    "## 2.B. Local maxima (1 point)\n",
    "\n",
    "Now you will write the function `local_max(img, T)` that returns a binary image. In a $3\\times 3$ neighborhood, this function will set the pixels which are a local maximum to $255$ and rest to $0$. A local maximum in a $3\\times 3$ neighborhood is a pixel that has a value strictly greater than its 8 closest neighbors (8-connected) and is strictly greater than a threshold $T$ (specified between $0$ and $1$, relative to the maximum of the image).\n",
    "\n",
    "<div class=\"alert alert-info\">\n",
    "    <b>Hint:</b> 8-connected pixels are neighbors to every pixel that touches one of their edges or corners.<br>\n",
    "    <table><tr>\n",
    "    <td>\n",
    "      <p align=\"center\" style=\"padding: 0px\">\n",
    "        <img src=\"images/8_connectivity.jpg\" alt=\"8-connectivity\" width=\"100px\"><br>\n",
    "      </p>\n",
    "    </td>\n",
    "    </tr></table>\n",
    "\n",
    "The function <code>skimage.feature.peak_local_max</code> (<a href = 'https://scikit-image.org/docs/0.7.0/api/skimage.feature.peak'>see documentation here</a>) is useful. Remember you don't need and shouldn't use for-loops in this exercise!\n",
    "\n",
    "</div>\n",
    "    \n",
    "For **1 point**, modify the next cell to define your function."
   ]
  },
  {
   "cell_type": "code",
   "execution_count": null,
   "metadata": {
    "deletable": false,
    "kernel": "SoS",
    "nbgrader": {
     "cell_type": "code",
     "checksum": "f0e889e036f201941d62bdc7b75d1461",
     "grade": false,
     "grade_id": "cell-3d3323cd890505a7",
     "locked": false,
     "schema_version": 3,
     "solution": true,
     "task": false
    },
    "tags": []
   },
   "outputs": [],
   "source": [
    "%use sos\n",
    "\n",
    "# Function that computes the local max in a 3x3 nbh\n",
    "def local_max(img, T):\n",
    "    output = np.zeros(img.shape)\n",
    "    \n",
    "    # Apply the local maxima\n",
    "    # YOUR CODE HERE\n",
    "    \n",
    "    return output"
   ]
  },
  {
   "cell_type": "markdown",
   "metadata": {
    "deletable": false,
    "editable": false,
    "kernel": "Python3",
    "nbgrader": {
     "cell_type": "markdown",
     "checksum": "bf244be04d604ad57304b19747e61472",
     "grade": false,
     "grade_id": "cell-3d454b9aa5651480",
     "locked": true,
     "schema_version": 3,
     "solution": false,
     "task": false
    }
   },
   "source": [
    "Run the next cell for a quick test on your function. We test  that your image applied to `camera` with a threshold $T = 0.5$ detects exactly the four maximum points of the image, as it should. If the assertion raises no error, your function is most probably correct."
   ]
  },
  {
   "cell_type": "code",
   "execution_count": null,
   "metadata": {
    "deletable": false,
    "editable": false,
    "kernel": "SoS",
    "nbgrader": {
     "cell_type": "code",
     "checksum": "0f28b972ab6caa80e2cb67b29982e8f3",
     "grade": true,
     "grade_id": "cell-bd08c0fedcdfd206",
     "locked": true,
     "points": 1,
     "schema_version": 3,
     "solution": false,
     "task": false
    },
    "tags": []
   },
   "outputs": [],
   "source": [
    "%use sos\n",
    "\n",
    "if np.count_nonzero(local_max(camera, 0.5)) in [4, 5]:\n",
    "    print('Congratulations! Your function passed this sanity check.')\n",
    "else :\n",
    "    print('WARNING!!\\nYour function is not working on the image `cameras` as it should.')"
   ]
  },
  {
   "cell_type": "markdown",
   "metadata": {
    "deletable": false,
    "editable": false,
    "kernel": "Python3",
    "nbgrader": {
     "cell_type": "markdown",
     "checksum": "44f0bde7c90f96145c4d6b0d7b307de2",
     "grade": false,
     "grade_id": "cell-c7584daecf25a116",
     "locked": true,
     "schema_version": 3,
     "solution": false,
     "task": false
    }
   },
   "source": [
    "Now you are going to see the effect of this function through a slider in `Extra Widgets`. Run the next cell to test it on the image `camera`. \n",
    "\n",
    "Then modify the next cell to look at the result of your function applied to the image `spots`. Is function able to detect the **6 spots**?  \n",
    "\n",
    "<div class = 'alert alert-info'>\n",
    "<b>Note</b>: In the image <code>camera</code>, you might notice a somewhat strange behaviour with the bright pixel located at the bottom of the image. Do you know why is this happening? If you don't, have a closer look at the documentation of <code>feature.peak_local_max</code>! \n",
    "</div>"
   ]
  },
  {
   "cell_type": "code",
   "execution_count": null,
   "metadata": {
    "kernel": "SoS",
    "tags": []
   },
   "outputs": [],
   "source": [
    "%use sos\n",
    "\n",
    "threshold_slider = widgets.FloatSlider(value=0, min=0, max=1, step=0.01, description='T:')\n",
    "button = widgets.Button(description='Apply Local Maxima')\n",
    "\n",
    "def button_local_max(image):\n",
    "    t = threshold_slider.value\n",
    "    image = local_max(image, t)\n",
    "    return image\n",
    "\n",
    "local_max_viewer = viewer(camera, title=\"Local Maxima\", new_widgets=[threshold_slider, button], callbacks=[button_local_max], widgets=True)"
   ]
  },
  {
   "cell_type": "markdown",
   "metadata": {
    "deletable": false,
    "editable": false,
    "kernel": "Python3",
    "nbgrader": {
     "cell_type": "markdown",
     "checksum": "c9be55f1d22635058ccc09bdee91380c",
     "grade": false,
     "grade_id": "cell-1deb1d7cd1c39f9b",
     "locked": true,
     "schema_version": 3,
     "solution": false,
     "task": false
    }
   },
   "source": [
    "## 2.C. Spot detector (2 points)\n",
    "\n",
    "For **1 point**, implement the method `spot_detector(img, sigma, T)`, where you use your previous two functions to detect spots. In other words, apply the detection of local maxima on the output of the DoG filter."
   ]
  },
  {
   "cell_type": "code",
   "execution_count": null,
   "metadata": {
    "deletable": false,
    "kernel": "SoS",
    "nbgrader": {
     "cell_type": "code",
     "checksum": "e51512dc7bd50ad2e7bf827b01c01579",
     "grade": false,
     "grade_id": "cell-ea2375434c08cbb4",
     "locked": false,
     "schema_version": 3,
     "solution": true,
     "task": false
    },
    "tags": []
   },
   "outputs": [],
   "source": [
    "%use sos\n",
    "\n",
    "# Function that detects spots in img, using sigma and a threshold T\n",
    "def spot_detector(img, sigma, T):\n",
    "    output = None\n",
    "    \n",
    "    # YOUR CODE HERE\n",
    "    \n",
    "    return output"
   ]
  },
  {
   "cell_type": "markdown",
   "metadata": {
    "deletable": false,
    "editable": false,
    "kernel": "Python3",
    "nbgrader": {
     "cell_type": "markdown",
     "checksum": "7120347384e68a2f299dd5a1f04e79c5",
     "grade": false,
     "grade_id": "cell-b2328e6a28636925",
     "locked": true,
     "schema_version": 3,
     "solution": false,
     "task": false
    }
   },
   "source": [
    "Run the next cell for a quick test on your function."
   ]
  },
  {
   "cell_type": "code",
   "execution_count": null,
   "metadata": {
    "deletable": false,
    "editable": false,
    "kernel": "SoS",
    "nbgrader": {
     "cell_type": "code",
     "checksum": "953ee72197a4e9f4765fbba061fb9391",
     "grade": true,
     "grade_id": "cell-236fd22ab8cd9cc8",
     "locked": true,
     "points": 1,
     "schema_version": 3,
     "solution": false,
     "task": false
    },
    "tags": []
   },
   "outputs": [],
   "source": [
    "%use sos\n",
    "\n",
    "if not np.count_nonzero(spot_detector(spots, 1, 0.3)) == 6:\n",
    "    print('WARNING!!!\\nYour function is not yet correct. First make sure that `dog` and `local_max` are.')\n",
    "else :\n",
    "    print('Congratulations! Your spot detector seems to be correct.')"
   ]
  },
  {
   "cell_type": "markdown",
   "metadata": {
    "deletable": false,
    "editable": false,
    "kernel": "Python3",
    "nbgrader": {
     "cell_type": "markdown",
     "checksum": "eb7a10313e329d733d40ff9cbefe0ecb",
     "grade": false,
     "grade_id": "cell-1ab167d65b94d87e",
     "locked": true,
     "schema_version": 3,
     "solution": false,
     "task": false
    }
   },
   "source": [
    "Now, let's apply your function to the image `spots` inside an `ImageViewer`, using two sliders for the values of $\\sigma_1$ and $T$. Run the following cell, and play with these values (access the sliders through the button `Extra Widgets`). Explore the results also on other images."
   ]
  },
  {
   "cell_type": "code",
   "execution_count": null,
   "metadata": {
    "deletable": false,
    "editable": false,
    "kernel": "SoS",
    "nbgrader": {
     "cell_type": "code",
     "checksum": "10400f0d5407aafaf6ce1186924cc619",
     "grade": false,
     "grade_id": "cell-0ae2b2b07fe6909b",
     "locked": true,
     "schema_version": 3,
     "solution": false,
     "task": false
    },
    "tags": []
   },
   "outputs": [],
   "source": [
    "%use sos\n",
    "\n",
    "# Define sliders\n",
    "sigma_slider = widgets.FloatSlider(value=5, min=0.5, max=10.0, step=0.5, description=\"\\u03c3\\u2081:\")\n",
    "t_slider = widgets.FloatSlider(value=0.5, min=0, max=1, step=0.01, description='T:')\n",
    "button = widgets.Button(description='Apply Spot Detection')\n",
    "\n",
    "# Define callback function\n",
    "def button_spot_detection(image):\n",
    "    sigma = sigma_slider.value\n",
    "    t = t_slider.value\n",
    "    image = spot_detector(image, sigma, t)\n",
    "    contours, _ = skimage.measure.find_contours(image.astype(np.uint8))\n",
    "    print(f'Detected {len(contours):4} spots.', end='\\r')\n",
    "    return image\n",
    "\n",
    "plt.close(\"all\")\n",
    "spot_detector_viewer = viewer(spots, title=\"Spot Detector\", new_widgets=[sigma_slider, t_slider, button], callbacks=[button_spot_detection], widgets=True, normalize=True )"
   ]
  },
  {
   "cell_type": "markdown",
   "metadata": {
    "deletable": false,
    "editable": false,
    "kernel": "Python3",
    "nbgrader": {
     "cell_type": "markdown",
     "checksum": "4c36f905de381d3bfb3c2e7017640426",
     "grade": false,
     "grade_id": "cell-1beb5d91da314289",
     "locked": true,
     "schema_version": 3,
     "solution": false,
     "task": false
    }
   },
   "source": [
    "### Multiple Choice Question\n",
    "\n",
    "What pair of parameters will give you exactly 6 spots? If there are more than one, try to select the most reasonable one. \n",
    "\n",
    "1. $\\sigma_1 = 10$ and $T = 0.2$\n",
    "2. $\\sigma_1 = 5$ and $T = 0.6$\n",
    "3. $\\sigma_1 = 5$ and $T = 0.2$\n",
    "4. $\\sigma_1 = 1$ and $T = 0.3$\n",
    "\n",
    "Modify the variable answer in the next cell to reflect your choice. Run the last cell to check that your answer is valid."
   ]
  },
  {
   "cell_type": "code",
   "execution_count": null,
   "metadata": {
    "deletable": false,
    "kernel": "SoS",
    "nbgrader": {
     "cell_type": "code",
     "checksum": "cd86cdc8248bebfb7cd35dbdf0336a6d",
     "grade": false,
     "grade_id": "cell-bd84aba67a6ffbda",
     "locked": false,
     "schema_version": 3,
     "solution": true,
     "task": false
    },
    "tags": []
   },
   "outputs": [],
   "source": [
    "%use sos\n",
    "# Assign your answer to this variable\n",
    "answer = None\n",
    "# YOUR CODE HERE"
   ]
  },
  {
   "cell_type": "code",
   "execution_count": null,
   "metadata": {
    "deletable": false,
    "editable": false,
    "kernel": "SoS",
    "nbgrader": {
     "cell_type": "code",
     "checksum": "77b199a6da2de3f23f75d5a61e1afcf1",
     "grade": true,
     "grade_id": "cell-de4a59f4d4ea2220",
     "locked": true,
     "points": 1,
     "schema_version": 3,
     "solution": false,
     "task": false
    },
    "tags": []
   },
   "outputs": [],
   "source": [
    "%use sos\n",
    "# Sanity check\n",
    "if not answer in [1, 2, 3, 4]:\n",
    "    print('WARNING!\\nAnswer one of 1, 2, 3 or 4.')"
   ]
  },
  {
   "cell_type": "markdown",
   "metadata": {
    "deletable": false,
    "editable": false,
    "kernel": "SoS",
    "nbgrader": {
     "cell_type": "markdown",
     "checksum": "0e36abc2d02838f1c5586e6e3fb42475",
     "grade": false,
     "grade_id": "cell-150b621dbb22fc35",
     "locked": true,
     "schema_version": 3,
     "solution": false,
     "task": false
    }
   },
   "source": [
    "<div class=\"alert alert-success\">\n",
    "    \n",
    "<p><b>Congratulations on finishing Lab 2!</b></p>\n",
    "<p>\n",
    "Make sure to save your notebook (you might want to keep a copy on your personal computer) and upload it to <a href=\"https://moodle.epfl.ch/mod/assign/view.php?id=1111434\">Moodle</a>, in a zip file together with the first part of this lab.\n",
    "</p>\n",
    "</div>\n",
    "\n",
    "* Keep the name of the notebook as: *2_Filtering_Applications.ipynb*,\n",
    "* Name the zip file: *Filtering_lab.zip*."
   ]
  }
 ],
 "metadata": {
  "kernelspec": {
   "display_name": "SoS",
   "language": "sos",
   "name": "sos"
  },
  "language_info": {
   "codemirror_mode": "sos",
   "file_extension": ".sos",
   "mimetype": "text/x-sos",
   "name": "sos",
   "nbconvert_exporter": "sos_notebook.converter.SoS_Exporter",
   "pygments_lexer": "sos"
  },
  "sos": {
   "kernels": [
    [
     "JavaScript",
     "javascript",
     "JavaScript",
     "#c8e1ae",
     ""
    ],
    [
     "SoS",
     "sos",
     "",
     "",
     "sos"
    ]
   ],
   "panel": {
    "displayed": true,
    "height": 0
   },
   "version": "0.23.4"
  }
 },
 "nbformat": 4,
 "nbformat_minor": 4
}
