{
 "cells": [
  {
   "cell_type": "markdown",
   "metadata": {
    "deletable": false,
    "editable": false,
    "kernel": "SoS",
    "nbgrader": {
     "checksum": "3d7575e98a331977c326321dce3b6a16",
     "grade": false,
     "grade_id": "cell-877746018038d109",
     "locked": true,
     "schema_version": 3,
     "solution": false,
     "task": false
    }
   },
   "source": [
    "# Image Processing Laboratory Notebooks <img src=\"https://www.epfl.ch/about/overview/wp-content/uploads/2020/07/logo-epfl-1024x576.png\" alt=\"EPFL_logo\" style=\"padding-right:10px;height:40px;float:left\">\n",
    "\n",
    "---\n",
    "\n",
    "This Jupyter Notebook is part of a series of computer laboratories designed\n",
    "to teach image-processing programming. They are running on the EPFL's Noto server. They are the practical complement of the theoretical lectures of the EPFL's Master course \n",
    "[**MICRO-511 Image Processing I**](https://moodle.epfl.ch/course/view.php?id=522) taught by Prof. M. Unser and Prof. D. Van de Ville.\n",
    "\n",
    "The project is funded by the Center for Digital Education and the School of Engineering. It is owned by the [Biomedical Imaging Group](http://bigwww.epfl.ch/). \n",
    "The distribution or reproduction of the notebook is strictly prohibited without the written consent of the authors.  &copy; EPFL 2024.\n",
    "\n",
    "**Authors**: \n",
    "    [Pol del Aguila Pla](mailto:pol.delaguilapla@epfl.ch), \n",
    "    [Kay Lächler](mailto:kay.lachler@epfl.ch),\n",
    "    [Alejandro Noguerón Arámburu](mailto:alejandro.nogueronaramburu@epfl.ch),\n",
    "    [Yan Liu](mailto:yan.liu@epfl.ch),\n",
    "    [Zhiyuan Hu](mailto:zhiyuan.hu@epfl.ch), and\n",
    "    [Daniel Sage](mailto:daniel.sage@epfl.ch).\n",
    "\n",
    "---\n",
    "\n",
    "# Lab 2.1: Filtering\n",
    "**Released**: Thursday, November 7, 2024\n",
    "\n",
    "**Submission deadline**: Monday, November 18, 2024, before 23:59 on [Moodle](https://moodle.epfl.ch/course/view.php?id=522)\n",
    "\n",
    "**Grade weight**: Lab 2 (18 points), 10 % of the overall grade"
   ]
  },
  {
   "cell_type": "markdown",
   "metadata": {
    "deletable": false,
    "editable": false,
    "kernel": "SoS",
    "nbgrader": {
     "checksum": "ca9d5d0dd1afb6d9185c9be6c031946e",
     "grade": false,
     "grade_id": "cell-237dc9988a60ec05",
     "locked": true,
     "schema_version": 3,
     "solution": false,
     "task": false
    }
   },
   "source": [
    "<div class=\"alert alert-danger\">\n",
    "<b>Important:</b> don't forget to write down your name and SCIPER!\n",
    "</div>\n",
    "\n",
    "## Student Name: \n",
    "## SCIPER: \n",
    "\n",
    "Double-click on this cell and fill your name and SCIPER number. Then, run the cell below to verify your identity in Noto and set the seed for random results."
   ]
  },
  {
   "cell_type": "code",
   "execution_count": null,
   "metadata": {
    "deletable": false,
    "editable": false,
    "kernel": "SoS",
    "nbgrader": {
     "checksum": "181db843e2a8484c104865f047736fe1",
     "grade": true,
     "grade_id": "cell-5808010fef9a8499",
     "locked": true,
     "points": 0,
     "schema_version": 3,
     "solution": false,
     "task": false
    }
   },
   "outputs": [],
   "source": [
    "%use sos\n",
    "import getpass\n",
    "# This line recovers your camipro number to mark the images with your ID\n",
    "uid = int(getpass.getuser().split('-')[2]) if len(getpass.getuser().split('-')) > 2 else ord(getpass.getuser()[0])\n",
    "print(f'SCIPER: {uid}')"
   ]
  },
  {
   "cell_type": "markdown",
   "metadata": {
    "deletable": false,
    "editable": false,
    "kernel": "SoS",
    "nbgrader": {
     "checksum": "619442a606fbd0651c524ef54505256a",
     "grade": false,
     "grade_id": "cell-22d02ae9386542b4",
     "locked": true,
     "schema_version": 3,
     "solution": false,
     "task": false
    }
   },
   "source": [
    "## Imports\n",
    "Run the next two cells to import the libraries and load the images that we will use throughout the lab."
   ]
  },
  {
   "cell_type": "code",
   "execution_count": null,
   "metadata": {
    "deletable": false,
    "editable": false,
    "kernel": "SoS",
    "nbgrader": {
     "checksum": "f6ba0968efb2fffc01becbd5252b74a9",
     "grade": false,
     "grade_id": "cell-e71e32bb6c3077e0",
     "locked": true,
     "schema_version": 3,
     "solution": false,
     "task": false
    }
   },
   "outputs": [],
   "source": [
    "%use sos\n",
    "%matplotlib widget\n",
    "\n",
    "# Import standard required packages for this exercise\n",
    "import matplotlib.pyplot as plt\n",
    "import numpy as np\n",
    "import scipy.ndimage as ndi\n",
    "import ipywidgets as widgets\n",
    "from skimage import io\n",
    "from interactive_kit import imviewer as viewer\n",
    "\n",
    "# Load images to be used in this exercise \n",
    "bikesgray = io.imread('images/bikesgray.tif').astype('float64')\n",
    "camera = io.imread('images/camera-16bits.tif').astype('float64')\n",
    "spots = io.imread('images/spots.tif').astype('float64')"
   ]
  },
  {
   "cell_type": "code",
   "execution_count": null,
   "metadata": {
    "deletable": false,
    "editable": false,
    "kernel": "JavaScript",
    "nbgrader": {
     "checksum": "b3f097108e2f58a285db9e17a4f2cedd",
     "grade": true,
     "grade_id": "cell-c6c746246d09f0e7",
     "locked": true,
     "points": 0,
     "schema_version": 3,
     "solution": false,
     "task": false
    }
   },
   "outputs": [],
   "source": [
    "%use javascript\n",
    "%get bikesgray camera spots\n",
    "// import ImageAccess as Image\n",
    "var Image = require('image-access')"
   ]
  },
  {
   "cell_type": "markdown",
   "metadata": {
    "deletable": false,
    "editable": false,
    "kernel": "SoS",
    "nbgrader": {
     "checksum": "3cfe8bbaa74bd42d720b361386101d02",
     "grade": false,
     "grade_id": "cell-4b72a2bcfd3b306d",
     "locked": true,
     "schema_version": 3,
     "solution": false,
     "task": false
    }
   },
   "source": [
    "# Filtering (9 points)\n",
    "\n",
    "In this lab, you will review the basics of digital image filtering: how to implement a convolution (the main ingredient of filtering), separable and non-separable filters, filter design, and boundary conditions. The goal is to fully understand the filtering algorithm at a pixel-by-pixel level by implementing it in JavaScript, and learn the standard tools to use filtering in professional image-processing libraries in Python."
   ]
  },
  {
   "cell_type": "markdown",
   "metadata": {
    "deletable": false,
    "editable": false,
    "kernel": "SoS",
    "nbgrader": {
     "checksum": "cebdcb01c7438ae8d287816b1582cb48",
     "grade": false,
     "grade_id": "cell-74e9fa45faa39321",
     "locked": true,
     "schema_version": 3,
     "solution": false,
     "task": false
    }
   },
   "source": [
    "# Visualize images\n",
    "Display and get familiar with the images."
   ]
  },
  {
   "cell_type": "code",
   "execution_count": null,
   "metadata": {
    "deletable": false,
    "editable": false,
    "kernel": "SoS",
    "nbgrader": {
     "checksum": "8c058feaadf84f3a5738c8eed9c0a754",
     "grade": false,
     "grade_id": "cell-ef12174b159775db",
     "locked": true,
     "schema_version": 3,
     "solution": false,
     "task": false
    }
   },
   "outputs": [],
   "source": [
    "%use sos\n",
    "image_list = [bikesgray, camera, spots]\n",
    "imgs_viewer = viewer(image_list, widgets=True, hist=True)"
   ]
  },
  {
   "cell_type": "markdown",
   "metadata": {
    "deletable": false,
    "editable": false,
    "kernel": "JavaScript",
    "nbgrader": {
     "checksum": "4e759114a50b6868cb35f158211e96b5",
     "grade": false,
     "grade_id": "cell-197bf6fba6c8591a",
     "locked": true,
     "schema_version": 3,
     "solution": false,
     "task": false
    },
    "tags": []
   },
   "source": [
    "# 1. Edge detection (3 points)\n",
    "\n",
    "In this part of the lab, we will review one of the most basic image processing operation, edge detection. Moreover, we will use this filter to review the concepts of convolution and correlation. Edge detection algorithms try to detect sharp intesity differences between neighbouring pixels. A common vertical-edge detector (detecting changes in the $x$ direction) is the **Sobel filter**, represented by the impulse response\n",
    "\n",
    "$$h[m,n] = \n",
    "\\begin{bmatrix}\n",
    "    -1 & 0 & 1 \\\\\n",
    "    -2 & 0 & 2 \\\\\n",
    "    -1 & 0 & 1\n",
    "\\end{bmatrix}\\,.$$\n",
    "\n",
    "When this filter is applied to a pixel, if the surrounding pixels have similar values, the output will be close to zero. However, if there is a significant difference between the values of the left and right columns, it suggests the presence of a vertical edge, resulting in a highly positive or highly negative intensity in the output.\n",
    "\n",
    "As you saw in the lecture, there are filters that you can implement in a separable way, and filters that you cannot. Since the separable way is the most efficient one, you should develop the ability to recognize filters that are separable and implement them as such. Go through the next sections to implement both methods!"
   ]
  },
  {
   "cell_type": "markdown",
   "metadata": {
    "deletable": false,
    "editable": false,
    "kernel": "JavaScript",
    "nbgrader": {
     "checksum": "fe7a323adcaecd20a4267c4b89225aa9",
     "grade": false,
     "grade_id": "cell-6dbf92312a1ff865",
     "locked": true,
     "schema_version": 3,
     "solution": false,
     "task": false
    }
   },
   "source": [
    "## 1.A. Non-separable implementation (1 point)\n",
    "\n",
    "In the next cell we provide such a function `filterNonSeparable` that takes as input `img` and `mask`. This function however confuses correlation with convolution. **For 1 point**, find the mistake and correct it in the cell below.\n",
    "\n",
    "<div class=\"alert alert-success\">\n",
    "    \n",
    "<b>Hints</b>: <ul><li>The two-dimensional convolution between two images $h$ and $f$ is given by\n",
    "$$(h \\ast f)[x,y] = \\sum_{m \\in \\mathbb{Z}}\\sum_{n \\in \\mathbb{Z}}f[m,n]h[x-m,y-n]$$</li>\n",
    "<li>In the formula above, $x-m$ is negative for some values but the indices of the JavaScript Array are all positive.</li>\n",
    "</div>"
   ]
  },
  {
   "cell_type": "code",
   "execution_count": null,
   "metadata": {
    "deletable": false,
    "kernel": "JavaScript",
    "nbgrader": {
     "checksum": "04c5883fb333d91f6757f04cb12987e4",
     "grade": false,
     "grade_id": "cell-dea8625a516d230e",
     "locked": false,
     "schema_version": 3,
     "solution": true,
     "task": false
    }
   },
   "outputs": [],
   "source": [
    "%use javascript\n",
    "\n",
    "// function that performs a convolution on the two input parameters img and mask\n",
    "function filterNonSeparable(img, mask){\n",
    "    var output = new Image(img.shape());\n",
    "    for(var x = 0; x < img.nx; x++){  \n",
    "        for(var y = 0; y < img.ny; y++){\n",
    "            // get neighbourhood with the size of mask of current position\n",
    "            var neigh = img.getNbh(x, y, mask.nx, mask.ny)\n",
    "            // perform convolution\n",
    "            var val = 0;\n",
    "            for(var k = 0; k < mask.nx; k++){\n",
    "                for(var l = 0; l < mask.ny; l++){\n",
    "                    val += neigh.getPixel(k, l) * mask.getPixel(k, l);\n",
    "                }\n",
    "            }\n",
    "            output.setPixel(x, y, val)\n",
    "        }\n",
    "    }\n",
    "    return output\n",
    "}"
   ]
  },
  {
   "cell_type": "markdown",
   "metadata": {
    "deletable": false,
    "editable": false,
    "kernel": "JavaScript",
    "nbgrader": {
     "checksum": "0767c8475a4cd2d7527fb6ad12658bb1",
     "grade": false,
     "grade_id": "cell-1bf275d12cc9758b",
     "locked": true,
     "schema_version": 3,
     "solution": false,
     "task": false
    }
   },
   "source": [
    "Run the next cell to perform a sanity check (convolution of the mask with an impulse image)."
   ]
  },
  {
   "cell_type": "code",
   "execution_count": null,
   "metadata": {
    "deletable": false,
    "editable": false,
    "kernel": "JavaScript",
    "nbgrader": {
     "checksum": "c688f68804b6448b85ddfab1e5715b92",
     "grade": true,
     "grade_id": "cell-1dabd588ee42d0a0",
     "locked": true,
     "points": 0.5,
     "schema_version": 3,
     "solution": false,
     "task": false
    }
   },
   "outputs": [],
   "source": [
    "// Lets do a sanity check\n",
    "var impulse = new Image([[0, 0, 0], [0, 1, 0], [0, 0, 0]]);\n",
    "var mask = new Image([[-1, 0, 1],[-2, 0, 2],[-1, 0, 1]]);\n",
    "var nonsymmetric_mask = new Image([[1, 2, 3],[4, 5, 6],[7, 8, 9]])\n",
    "// check the result\n",
    "console.log('Convolving by an impulse should return the unchanged mask.\\nMask:\\n' + mask.visualize() )\n",
    "console.log('\\n' + nonsymmetric_mask.visualize())\n",
    "console.log('Symmetric Result:\\n' + filterNonSeparable(impulse, mask).visualize());\n",
    "console.log('Nonsymmetric Result:\\n' + filterNonSeparable(impulse, nonsymmetric_mask).visualize());\n",
    "if(filterNonSeparable(impulse, mask).imageCompare(mask) == false){\n",
    "    console.log('\\nWARNING!!!\\nThe function `filterNonSeparable` still provides an incorrect output.\\n')\n",
    "}else{\n",
    "    console.log('It seems that the function works with a symmetric mask.')\n",
    "    if (filterNonSeparable(impulse, nonsymmetric_mask).imageCompare(nonsymmetric_mask) == false){\n",
    "        console.log('\\nWARNING!!!\\nIt seems that the function does not work with a nonsymmetric mask however.\\n')\n",
    "    }\n",
    "    else{\n",
    "        console.log('It seems that the function also works with a nonsymmetric mask')\n",
    "    }\n",
    "}"
   ]
  },
  {
   "cell_type": "markdown",
   "metadata": {
    "deletable": false,
    "editable": false,
    "kernel": "JavaScript",
    "nbgrader": {
     "checksum": "d752fe6385894abe87472ec827f621bb",
     "grade": false,
     "grade_id": "cell-d4b757e2b974576f",
     "locked": true,
     "schema_version": 3,
     "solution": false,
     "task": false
    }
   },
   "source": [
    "### Applying the function\n",
    "\n",
    "Run the next cell to apply the `filterNonSeparable` function with the mask given above to the images `bikesgray`, `camera` and `spots`. "
   ]
  },
  {
   "cell_type": "code",
   "execution_count": null,
   "metadata": {
    "deletable": false,
    "editable": false,
    "kernel": "JavaScript",
    "nbgrader": {
     "checksum": "4fc92afaab5c6a417a2e8e7deb347c07",
     "grade": true,
     "grade_id": "cell-43d01fbb15e5a663",
     "locked": true,
     "points": 0.5,
     "schema_version": 3,
     "solution": false,
     "task": false
    }
   },
   "outputs": [],
   "source": [
    "%use javascript\n",
    "%get bikesgray camera spots\n",
    "\n",
    "var vedge_bike_nons   = filterNonSeparable(new Image(bikesgray), mask).toArray();\n",
    "var vedge_spots_nons  = filterNonSeparable(new Image(spots),     mask).toArray();\n",
    "var vedge_camera_nons = filterNonSeparable(new Image(camera),    mask).toArray();"
   ]
  },
  {
   "cell_type": "markdown",
   "metadata": {
    "deletable": false,
    "editable": false,
    "kernel": "JavaScript",
    "nbgrader": {
     "checksum": "a16f3f9cacccda83a5e3145d8120130e",
     "grade": false,
     "grade_id": "cell-eaf895c6a9a0fe0a",
     "locked": true,
     "schema_version": 3,
     "solution": false,
     "task": false
    }
   },
   "source": [
    "### Visualize the results\n",
    "In the next cell we will visualize the results of edge detection. "
   ]
  },
  {
   "cell_type": "code",
   "execution_count": null,
   "metadata": {
    "deletable": false,
    "editable": false,
    "kernel": "SoS",
    "nbgrader": {
     "checksum": "61feb87c57eaa4ab2c0d1ce91730744d",
     "grade": false,
     "grade_id": "cell-737f3f5d40ce108a",
     "locked": true,
     "schema_version": 3,
     "solution": false,
     "task": false
    }
   },
   "outputs": [],
   "source": [
    "%use sos\n",
    "%get vedge_bike_nons vedge_camera_nons vedge_spots_nons --from javascript\n",
    "\n",
    "image_list_nons = [vedge_bike_nons, vedge_camera_nons, vedge_spots_nons]\n",
    "title_list = ['Bike - Vertical edges', 'Camera - Vertical edges', 'Spots - Vertical edges']\n",
    "for image in range(len(image_list_nons)):\n",
    "    image_list_nons[image] = np.array(image_list_nons[image])\n",
    "\n",
    "vedge_nons_viewer = viewer(image_list_nons, title=title_list, widgets=True)"
   ]
  },
  {
   "cell_type": "markdown",
   "metadata": {
    "deletable": false,
    "editable": false,
    "kernel": "Python3",
    "nbgrader": {
     "checksum": "0e1dd7c0dc75724c2a612fe2d7e0ddad",
     "grade": false,
     "grade_id": "cell-cf84e8455a646681",
     "locked": true,
     "schema_version": 3,
     "solution": false,
     "task": false
    }
   },
   "source": [
    "## 1.B. Separable implementation (2 points)\n",
    "\n",
    "In this subsection, you will modify the function `filterSeparable`. This function is based on the function `filter1D`, which takes as input a row/column of the image and a 1D mask and performs a 1D convolution. Recall that separable filters are divided into two 1D masks (`mx` and `my` in the code below). \n",
    "\n",
    "In the next cell, **for 1 point** complete the function `filterSeparable` by implementing the column filtering. The row filtering is provided and can be used as a reference."
   ]
  },
  {
   "cell_type": "code",
   "execution_count": null,
   "metadata": {
    "deletable": false,
    "kernel": "JavaScript",
    "nbgrader": {
     "checksum": "96851e0d0d3c6c8cfb1fc787843c95d3",
     "grade": false,
     "grade_id": "cell-91d7512eab988bf2",
     "locked": false,
     "schema_version": 3,
     "solution": true,
     "task": false
    }
   },
   "outputs": [],
   "source": [
    "%use javascript\n",
    "\n",
    "// function that performs a separable convolution on img using two 1D masks mx and my\n",
    "function filterSeparable(img, mx, my){\n",
    "    var output = new Image(img.shape());\n",
    "    \n",
    "    // iterate through every row \n",
    "    for(var y = 0; y < img.ny; y++){\n",
    "        // extract row, apply filter and set column in output variable\n",
    "        var row = img.getRow(y);\n",
    "        var new_row = filter1D(row, mx)\n",
    "        output.putRow(y, new_row);    \n",
    "    }\n",
    "    \n",
    "    // iterate through every column\n",
    "    for(var x = 0; x < img.nx; x++){\n",
    "        // filter the columns\n",
    "        \n",
    "        // extract column, apply filter and set\n",
    "        // YOUR CODE HERE\n",
    "        \n",
    "    }\n",
    "    return output\n",
    "}\n",
    "\n",
    "// function that applies a 1D filter\n",
    "function filter1D(img, mask){\n",
    "    // transpose the input variables if necessary\n",
    "    if(img.nx == 1){\n",
    "        img.transposeImage();\n",
    "    }\n",
    "    if(mask.nx == 1){\n",
    "        mask.transposeImage();\n",
    "    }\n",
    "    var output = new Image(img.shape());\n",
    "    // iterate through all pixels\n",
    "    for(var x = 0; x < img.nx; x++){\n",
    "        // get the neighbourhood around position x\n",
    "        var neigh = img.getNbh(x, 0, mask.nx, 1); \n",
    "        var val = 0;\n",
    "        // iterate through the neighbourhood\n",
    "        for(var i = 0; i < neigh.nx; i++){\n",
    "            // perform convolution\n",
    "            val += neigh.getPixel(i, 0) * mask.getPixel(mask.nx - 1 - i, 0);\n",
    "        }\n",
    "        output.setPixel(x, 0, val);\n",
    "    }\n",
    "    return output\n",
    "}"
   ]
  },
  {
   "cell_type": "markdown",
   "metadata": {
    "deletable": false,
    "editable": false,
    "kernel": "JavaScript",
    "nbgrader": {
     "checksum": "9be6bd0c8ef7b2d0ea2ba225426e459b",
     "grade": false,
     "grade_id": "cell-a01e57b63a6a2aee",
     "locked": true,
     "schema_version": 3,
     "solution": false,
     "task": false
    }
   },
   "source": [
    "### 1D masks\n",
    "\n",
    "Now, before testing your separable implementation, **for 1 point**, code the 1D masks `mask_x` and `mask_y` in the cell below that corresponds to the separable version of the vertical-edge detection filter presented [at the beginning of this section](#1.-Edge-detection-(3-points))."
   ]
  },
  {
   "cell_type": "code",
   "execution_count": null,
   "metadata": {
    "deletable": false,
    "kernel": "JavaScript",
    "nbgrader": {
     "checksum": "764716fae29447511eecf746dbedc993",
     "grade": false,
     "grade_id": "cell-39c4339868e3faa2",
     "locked": false,
     "schema_version": 3,
     "solution": true,
     "task": false
    }
   },
   "outputs": [],
   "source": [
    "%use javascript\n",
    "%put mask_x mask_y\n",
    "// change the masks to the correct value \n",
    "var mask_x = [0, 0, 0];\n",
    "var mask_y = [0, 0, 0];\n",
    "\n",
    "// YOUR CODE HERE\n",
    "\n",
    "// convert the masks to Image objects\n",
    "var mask_x_img = new Image([mask_x]);\n",
    "var mask_y_img = new Image([mask_y]);"
   ]
  },
  {
   "cell_type": "markdown",
   "metadata": {
    "deletable": false,
    "editable": false,
    "kernel": "JavaScript",
    "nbgrader": {
     "checksum": "ba10c769e858a0a6797ebb869b5ef8fa",
     "grade": false,
     "grade_id": "cell-efe1520723ad9c74",
     "locked": true,
     "schema_version": 3,
     "solution": false,
     "task": false
    }
   },
   "source": [
    "Now, run the next cell for a quick sanity check on your function `filterSeparable` and on your $1$D masks. We will convolve an impulse with your $1$D masks, and the result should be exactly the filter that we presented [at the beginning of the section](#1.-Edge-detection-(3-points))."
   ]
  },
  {
   "cell_type": "code",
   "execution_count": null,
   "metadata": {
    "deletable": false,
    "editable": false,
    "kernel": "JavaScript",
    "nbgrader": {
     "checksum": "372d8c579eb727610f3c1b73cc136cae",
     "grade": true,
     "grade_id": "cell-f0edc6838129ae12",
     "locked": true,
     "points": 1,
     "schema_version": 3,
     "solution": false,
     "task": false
    }
   },
   "outputs": [],
   "source": [
    "%use javascript\n",
    "// again lets do a sanity check with an impulse image\n",
    "var impulse = new Image([[0, 0, 0], [0, 1, 0], [0, 0, 0]]);\n",
    "// declare correct 2D mask\n",
    "var mask = new Image([[-1, 0, 1], [-2, 0, 2], [-1, 0, 1]]);\n",
    "\n",
    "// First we check your masks with a low tolerance\n",
    "if(filterSeparable(impulse, mask_x_img, mask_y_img).imageCompare(mask, tol=1e-10) == false){\n",
    "    // Repeat with high tolerance\n",
    "    if(filterSeparable(impulse, mask_x_img, mask_y_img).imageCompare(mask, tol=1e-4) == false){\n",
    "    console.log('WARNING!!!\\nSorry it looks like the separable filter or the 1D masks are not yet correct.');\n",
    "    }else{\n",
    "        console.log('WARNING!!!\\nYour masks are almost correct, but the accuracy does not seem quite enough...');\n",
    "}}else{\n",
    "    console.log('The separable filter and the 1D masks have passed this sanity check!');\n",
    "}"
   ]
  },
  {
   "cell_type": "markdown",
   "metadata": {
    "deletable": false,
    "editable": false,
    "kernel": "JavaScript",
    "nbgrader": {
     "checksum": "f68db33506ea185e1514ffe137e474ee",
     "grade": false,
     "grade_id": "cell-cbc3f7362589bdc4",
     "locked": true,
     "schema_version": 3,
     "solution": false,
     "task": false
    }
   },
   "source": [
    "Now run the next cell to apply the function to the same three images we have been using before."
   ]
  },
  {
   "cell_type": "code",
   "execution_count": null,
   "metadata": {
    "deletable": false,
    "editable": false,
    "kernel": "JavaScript",
    "nbgrader": {
     "checksum": "35b1bb3cb50563347e906fe9120534ec",
     "grade": true,
     "grade_id": "cell-371402cb11573886",
     "locked": true,
     "points": 1,
     "schema_version": 3,
     "solution": false,
     "task": false
    }
   },
   "outputs": [],
   "source": [
    "%use javascript\n",
    "%get bikesgray spots camera\n",
    "\n",
    "var vedge_bike_s = filterSeparable(new Image(bikesgray), mask_x_img, mask_y_img).toArray();\n",
    "var vedge_spots_s = filterSeparable(new Image(spots), mask_x_img, mask_y_img).toArray();\n",
    "var vedge_camera_s = filterSeparable(new Image(camera), mask_x_img, mask_y_img).toArray();"
   ]
  },
  {
   "cell_type": "markdown",
   "metadata": {
    "deletable": false,
    "editable": false,
    "kernel": "JavaScript",
    "nbgrader": {
     "checksum": "082513eff173af909bc0366db9efef9e",
     "grade": false,
     "grade_id": "cell-5dd51236de517c9f",
     "locked": true,
     "schema_version": 3,
     "solution": false,
     "task": false
    }
   },
   "source": [
    "Run the next one to visualize the results."
   ]
  },
  {
   "cell_type": "code",
   "execution_count": null,
   "metadata": {
    "deletable": false,
    "editable": false,
    "kernel": "SoS",
    "nbgrader": {
     "checksum": "29af09b54ea59b66cef9af093be95a54",
     "grade": false,
     "grade_id": "cell-664065187b4a1db7",
     "locked": true,
     "schema_version": 3,
     "solution": false,
     "task": false
    }
   },
   "outputs": [],
   "source": [
    "%use sos\n",
    "%get vedge_bike_s vedge_camera_s vedge_spots_s --from javascript\n",
    "\n",
    "image_list_sep = [vedge_bike_s, vedge_camera_s, vedge_spots_s]\n",
    "title_list = ['Bike - Vertical edges', 'Camera - Vertical edges', 'Spots - Vertical edges']\n",
    "for i, image in enumerate(image_list_sep):\n",
    "    image_list_sep[i] = np.array(image)\n",
    "\n",
    "plt.close('all')\n",
    "vedge_s_viewer = viewer(image_list_sep, title=title_list, widgets=True)"
   ]
  },
  {
   "cell_type": "markdown",
   "metadata": {
    "deletable": false,
    "editable": false,
    "kernel": "Python3",
    "nbgrader": {
     "checksum": "31084ee9c1b686034cfa2fcd4f0385e0",
     "grade": false,
     "grade_id": "cell-c52bb35862da59d5",
     "locked": true,
     "schema_version": 3,
     "solution": false,
     "task": false
    }
   },
   "source": [
    "## 1.C. Comparison: Separable vs Non-separable\n",
    "\n",
    "Are the results of the the separable and nonseparable implementations of a separable filter the same? If both your implementations are correct, the difference should be negligible. \n",
    "\n",
    "Explore the two histograms, zoom into different areas of the three images, and see if they are truly equal. There are several tests you can do to measure the equality of both implementations. For example, you can take the difference between the two images and visualize it (`image1 - image2`), or you can use the different functions provided by NumPy to compare arrays (see [numpy.testing.assert_array_equal](https://numpy.org/doc/stable/reference/generated/numpy.testing.assert_array_equal.html) and [numpy.testing.assert_array_almost_equal](https://numpy.org/doc/stable/reference/generated/numpy.testing.assert_array_almost_equal.html)). \n",
    "\n",
    "Use the next blank cell to do any necessary exploration. \n"
   ]
  },
  {
   "cell_type": "code",
   "execution_count": null,
   "metadata": {
    "deletable": false,
    "kernel": "SoS",
    "nbgrader": {
     "checksum": "bc8563ae0d2594a20fd7915458060598",
     "grade": false,
     "grade_id": "cell-cf3ac27ebe1266d6",
     "locked": false,
     "schema_version": 3,
     "solution": true,
     "task": false
    }
   },
   "outputs": [],
   "source": [
    "%use sos\n",
    "\n",
    "# YOUR CODE HERE"
   ]
  },
  {
   "cell_type": "markdown",
   "metadata": {
    "deletable": false,
    "editable": false,
    "kernel": "Python3",
    "nbgrader": {
     "checksum": "4c08d4b3eea797ca09f15bf759a8d6af",
     "grade": false,
     "grade_id": "cell-89cfd0072f776104",
     "locked": true,
     "schema_version": 3,
     "solution": false,
     "task": false
    }
   },
   "source": [
    "## 1.D. Edge detection in Python\n",
    "\n",
    "In Python, the two functions `filterNonSeparable` and `filterSeparable` you implemented correspond to [`convolve`](https://docs.scipy.org/doc/scipy/reference/generated/scipy.ndimage.convolve.html) and [`convolve1d`](https://docs.scipy.org/doc/scipy/reference/generated/scipy.ndimage.convolve1d.html) from the [`scipy.ndimage`](https://docs.scipy.org/doc/scipy/reference/ndimage.html) library. We will compare your implementation with them. Read the documentation of `convolve` and `convolve1d` and pay attention to the usage of these two functions in the next cell as you'll use these functions in the next section.\n",
    "\n",
    "If you did everything correctly in Sections <a href=\"#1.A.-Non-separable-implementation-(1-point)\">1.A.</a> and <a href = '#1.B.-Separable-implementation-(2-points)'>1.B.</a>, the next cell will display a winning message. Otherwise, it will plot your images with the regions that differ from the correct answer highlighted in red. You can uncomment the final line to visualize the four edge detections we have so far.\n",
    "\n",
    "<div class=\"alert alert-info\">\n",
    "\n",
    "<font size=\"1\"><b>Technical note on <code>dtype</code> (which stands for <i>data type</i>):</b><font> \n",
    "<font size=\"1\"> In NumPy, when it comes to storing images, we primarily use three <code>dtype</code> : \n",
    "    <ul>\n",
    "        <li><code>np.float64</code> ($64$-bit floating point)</li>\n",
    "        <li><code>np.uint8</code> (8-bit <a href=\"https://en.wikipedia.org/wiki/Integer_(computer_science)\" >unsigned integers</a> )</li>\n",
    "        <li><code>np.int32</code> (32-bit signed integers)</li>\n",
    "    </ul>\n",
    "As you might have noticed from the <a href=\"#Imports\">imports</a>, in this lab, we store our images as <code>np.float64</code> due to its versatility. However, it's important to note that most images are typically stored as <code>np.uint8</code>. This can become problematic when dealing with operations where values may exceed the 0 to 255 range (such as gradient calculations). To prevent potential issues and bugs, it is crucial to specify the appropriate <code>dtype</code> for outputs in such scenarios. By default, the <code>dtype</code> of the output array inherits from the input array.\n",
    "   <br> \n",
    "Additionally, if our computations involve only integers, we can optimize memory usage and improve performance by using <code>np.int32</code> instead of <code>np.float64</code>.\n",
    "</div>"
   ]
  },
  {
   "cell_type": "code",
   "execution_count": null,
   "metadata": {
    "deletable": false,
    "editable": false,
    "kernel": "SoS",
    "nbgrader": {
     "checksum": "0214ab5141e1c55591aa4f0dec9bd066",
     "grade": false,
     "grade_id": "cell-847d91faeebc157a",
     "locked": true,
     "schema_version": 3,
     "solution": false,
     "task": false
    }
   },
   "outputs": [],
   "source": [
    "%use sos \n",
    "\n",
    "# Apply non-separable Filter\n",
    "mask = np.array([[-1, 0, 1],[-2, 0, 2],[-1, 0, 1]])\n",
    "vedge_ndi = ndi.convolve(bikesgray, mask, output=np.int32)\n",
    "\n",
    "# Apply separable Filter \n",
    "vedge_ndi_s = ndi.convolve1d(bikesgray, mask_y, axis=0, output=np.float64) # filter the columns\n",
    "vedge_ndi_s = ndi.convolve1d(vedge_ndi_s, mask_x, axis=1, output=np.float64) # filter the rows\n",
    "\n",
    "# Visualize if necessary\n",
    "plt.close('all')\n",
    "if np.allclose(vedge_ndi, vedge_bike_nons):\n",
    "    print('Congratulations! Your non-separable implementation is correct!')\n",
    "else :\n",
    "    print('Review your non-separable JS implementation!')\n",
    "    viewer([np.array(vedge_bike_nons), vedge_ndi], title=['JS non-separable', 'Python non-separable'], compare=True)\n",
    "\n",
    "if np.allclose(vedge_ndi_s, vedge_bike_s):\n",
    "    print('Congratulations! Your separable filter is correct!')\n",
    "else :\n",
    "    print('Review your separable JS implementation. \\\n",
    "           \\nThe problem could be either on your 1D masks, or on the implementation itself. The previous sanity checks and the red areas should guide you.')\n",
    "    viewer([np.array(vedge_bike_s), vedge_ndi_s], title=['JS separable', 'Python separable'], compare=True)\n",
    "\n",
    "# vedge_viewer = viewer([np.array(vedge_bike_nons), vedge_ndi, np.array(vedge_bike_s), vedge_ndi_s], title=['JS non-separable', 'Python non-separable', 'JS separable', 'Python separable'], subplots=(2,2))"
   ]
  },
  {
   "cell_type": "markdown",
   "metadata": {
    "deletable": false,
    "editable": false,
    "kernel": "SoS",
    "nbgrader": {
     "checksum": "efd3285a85c5ee608beae6d0f205400e",
     "grade": false,
     "grade_id": "cell-88ed9417d9374ead",
     "locked": true,
     "schema_version": 3,
     "solution": false,
     "task": false
    }
   },
   "source": [
    "# 2. Implementation and classification of digital filters (6 points)\n",
    "\n",
    "In this exercise, we will practice the implementation and classification of digital filters. Moreover, you will practice separable and non-separable implementations in Python. You'll implement 6 functions in Python that correspond to 6 different digital filters. Each of them takes an input image and outputs the filtered version of it. You need to\n",
    "* hard code the mask inside the function,\n",
    "* apply the filtering using either `ndi.convolve` and `ndi.convolve1d`, depending on if the filter is separable.\n",
    "\n",
    "You can define 1D and 2D filters as 1D and 2D numpy arrays, e.g.\n",
    "```python\n",
    "mask = np.array([1, 2])\n",
    "```\n",
    "```python\n",
    "mask = np.array([[ 1,  2], \n",
    "                 [ 6,  7]])\n",
    "```\n",
    "\n",
    "Implementing each function is worth **0.5 points**, classifing their visual effect is worth **0.5 points**.\n",
    "\n",
    "<div class=\"alert alert-danger\">\n",
    "<b>Important:</b> If a mask is separable and you don't implement it as such, you'll not get the points.\n",
    "</div>\n",
    "\n",
    "<div class=\"alert alert-success\">\n",
    "    <font size=\"2\"><b>Note on the separability of filters:</b> <br>Some filters, in particular simple edge detector filters can intuitively be recognized as separable. Furthermore, their $1\\mathrm{D}$ masks can also be intuitively proposed. From these $1\\mathrm{D}$ masks, a simple test consists in taking the matrix product between them, which should result in the original filter. However, there is a more systematic approach.<br>\n",
    "    As you should know, any matrix $\\mathbf{\\mathrm{M}}\\in\\mathbb{R}^{m\\times n}$ can be factorized into its components $\\mathbf{\\mathrm{USV^{T}}}$ by Singular Value Decomposition, where $\\mathbf{\\mathrm{U}}\\in\\mathbb{R}^{m\\times m}$, $\\mathbf{\\mathrm{S}}\\in\\mathbb{R}^{\\min(m, n)\\times \\min(m, n)}$ corresponds to a diagonal matrix with the singular values of $\\mathbf{\\mathrm{M}}$, and $\\mathbf{\\mathrm{V}}\\in\\mathbb{R}^{n\\times n}$. It follows from the definition of the matrix product that if only one singular value is larger than zero, the filter is separable.<br>\n",
    "    Nonetheless, for simple filters, we still recommend you to use the <i>intuitive</i> filters. If you want to extract the filters using SVD, you can use the <a href=\"https://numpy.org/doc/stable/reference/generated/numpy.linalg.svd.html\"><code>svd</code></a> function of the NumPy Linear Algebra package. We leave you the task of extracting the actual $1\\mathrm{D}$ masks from it.<font> \n",
    "</div>"
   ]
  },
  {
   "cell_type": "markdown",
   "metadata": {
    "deletable": false,
    "editable": false,
    "kernel": "SoS",
    "nbgrader": {
     "checksum": "ca1be42e0f01b82351127a83ccfbef86",
     "grade": false,
     "grade_id": "cell-25f8efa499cc3a13",
     "locked": true,
     "schema_version": 3,
     "solution": false,
     "task": false
    }
   },
   "source": [
    "## 2.A. Mask A (1 point)\n",
    "\n",
    "```python3\n",
    "    [ 0,  0,   1,  0,  0]\n",
    "    [ 0,  1,   2,  1,  0]\n",
    "A = [ 1,  2, -16,  2,  1]\n",
    "    [ 0,  1,   2,  1,  0]\n",
    "    [ 0,  0,   1,  0,  0]\n",
    "```"
   ]
  },
  {
   "cell_type": "code",
   "execution_count": null,
   "metadata": {
    "deletable": false,
    "kernel": "SoS",
    "nbgrader": {
     "checksum": "87b4a58686cdf168bb4ae90da543441c",
     "grade": false,
     "grade_id": "cell-a49df00199c666c4",
     "locked": false,
     "schema_version": 3,
     "solution": true,
     "task": false
    }
   },
   "outputs": [],
   "source": [
    "%use sos\n",
    "\n",
    "# Function that filters img with the mask A\n",
    "def filter_A(img):\n",
    "    output = img.copy()\n",
    "       \n",
    "    # YOUR CODE HERE\n",
    "    \n",
    "    return output"
   ]
  },
  {
   "cell_type": "markdown",
   "metadata": {
    "deletable": false,
    "editable": false,
    "kernel": "SoS",
    "nbgrader": {
     "checksum": "752a45aa26a9467dceee739c24327b9f",
     "grade": false,
     "grade_id": "cell-94a0847393c20373",
     "locked": true,
     "schema_version": 3,
     "solution": false,
     "task": false
    }
   },
   "source": [
    "Run the next cell to visualize the result of applying `filter_A` to the image `bikesgray`.\n",
    "\n",
    "<div class = \"alert alert-info\"><b>Note</b>: If you cannot see the whole <code>viewer</code>, remember that you can use <code>Ctrl</code>+<code>b</code> to hide the sidebar at the left. If you have already done this, you can always use <code>Ctrl</code> + <code>-</code> to zoom out a bit</div>"
   ]
  },
  {
   "cell_type": "code",
   "execution_count": null,
   "metadata": {
    "deletable": false,
    "editable": false,
    "kernel": "SoS",
    "nbgrader": {
     "checksum": "1b5bdb39c686bd16a561b5d7f15e8172",
     "grade": true,
     "grade_id": "cell-1ff60c4e8ad4a813",
     "locked": true,
     "points": 0.5,
     "schema_version": 3,
     "solution": false,
     "task": false
    }
   },
   "outputs": [],
   "source": [
    "%use sos\n",
    "\n",
    "bikesgray_A = filter_A(bikesgray)\n",
    "plt.close('all')\n",
    "vis_A = viewer([bikesgray, bikesgray_A], title=['Original', 'Convolved with filter A'], subplots=(1,2))"
   ]
  },
  {
   "cell_type": "markdown",
   "metadata": {
    "deletable": false,
    "editable": false,
    "kernel": "SoS",
    "nbgrader": {
     "checksum": "25fc9cbf2b88b6a8a6084b74a1130441",
     "grade": false,
     "grade_id": "cell-8685fc2ecdf287cb",
     "locked": true,
     "schema_version": 3,
     "solution": false,
     "task": false
    }
   },
   "source": [
    "**For 0.5 points** answer the following MCQ:\n",
    "\n",
    "* Which of the following keywords best describes the visual effect of this filter?\n",
    "\n",
    "1. isotropic blurring\n",
    "2. vertical blurring\n",
    "3. horizontal blurring\n",
    "4. diagonal blurring\n",
    "5. sharpening\n",
    "6. vertical-edge detection\n",
    "7. horizontal-edge detection\n",
    "8. diagonal edge detection\n",
    "9. Laplacian: a second order derivative to find edges (maxima and minima)\n",
    "10. it has not effect"
   ]
  },
  {
   "cell_type": "code",
   "execution_count": null,
   "metadata": {
    "deletable": false,
    "kernel": "SoS",
    "nbgrader": {
     "checksum": "0f7345dbe970dd48259855c43841c0b8",
     "grade": false,
     "grade_id": "cell-5447a7b75c32f43d",
     "locked": false,
     "schema_version": 3,
     "solution": true,
     "task": false
    }
   },
   "outputs": [],
   "source": [
    "%use sos\n",
    "# Assign your answer to this variable\n",
    "answer = None\n",
    "# YOUR CODE HERE"
   ]
  },
  {
   "cell_type": "code",
   "execution_count": null,
   "metadata": {
    "deletable": false,
    "editable": false,
    "kernel": "SoS",
    "nbgrader": {
     "checksum": "274fc45d45bce868cbc82b1663617057",
     "grade": true,
     "grade_id": "cell-1aae516709224dc8",
     "locked": true,
     "points": 0.5,
     "schema_version": 3,
     "solution": false,
     "task": false
    }
   },
   "outputs": [],
   "source": [
    "%use sos\n",
    "# Sanity check\n",
    "if not answer in list(range(1,11)):\n",
    "    print('WARNING!\\nAnswer one of 1, 2, 3, 4, 5, 6, 7, 8, 9 or 10.')"
   ]
  },
  {
   "cell_type": "markdown",
   "metadata": {
    "deletable": false,
    "editable": false,
    "kernel": "SoS",
    "nbgrader": {
     "checksum": "cb9a355fc5f825aa5b762ac303c49d0a",
     "grade": false,
     "grade_id": "cell-d287c24b60062255",
     "locked": true,
     "schema_version": 3,
     "solution": false,
     "task": false
    }
   },
   "source": [
    "## 2.B. Mask B (1 point)\n",
    "\n",
    "```python3\n",
    "    [ 0,  1,  2,  1,  0]\n",
    "    [ 1,  2,  4,  2,  1]\n",
    "B = [ 2,  4,  8,  4,  2]\n",
    "    [ 1,  2,  4,  2,  1]\n",
    "    [ 0,  1,  2,  1,  0]\n",
    "```"
   ]
  },
  {
   "cell_type": "code",
   "execution_count": null,
   "metadata": {
    "deletable": false,
    "kernel": "SoS",
    "nbgrader": {
     "checksum": "36ee675cf5f5c108df5e2085a8a2577d",
     "grade": false,
     "grade_id": "cell-ea68ff81d2e30188",
     "locked": false,
     "schema_version": 3,
     "solution": true,
     "task": false
    }
   },
   "outputs": [],
   "source": [
    "%use sos\n",
    "\n",
    "# Function that filters img with the mask B\n",
    "def filter_B(img):\n",
    "    output = img.copy()\n",
    "       \n",
    "    # YOUR CODE HERE\n",
    "    \n",
    "    return output"
   ]
  },
  {
   "cell_type": "markdown",
   "metadata": {
    "deletable": false,
    "editable": false,
    "kernel": "SoS",
    "nbgrader": {
     "checksum": "7d532563fe86aa6ce9b9c94fd8bbce83",
     "grade": false,
     "grade_id": "cell-3caffb4abde56d6a",
     "locked": true,
     "schema_version": 3,
     "solution": false,
     "task": false
    }
   },
   "source": [
    "Run the next cell to visualize the result of applying `filter_B` to the image `bikesgray`."
   ]
  },
  {
   "cell_type": "code",
   "execution_count": null,
   "metadata": {
    "deletable": false,
    "editable": false,
    "kernel": "SoS",
    "nbgrader": {
     "checksum": "4985e559e507468948c35d6ad1110195",
     "grade": true,
     "grade_id": "cell-4bd2f074776e8c20",
     "locked": true,
     "points": 0.5,
     "schema_version": 3,
     "solution": false,
     "task": false
    }
   },
   "outputs": [],
   "source": [
    "%use sos\n",
    "\n",
    "bikesgray_B = filter_B(bikesgray)\n",
    "plt.close('all')\n",
    "vis_B = viewer([bikesgray, bikesgray_B], title=['Original', 'Filtered with mask B'], subplots=(1,2))"
   ]
  },
  {
   "cell_type": "markdown",
   "metadata": {
    "deletable": false,
    "editable": false,
    "kernel": "SoS",
    "nbgrader": {
     "checksum": "3c3b59aceed0dbd3c8a75a3cf346d5ef",
     "grade": false,
     "grade_id": "cell-b1fd0c4867b8446f",
     "locked": true,
     "schema_version": 3,
     "solution": false,
     "task": false
    }
   },
   "source": [
    "**For 0.5 points** answer the following MCQ:\n",
    "\n",
    "* Which of the following keywords best describes the visual effect of this filter?\n",
    "\n",
    "1. isotropic blurring\n",
    "2. vertical blurring\n",
    "3. horizontal blurring\n",
    "4. diagonal blurring\n",
    "5. sharpening\n",
    "6. vertical-edge detection\n",
    "7. horizontal-edge detection\n",
    "8. diagonal edge detection\n",
    "9. Laplacian: a second order derivative to find edges (maxima and minima)\n",
    "10. it has not effect"
   ]
  },
  {
   "cell_type": "code",
   "execution_count": null,
   "metadata": {
    "deletable": false,
    "kernel": "SoS",
    "nbgrader": {
     "checksum": "aab9e1b215ce5a4bc943f3119d8c5e0d",
     "grade": false,
     "grade_id": "cell-28826dd8aeee4fbd",
     "locked": false,
     "schema_version": 3,
     "solution": true,
     "task": false
    }
   },
   "outputs": [],
   "source": [
    "%use sos\n",
    "# Assign your answer to this variable\n",
    "answer = None\n",
    "# YOUR CODE HERE"
   ]
  },
  {
   "cell_type": "code",
   "execution_count": null,
   "metadata": {
    "deletable": false,
    "editable": false,
    "kernel": "SoS",
    "nbgrader": {
     "checksum": "8a76d77a7bea5a8d0f6a4c95e18b2a97",
     "grade": true,
     "grade_id": "cell-69d785a8379b181c",
     "locked": true,
     "points": 0.5,
     "schema_version": 3,
     "solution": false,
     "task": false
    }
   },
   "outputs": [],
   "source": [
    "%use sos\n",
    "# Sanity check\n",
    "if not answer in list(range(1,11)):\n",
    "    print('WARNING!\\nAnswer one of 1, 2, 3, 4, 5, 6, 7, 8, 9 or 10.')"
   ]
  },
  {
   "cell_type": "markdown",
   "metadata": {
    "deletable": false,
    "editable": false,
    "kernel": "SoS",
    "nbgrader": {
     "checksum": "aedaa0dd85d4896abff2e26ba620e4e5",
     "grade": false,
     "grade_id": "cell-f92cafcf93a0db16",
     "locked": true,
     "schema_version": 3,
     "solution": false,
     "task": false
    }
   },
   "source": [
    "## 2.C. Mask C (1 point)\n",
    "\n",
    "In the cell below, **For 0.5 points**, implement the function `filter_C`, which convolves the input image with the filter \n",
    "\n",
    "```python3\n",
    "    [-1,  -1,  -1,  -1,  -1]\n",
    "    [-2,  -2,  -2,  -2,  -2]\n",
    "C = [ 0,   0,   0,   0,   0]\n",
    "    [ 2,   2,   2,   2,   2]\n",
    "    [ 1,   1,   1,   1,   1]\n",
    "```\n",
    "\n",
    "Remember to check if the filter is separable, and in that case, implement it in that way."
   ]
  },
  {
   "cell_type": "code",
   "execution_count": null,
   "metadata": {
    "deletable": false,
    "kernel": "SoS",
    "nbgrader": {
     "checksum": "87d5ee438c6f7d74b57b477b0229bda3",
     "grade": false,
     "grade_id": "cell-272af542af1aac69",
     "locked": false,
     "schema_version": 3,
     "solution": true,
     "task": false
    }
   },
   "outputs": [],
   "source": [
    "%use sos\n",
    "\n",
    "# Function that filters img with the mask C\n",
    "def filter_C(img):\n",
    "    output = img.copy()\n",
    "    \n",
    "    # YOUR CODE HERE\n",
    "    \n",
    "    return output"
   ]
  },
  {
   "cell_type": "markdown",
   "metadata": {
    "deletable": false,
    "editable": false,
    "kernel": "SoS",
    "nbgrader": {
     "checksum": "55d764b8c000eed8a8b59844d2b98708",
     "grade": false,
     "grade_id": "cell-94d15031d58549ee",
     "locked": true,
     "schema_version": 3,
     "solution": false,
     "task": false
    }
   },
   "source": [
    "Run the next cell to visualize the result of applying `filter_C` to the image `bikesgray`."
   ]
  },
  {
   "cell_type": "code",
   "execution_count": null,
   "metadata": {
    "deletable": false,
    "editable": false,
    "kernel": "SoS",
    "nbgrader": {
     "checksum": "21d4324f7b3b7855bb51a40adee107c4",
     "grade": true,
     "grade_id": "cell-912e231be098ed1c",
     "locked": true,
     "points": 0.5,
     "schema_version": 3,
     "solution": false,
     "task": false
    }
   },
   "outputs": [],
   "source": [
    "%use sos\n",
    "\n",
    "bikesgray_C = filter_C(bikesgray)\n",
    "plt.close('all')\n",
    "vis_C = viewer([bikesgray, bikesgray_C], title=['Original', 'Filtered with mask C'], subplots=(1,2))"
   ]
  },
  {
   "cell_type": "markdown",
   "metadata": {
    "deletable": false,
    "editable": false,
    "kernel": "SoS",
    "nbgrader": {
     "checksum": "6a084ab264f9ec7042e7fcf83fd8d595",
     "grade": false,
     "grade_id": "cell-91f9deee1a55bd99",
     "locked": true,
     "schema_version": 3,
     "solution": false,
     "task": false
    }
   },
   "source": [
    "**For 0.5 points** answer the following MCQ:\n",
    "\n",
    "* Which of the following keywords best describes the visual effect of this filter?\n",
    "\n",
    "1. isotropic blurring\n",
    "2. vertical blurring\n",
    "3. horizontal blurring\n",
    "4. diagonal blurring\n",
    "5. sharpening\n",
    "6. vertical-edge detection\n",
    "7. horizontal-edge detection\n",
    "8. diagonal edge detection\n",
    "9. Laplacian: a second order derivative to find edges (maxima and minima)\n",
    "10. it has not effect"
   ]
  },
  {
   "cell_type": "code",
   "execution_count": null,
   "metadata": {
    "deletable": false,
    "kernel": "SoS",
    "nbgrader": {
     "checksum": "ac5e56905c80dafc1a3a5a932dacbaa7",
     "grade": false,
     "grade_id": "cell-f16ee02c059ed28a",
     "locked": false,
     "schema_version": 3,
     "solution": true,
     "task": false
    }
   },
   "outputs": [],
   "source": [
    "%use sos\n",
    "# Assign your answer to this variable\n",
    "answer = None\n",
    "# YOUR CODE HERE"
   ]
  },
  {
   "cell_type": "code",
   "execution_count": null,
   "metadata": {
    "deletable": false,
    "editable": false,
    "kernel": "SoS",
    "nbgrader": {
     "checksum": "1ccee61ac1dad52684d7c03f30c0853d",
     "grade": true,
     "grade_id": "cell-6186de8d22151933",
     "locked": true,
     "points": 0.5,
     "schema_version": 3,
     "solution": false,
     "task": false
    }
   },
   "outputs": [],
   "source": [
    "%use sos\n",
    "# Sanity check\n",
    "if not answer in list(range(1,11)):\n",
    "    print('WARNING!\\nAnswer one of 1, 2, 3, 4, 5, 6, 7, 8, 9 or 10.')"
   ]
  },
  {
   "cell_type": "markdown",
   "metadata": {
    "deletable": false,
    "editable": false,
    "kernel": "SoS",
    "nbgrader": {
     "checksum": "6d4e0300ff48a598118865bc1a2f1d51",
     "grade": false,
     "grade_id": "cell-43a53842332bbb66",
     "locked": true,
     "schema_version": 3,
     "solution": false,
     "task": false
    }
   },
   "source": [
    "## 2.D. Mask D (1 point)\n",
    "\n",
    "```python3\n",
    "    [-1,  -4,  -6,  -4, -1]\n",
    "    [-4, -16, -24, -16, -4]\n",
    "D = [-6, -24, 476, -24, -6]\n",
    "    [-4, -16, -24, -16, -4]\n",
    "    [-1,  -4,  -6,  -4, -1]\n",
    "```"
   ]
  },
  {
   "cell_type": "code",
   "execution_count": null,
   "metadata": {
    "deletable": false,
    "kernel": "SoS",
    "nbgrader": {
     "checksum": "2759deee0082077c40f66db534579f2c",
     "grade": false,
     "grade_id": "cell-4ab67e5043c326fc",
     "locked": false,
     "schema_version": 3,
     "solution": true,
     "task": false
    }
   },
   "outputs": [],
   "source": [
    "%use sos\n",
    "\n",
    "# Function that filters img with the mask D\n",
    "def filter_D(img):\n",
    "    output = img.copy()\n",
    "    \n",
    "    # YOUR CODE HERE\n",
    "    \n",
    "    return output"
   ]
  },
  {
   "cell_type": "markdown",
   "metadata": {
    "deletable": false,
    "editable": false,
    "kernel": "SoS",
    "nbgrader": {
     "checksum": "b66a6da2992fcafb581bef614429edce",
     "grade": false,
     "grade_id": "cell-c647c16bf1a486a2",
     "locked": true,
     "schema_version": 3,
     "solution": false,
     "task": false
    }
   },
   "source": [
    "Run the next cell to visualize the result of applying `filter_D` to the image `bikesgray`."
   ]
  },
  {
   "cell_type": "code",
   "execution_count": null,
   "metadata": {
    "deletable": false,
    "editable": false,
    "kernel": "SoS",
    "nbgrader": {
     "checksum": "cc4e0324dbfc685459b80f267190737f",
     "grade": true,
     "grade_id": "cell-cc68125ec3aea436",
     "locked": true,
     "points": 0.5,
     "schema_version": 3,
     "solution": false,
     "task": false
    }
   },
   "outputs": [],
   "source": [
    "%use sos\n",
    "\n",
    "bikesgray_D = filter_D(bikesgray)\n",
    "plt.close('all')\n",
    "vis_D = viewer([bikesgray, bikesgray_D], title=['Original', 'Filtered with mask D'], subplots=(1,2))"
   ]
  },
  {
   "cell_type": "markdown",
   "metadata": {
    "deletable": false,
    "editable": false,
    "kernel": "SoS",
    "nbgrader": {
     "checksum": "7c18d2ab165cc8c4a01b21527efc59ec",
     "grade": false,
     "grade_id": "cell-0b65f5379d705bc4",
     "locked": true,
     "schema_version": 3,
     "solution": false,
     "task": false
    }
   },
   "source": [
    "**For 0.5 points** answer the following MCQ:\n",
    "\n",
    "* Which of the following keywords best describes the visual effect of this filter?\n",
    "\n",
    "1. isotropic blurring\n",
    "2. vertical blurring\n",
    "3. horizontal blurring\n",
    "4. diagonal blurring\n",
    "5. sharpening\n",
    "6. vertical-edge detection\n",
    "7. horizontal-edge detection\n",
    "8. diagonal edge detection\n",
    "9. Laplacian: a second order derivative to find edges (maxima and minima)\n",
    "10. it has not effect"
   ]
  },
  {
   "cell_type": "code",
   "execution_count": null,
   "metadata": {
    "deletable": false,
    "kernel": "SoS",
    "nbgrader": {
     "checksum": "d04a63a648c6b9a16259c8289661b874",
     "grade": false,
     "grade_id": "cell-deab1ba862c2eff9",
     "locked": false,
     "schema_version": 3,
     "solution": true,
     "task": false
    }
   },
   "outputs": [],
   "source": [
    "%use sos\n",
    "# Assign your answer to this variable\n",
    "answer = None\n",
    "# YOUR CODE HERE"
   ]
  },
  {
   "cell_type": "code",
   "execution_count": null,
   "metadata": {
    "deletable": false,
    "editable": false,
    "kernel": "SoS",
    "nbgrader": {
     "checksum": "baa4ac6bfb9272bf88c04452c10ea95b",
     "grade": true,
     "grade_id": "cell-8e4a71699dc0e13a",
     "locked": true,
     "points": 0.5,
     "schema_version": 3,
     "solution": false,
     "task": false
    }
   },
   "outputs": [],
   "source": [
    "%use sos\n",
    "# Sanity check\n",
    "if not answer in list(range(1,11)):\n",
    "    print('WARNING!\\nAnswer one of 1, 2, 3, 4, 5, 6, 7, 8, 9 or 10.')"
   ]
  },
  {
   "cell_type": "markdown",
   "metadata": {
    "deletable": false,
    "editable": false,
    "kernel": "SoS",
    "nbgrader": {
     "checksum": "66984f4ce2781b1f2d710a35ed2643ab",
     "grade": false,
     "grade_id": "cell-f2e72c21bcc037a0",
     "locked": true,
     "schema_version": 3,
     "solution": false,
     "task": false
    }
   },
   "source": [
    "## 2.E. Mask E (1 point)\n",
    "\n",
    "In the cell below, **For 0.5 points**, implement the function `filter_E`, which convolves the input image with the filter \n",
    "\n",
    "```python3\n",
    "    [0, 0, 0, 0, 0]\n",
    "    [0, 0, 0, 0, 0]\n",
    "E = [0, 0, 1, 0, 0]\n",
    "    [0, 0, 0, 0, 0]\n",
    "    [0, 0, 0, 0, 0]\n",
    "```\n",
    "Remember to check if the filter is separable, and in that case, implement it in that way."
   ]
  },
  {
   "cell_type": "code",
   "execution_count": null,
   "metadata": {
    "deletable": false,
    "kernel": "SoS",
    "nbgrader": {
     "checksum": "6f9c0482b596985c60eb11e53d66d5e3",
     "grade": false,
     "grade_id": "cell-173cb71050c2c7e1",
     "locked": false,
     "schema_version": 3,
     "solution": true,
     "task": false
    }
   },
   "outputs": [],
   "source": [
    "%use sos\n",
    "\n",
    "# Function that filters img with the mask E\n",
    "def filter_E(img):\n",
    "    output = img.copy()\n",
    "    \n",
    "    # YOUR CODE HERE\n",
    "    \n",
    "    return output"
   ]
  },
  {
   "cell_type": "markdown",
   "metadata": {
    "deletable": false,
    "editable": false,
    "kernel": "SoS",
    "nbgrader": {
     "checksum": "c2b34a7dc79f864e4c89a7ad327fc30a",
     "grade": false,
     "grade_id": "cell-7a9854133b2bfe83",
     "locked": true,
     "schema_version": 3,
     "solution": false,
     "task": false
    }
   },
   "source": [
    "Run the next cell to visualize the result of applying `filter_E` to the image `bikesgray`."
   ]
  },
  {
   "cell_type": "code",
   "execution_count": null,
   "metadata": {
    "deletable": false,
    "editable": false,
    "kernel": "SoS",
    "nbgrader": {
     "checksum": "ad32421dcf5098fd3a57456fd83bdc6b",
     "grade": true,
     "grade_id": "cell-817aa10b2ac7c506",
     "locked": true,
     "points": 0.5,
     "schema_version": 3,
     "solution": false,
     "task": false
    }
   },
   "outputs": [],
   "source": [
    "%use sos\n",
    "\n",
    "bikesgray_E = filter_E(bikesgray)\n",
    "plt.close('all')\n",
    "vis_E = viewer([bikesgray, bikesgray_E], title=['Original', 'Filtered with mask E'], subplots=(1,2))"
   ]
  },
  {
   "cell_type": "markdown",
   "metadata": {
    "deletable": false,
    "editable": false,
    "kernel": "SoS",
    "nbgrader": {
     "checksum": "31dfc6b7c4f4a0386cccc2e377865ff0",
     "grade": false,
     "grade_id": "cell-88f79d21ec289e43",
     "locked": true,
     "schema_version": 3,
     "solution": false,
     "task": false
    }
   },
   "source": [
    "**For 0.5 points** answer the following MCQ:\n",
    "\n",
    "* Which of the following keywords best describes the visual effect of this filter?\n",
    "\n",
    "1. isotropic blurring\n",
    "2. vertical blurring\n",
    "3. horizontal blurring\n",
    "4. diagonal blurring\n",
    "5. sharpening\n",
    "6. vertical-edge detection\n",
    "7. horizontal-edge detection\n",
    "8. diagonal edge detection\n",
    "9. Laplacian: a second order derivative to find edges (maxima and minima)\n",
    "10. it has not effect"
   ]
  },
  {
   "cell_type": "code",
   "execution_count": null,
   "metadata": {
    "deletable": false,
    "kernel": "SoS",
    "nbgrader": {
     "checksum": "6df200c727963a1845e485592890d72d",
     "grade": false,
     "grade_id": "cell-2b64f5ff98234834",
     "locked": false,
     "schema_version": 3,
     "solution": true,
     "task": false
    }
   },
   "outputs": [],
   "source": [
    "%use sos\n",
    "# Assign your answer to this variable\n",
    "answer = None\n",
    "# YOUR CODE HERE"
   ]
  },
  {
   "cell_type": "code",
   "execution_count": null,
   "metadata": {
    "deletable": false,
    "editable": false,
    "kernel": "SoS",
    "nbgrader": {
     "checksum": "9b7b6df8d5997561f314acae012e76ab",
     "grade": true,
     "grade_id": "cell-59c47107eb0e8e63",
     "locked": true,
     "points": 0.5,
     "schema_version": 3,
     "solution": false,
     "task": false
    }
   },
   "outputs": [],
   "source": [
    "%use sos\n",
    "# Sanity check\n",
    "if not answer in list(range(1,11)):\n",
    "    print('WARNING!\\nAnswer one of 1, 2, 3, 4, 5, 6, 7, 8, 9 or 10.')"
   ]
  },
  {
   "cell_type": "markdown",
   "metadata": {
    "deletable": false,
    "editable": false,
    "kernel": "SoS",
    "nbgrader": {
     "checksum": "f3280a4df457b642cd44e2ace315115a",
     "grade": false,
     "grade_id": "cell-888fd31f6fc28437",
     "locked": true,
     "schema_version": 3,
     "solution": false,
     "task": false
    }
   },
   "source": [
    "## 2.F. Mask F (1 point)\n",
    "\n",
    "```python3\n",
    "    [ 0, -1, -1,  0,  0]\n",
    "    [-1, -1,  0,  0,  0]\n",
    "F = [-1,  0,  0,  0,  1]\n",
    "    [ 0,  0,  0,  1,  1]\n",
    "    [ 0,  0,  1,  1,  0]\n",
    "```"
   ]
  },
  {
   "cell_type": "code",
   "execution_count": null,
   "metadata": {
    "deletable": false,
    "kernel": "SoS",
    "nbgrader": {
     "checksum": "826d9369ae0405d7aa2e15c79fe660c7",
     "grade": false,
     "grade_id": "cell-5dfdcf7403d7e9d2",
     "locked": false,
     "schema_version": 3,
     "solution": true,
     "task": false
    }
   },
   "outputs": [],
   "source": [
    "%use sos\n",
    "\n",
    "# Function that filters img with the mask F\n",
    "def filter_F(img):\n",
    "    output = img.copy()\n",
    "    \n",
    "    # YOUR CODE HERE\n",
    "    \n",
    "    return output"
   ]
  },
  {
   "cell_type": "markdown",
   "metadata": {
    "deletable": false,
    "editable": false,
    "kernel": "SoS",
    "nbgrader": {
     "checksum": "7c144aa393ad5d5c7f42a03fb769017e",
     "grade": false,
     "grade_id": "cell-f4360dff7751e4a4",
     "locked": true,
     "schema_version": 3,
     "solution": false,
     "task": false
    }
   },
   "source": [
    "Run the next cell to visualize the result of applying `filter_F` to the image `bikesgray`."
   ]
  },
  {
   "cell_type": "code",
   "execution_count": null,
   "metadata": {
    "deletable": false,
    "editable": false,
    "kernel": "SoS",
    "nbgrader": {
     "checksum": "512c2a27394293ad347f3eb5a2ef5b63",
     "grade": true,
     "grade_id": "cell-89ecfa2af17122fe",
     "locked": true,
     "points": 0.5,
     "schema_version": 3,
     "solution": false,
     "task": false
    }
   },
   "outputs": [],
   "source": [
    "%use sos\n",
    "\n",
    "bikesgray_F = filter_F(bikesgray)\n",
    "plt.close('all')\n",
    "vis_F = viewer([bikesgray, bikesgray_F], title=['Original', 'Filtered with mask F'], subplots=(1,2))"
   ]
  },
  {
   "cell_type": "markdown",
   "metadata": {
    "deletable": false,
    "editable": false,
    "kernel": "SoS",
    "nbgrader": {
     "checksum": "d211f8db10d533335eead02cfb8c3afa",
     "grade": false,
     "grade_id": "cell-bcff8dcd8ce012f8",
     "locked": true,
     "schema_version": 3,
     "solution": false,
     "task": false
    }
   },
   "source": [
    "**For 0.5 points** answer the following MCQ:\n",
    "\n",
    "* Which of the following keywords best describes the visual effect of this filter?\n",
    "\n",
    "1. isotropic blurring\n",
    "2. vertical blurring\n",
    "3. horizontal blurring\n",
    "4. diagonal blurring\n",
    "5. sharpening\n",
    "6. vertical-edge detection\n",
    "7. horizontal-edge detection\n",
    "8. diagonal edge detection\n",
    "9. Laplacian: a second order derivative to find edges (maxima and minima)\n",
    "10. it has not effect"
   ]
  },
  {
   "cell_type": "code",
   "execution_count": null,
   "metadata": {
    "deletable": false,
    "kernel": "SoS",
    "nbgrader": {
     "checksum": "93c51cd4382b5efb11a67618d3541e73",
     "grade": false,
     "grade_id": "cell-a4ac97cd58f978dc",
     "locked": false,
     "schema_version": 3,
     "solution": true,
     "task": false
    }
   },
   "outputs": [],
   "source": [
    "%use sos\n",
    "# Assign your answer to this variable\n",
    "answer = None\n",
    "# YOUR CODE HERE"
   ]
  },
  {
   "cell_type": "code",
   "execution_count": null,
   "metadata": {
    "deletable": false,
    "editable": false,
    "kernel": "SoS",
    "nbgrader": {
     "checksum": "dde13d659aad57972ded9dadb9e21c4d",
     "grade": true,
     "grade_id": "cell-0ba30a28ab95dad2",
     "locked": true,
     "points": 0.5,
     "schema_version": 3,
     "solution": false,
     "task": false
    }
   },
   "outputs": [],
   "source": [
    "%use sos\n",
    "# Sanity check\n",
    "if not answer in list(range(1,11)):\n",
    "    print('WARNING!\\nAnswer one of 1, 2, 3, 4, 5, 6, 7, 8, 9 or 10.')"
   ]
  },
  {
   "cell_type": "markdown",
   "metadata": {
    "deletable": false,
    "editable": false,
    "kernel": "SoS",
    "nbgrader": {
     "checksum": "07a7a3019280d35ffee5c63ce5f9e6d5",
     "grade": false,
     "grade_id": "cell-f70cad8711869b8e",
     "locked": true,
     "schema_version": 3,
     "solution": false,
     "task": false
    }
   },
   "source": [
    "<div class=\"alert alert-success\">\n",
    "    \n",
    "<p><b>Congratulations on finishing the first part of the digital filtering lab!</b></p>\n",
    "<p>\n",
    "Make sure to save your notebook (you might want to keep a copy on your personal computer) and upload it to <a href=\"https://moodle.epfl.ch/mod/assign/view.php?id=1111434\">Moodle</a>, in a zip file together with the second part of this lab.\n",
    "</p>\n",
    "</div>\n",
    "\n",
    "* Keep the name of the notebook as: *1_Filtering.ipynb*,\n",
    "* Name the zip file: *Filtering_lab.zip*."
   ]
  }
 ],
 "metadata": {
  "kernelspec": {
   "display_name": "SoS",
   "language": "sos",
   "name": "sos"
  },
  "language_info": {
   "codemirror_mode": "sos",
   "file_extension": ".sos",
   "mimetype": "text/x-sos",
   "name": "sos",
   "nbconvert_exporter": "sos_notebook.converter.SoS_Exporter",
   "pygments_lexer": "sos"
  },
  "sos": {
   "kernels": [
    [
     "JavaScript",
     "javascript",
     "JavaScript",
     "#c8e1ae",
     ""
    ],
    [
     "SoS",
     "sos",
     "",
     "",
     "sos"
    ]
   ],
   "panel": {
    "displayed": false,
    "height": 0
   },
   "version": "0.23.4"
  }
 },
 "nbformat": 4,
 "nbformat_minor": 4
}
