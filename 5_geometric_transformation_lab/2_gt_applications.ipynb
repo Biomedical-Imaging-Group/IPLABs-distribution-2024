{
 "cells": [
  {
   "cell_type": "markdown",
   "metadata": {
    "deletable": false,
    "editable": false,
    "nbgrader": {
     "cell_type": "markdown",
     "checksum": "001f9feee06050f1579ce350f2157c88",
     "grade": false,
     "grade_id": "header",
     "locked": true,
     "schema_version": 3,
     "solution": false,
     "task": false
    }
   },
   "source": [
    "<img src=\"https://www.epfl.ch/about/overview/wp-content/uploads/2020/07/logo-epfl-1024x576.png\" width=\"140px\" alt=\"EPFL_logo\">\n",
    "\n",
    "## Image Processing Laboratory Notebooks\n",
    "---\n",
    "\n",
    "This Jupyter Notebook is part of a series of computer laboratories that are designed\n",
    "to teach image-processing programming; they are running on the EPFL's Noto server. They are the practical complement of the theoretical lectures of the EPFL's Master course \n",
    "[**MICRO-512 Image Processing II**](https://moodle.epfl.ch/course/view.php?id=522) taught by Prof. M. Unser and Prof. D. Van de Ville.\n",
    "\n",
    "The project is funded by the Center for Digital Education and the School of Engineering. It is owned by the [Biomedical Imaging Group](http://bigwww.epfl.ch/). \n",
    "The distribution or reproduction of the notebook is strictly prohibited without the written consent of the authors.  &copy; EPFL 2025.\n",
    "\n",
    "**Authors**: \n",
    "    [Pol del Aguila Pla](mailto:pol.delaguilapla@epfl.ch), \n",
    "    [Kay Lächler](mailto:kay.lachler@epfl.ch),\n",
    "    [Alejandro Noguerón Arámburu](mailto:alejandro.nogueronaramburu@epfl.ch),\n",
    "    [Kamil Seghrouchni](mailto:kamil.seghrouchni@epfl.ch), and\n",
    "    [Daniel Sage](mailto:daniel.sage@epfl.ch).\n",
    "    \n",
    "---\n",
    "# Lab 5.2: Geometric transformation - Applications\n",
    "**Released**: Thursday, March 13, 2025\n",
    "\n",
    "**Submission deadline**: Monday, March 24, 2025, before 23:59 on [Moodle](https://moodle.epfl.ch/course/view.php?id=463)\n",
    "\n",
    "**Grade weight**: Lab 5 (22 points), 7.5 % of the overall grade\n",
    "\n",
    "**Related lectures**: Chapter 7"
   ]
  },
  {
   "cell_type": "markdown",
   "metadata": {},
   "source": [
    "### Student Name: \n",
    "### SCIPER: \n",
    "\n",
    "Double-click on this cell and fill your name and SCIPER number. Then, run the cell below to verify your identity in Noto and set the seed for random results."
   ]
  },
  {
   "cell_type": "code",
   "execution_count": null,
   "metadata": {
    "deletable": false,
    "editable": false,
    "execution": {
     "iopub.execute_input": "2025-03-13T09:58:35.126265Z",
     "iopub.status.busy": "2025-03-13T09:58:35.124961Z",
     "iopub.status.idle": "2025-03-13T09:58:35.896716Z",
     "shell.execute_reply": "2025-03-13T09:58:35.895086Z",
     "shell.execute_reply.started": "2025-03-13T09:58:35.126169Z"
    },
    "nbgrader": {
     "cell_type": "code",
     "checksum": "4e0682c66a3e340a1562c06e397e596e",
     "grade": true,
     "grade_id": "cell-9972da644c816f1b",
     "locked": true,
     "points": 0,
     "schema_version": 3,
     "solution": false,
     "task": false
    }
   },
   "outputs": [],
   "source": [
    "import getpass\n",
    "import imageio.v3 as imageio\n",
    "alsace = imageio.imread('images/alsace.png') / 255.\n",
    "# This line recovers your camipro number to mark the images with your ID\n",
    "uid = int(getpass.getuser().split('-')[2]) if len(getpass.getuser().split('-')) > 2 else ord(getpass.getuser()[0])\n",
    "print(f'SCIPER: {uid}')"
   ]
  },
  {
   "cell_type": "markdown",
   "metadata": {
    "deletable": false,
    "editable": false,
    "nbgrader": {
     "cell_type": "markdown",
     "checksum": "d9ed123b2dd9669e105c0f9d7f1a7e66",
     "grade": false,
     "grade_id": "cell-39492e60020936d9",
     "locked": true,
     "schema_version": 3,
     "solution": false,
     "task": false
    }
   },
   "source": [
    "# Geometric transformation applications  (8 points)\n",
    "\n",
    "We compare the interpolators studied in Part 1 in more detail, and then use geometric transformations for several applications."
   ]
  },
  {
   "cell_type": "markdown",
   "metadata": {
    "deletable": false,
    "editable": false,
    "nbgrader": {
     "cell_type": "markdown",
     "checksum": "fb99ab86651dfd950d542d8625209cbd",
     "grade": false,
     "grade_id": "cell-0591e6054f6cd0e2",
     "locked": true,
     "schema_version": 3,
     "solution": false,
     "task": false
    }
   },
   "source": [
    "# Comparison of interpolators (3 points)\n",
    "\n",
    "In Part 1, we visually inspected the differences between the interpolation methods.\n",
    "Now, we turn to a numerical comparison.\n",
    "First, we implement a utility function that wraps geometric transformations with a simple interface. \n",
    "\n",
    "**For 2 points**, implement `transform` taking the arguments\n",
    "\n",
    "* `img`: the original image,\n",
    "* `angle`: the angle of rotation of the coordinate frame in radians,\n",
    "* `scale`: the scaling factor,\n",
    "* `center`: the center of rotation,\n",
    "* `order`: the order of interpolation to use (`0`=nearest neighbor, `1`=linear, and `3`=cubic),\n",
    "\n",
    "and returning\n",
    "\n",
    "* `out`: the transformed image.\n",
    "\n",
    "The function can be easily implemented with building blocks from Part 1; the heavy lifting should be done with scipy's `ndimage.affine_transform`."
   ]
  },
  {
   "cell_type": "code",
   "execution_count": null,
   "metadata": {
    "deletable": false,
    "execution": {
     "iopub.execute_input": "2025-03-13T09:59:24.172004Z",
     "iopub.status.busy": "2025-03-13T09:59:24.166577Z",
     "iopub.status.idle": "2025-03-13T09:59:24.189297Z",
     "shell.execute_reply": "2025-03-13T09:59:24.186772Z",
     "shell.execute_reply.started": "2025-03-13T09:59:24.171890Z"
    },
    "nbgrader": {
     "cell_type": "code",
     "checksum": "6398099de20c0cbe26da6058183132ee",
     "grade": false,
     "grade_id": "cell-37ef81303cdf82aa",
     "locked": false,
     "schema_version": 3,
     "solution": true,
     "task": false
    }
   },
   "outputs": [],
   "source": [
    "import numpy as np\n",
    "import scipy.ndimage as nd\n",
    "import cv2 as cv\n",
    "\n",
    "def transform(img, angle, scale, center, order):\n",
    "    out = np.zeros(img.shape)\n",
    "    \n",
    "    # YOUR CODE HERE\n",
    "    \n",
    "    return out"
   ]
  },
  {
   "cell_type": "markdown",
   "metadata": {
    "deletable": false,
    "editable": false,
    "nbgrader": {
     "cell_type": "markdown",
     "checksum": "30bb330a4c36a6f0c14b8e01a1062b0e",
     "grade": false,
     "grade_id": "cell-239efcc2a07bbb12",
     "locked": true,
     "schema_version": 3,
     "solution": false,
     "task": false
    }
   },
   "source": [
    "Run the next cell for a quick sanity check. In it, we also define the function `SNR` that calculates the signal-to-noise ratio between two images, which we will use for the upcoming analysis."
   ]
  },
  {
   "cell_type": "code",
   "execution_count": null,
   "metadata": {
    "deletable": false,
    "editable": false,
    "execution": {
     "iopub.execute_input": "2025-03-13T09:59:24.939780Z",
     "iopub.status.busy": "2025-03-13T09:59:24.938684Z",
     "iopub.status.idle": "2025-03-13T09:59:27.327487Z",
     "shell.execute_reply": "2025-03-13T09:59:27.324827Z",
     "shell.execute_reply.started": "2025-03-13T09:59:24.939707Z"
    },
    "nbgrader": {
     "cell_type": "code",
     "checksum": "261465e1774df847f80ce1f8f3fe0faf",
     "grade": true,
     "grade_id": "cell-741f29d71134af53",
     "locked": true,
     "points": 2,
     "schema_version": 3,
     "solution": false,
     "task": false
    }
   },
   "outputs": [],
   "source": [
    "%matplotlib widget\n",
    "import matplotlib.pyplot as plt\n",
    "from interactive_kit import imviewer as viewer\n",
    "\n",
    "test_img = np.zeros((7, 7))\n",
    "test_img[1:6, 1:6] = 255\n",
    "test_img[2:5, 2:5] = 0\n",
    "reference = np.array([[\n",
    "    [255., 255., 255.,   0.,   0.,   0.,   0.],\n",
    "    [255.,   0.,   0., 255.,   0.,   0.,   0.],\n",
    "    [  0.,   0.,   0., 255., 255.,   0.,   0.],\n",
    "    [255.,   0., 255., 255.,   0.,   0.,   0.],\n",
    "    [255., 255., 255.,   0.,   0.,   0.,   0.],\n",
    "    [  0., 255.,   0.,   0.,   0.,   0.,   0.],\n",
    "    [  0.,   0.,   0.,   0.,   0.,   0.,   0.]\n",
    "], [\n",
    "    [164., 193., 200.,   0.,   0.,   0.,   0.],\n",
    "    [146.,   0., 109., 200.,   0.,   0.,   0.],\n",
    "    [  0.,   0.,   0., 193., 129.,   0.,   0.],\n",
    "    [182.,   0., 146., 164.,   0.,   0.,   0.],\n",
    "    [128., 224., 164.,   0.,   0.,   0.,   0.],\n",
    "    [  0.,  82.,   0.,   0.,   0.,   0.,   0.],\n",
    "    [  0.,   0.,   0.,   0.,   0.,   0.,   0.]\n",
    "], [\n",
    "    [171., 259., 215.,  -0.,   0.,   0.,   0.],\n",
    "    [181., -59., 134., 215.,  -0.,   0.,   0.],\n",
    "    [-40.,  -4., -59., 259., 115.,   0.,   0.],\n",
    "    [224., -40., 181., 171.,   0.,   0.,   0.],\n",
    "    [120., 299., 172.,   0.,   0.,   0.,   0.],\n",
    "    [  0.,  59.,   0.,   0.,   0.,   0.,   0.],\n",
    "    [  0.,   0.,   0.,   0.,   0.,   0.,   0.]\n",
    "]])\n",
    "\n",
    "orders = [0, 1, 3]\n",
    "names_interp = {0: 'Nearest neighbors', 1: 'Linear', 3: 'Cubic'}\n",
    "transformed = [np.round(transform(test_img, np.deg2rad(45), 0.9, (0, 3), i)) for i in orders]\n",
    "names = [f'Transformed, {names_interp[i]}' for i in orders]\n",
    "plt.close('all')\n",
    "img_list = []\n",
    "title_list = []\n",
    "err_count = 0\n",
    "for i, o in enumerate(orders):\n",
    "    if not np.allclose(reference[i], transformed[i], rtol=1e-2):\n",
    "        print(f'Warning: `transform` with {names_interp[o]} interpolation did not produce the correct result. Check the images below:')\n",
    "        img_list.append(transformed[i])\n",
    "        img_list.append(reference[i])\n",
    "        img_list.append(transformed[i] - reference[i])\n",
    "        title_list.append(names[i])\n",
    "        title_list.append(names[i] + ' (correct)')\n",
    "        title_list.append('Difference')\n",
    "        err_count += 1\n",
    "if err_count > 0:\n",
    "    view = viewer(test_img, title=['Test image'], subplots=(1,1))\n",
    "    view_err = viewer(img_list, title=title_list, subplots=(err_count, 3))\n",
    "else:\n",
    "    view = viewer([test_img] + transformed, title=['Test image'] + names, subplots=(2,2))\n",
    "    print('Nice! Your transform function passed the sanity check.')\n",
    "    "
   ]
  },
  {
   "cell_type": "markdown",
   "metadata": {
    "deletable": false,
    "editable": false,
    "nbgrader": {
     "cell_type": "markdown",
     "checksum": "16df1cbe7b540f8a39dfe83ca28893dc",
     "grade": false,
     "grade_id": "cell-90bac97696fbdfce",
     "locked": true,
     "schema_version": 3,
     "solution": false,
     "task": false
    }
   },
   "source": [
    "To clearly see the differences between interpolation methods, we apply multiple consecutive transformations with the same interpolation.\n",
    "Here, we stick to rotation and create a function rotating an image $n$ times around its center by an angle $\\alpha$.\n",
    "As an example, when $n=5$ and $\\alpha=\\pi/10$, we apply $5$ consecutive rotations of $\\pi/10$ around the center (as opposed to one rotation by $\\pi/2$).\n",
    "\n",
    "**For 1 point**, implement `rotate_n` taking the arguments\n",
    "\n",
    "* `img`: the input image,\n",
    "* `alpha`: the angle of rotation,\n",
    "* `n`: the number of consecutive rotations,\n",
    "* `order`: the order of interpolation, as above,\n",
    "\n",
    "and returning\n",
    "\n",
    "* `out`: the rotated image.\n",
    "\n",
    "Make use of `transform`, setting the scale parameter to `1`."
   ]
  },
  {
   "cell_type": "code",
   "execution_count": null,
   "metadata": {
    "deletable": false,
    "execution": {
     "iopub.execute_input": "2025-03-13T09:59:34.108171Z",
     "iopub.status.busy": "2025-03-13T09:59:34.106850Z",
     "iopub.status.idle": "2025-03-13T09:59:34.124554Z",
     "shell.execute_reply": "2025-03-13T09:59:34.121669Z",
     "shell.execute_reply.started": "2025-03-13T09:59:34.108080Z"
    },
    "nbgrader": {
     "cell_type": "code",
     "checksum": "887e44c5427c87dcb54f78bba6beaa80",
     "grade": false,
     "grade_id": "cell-a03b10d684bb5d32",
     "locked": false,
     "schema_version": 3,
     "solution": true,
     "task": false
    }
   },
   "outputs": [],
   "source": [
    "def rotate_n(img, alpha, n, order):\n",
    "    out = np.zeros(img.shape)\n",
    "\n",
    "    # YOUR CODE HERE\n",
    "    \n",
    "    return out"
   ]
  },
  {
   "cell_type": "markdown",
   "metadata": {
    "deletable": false,
    "editable": false,
    "nbgrader": {
     "cell_type": "markdown",
     "checksum": "1f63b6ebf3121a40a9d46a038ef9a1c8",
     "grade": false,
     "grade_id": "cell-9825fb7baf075db9",
     "locked": true,
     "schema_version": 3,
     "solution": false,
     "task": false
    }
   },
   "source": [
    "Run the next cell to perform a quick sanity check."
   ]
  },
  {
   "cell_type": "code",
   "execution_count": null,
   "metadata": {
    "deletable": false,
    "editable": false,
    "execution": {
     "iopub.execute_input": "2025-03-13T09:59:40.361691Z",
     "iopub.status.busy": "2025-03-13T09:59:40.360642Z",
     "iopub.status.idle": "2025-03-13T09:59:42.514091Z",
     "shell.execute_reply": "2025-03-13T09:59:42.511687Z",
     "shell.execute_reply.started": "2025-03-13T09:59:40.361606Z"
    },
    "nbgrader": {
     "cell_type": "code",
     "checksum": "126e855de9d45650fbb79e0f6b7c7210",
     "grade": true,
     "grade_id": "cell-d22b17683b2a606a",
     "locked": true,
     "points": 1,
     "schema_version": 3,
     "solution": false,
     "task": false
    }
   },
   "outputs": [],
   "source": [
    "# Define test image\n",
    "test_img = np.zeros((7,7))\n",
    "test_img[test_img.shape[0]//2, :] = 255\n",
    "# Correct results\n",
    "reference = np.array([[\n",
    "    [  0.,   0.,   0.,   0.,   0.,   0.,   0.],\n",
    "    [  0.,   0.,   0., 255.,   0.,   0.,   0.],\n",
    "    [  0.,   0., 255.,   0.,   0.,   0.,   0.],\n",
    "    [  0.,   0., 255., 255., 255.,   0.,   0.],\n",
    "    [  0.,   0., 255., 255., 255.,   0.,   0.],\n",
    "    [  0.,   0.,   0., 255.,   0.,   0.,   0.],\n",
    "    [  0.,   0.,   0.,   0.,   0.,   0.,   0.]\n",
    "], [\n",
    "    [  0.,   0.,  25.,  56.,   0.,   0.,   0.],\n",
    "    [  0.,   0.,  26., 161.,  51.,   6.,   0.],\n",
    "    [  0.,   0.,  57., 121.,  58.,   1.,   0.],\n",
    "    [  0.,   4.,  63., 255.,  63.,   4.,   0.],\n",
    "    [  0.,   1.,  58., 121.,  57.,   0.,   0.],\n",
    "    [  0.,   6.,  51., 161.,  26.,   0.,   0.],\n",
    "    [  0.,   0.,   0.,  56.,  25.,   0.,   0.]\n",
    "], [\n",
    "    [  0.,   0., -13.,  66.,   0.,   0.,   0.],\n",
    "    [  0.,  -7.,   2., 268.,  31.,  -8.,   0.],\n",
    "    [  0.,  -8.,  32., 200.,  13., -14.,   2.],\n",
    "    [  3., -15.,  28., 255.,  28., -15.,   3.],\n",
    "    [  2., -14.,  13., 200.,  32.,  -8.,   0.],\n",
    "    [  0.,  -8.,  31., 268.,   2.,  -7.,   0.],\n",
    "    [  0.,   0.,   0.,  66., -13.,   0.,   0.]\n",
    "]])\n",
    "orders = [0, 1, 3]\n",
    "# Rotate 3 times by 30 degrees\n",
    "rotated = [np.round(rotate_n(test_img, alpha=np.deg2rad(30), n=3, order=o)) for o in orders]\n",
    "# Check if correct\n",
    "names_interp = {0:'Nearest neighbors', 1:'Linear', 3:'Cubic'}\n",
    "names = [f'Rotated 3x30, {names_interp[i]}' for i in orders]\n",
    "plt.close('all')\n",
    "img_list = []\n",
    "title_list = []\n",
    "err_count = 0\n",
    "for i, o in enumerate(orders):\n",
    "    if not np.allclose(reference[i], rotated[i]):\n",
    "        print(f'WARNING!\\nCalling rotate_n with {names_interp[o]} interpolation did not produce the correct result. Check the images below:')\n",
    "        img_list.append(rotated[i])\n",
    "        img_list.append(reference[i])\n",
    "        img_list.append(reference[i] - rotated[i])\n",
    "        title_list.append(names[i])\n",
    "        title_list.append(names[i] + ' (correct)')\n",
    "        title_list.append('Difference')\n",
    "        err_count += 1\n",
    "if err_count > 0:\n",
    "    view = viewer(test_img, title=['Test image'], subplots=(1,1))\n",
    "    view_err = viewer(img_list, title=title_list, subplots=(err_count,3))\n",
    "else:\n",
    "    view = viewer([test_img] + rotated, title=['Test image'] + names, subplots=(2,2))\n",
    "    print('Nice! Your rotate_n function passed the sanity check.')\n"
   ]
  },
  {
   "cell_type": "markdown",
   "metadata": {
    "deletable": false,
    "editable": false,
    "nbgrader": {
     "cell_type": "markdown",
     "checksum": "665b9e8d4ad36077312dcc907c99d390",
     "grade": false,
     "grade_id": "cell-3a706ef3ef0830e2",
     "locked": true,
     "schema_version": 3,
     "solution": false,
     "task": false
    }
   },
   "source": [
    "In the next cell, we play around with the `rotate_n` function to get a feeling for why a good interpolation is so important.\n",
    "Nearest neighbor interpolation artifacts are particularly pronounced when the angle of rotation is small and the transformation is applied often.\n",
    "As an example, try setting  $\\alpha=1.5^\\circ$, $n=20$."
   ]
  },
  {
   "cell_type": "code",
   "execution_count": null,
   "metadata": {
    "deletable": false,
    "editable": false,
    "execution": {
     "iopub.execute_input": "2025-03-13T10:00:59.054176Z",
     "iopub.status.busy": "2025-03-13T10:00:59.052174Z",
     "iopub.status.idle": "2025-03-13T10:00:59.928946Z",
     "shell.execute_reply": "2025-03-13T10:00:59.926693Z",
     "shell.execute_reply.started": "2025-03-13T10:00:59.054087Z"
    },
    "nbgrader": {
     "cell_type": "code",
     "checksum": "14d523bf634c5ec74f29f1c4f3e42d38",
     "grade": false,
     "grade_id": "cell-299ce91068a89d30",
     "locked": true,
     "schema_version": 3,
     "solution": false,
     "task": false
    }
   },
   "outputs": [],
   "source": [
    "from ipywidgets import widgets\n",
    "\n",
    "\n",
    "alpha_slider = widgets.FloatSlider(value=0, min=-90, max=90, step=0.5, description='α(degrees)')\n",
    "n_slider = widgets.IntSlider(value=5, min=1, max=20, description='n')\n",
    "order_dropdown = widgets.Dropdown(options=['0: Nearest neighbor', '1: Linear', '3: Cubic'], value='1: Linear', description='order:', disabled=False)\n",
    "order_dictionary = {'0: Nearest neighbor':0, '1: Linear':1, '3: Cubic':3}\n",
    "button = widgets.Button(description='Apply rotations')\n",
    "\n",
    "\n",
    "def rotate_n_callback(img):\n",
    "    return rotate_n(img, np.deg2rad(alpha_slider.value), n_slider.value, order_dictionary[order_dropdown.value])\n",
    "\n",
    "\n",
    "plt.close(\"all\")\n",
    "view = viewer(\n",
    "    [alsace], title='Alsace',\n",
    "    new_widgets=[order_dropdown, alpha_slider, n_slider, button], \n",
    "    callbacks=[rotate_n_callback], widgets=True\n",
    ")"
   ]
  },
  {
   "cell_type": "markdown",
   "metadata": {
    "deletable": false,
    "editable": false,
    "nbgrader": {
     "cell_type": "markdown",
     "checksum": "e203e495058f8857b98df50c2f645333",
     "grade": false,
     "grade_id": "cell-95ea9728b7c8f6c3",
     "locked": true,
     "schema_version": 3,
     "solution": false,
     "task": false
    }
   },
   "source": [
    "In the next cell, we plot the signal to noise ratio of the three interpolators when rotating an image $n$ times by $35^{\\circ}$ and then $n$ times by $-35^{\\circ}$."
   ]
  },
  {
   "cell_type": "code",
   "execution_count": null,
   "metadata": {
    "deletable": false,
    "editable": false,
    "execution": {
     "iopub.execute_input": "2025-03-13T10:01:03.890927Z",
     "iopub.status.busy": "2025-03-13T10:01:03.889538Z",
     "iopub.status.idle": "2025-03-13T10:01:13.377962Z",
     "shell.execute_reply": "2025-03-13T10:01:13.374879Z",
     "shell.execute_reply.started": "2025-03-13T10:01:03.890773Z"
    },
    "nbgrader": {
     "cell_type": "code",
     "checksum": "cae0ae053732e3fc777d320e5f027602",
     "grade": false,
     "grade_id": "cell-e3172c82236e2c6f",
     "locked": true,
     "schema_version": 3,
     "solution": false,
     "task": false
    }
   },
   "outputs": [],
   "source": [
    "def snr(img, ref):\n",
    "    return 10*np.log10(np.sum(img ** 2) / np.sum((ref - img) ** 2))\n",
    "\n",
    "\n",
    "alpha = np.deg2rad(35)\n",
    "ns = np.arange(1, 11, dtype=int)\n",
    "snr_nn  = [snr(rotate_n(rotate_n(alsace, alpha, n, 0), -alpha, n, 0), alsace) for n in ns]\n",
    "snr_lin = [snr(rotate_n(rotate_n(alsace, alpha, n, 1), -alpha, n, 1), alsace) for n in ns]\n",
    "snr_cub = [snr(rotate_n(rotate_n(alsace, alpha, n, 3), -alpha, n, 3), alsace) for n in ns]\n",
    "\n",
    "plt.close('all')\n",
    "plt.figure()\n",
    "plt.plot(ns, snr_nn,  label='nn')\n",
    "plt.plot(ns, snr_lin, label='linear')\n",
    "plt.plot(ns, snr_cub, label='cubic')\n",
    "plt.legend()\n",
    "plt.title('SNR of images rotated n times by $35^{\\\\circ}$ and back')\n",
    "plt.grid()\n",
    "plt.ylabel('SNR [dB]')\n",
    "plt.xlabel('n')\n",
    "plt.show()"
   ]
  },
  {
   "cell_type": "markdown",
   "metadata": {
    "deletable": false,
    "editable": false,
    "nbgrader": {
     "cell_type": "markdown",
     "checksum": "d7a76d7c2f7df6ec716c1928f63ce320",
     "grade": false,
     "grade_id": "cell-81329ccfc93eb314",
     "locked": true,
     "schema_version": 3,
     "solution": false,
     "task": false
    }
   },
   "source": [
    "# Image registration\n",
    "\n",
    "Now we use image transformations to align two images in terms of rotation and zoom.\n",
    "We use an example of a map and a satellite image of Sicily, where the aim is to align the satellite image to the map using `transform`."
   ]
  },
  {
   "cell_type": "code",
   "execution_count": null,
   "metadata": {
    "deletable": false,
    "editable": false,
    "execution": {
     "iopub.execute_input": "2025-03-13T10:01:15.909673Z",
     "iopub.status.busy": "2025-03-13T10:01:15.906887Z",
     "iopub.status.idle": "2025-03-13T10:01:16.168566Z",
     "shell.execute_reply": "2025-03-13T10:01:16.165624Z",
     "shell.execute_reply.started": "2025-03-13T10:01:15.909567Z"
    },
    "nbgrader": {
     "cell_type": "code",
     "checksum": "ca629d35b443461761d42c59e363f889",
     "grade": false,
     "grade_id": "cell-6cc90cb083ab4bfd",
     "locked": true,
     "schema_version": 3,
     "solution": false,
     "task": false
    }
   },
   "outputs": [],
   "source": [
    "sicilia_photo, sicilia_map = [imageio.imread(f'images/{name}.png') for name in ['sicilia_photo', 'sicilia_map']]\n",
    "fig, axs = plt.subplots(1, 2)\n",
    "for im, title, ax in zip([sicilia_photo, sicilia_map], ['Satellite image', 'Map'], axs):\n",
    "    ax.imshow(im, cmap='gray')\n",
    "    ax.set_title(title)\n",
    "    ax.axis('off')\n",
    "\n",
    "plt.show()"
   ]
  },
  {
   "cell_type": "markdown",
   "metadata": {},
   "source": [
    "## Implementation (2 points)"
   ]
  },
  {
   "cell_type": "markdown",
   "metadata": {},
   "source": [
    "To accurately match the satellite image to the map, we determine angle, scale, and center of the transformation through two point correspondences.\n",
    "For this, we identify at least two features present in both images.\n",
    "In our case, the island of Malta and the city of Messina are good candidates.\n",
    "Let $\\mathbf{u_1}$ and $\\mathbf{u_2}$, and $\\mathbf{v_1}$ and $\\mathbf{v_2}$ denote the locations of the first and second feature in the map and the satellite image, respectively.\n",
    "\n",
    "For example, the center point can be calculated by re-arranging the transformation equation\n",
    "\n",
    "$$\n",
    "(\\mathbf{v}-\\mathbf{c}) = \\mathbf{A}(\\mathbf{u} - \\mathbf{c}) \\mbox{ to obtain }\n",
    "\\mathbf{c} = (\\mathbf{A} - \\mathbf{I})^{-1}(\\mathbf{A}\\mathbf{u} - \\mathbf{v} )\\,,\n",
    "$$\n",
    "\n",
    "where $\\mathbf{A}$ is the rotation matrix and $\\mathbf{u}$, $\\mathbf{v}$ can either be $\\mathbf{u_1}$, $\\mathbf{v_1}$ or $\\mathbf{u_2}$, $\\mathbf{v_2}$.\n",
    "\n",
    "**For 3 points**, implement `register`, which performs the image registration given the four points $\\mathbf{u_1}$, $\\mathbf{u_2}$, $\\mathbf{v_1}$ and $\\mathbf{v_2}$. The function takes as input parameters\n",
    "\n",
    " * `img`: the original image, \n",
    " * `u1`: an array containing the coordinates of the first point in the original image, \n",
    " * `u2`: an array containing the coordinates of second point in the original image,\n",
    " * `v1`: an array containing the coordinates of the first point in the target image, \n",
    " * `v2`: an array containing the coordinates of the second point in the target image,\n",
    " \n",
    "and outputs\n",
    "\n",
    " * `out`: the registered image.\n",
    "\n",
    "You will have to compute the `scaling`, `angle`, and `center` of rotation parameters for the `transform` call on the last line.\n",
    "    \n",
    "💡 *Hint: You might want to use some of the following functions: [`np.linalg.norm`](https://numpy.org/doc/stable/reference/generated/numpy.linalg.norm.html), [`np.arctan2`](https://numpy.org/doc/stable/reference/generated/numpy.arctan2.html), [`np.dot`](https://numpy.org/doc/stable/reference/generated/numpy.dot.html), [`np.linalg.inv`](https://numpy.org/doc/stable/reference/generated/numpy.linalg.inv.html) and [`np.identity`](https://numpy.org/doc/stable/reference/generated/numpy.identity.html). Check their documentation (click on their names here) if you are not familiar with them.*"
   ]
  },
  {
   "cell_type": "code",
   "execution_count": null,
   "metadata": {
    "deletable": false,
    "execution": {
     "iopub.execute_input": "2025-03-13T10:21:48.603540Z",
     "iopub.status.busy": "2025-03-13T10:21:48.600452Z",
     "iopub.status.idle": "2025-03-13T10:21:48.622657Z",
     "shell.execute_reply": "2025-03-13T10:21:48.620302Z",
     "shell.execute_reply.started": "2025-03-13T10:21:48.603437Z"
    },
    "nbgrader": {
     "cell_type": "code",
     "checksum": "5b70263f4fc9a0d300fac216b5b3f244",
     "grade": false,
     "grade_id": "cell-cd538ed31b6dead8",
     "locked": false,
     "schema_version": 3,
     "solution": true,
     "task": false
    }
   },
   "outputs": [],
   "source": [
    "def register(img, u1, v1, u2, v2):\n",
    "    # You will have to recompute these parameters\n",
    "    angle = 0\n",
    "    scale = 1\n",
    "    center = [0, 0]\n",
    "\n",
    "    o = u2 - u1\n",
    "    t = v2 - v1\n",
    "\n",
    "    # YOUR CODE HERE\n",
    "    \n",
    "    return transform(img, angle=angle, scale=scale, center=center, order=3)"
   ]
  },
  {
   "cell_type": "markdown",
   "metadata": {
    "deletable": false,
    "editable": false,
    "nbgrader": {
     "cell_type": "markdown",
     "checksum": "03ae7484b92211a583963491969e5677",
     "grade": false,
     "grade_id": "cell-4e923ce4c4dcb720",
     "locked": true,
     "schema_version": 3,
     "solution": false,
     "task": false
    }
   },
   "source": [
    "Run the cell below for a quick sanity check. The two reference points in the test image are the leftmost and rightmost points of the long line."
   ]
  },
  {
   "cell_type": "code",
   "execution_count": null,
   "metadata": {
    "deletable": false,
    "editable": false,
    "execution": {
     "iopub.execute_input": "2025-03-13T10:21:49.553971Z",
     "iopub.status.busy": "2025-03-13T10:21:49.551453Z",
     "iopub.status.idle": "2025-03-13T10:21:50.962415Z",
     "shell.execute_reply": "2025-03-13T10:21:50.960217Z",
     "shell.execute_reply.started": "2025-03-13T10:21:49.553880Z"
    },
    "nbgrader": {
     "cell_type": "code",
     "checksum": "2d3cae58eb4fe5138472885744aea207",
     "grade": true,
     "grade_id": "cell-292a8bafba09f8a2",
     "locked": true,
     "points": 2,
     "schema_version": 3,
     "solution": false,
     "task": false
    }
   },
   "outputs": [],
   "source": [
    "target = np.zeros((101, 101)) \n",
    "target[50, 10:90] = 1\n",
    "target[20:50, 50] = 1\n",
    "\n",
    "original = transform(target, angle=np.deg2rad(60), scale=0.6, center=(30, 40), order=3)\n",
    "\n",
    "u1 = np.array((50, 42))\n",
    "u2 = np.array((21, 39))\n",
    "v1 = np.array((50, 10))\n",
    "v2 = np.array((20, 50))\n",
    "\n",
    "registered = register(original, u1, v1, u2, v2)\n",
    "reg_corr = transform(original, angle=np.deg2rad(-59.0362), scale=1.715, center=(28.3784, 40.2703), order=3)\n",
    "if np.allclose(registered, reg_corr, atol=1e-3):\n",
    "    print('Congrats! Your register function seems correct!')\n",
    "else:\n",
    "    print('WARNING!\\nThe registration function is not yet correct. Look at the images below to see the differences.')\n",
    "plt.close('all')\n",
    "view = viewer([original, target, registered, reg_corr],\n",
    "              title=['Original test image', 'Target test image', 'Your registered image', 'Correctly registered image'], \n",
    "              subplots=(2,2))\n"
   ]
  },
  {
   "cell_type": "markdown",
   "metadata": {
    "deletable": false,
    "editable": false,
    "nbgrader": {
     "cell_type": "markdown",
     "checksum": "c5de700bb423e00eebb09f1122966c20",
     "grade": false,
     "grade_id": "cell-1f1909ad7c78cf1a",
     "locked": true,
     "schema_version": 3,
     "solution": false,
     "task": false
    }
   },
   "source": [
    "## Experimentation\n",
    "\n",
    "In this section, we are going to make direct use of your previous implementations to map the `sicilia_map` and `EPFL_map` images to `sicilia_photo` and `EPFL_photo`, respectively. For this purpose, we provide you with a viewer that allows you to select the mapping points and perform the transformations. Make sure that the reference points you select in the original image correspond to the same reference points in the target image.\n",
    "\n",
    "    \n",
    "The points $\\mathbf{u_1}$, $\\mathbf{u_2}$, $\\mathbf{v_1}$ and $\\mathbf{v_2}$ are specified using the viewer with `clickable=True`.\n",
    "Two images will be displayed side by side, and the selected point are assigned in the following order:\n",
    "\n",
    "1. $u_1$ on the first image,\n",
    "1. $v_1$ on the second image,\n",
    "1. $u_2$ on the first image,\n",
    "1. $v_2$ on the second image\n",
    "\n",
    "In case want to restart, you can either finish the selection and restart (happens automatically), click on the button *Reset* (losing any zoom and pan you may have done), or re-run the entire cell.\n",
    "\n",
    "Marks will appear at the clicked point location on the selected image as well as the following display in the statistics panel:\n",
    "`['click:i,x=, y=']`.\n",
    "Once the four points are selected, the `Register Image` button undert the `Extra Widgets` performs the registration."
   ]
  },
  {
   "cell_type": "code",
   "execution_count": null,
   "metadata": {
    "deletable": false,
    "editable": false,
    "execution": {
     "iopub.execute_input": "2025-03-13T10:21:55.879265Z",
     "iopub.status.busy": "2025-03-13T10:21:55.875705Z",
     "iopub.status.idle": "2025-03-13T10:21:56.684880Z",
     "shell.execute_reply": "2025-03-13T10:21:56.683394Z",
     "shell.execute_reply.started": "2025-03-13T10:21:55.879105Z"
    },
    "nbgrader": {
     "cell_type": "code",
     "checksum": "ff8217b0c30721ee2a80871a790dbf96",
     "grade": false,
     "grade_id": "cell-2b68db4380062e31",
     "locked": true,
     "schema_version": 3,
     "solution": false,
     "task": false
    }
   },
   "outputs": [],
   "source": [
    "button = widgets.Button(description='Register Image')\n",
    "\n",
    "def save_points(img, coords): \n",
    "    if len(coords) == 4: \n",
    "        u1 = np.array([coords[0]['y'], coords[0]['x']])\n",
    "        v1 = np.array([coords[1]['y'], coords[1]['x']])\n",
    "        u2 = np.array([coords[2]['y'], coords[2]['x']])\n",
    "        v2 = np.array([coords[3]['y'], coords[3]['x']])\n",
    "        #print(u1, v1, u2, v2)\n",
    "        return register(img, u1, v1, u2, v2)\n",
    "    else: \n",
    "        print('Select ', 4 - len(coords), 'points more.')\n",
    "        return img\n",
    "\n",
    "plt.close('all')\n",
    "sicily_view = viewer([sicilia_photo, sicilia_map], title=['Sicilia map','Sicilia photo'], new_widgets=[button],\n",
    "                     callbacks=[save_points], widgets=True, subplots=(1,2), clickable=True)"
   ]
  },
  {
   "cell_type": "markdown",
   "metadata": {
    "deletable": false,
    "editable": false,
    "nbgrader": {
     "cell_type": "markdown",
     "checksum": "16cbf0b0089f75e24358d6dff38e0613",
     "grade": false,
     "grade_id": "cell-f555caee299a57ea",
     "locked": true,
     "schema_version": 3,
     "solution": false,
     "task": false
    }
   },
   "source": [
    "Now let's try it with the EPFL campus images. This time we align the map to the satellite image."
   ]
  },
  {
   "cell_type": "code",
   "execution_count": null,
   "metadata": {
    "deletable": false,
    "editable": false,
    "execution": {
     "iopub.execute_input": "2025-03-13T10:21:58.043420Z",
     "iopub.status.busy": "2025-03-13T10:21:58.041251Z",
     "iopub.status.idle": "2025-03-13T10:21:59.067545Z",
     "shell.execute_reply": "2025-03-13T10:21:59.064246Z",
     "shell.execute_reply.started": "2025-03-13T10:21:58.043223Z"
    },
    "nbgrader": {
     "cell_type": "code",
     "checksum": "89fd363c2ab7e2af0439474c603e5fe4",
     "grade": false,
     "grade_id": "cell-81210308b673c24c",
     "locked": true,
     "schema_version": 3,
     "solution": false,
     "task": false
    }
   },
   "outputs": [],
   "source": [
    "epfl_map, epfl_photo = [imageio.imread(f'images/{name}.png') for name in ['EPFL_map', 'EPFL_photo']]\n",
    "plt.close('all')\n",
    "epfl_viewer = viewer([epfl_map, epfl_photo], title=['EPFL map', 'EPFL photo'], new_widgets=[button],\n",
    "                     callbacks=[save_points], widgets=True, subplots=(1,2), clickable=True)"
   ]
  },
  {
   "cell_type": "markdown",
   "metadata": {},
   "source": [
    "# Image distortion\n",
    "\n",
    "| Eiffel Tower              | Distorted Eiffel Tower               |\n",
    "|------------------------|-----------------------|\n",
    "| <img src=\"images/distort1.png\" width=\"220px\" alt=\"Fowarding\"> | <img src=\"images/distort2.png\" width=\"220px\" alt=\"Routing\"> |\n",
    "\n",
    "\n",
    "In this section, we implement `distort` that relates the position $\\mathbf{x_1}=(i_1, j_1)$ in the target image to the position $\\mathbf{x_2}=(i_2, j_2)$ in the original image with the pixel-wise relation\n",
    "\n",
    "$$\n",
    "i_2 = i_1 + \\delta(i_1,j_1)(u_i - v_i) \\mbox{, and }j_2 = j_1 + \\delta(i_1,j_1) (u_j - v_j)\\,.\n",
    "$$\n",
    "\n",
    "Here, two points $\\mathbf{u} = (u_i, u_j)$ and $\\mathbf{v} = (v_i, v_j)$ specify the direction of the displacement, while the magnitude is regulated by $\\delta(i_1,j_1)$ as\n",
    "\n",
    "$$\n",
    "\\delta(i_1,j_1) = \\exp\\left(-\\frac{(i_1 - v_i)^2 + (j_1 - v_j)^2}{k^2}\\right)\\,.\n",
    "$$\n",
    "\n",
    "Note that in the particular case where $\\mathbf{x_1}=\\mathbf{v}$ in the target image, the resulting value in the original image is taken from $\\mathbf{x_2}=\\mathbf{u}$."
   ]
  },
  {
   "cell_type": "markdown",
   "metadata": {
    "deletable": false,
    "editable": false,
    "nbgrader": {
     "cell_type": "markdown",
     "checksum": "0208252d6f5b3e396a7ba11681b80b58",
     "grade": false,
     "grade_id": "cell-775c3075098584ad",
     "locked": true,
     "schema_version": 3,
     "solution": false,
     "task": false
    }
   },
   "source": [
    "## Implementation (3 points)\n",
    "\n",
    "Make sure to understand the proposed operation before starting to code, and **for 1 point** answer the following MCQ:\n",
    "\n",
    "* Q1: What happens when we **increase** the parameter $k$?\n",
    "\n",
    "    1. The direction of the distortion will be more horizontal,\n",
    "    2. the direction of the distortion will be more vertical,\n",
    "    3. a larger area of the image will be affected by the distortion, or\n",
    "    4. a smaller area of the image will be affected by the distortion.\n",
    "\n",
    "⚠️ **Note: To answer, change the variable `answer` in the cell below to the number corresponding to your choice. Then run the cell below to check that your answer is valid.**"
   ]
  },
  {
   "cell_type": "code",
   "execution_count": null,
   "metadata": {
    "deletable": false,
    "execution": {
     "iopub.execute_input": "2025-03-13T10:22:20.680964Z",
     "iopub.status.busy": "2025-03-13T10:22:20.678867Z",
     "iopub.status.idle": "2025-03-13T10:22:20.693490Z",
     "shell.execute_reply": "2025-03-13T10:22:20.689910Z",
     "shell.execute_reply.started": "2025-03-13T10:22:20.680862Z"
    },
    "nbgrader": {
     "cell_type": "code",
     "checksum": "48c2b4b69f00af67328e24157507d03d",
     "grade": false,
     "grade_id": "cell-2cd9b76cc1aeb1aa",
     "locked": false,
     "schema_version": 3,
     "solution": true,
     "task": false
    }
   },
   "outputs": [],
   "source": [
    "# Modify the variable answer\n",
    "answer = None\n",
    "# YOUR CODE HERE"
   ]
  },
  {
   "cell_type": "code",
   "execution_count": null,
   "metadata": {
    "deletable": false,
    "editable": false,
    "execution": {
     "iopub.execute_input": "2025-03-13T10:22:20.969262Z",
     "iopub.status.busy": "2025-03-13T10:22:20.968441Z",
     "iopub.status.idle": "2025-03-13T10:22:20.982332Z",
     "shell.execute_reply": "2025-03-13T10:22:20.980164Z",
     "shell.execute_reply.started": "2025-03-13T10:22:20.969185Z"
    },
    "nbgrader": {
     "cell_type": "code",
     "checksum": "b524490d0e5476d6bfd12c0b00b522a4",
     "grade": true,
     "grade_id": "cell-d2ccf681162b855b",
     "locked": true,
     "points": 1,
     "schema_version": 3,
     "solution": false,
     "task": false
    }
   },
   "outputs": [],
   "source": [
    "# Sanity check\n",
    "if not answer in [1, 2, 3, 4]:\n",
    "    print('WARNING!\\nValid answers are 1, 2, 3 and 4.')"
   ]
  },
  {
   "cell_type": "markdown",
   "metadata": {
    "deletable": false,
    "editable": false,
    "nbgrader": {
     "cell_type": "markdown",
     "checksum": "600f1d25e55b5e250d506d2fad99ea41",
     "grade": false,
     "grade_id": "cell-5b7ec3a51a3e14d7",
     "locked": true,
     "schema_version": 3,
     "solution": false,
     "task": false
    }
   },
   "source": [
    "**For 2 points**, complete the function `distort` in the next cell. The function `distort(i, j, u_i, u_j, v_i, v_j, k)` takes as input parameters\n",
    "\n",
    "* `i`: $i_1$,\n",
    "* `j`: $j_1$,\n",
    "* `u_i`: $u_i$,\n",
    "* `u_j`: $u_j$,\n",
    "* `v_i`: $v_i$,\n",
    "* `v_j`: $v_j$, and\n",
    "* `k`: $k$,\n",
    "    \n",
    "and returns\n",
    "\n",
    "* `i_new`, `j_new`: $i_2$, $j_2$.\n",
    "\n",
    "⚠️ **Note: Make sure to calculate `i_new` and `j_new` separately (don't perform any vector calculations). We will call the `distort()` function passing two-dimensional arrays in `i` and `j`, so putting them together in a vector would probably fail and/or complicate the implementation unnecessarily.**"
   ]
  },
  {
   "cell_type": "code",
   "execution_count": null,
   "metadata": {
    "deletable": false,
    "execution": {
     "iopub.execute_input": "2025-03-13T10:22:22.206906Z",
     "iopub.status.busy": "2025-03-13T10:22:22.205261Z",
     "iopub.status.idle": "2025-03-13T10:22:22.225588Z",
     "shell.execute_reply": "2025-03-13T10:22:22.221909Z",
     "shell.execute_reply.started": "2025-03-13T10:22:22.206759Z"
    },
    "nbgrader": {
     "cell_type": "code",
     "checksum": "1e300e94982e7f0aee6158980a43fa5c",
     "grade": false,
     "grade_id": "cell-6bf7b6777cd2fd8f",
     "locked": false,
     "schema_version": 3,
     "solution": true,
     "task": false
    }
   },
   "outputs": [],
   "source": [
    "def distort(i, j, u_i, u_j, v_i, v_j, k):\n",
    "    i_new = i\n",
    "    j_new = j\n",
    "    \n",
    "    # YOUR CODE HERE\n",
    "    \n",
    "    return i_new, j_new"
   ]
  },
  {
   "cell_type": "markdown",
   "metadata": {
    "deletable": false,
    "editable": false,
    "nbgrader": {
     "cell_type": "markdown",
     "checksum": "0a485a32e096971748ea9d685345a6b3",
     "grade": false,
     "grade_id": "cell-f7b9e869f65f5381",
     "locked": true,
     "schema_version": 3,
     "solution": false,
     "task": false
    }
   },
   "source": [
    "Let us perform a sanity check on the `distort` function."
   ]
  },
  {
   "cell_type": "code",
   "execution_count": null,
   "metadata": {
    "deletable": false,
    "editable": false,
    "execution": {
     "iopub.execute_input": "2025-03-13T10:22:23.575820Z",
     "iopub.status.busy": "2025-03-13T10:22:23.572663Z",
     "iopub.status.idle": "2025-03-13T10:22:23.615664Z",
     "shell.execute_reply": "2025-03-13T10:22:23.613930Z",
     "shell.execute_reply.started": "2025-03-13T10:22:23.575685Z"
    },
    "nbgrader": {
     "cell_type": "code",
     "checksum": "566af12b74f61ef7f750166024831c56",
     "grade": true,
     "grade_id": "cell-b00af28241ddffda",
     "locked": true,
     "points": 2,
     "schema_version": 3,
     "solution": false,
     "task": false
    }
   },
   "outputs": [],
   "source": [
    "i_corr = np.array([\n",
    "    [ 1.711,  1.85 ,  1.938,  1.969,  1.938],\n",
    "    [ 2.738,  2.879,  2.969,  3.   ,  2.969],\n",
    "    [ 3.711,  3.85 ,  3.938,  3.969,  3.938],\n",
    "    [ 4.632,  4.765,  4.85 ,  4.879,  4.85 ],\n",
    "    [ 5.51 ,  5.632,  5.711,  5.738,  5.711]\n",
    "])\n",
    "j_corr = np.array([\n",
    "    [-1.711, -0.85 ,  0.062,  1.031,  2.062],\n",
    "    [-1.738, -0.879,  0.031,  1.   ,  2.031],\n",
    "    [-1.711, -0.85 ,  0.062,  1.031,  2.062],\n",
    "    [-1.632, -0.765,  0.15 ,  1.121,  2.15 ],\n",
    "    [-1.51 , -0.632,  0.289,  1.262,  2.289]\n",
    "])\n",
    "\n",
    "u = [3, 1]\n",
    "v = [1, 3]\n",
    "k = 8\n",
    "\n",
    "idxs = np.round(np.fromfunction(lambda i, j: distort(i, j, u[0], u[1], v[0], v[1], k), shape=(5,5)), 3)\n",
    "print(f'Your distorted i-coordinates:\\n{idxs[0]}\\n\\nYour distorted j-coordinates:\\n{idxs[1]}\\n')\n",
    "\n",
    "if not (np.allclose(i_corr, idxs[0], atol=1e-3) and np.allclose(j_corr, idxs[1], atol=1e-3)):\n",
    "    print('You do not pass the sanity check')\n"
   ]
  },
  {
   "cell_type": "markdown",
   "metadata": {
    "deletable": false,
    "editable": false,
    "nbgrader": {
     "cell_type": "markdown",
     "checksum": "d267bb80dcf8105effd813e2927cc2eb",
     "grade": false,
     "grade_id": "cell-a287dc129bf2975f",
     "locked": true,
     "schema_version": 3,
     "solution": false,
     "task": false
    }
   },
   "source": [
    "## Experimentation\n",
    "\n",
    "Now we will again create an interactive viewer so that you can play around with the `distort()` function. Like in the `register()` experimentation, you can click on the image to define the points $\\mathbf{u}$ and $\\mathbf{v}$ and then click on `Distort` to apply the distortion. Additionally, you can choose the value for the parameter $k$ with the slider. You will need to click on the `Distort` button again to apply any new value for $k$.\n",
    "\n",
    "If you look at the code below, you can see that we apply your distort function to all pixel locations of the eiffel image, using [`np.fromfunction`](https://numpy.org/doc/stable/reference/generated/numpy.fromfunction.html). This gives us all the distorted pixel indices for the entire image, which we can then interpolate with a cubic spline interpolation by using the function [`ndimage.map_coordinates`](https://docs.scipy.org/doc/scipy/reference/generated/scipy.ndimage.map_coordinates.html). If you're interested, you can go check out their documentation."
   ]
  },
  {
   "cell_type": "code",
   "execution_count": null,
   "metadata": {
    "deletable": false,
    "editable": false,
    "execution": {
     "iopub.execute_input": "2025-03-13T10:22:26.151251Z",
     "iopub.status.busy": "2025-03-13T10:22:26.150473Z",
     "iopub.status.idle": "2025-03-13T10:22:26.972541Z",
     "shell.execute_reply": "2025-03-13T10:22:26.969877Z",
     "shell.execute_reply.started": "2025-03-13T10:22:26.151183Z"
    },
    "nbgrader": {
     "cell_type": "code",
     "checksum": "a921f13c6ab82599f05477f2cdd519dd",
     "grade": false,
     "grade_id": "cell-59f5ca5f5e4db16b",
     "locked": true,
     "schema_version": 3,
     "solution": false,
     "task": false
    }
   },
   "outputs": [],
   "source": [
    "k_slider = widgets.IntSlider(value=64, min=1, max=256, description='k')\n",
    "button = widgets.Button(description = 'Distort')\n",
    "eiffel = imageio.imread('images/eiffel.png') / 255.\n",
    "\n",
    "def distort_callback(img, coords): \n",
    "    if len(coords) == 2: \n",
    "        # Get distortion parameters\n",
    "        k = k_slider.value\n",
    "        u = (coords[0]['y'], coords[0]['x'])\n",
    "        v = (coords[1]['y'], coords[1]['x'])\n",
    "        idxs = np.fromfunction(lambda i, j: distort(i, j, u[0], u[1], v[0], v[1], k=k), shape=img.shape)\n",
    "        return nd.map_coordinates(img, idxs, order=3, mode='constant').reshape(img.shape)\n",
    "    else:\n",
    "        print('Select ', 2 - len(coords), 'points more.')\n",
    "        return img\n",
    "\n",
    "\n",
    "plt.close('all')\n",
    "distort_view = viewer(eiffel, widgets=True, new_widgets=[k_slider, button], callbacks=[distort_callback], clickable=True, line=True)"
   ]
  },
  {
   "cell_type": "markdown",
   "metadata": {
    "deletable": false,
    "editable": false,
    "nbgrader": {
     "cell_type": "markdown",
     "checksum": "c48065d15b99e0ccea607502dcd9ba8f",
     "grade": false,
     "grade_id": "cell-4c02d6ed2df2aa9c",
     "locked": true,
     "schema_version": 3,
     "solution": false,
     "task": false
    }
   },
   "source": [
    "🎉 Congratulations on finishing the second part of the Geometric Transformation lab!! 🎉\n",
    "\n",
    "Make sure to save your notebook (you might want to keep a copy on your personal computer) and upload it to Moodle, **in a zip file with the other notebook of this lab.**\n",
    "\n",
    "* Keep the name of the notebook as: *2_gt_applications.ipynb*,\n",
    "* Name the zip file: *geometric_transformation_lab.zip*."
   ]
  }
 ],
 "metadata": {
  "kernelspec": {
   "display_name": "Python3",
   "language": "python",
   "name": "python3"
  },
  "language_info": {
   "codemirror_mode": {
    "name": "ipython",
    "version": 3
   },
   "file_extension": ".py",
   "mimetype": "text/x-python",
   "name": "python",
   "nbconvert_exporter": "python",
   "pygments_lexer": "ipython3",
   "version": "3.12.5"
  },
  "toc": {
   "base_numbering": 1,
   "nav_menu": {},
   "number_sections": false,
   "sideBar": true,
   "skip_h1_title": false,
   "title_cell": "Table of Contents",
   "title_sidebar": "Contents",
   "toc_cell": false,
   "toc_position": {},
   "toc_section_display": true,
   "toc_window_display": false
  }
 },
 "nbformat": 4,
 "nbformat_minor": 4
}
