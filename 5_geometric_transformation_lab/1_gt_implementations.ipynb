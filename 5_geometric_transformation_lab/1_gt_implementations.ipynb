{
 "cells": [
  {
   "cell_type": "markdown",
   "metadata": {
    "deletable": false,
    "editable": false,
    "nbgrader": {
     "cell_type": "markdown",
     "checksum": "8fe62b669c3037666b21ec2fe9956bba",
     "grade": false,
     "grade_id": "header",
     "locked": true,
     "schema_version": 3,
     "solution": false,
     "task": false
    }
   },
   "source": [
    "<img src=\"https://www.epfl.ch/about/overview/wp-content/uploads/2020/07/logo-epfl-1024x576.png\" width=\"140px\" alt=\"EPFL_logo\">\n",
    "\n",
    "## Image Processing Laboratory Notebooks\n",
    "---\n",
    "\n",
    "This Jupyter Notebook is part of a series of computer laboratories that are designed\n",
    "to teach image-processing programming; they are running on the EPFL's Noto server. They are the practical complement of the theoretical lectures of the EPFL's Master course \n",
    "[**MICRO-512 Image Processing II**](https://moodle.epfl.ch/course/view.php?id=522) taught by Prof. M. Unser and Prof. D. Van de Ville.\n",
    "\n",
    "The project is funded by the Center for Digital Education and the School of Engineering. It is owned by the [Biomedical Imaging Group](http://bigwww.epfl.ch/). \n",
    "The distribution or reproduction of the notebook is strictly prohibited without the written consent of the authors.  &copy; EPFL 2025.\n",
    "\n",
    "**Authors**: \n",
    "    [Pol del Aguila Pla](mailto:pol.delaguilapla@epfl.ch), \n",
    "    [Kay Lächler](mailto:kay.lachler@epfl.ch),\n",
    "    [Alejandro Noguerón Arámburu](mailto:alejandro.nogueronaramburu@epfl.ch),\n",
    "    [Kamil Seghrouchni](mailto:kamil.seghrouchni@epfl.ch), and\n",
    "    [Daniel Sage](mailto:daniel.sage@epfl.ch).\n",
    "    \n",
    "---\n",
    "# Lab 5.1: Geometric transformation - Implementations\n",
    "**Released**: Thursday, March 13, 2025\n",
    "\n",
    "**Submission deadline**: Monday, March 24, 2025, before 23:59 on [Moodle](https://moodle.epfl.ch/course/view.php?id=463)\n",
    "\n",
    "**Grade weight**: Lab 5 (22 points), 7.5 % of the overall grade\n",
    "\n",
    "**Related lectures**: Chapter 7"
   ]
  },
  {
   "cell_type": "markdown",
   "metadata": {},
   "source": [
    "### Student Name: \n",
    "### SCIPER: \n",
    "\n",
    "Double-click on this cell and fill your name and SCIPER number. Then, run the cell below to verify your identity in Noto and set the seed for random results."
   ]
  },
  {
   "cell_type": "code",
   "execution_count": null,
   "metadata": {
    "deletable": false,
    "editable": false,
    "execution": {
     "iopub.execute_input": "2025-03-13T09:44:03.083002Z",
     "iopub.status.busy": "2025-03-13T09:44:03.080244Z",
     "iopub.status.idle": "2025-03-13T09:44:03.104563Z",
     "shell.execute_reply": "2025-03-13T09:44:03.102159Z",
     "shell.execute_reply.started": "2025-03-13T09:44:03.082902Z"
    },
    "nbgrader": {
     "cell_type": "code",
     "checksum": "990fc1a9ec2d314b09735f6e5846beb4",
     "grade": true,
     "grade_id": "imports",
     "locked": true,
     "points": 0,
     "schema_version": 3,
     "solution": false,
     "task": false
    }
   },
   "outputs": [],
   "source": [
    "import getpass\n",
    "# This line recovers your camipro number to mark the images with your ID\n",
    "uid = int(getpass.getuser().split('-')[2]) if len(getpass.getuser().split('-')) > 2 else ord(getpass.getuser()[0])\n",
    "print(f'SCIPER: {uid}')"
   ]
  },
  {
   "cell_type": "markdown",
   "metadata": {
    "deletable": false,
    "editable": false,
    "nbgrader": {
     "cell_type": "markdown",
     "checksum": "9af45f0959cfd5ec500f777139fa4d27",
     "grade": false,
     "grade_id": "guildeline_general",
     "locked": true,
     "schema_version": 3,
     "solution": false,
     "task": false
    }
   },
   "source": [
    "# Geometric transformation - Implementations (14 points)\n",
    "\n",
    "In this laboratory, we implement geometric transformations and interpolations of images, which we use for image processing applications.\n",
    "We focus on geometric transformations of two-dimensional grayscale images; the same operations can be adapted to color images by treating each color channel as an independent grayscale image.\n",
    "\n",
    "In this lab, we work on the image of the Eiffel Tower which the next cell depicts."
   ]
  },
  {
   "cell_type": "code",
   "execution_count": null,
   "metadata": {
    "deletable": false,
    "editable": false,
    "execution": {
     "iopub.execute_input": "2025-03-13T09:44:04.107104Z",
     "iopub.status.busy": "2025-03-13T09:44:04.106187Z",
     "iopub.status.idle": "2025-03-13T09:44:04.908562Z",
     "shell.execute_reply": "2025-03-13T09:44:04.905454Z",
     "shell.execute_reply.started": "2025-03-13T09:44:04.107024Z"
    },
    "nbgrader": {
     "cell_type": "code",
     "checksum": "8ccb8a17ecdebb3a600d92368b6de088",
     "grade": false,
     "grade_id": "load_eiffel",
     "locked": true,
     "schema_version": 3,
     "solution": false,
     "task": false
    }
   },
   "outputs": [],
   "source": [
    "%matplotlib widget\n",
    "import matplotlib.pyplot as plt\n",
    "import imageio.v3 as imageio\n",
    "from interactive_kit import imviewer as viewer\n",
    "\n",
    "eiffel = imageio.imread('images/eiffel.png') / 255.\n",
    "\n",
    "plt.close('all')\n",
    "imgs_viewer = viewer(eiffel)"
   ]
  },
  {
   "cell_type": "markdown",
   "metadata": {
    "deletable": false,
    "editable": false,
    "nbgrader": {
     "cell_type": "markdown",
     "checksum": "e900247a25c2757e8d8be5d9cabd88ca",
     "grade": false,
     "grade_id": "guideline_understand_geometry",
     "locked": true,
     "schema_version": 3,
     "solution": false,
     "task": false
    }
   },
   "source": [
    "# Understanding geometry \n",
    "\n",
    "In this section we study the basics of geometric transformations, starting with transforming coordinate frames using a transformation matrix.\n",
    "Then, we apply this to images by iterating through the pixels in the (to-be) transformed image and retrieving the value at their corresponding positions in the original image, requiring interpolation in almost all cases.\n",
    "In this section, we use [*nearest neighbor*](https://en.wikipedia.org/wiki/Nearest-neighbor_interpolation) interpolation, and compare our results to SciPy."
   ]
  },
  {
   "cell_type": "markdown",
   "metadata": {
    "deletable": false,
    "editable": false,
    "nbgrader": {
     "cell_type": "markdown",
     "checksum": "f81abcda40daf00f8dd580debc957a98",
     "grade": false,
     "grade_id": "guide_rotation",
     "locked": true,
     "schema_version": 3,
     "solution": false,
     "task": false
    }
   },
   "source": [
    "## Rotation of the coordinate frame (1 point)\n",
    "\n",
    "We parametrize a geometric transformation on a two-dimensional image by the angle of rotation, $\\alpha \\in [0, 2\\pi]$, the scaling, $\\rho>0$, and the center of the transformation $\\mathbf{c}=(c_1, c_2)$.\n",
    "Thus, the pixel at position $\\mathbf{u}=(u_1, u_2)$ in the input image gets mapped to $\\mathbf{v}=(v_1, v_2)$ in the output image according to\n",
    "\n",
    "$$ (\\mathbf{v} - \\mathbf{c}) = \\mathbf{A}(\\mathbf{u} - \\mathbf{c}) \\Rightarrow \\mathbf{v} = \\mathbf{A}(\\mathbf{u} - \\mathbf{c}) + \\mathbf{c},$$\n",
    "\n",
    "where $\\mathbf{A}$ applies a rotation and scaling of the coordinate frame. \n",
    "\n",
    "The convention in image processing is to **rotate the coordinate frame**, as opposed to rotating a point while keeping the same coordinate frame. In fact, the two operations are the inverse of each other (rotating the coordinate frame by $\\alpha$ will look like rotating the point by $-\\alpha$). Explore the image below and make sure you understand the concept before continuing.\n",
    "\n",
    "![Forwarding](images/coord_frame_rotation.png)"
   ]
  },
  {
   "cell_type": "markdown",
   "metadata": {
    "deletable": false,
    "editable": false,
    "nbgrader": {
     "cell_type": "markdown",
     "checksum": "f80c96fe042b18eb485fbe6cae3814a8",
     "grade": false,
     "grade_id": "mcq_rotation_question",
     "locked": true,
     "schema_version": 3,
     "solution": false,
     "task": false
    }
   },
   "source": [
    "### Multiple Choice Question\n",
    "\n",
    "**For 1 point**, \n",
    "\n",
    " * Which $2 \\times 2$ matrix performs a rotation **of the coordinate frame** of angle $\\alpha$ and a scaling by $\\rho$? \n",
    "    1. $\\rho \\left[\\begin{array}{ccc} \\cos(\\alpha) & \\sin(\\alpha)\\\\ -\\sin(\\alpha) & \\cos(\\alpha) \\end{array}\\right]$\n",
    "    2. $\\rho \\left[\\begin{array}{ccc} \\cos(\\alpha) & -\\sin(\\alpha)\\\\ \\sin(\\alpha) & \\cos(\\alpha) \\end{array}\\right]$\n",
    "    3. $\\frac{1}{\\rho} \\left[\\begin{array}{ccc} \\cos(\\alpha) & \\sin(\\alpha)\\\\ -\\cos(\\alpha) & \\sin(\\alpha) \\end{array}\\right]$\n",
    "    4. $\\frac{1}{\\rho}\\left[\\begin{array}{ccc} \\cos(\\alpha) & -\\sin(\\alpha)\\\\ \\sin(\\alpha) & \\cos(\\alpha) \\end{array}\\right]$"
   ]
  },
  {
   "cell_type": "code",
   "execution_count": null,
   "metadata": {
    "deletable": false,
    "execution": {
     "iopub.execute_input": "2025-03-13T09:44:12.023318Z",
     "iopub.status.busy": "2025-03-13T09:44:12.021594Z",
     "iopub.status.idle": "2025-03-13T09:44:12.038234Z",
     "shell.execute_reply": "2025-03-13T09:44:12.035500Z",
     "shell.execute_reply.started": "2025-03-13T09:44:12.023202Z"
    },
    "nbgrader": {
     "cell_type": "code",
     "checksum": "56138e08c72a9a3305d4f571e2f0e22d",
     "grade": false,
     "grade_id": "mcq_rotation_answer",
     "locked": false,
     "schema_version": 3,
     "solution": true,
     "task": false
    }
   },
   "outputs": [],
   "source": [
    "# Modify the variable answer\n",
    "answer = None\n",
    "# YOUR CODE HERE"
   ]
  },
  {
   "cell_type": "code",
   "execution_count": null,
   "metadata": {
    "deletable": false,
    "editable": false,
    "execution": {
     "iopub.execute_input": "2025-03-13T09:44:12.764087Z",
     "iopub.status.busy": "2025-03-13T09:44:12.762488Z",
     "iopub.status.idle": "2025-03-13T09:44:12.786859Z",
     "shell.execute_reply": "2025-03-13T09:44:12.782950Z",
     "shell.execute_reply.started": "2025-03-13T09:44:12.763989Z"
    },
    "nbgrader": {
     "cell_type": "code",
     "checksum": "76b5b34e4a832124ef39cbffcb765a58",
     "grade": true,
     "grade_id": "mcq_rotation_tests",
     "locked": true,
     "points": 1,
     "schema_version": 3,
     "solution": false,
     "task": false
    }
   },
   "outputs": [],
   "source": [
    "# Sanity check\n",
    "if not answer in [1, 2, 3, 4]:\n",
    "    print('WARNING!\\nValid answers are 1, 2, 3 and 4.')"
   ]
  },
  {
   "cell_type": "markdown",
   "metadata": {
    "deletable": false,
    "editable": false,
    "nbgrader": {
     "cell_type": "markdown",
     "checksum": "5a405785ea3c0165fd8f10ea88e7d7bd",
     "grade": false,
     "grade_id": "guide_geo_trans",
     "locked": true,
     "schema_version": 3,
     "solution": false,
     "task": false
    }
   },
   "source": [
    "## Implementing the geometric transformation (4 points)\n",
    "\n",
    "To compute the transformation of an image, we iterate the pixels of the output image and retrieve the corresponding values from the input image, requiring solving the equation for $\\mathbf{u}$:\n",
    "\n",
    "$$\\mathbf{u} = \\mathbf{A}^{-1}(\\mathbf{v}-\\mathbf{c}) + \\mathbf{c}\\,.$$\n",
    "\n",
    "**For 2 points**, implement `transformation_matrix` taking the arguments\n",
    "* `angle`: the angle of *rotation of the coordinate frame* **in radian**,\n",
    "* `scaling`: the scaling factor,\n",
    "\n",
    "and returning\n",
    "* a matrix containing the **inverse** of the matrix corresponding to the transformation."
   ]
  },
  {
   "cell_type": "code",
   "execution_count": null,
   "metadata": {
    "deletable": false,
    "execution": {
     "iopub.execute_input": "2025-03-13T09:44:15.932069Z",
     "iopub.status.busy": "2025-03-13T09:44:15.931246Z",
     "iopub.status.idle": "2025-03-13T09:44:15.950200Z",
     "shell.execute_reply": "2025-03-13T09:44:15.945956Z",
     "shell.execute_reply.started": "2025-03-13T09:44:15.932003Z"
    },
    "nbgrader": {
     "cell_type": "code",
     "checksum": "50ab0ef1a91ddd6530d90a4891108ce4",
     "grade": false,
     "grade_id": "answer_geo_trans",
     "locked": false,
     "schema_version": 3,
     "solution": true,
     "task": false
    }
   },
   "outputs": [],
   "source": [
    "import numpy as np\n",
    "\n",
    "\n",
    "def transformation_matrix(angle, scale):\n",
    "    mat = np.empty((2, 2))\n",
    "    # YOUR CODE HERE\n",
    "    return mat"
   ]
  },
  {
   "cell_type": "code",
   "execution_count": null,
   "metadata": {
    "deletable": false,
    "editable": false,
    "execution": {
     "iopub.execute_input": "2025-03-13T09:44:23.613913Z",
     "iopub.status.busy": "2025-03-13T09:44:23.611514Z",
     "iopub.status.idle": "2025-03-13T09:44:23.638437Z",
     "shell.execute_reply": "2025-03-13T09:44:23.637154Z",
     "shell.execute_reply.started": "2025-03-13T09:44:23.613816Z"
    },
    "nbgrader": {
     "cell_type": "code",
     "checksum": "1d6d7a11e8af784f81b1938e798deaf9",
     "grade": true,
     "grade_id": "tests_geo_trans",
     "locked": true,
     "points": 2,
     "schema_version": 3,
     "solution": false,
     "task": false
    }
   },
   "outputs": [],
   "source": [
    "# We run a sanity check on `transformation_matrix`, applying it to several angles and scales.\n",
    "# declare solutions for 0° and a scaling of one, and for 90° and a scaling of 2.\n",
    "identity = np.array([[1, 0], [0, 1]])\n",
    "r90s2 = np.array([[0, 0.5], [-0.5, 0]])\n",
    "\n",
    "# the transformationn with 0° angle and unit scale should produce an identity matrix\n",
    "if not np.allclose(transformation_matrix(0, 1), np.eye(2), rtol=1e-2):\n",
    "    print('Warning: The output should be the identity matrix.')\n",
    "\n",
    "# the transformation with -pi/2 angle and scaling of 2 should be an anti-diagonal matrix with values of +/-0.5\n",
    "if not np.allclose(transformation_matrix(-np.pi / 2, 2), r90s2, rtol=1e-2):\n",
    "    print('Warning: The output is not correct.')\n"
   ]
  },
  {
   "cell_type": "markdown",
   "metadata": {
    "deletable": false,
    "editable": false,
    "nbgrader": {
     "cell_type": "markdown",
     "checksum": "7a82c024908a53fa6879f9b914785ced",
     "grade": false,
     "grade_id": "guide_nn",
     "locked": true,
     "schema_version": 3,
     "solution": false,
     "task": false
    }
   },
   "source": [
    "For some transformations, for example, rotations by $\\pi \\mathbb{Z} / 2$, all pixel locations in the output image correspond to pixel locations in the input image.\n",
    "However, this is not true in general and usually we need to interpolate the output value from input pixels surrounding the mapped location.\n",
    "To start, we provide you with a nearest neighbor interpolator, but later we will implement more sophisticated interpolation methods."
   ]
  },
  {
   "cell_type": "code",
   "execution_count": null,
   "metadata": {
    "deletable": false,
    "editable": false,
    "execution": {
     "iopub.execute_input": "2025-03-13T09:44:27.187556Z",
     "iopub.status.busy": "2025-03-13T09:44:27.186241Z",
     "iopub.status.idle": "2025-03-13T09:44:27.200858Z",
     "shell.execute_reply": "2025-03-13T09:44:27.200083Z",
     "shell.execute_reply.started": "2025-03-13T09:44:27.187463Z"
    },
    "nbgrader": {
     "cell_type": "code",
     "checksum": "f56e35a757612188804f646314604183",
     "grade": false,
     "grade_id": "code_nn",
     "locked": true,
     "schema_version": 3,
     "solution": false,
     "task": false
    }
   },
   "outputs": [],
   "source": [
    "def nearest_interpolator(image, x):\n",
    "    a, b = int(np.rint(x[0])), int(np.rint(x[1]))\n",
    "    if not ((0 <= a < image.shape[0]) and (0 <= b < image.shape[1])):\n",
    "        return 0.\n",
    "    return image[a, b]"
   ]
  },
  {
   "cell_type": "markdown",
   "metadata": {
    "deletable": false,
    "editable": false,
    "nbgrader": {
     "cell_type": "markdown",
     "checksum": "9fcc6e19d95bba53e9c2e7ac98bde85a",
     "grade": false,
     "grade_id": "guide_trans",
     "locked": true,
     "schema_version": 3,
     "solution": false,
     "task": false
    }
   },
   "source": [
    "**For 2 points**, implement `transform`, transforming an image pixel-wise, with arguments\n",
    "* `img`: the original image,\n",
    "* `angle`: the rotation angle in degrees,\n",
    "* `scaling`: the scaling factor,\n",
    "* `c`: a pair of integers specifying the $x$- and $y$-coordinates of the center of rotation,\n",
    "* `interpolator`: a function that performs the interpolation, with the signature as in the `nearest_interpolator`above\n",
    "\n",
    "and returning\n",
    "* `out`: the transformed image.\n",
    "\n",
    "In particular, we need to compute the location in the original image, $\\mathbf{u}$, from the inverse transformation matrix $\\mathbf{A}^{-1}$, the center of the transformation $\\mathbf{c}$, and the location in the output image $\\mathbf{v}$, using the previously discussed formula."
   ]
  },
  {
   "cell_type": "code",
   "execution_count": null,
   "metadata": {
    "deletable": false,
    "execution": {
     "iopub.execute_input": "2025-03-13T09:44:34.010274Z",
     "iopub.status.busy": "2025-03-13T09:44:34.005494Z",
     "iopub.status.idle": "2025-03-13T09:44:34.023176Z",
     "shell.execute_reply": "2025-03-13T09:44:34.018713Z",
     "shell.execute_reply.started": "2025-03-13T09:44:34.010181Z"
    },
    "nbgrader": {
     "cell_type": "code",
     "checksum": "aa685c955e46c2f47f298cf96190417d",
     "grade": false,
     "grade_id": "answer_trans",
     "locked": false,
     "schema_version": 3,
     "solution": true,
     "task": false
    }
   },
   "outputs": [],
   "source": [
    "def transform(img, angle, scale, c, interpolator):\n",
    "    transformed = img.copy()\n",
    "    Ainv = transformation_matrix(angle, scale)\n",
    "    for i in range(img.shape[0]):\n",
    "        for j in range(img.shape[1]):\n",
    "            # YOUR CODE HERE\n",
    "    return transformed"
   ]
  },
  {
   "cell_type": "markdown",
   "metadata": {
    "deletable": false,
    "editable": false,
    "nbgrader": {
     "cell_type": "markdown",
     "checksum": "d1452bd4b99444d2bf8a791858e6236d",
     "grade": false,
     "grade_id": "guide_tests_trans",
     "locked": true,
     "schema_version": 3,
     "solution": false,
     "task": false
    }
   },
   "source": [
    "Let's perform a quick sanity check. We will apply your function on a small $5\\times 5$ cross image, then visualize and compare transformations by $0^\\circ$ and scaling factor $2$, and $40^\\circ$ and scaling factor $1.01$, respectively, to see the effect of the nearest neighbor interpolation. Both transformations will be centered at the middle of the image, i.e., $\\mathbf{c}=[2,2]^\\mathrm{T}$. If your cell raises an error, explore the test in detail to see where it might come from."
   ]
  },
  {
   "cell_type": "code",
   "execution_count": null,
   "metadata": {
    "deletable": false,
    "editable": false,
    "execution": {
     "iopub.execute_input": "2025-03-13T09:44:42.369900Z",
     "iopub.status.busy": "2025-03-13T09:44:42.368477Z",
     "iopub.status.idle": "2025-03-13T09:45:12.301422Z",
     "shell.execute_reply": "2025-03-13T09:45:12.298480Z",
     "shell.execute_reply.started": "2025-03-13T09:44:42.369772Z"
    },
    "nbgrader": {
     "cell_type": "code",
     "checksum": "c781ea28a0274317a60e770c9459b922",
     "grade": true,
     "grade_id": "tests_trans",
     "locked": true,
     "points": 2,
     "schema_version": 3,
     "solution": false,
     "task": false
    }
   },
   "outputs": [],
   "source": [
    "cross = np.array([\n",
    "    [0, 0, 1, 0, 0],\n",
    "    [0, 0, 1, 0, 0],\n",
    "    [1, 1, 1, 1, 1],\n",
    "    [0, 0, 1, 0, 0],\n",
    "    [0, 0, 1, 0, 0],\n",
    "])\n",
    "\n",
    "# Test for angle = 0, scale = 2 using NN interpolation\n",
    "ref1 = np.array([\n",
    "    [0, 1, 1, 1, 0],\n",
    "    [1, 1, 1, 1, 1],\n",
    "    [1, 1, 1, 1, 1],\n",
    "    [1, 1, 1, 1, 1],\n",
    "    [0, 1, 1, 1, 0],\n",
    "]);\n",
    "result1 = transform(cross, angle=0, scale=2, c=(2, 2), interpolator=nearest_interpolator)\n",
    "\n",
    "# Test for angle = 40°, scale = 2 using NN interpolation\n",
    "ref2 = np.array([\n",
    "    [0, 0, 0, 0, 0],\n",
    "    [0, 1, 0, 1, 0],\n",
    "    [0, 0, 1, 0, 0],\n",
    "    [0, 1, 0, 1, 0],\n",
    "    [0, 0, 0, 0, 0],\n",
    "])\n",
    "result2 = transform(cross, angle=np.deg2rad(40), scale=1.01, c=(2, 2), interpolator=nearest_interpolator)\n",
    "\n",
    "if not np.allclose(ref1, result1, rtol=1e-2):\n",
    "    print('Your output is not correct.')\n",
    "if not np.allclose(ref2, result2, rtol=1e-2):\n",
    "    print('Your output is not correct.')\n"
   ]
  },
  {
   "cell_type": "markdown",
   "metadata": {
    "deletable": false,
    "editable": false,
    "nbgrader": {
     "cell_type": "markdown",
     "checksum": "398fb40309e8716c2aca02e4ec560af4",
     "grade": false,
     "grade_id": "cell-becb626eeb200b43",
     "locked": true,
     "schema_version": 3,
     "solution": false,
     "task": false
    }
   },
   "source": [
    "Although the sanity check was not applied to real images, we can already see all sorts of undesirable effects. Let's look at the result on a real image. "
   ]
  },
  {
   "cell_type": "markdown",
   "metadata": {
    "deletable": false,
    "editable": false,
    "nbgrader": {
     "cell_type": "markdown",
     "checksum": "6c9a50e7d24a9587704b6cb6520b1b31",
     "grade": false,
     "grade_id": "cell-9fad8292959da5ab",
     "locked": true,
     "schema_version": 3,
     "solution": false,
     "task": false
    }
   },
   "source": [
    "## Visualizing transformations\n",
    "\n",
    "We apply the transformation to the `eiffel` image, with the following $(\\alpha, \\rho)$ pairs using nearest neighbor interpolation: $(0^\\circ, 1)$, $(0^\\circ, 0.8)$, $(24^\\circ, 2.5)$ and $(-20^\\circ, 1)$.\n",
    "Here, we can find errors that slipped through the previous test where the image was symmetric."
   ]
  },
  {
   "cell_type": "code",
   "execution_count": null,
   "metadata": {
    "deletable": false,
    "editable": false,
    "execution": {
     "iopub.execute_input": "2025-03-13T09:45:26.463686Z",
     "iopub.status.busy": "2025-03-13T09:45:26.461400Z",
     "iopub.status.idle": "2025-03-13T09:45:42.983267Z",
     "shell.execute_reply": "2025-03-13T09:45:42.980325Z",
     "shell.execute_reply.started": "2025-03-13T09:45:26.463598Z"
    },
    "nbgrader": {
     "cell_type": "code",
     "checksum": "96040e91f6b7ff8cd60db9769110eabb",
     "grade": false,
     "grade_id": "cell-ebb2f40c272e8a39",
     "locked": true,
     "schema_version": 3,
     "solution": false,
     "task": false
    }
   },
   "outputs": [],
   "source": [
    "angles = [0,   0,  24,  -20, -20]\n",
    "scales = [1, 0.8, 2.5,    1,   1]\n",
    "c1 = int(eiffel.shape[0] / 2)\n",
    "c2 = int(eiffel.shape[1] / 2)\n",
    "centers = np.array([[c1, c2], [c1, c2], [c1, c2], [c1, c2], [0, 0]])\n",
    "images = np.empty((len(angles) + 1, *eiffel.shape))\n",
    "images[0] = eiffel.copy()\n",
    "titles = ['Original image']\n",
    "for i, (angle, scale, center) in enumerate(zip(angles, scales, centers)):\n",
    "    images[i + 1] = transform(eiffel, np.deg2rad(angle), scale, center, nearest_interpolator)\n",
    "    titles.append(f\"alpha={angle:.2f}, rho={scale:.2f}, c=({center[0]}, {center[1]})\")\n",
    "\n",
    "eiffel_viewer = viewer(list(images), title=titles, widgets=True)"
   ]
  },
  {
   "cell_type": "markdown",
   "metadata": {
    "deletable": false,
    "editable": false,
    "nbgrader": {
     "cell_type": "markdown",
     "checksum": "9c1be7bb62595a7f65c82e8c5c746bcc",
     "grade": false,
     "grade_id": "cell-c2c51cef4007100c",
     "locked": true,
     "schema_version": 3,
     "solution": false,
     "task": false
    }
   },
   "source": [
    "## Geometric transformations in Python (1 point)\n",
    "\n",
    "Geometric transformations are implemented in SciPy as `ndimage.affine_transform(img, M, order)`, with arguments\n",
    " *  `img`: the original image,\n",
    " *  `M`: a $2 \\times 3$ matrix describing the transformation (see below),\n",
    " *  `order`: the order of the interpolation method to be used (`0`=nearest neighbor, `1`=linear, `3`=cubic),\n",
    " \n",
    "and returns:\n",
    " *  `out`: the transformed image.\n",
    "\n",
    "\n",
    "The matrix `M` described the affine transformation as follows:\n",
    "The first two columns contain the transformation matrix mapping output coordinates to input coordinates, and the last column contains the shifts to be applied after the linear transformation.\n",
    "This is advantageous because $\\mathbf{u} = \\mathbf{A}^{-1}(\\mathbf{v} - \\mathbf{c}) + \\mathbf{c} = \\mathbf{A}^{-1}\\mathbf{v} + (\\mathbf{I} - \\mathbf{A}^{-1}) \\mathbf{c}$, which is slightly more efficient as $(\\mathbf{I} - \\mathbf{A}^{-1})\\mathbf{c}$ is precomputed; this is the third column of `M`.\n",
    "\n",
    "In the cell below we can experiment with the different parameters, facilitating the understanding of the transformation matrix and `ndimage.affine_transform`.\n",
    "To access the sliders, open the widget panel and click on *Extra widgets*, and choose $\\alpha$ and $\\rho$ using the slider.\n",
    "Click on `Apply Transformation` to see the result.\n",
    "If the sliders are hidden we can reveal them by scrolling to the right."
   ]
  },
  {
   "cell_type": "code",
   "execution_count": null,
   "metadata": {
    "deletable": false,
    "editable": false,
    "execution": {
     "iopub.execute_input": "2025-03-13T09:54:42.645865Z",
     "iopub.status.busy": "2025-03-13T09:54:42.644760Z",
     "iopub.status.idle": "2025-03-13T09:54:43.363308Z",
     "shell.execute_reply": "2025-03-13T09:54:43.360874Z",
     "shell.execute_reply.started": "2025-03-13T09:54:42.645784Z"
    },
    "nbgrader": {
     "cell_type": "code",
     "checksum": "6689535c2dcb8ffb94703fd5dc32de3d",
     "grade": false,
     "grade_id": "cell-10ddca898d196adc",
     "locked": true,
     "schema_version": 3,
     "solution": false,
     "task": false
    }
   },
   "outputs": [],
   "source": [
    "import ipywidgets as widgets\n",
    "import scipy.ndimage as nd\n",
    "\n",
    "angle_slider = widgets.FloatSlider(value=np.pi/10, min=-np.pi, max=np.pi, step=.05, description='$\\\\alpha$')\n",
    "rho_slider = widgets.FloatSlider(value=1, min=0.1, max=4.09, step=0.1, description=r'$\\\\rho$')\n",
    "c1_slider = widgets.IntSlider(value=eiffel.shape[0]//2, min=0, max=eiffel.shape[0], description='$c_1$')\n",
    "c2_slider = widgets.IntSlider(value=eiffel.shape[1]//2, min=0, max=eiffel.shape[1], description='$c_2$')\n",
    "button = widgets.Button(description='Apply transformation')\n",
    "\n",
    "\n",
    "def transform_py(image):\n",
    "    angle = angle_slider.value\n",
    "    scale = rho_slider.value\n",
    "    c = np.array([c1_slider.value, c2_slider.value])\n",
    "    Ainv = transformation_matrix(angle, scale)\n",
    "    M = np.hstack((\n",
    "        Ainv,\n",
    "        ((np.eye(2) - Ainv) @ c)[:, None],\n",
    "    ))\n",
    "    return nd.affine_transform(image, M, order=0)\n",
    "\n",
    "\n",
    "# Visualize angle and scale effect during transformation\n",
    "plt.close(\"all\")\n",
    "view = viewer([eiffel], title=\"Eiffel tower\", new_widgets=[angle_slider, rho_slider, c1_slider, c2_slider, button], \n",
    "            callbacks=[transform_py], widgets=True)"
   ]
  },
  {
   "cell_type": "markdown",
   "metadata": {
    "deletable": false,
    "editable": false,
    "nbgrader": {
     "cell_type": "markdown",
     "checksum": "f5796af164b988795b17b947e6f5e666",
     "grade": false,
     "grade_id": "cell-139f10fa7b992258",
     "locked": true,
     "schema_version": 3,
     "solution": false,
     "task": false
    }
   },
   "source": [
    "Finally, we compare our `transform` against the SciPy implementation, setting  In setting `order=0` for nearest neighbor interpolation."
   ]
  },
  {
   "cell_type": "code",
   "execution_count": null,
   "metadata": {
    "deletable": false,
    "editable": false,
    "execution": {
     "iopub.execute_input": "2025-03-13T09:54:47.946659Z",
     "iopub.status.busy": "2025-03-13T09:54:47.943319Z",
     "iopub.status.idle": "2025-03-13T09:54:48.002135Z",
     "shell.execute_reply": "2025-03-13T09:54:47.999883Z",
     "shell.execute_reply.started": "2025-03-13T09:54:47.946539Z"
    },
    "nbgrader": {
     "cell_type": "code",
     "checksum": "1873002ba78ecc4da77bf4f23015cf04",
     "grade": false,
     "grade_id": "cell-f0eeafaa827c958f",
     "locked": true,
     "schema_version": 3,
     "solution": false,
     "task": false
    }
   },
   "outputs": [],
   "source": [
    "ny, nx = eiffel.shape\n",
    "c = np.array([ny//2, nx//2])\n",
    "angle = 24\n",
    "scale = 2.5\n",
    "A = transformation_matrix(np.deg2rad(angle), scale)\n",
    "M = np.hstack((\n",
    "    A,\n",
    "    ((np.eye(2) - A) @ c)[:, None],\n",
    "))\n",
    "transformed = nd.affine_transform(eiffel, M, order=0)\n",
    "if np.allclose(transformed, images[3], rtol=1e-2):\n",
    "    print('Congratulations! Your function gives the same result as some of the most accepted image processing libraries in the world.')\n",
    "else:\n",
    "    print('`transform` is incorrect. Inspect the images to look for differences.')\n",
    "    plt.close('all')\n",
    "    view = viewer([transformed, images[3]], title=[\"SciPy's output (Ground truth)\", 'Your output'], widgets=True)"
   ]
  },
  {
   "cell_type": "markdown",
   "metadata": {
    "deletable": false,
    "editable": false,
    "nbgrader": {
     "cell_type": "markdown",
     "checksum": "07c085389c93bb7befad9d6d96b53102",
     "grade": false,
     "grade_id": "cell-49f70bde219f0806",
     "locked": true,
     "schema_version": 3,
     "solution": false,
     "task": false
    }
   },
   "source": [
    "### Multiple Choice Question\n",
    "Use the interactive viewer two cells above to answer the following question **for 1 point**. \n",
    "\n",
    "* What parameters should be used to align the Eiffel Tower vertically, with the main axis of the tower in the middle of the image while only keeping the upper part (only the region between the second and third platform) of the tower?\n",
    "\n",
    "**Note: put the value for $\\alpha$ in degrees!**"
   ]
  },
  {
   "cell_type": "code",
   "execution_count": null,
   "metadata": {
    "deletable": false,
    "execution": {
     "iopub.execute_input": "2025-03-13T09:55:10.398296Z",
     "iopub.status.busy": "2025-03-13T09:55:10.395172Z",
     "iopub.status.idle": "2025-03-13T09:55:10.412718Z",
     "shell.execute_reply": "2025-03-13T09:55:10.409919Z",
     "shell.execute_reply.started": "2025-03-13T09:55:10.398156Z"
    },
    "nbgrader": {
     "cell_type": "code",
     "checksum": "e1d02466e4917c49f0eda18c8114197d",
     "grade": false,
     "grade_id": "cell-a0af8b1ff3486f55",
     "locked": false,
     "schema_version": 3,
     "solution": true,
     "task": false
    }
   },
   "outputs": [],
   "source": [
    "# Modify the variable answer\n",
    "alpha = None\n",
    "rho = None\n",
    "c_1 = None\n",
    "c_2 = None\n",
    "# YOUR CODE HERE"
   ]
  },
  {
   "cell_type": "code",
   "execution_count": null,
   "metadata": {
    "deletable": false,
    "editable": false,
    "execution": {
     "iopub.execute_input": "2025-03-13T09:55:10.967524Z",
     "iopub.status.busy": "2025-03-13T09:55:10.966688Z",
     "iopub.status.idle": "2025-03-13T09:55:11.206171Z",
     "shell.execute_reply": "2025-03-13T09:55:11.203401Z",
     "shell.execute_reply.started": "2025-03-13T09:55:10.967417Z"
    },
    "nbgrader": {
     "cell_type": "code",
     "checksum": "df79ad69cebc50c795822c5b125e1d50",
     "grade": true,
     "grade_id": "cell-8404f8a633072bc0",
     "locked": true,
     "points": 0.25,
     "schema_version": 3,
     "solution": false,
     "task": false
    }
   },
   "outputs": [],
   "source": [
    "if alpha < -90 or alpha > 90: print('Warning: Parameter is unreasonable.')"
   ]
  },
  {
   "cell_type": "code",
   "execution_count": null,
   "metadata": {
    "deletable": false,
    "editable": false,
    "execution": {
     "iopub.execute_input": "2025-03-13T09:55:11.818439Z",
     "iopub.status.busy": "2025-03-13T09:55:11.816554Z",
     "iopub.status.idle": "2025-03-13T09:55:11.838741Z",
     "shell.execute_reply": "2025-03-13T09:55:11.835786Z",
     "shell.execute_reply.started": "2025-03-13T09:55:11.818296Z"
    },
    "nbgrader": {
     "cell_type": "code",
     "checksum": "9ceff6a086c3e4d27621a45a10ebc91f",
     "grade": true,
     "grade_id": "cell-a0f3565759d95c7d",
     "locked": true,
     "points": 0.25,
     "schema_version": 3,
     "solution": false,
     "task": false
    }
   },
   "outputs": [],
   "source": [
    "if rho < 0 or rho > 4: print('Warning: Parameter is unreasonable.')"
   ]
  },
  {
   "cell_type": "code",
   "execution_count": null,
   "metadata": {
    "deletable": false,
    "editable": false,
    "execution": {
     "iopub.execute_input": "2025-03-13T09:55:12.570650Z",
     "iopub.status.busy": "2025-03-13T09:55:12.568077Z",
     "iopub.status.idle": "2025-03-13T09:55:12.587530Z",
     "shell.execute_reply": "2025-03-13T09:55:12.584967Z",
     "shell.execute_reply.started": "2025-03-13T09:55:12.570526Z"
    },
    "nbgrader": {
     "cell_type": "code",
     "checksum": "4b76cf4b1d403ee806f0a17350335f6d",
     "grade": true,
     "grade_id": "cell-3bf9d9570ba0e007",
     "locked": true,
     "points": 0.25,
     "schema_version": 3,
     "solution": false,
     "task": false
    }
   },
   "outputs": [],
   "source": [
    "if c_1 < 0 or c_1 > 690: print('Warning: Parameter is unreasonable.')"
   ]
  },
  {
   "cell_type": "code",
   "execution_count": null,
   "metadata": {
    "deletable": false,
    "editable": false,
    "execution": {
     "iopub.execute_input": "2025-03-13T09:55:13.611255Z",
     "iopub.status.busy": "2025-03-13T09:55:13.608672Z",
     "iopub.status.idle": "2025-03-13T09:55:13.628477Z",
     "shell.execute_reply": "2025-03-13T09:55:13.625692Z",
     "shell.execute_reply.started": "2025-03-13T09:55:13.611163Z"
    },
    "nbgrader": {
     "cell_type": "code",
     "checksum": "879d57ebda6680132e475cc908cd1c76",
     "grade": true,
     "grade_id": "cell-5bffd9f2e4c362b3",
     "locked": true,
     "points": 0.25,
     "schema_version": 3,
     "solution": false,
     "task": false
    }
   },
   "outputs": [],
   "source": [
    "if c_2 < 0 or c_2 > 440: print('Warning: Parameter is unreasonable.')"
   ]
  },
  {
   "cell_type": "markdown",
   "metadata": {
    "deletable": false,
    "editable": false,
    "nbgrader": {
     "cell_type": "markdown",
     "checksum": "88647e741b4a7dac59dbfb630ea7520a",
     "grade": false,
     "grade_id": "cell-080e3e4bdcc367dc",
     "locked": true,
     "schema_version": 3,
     "solution": false,
     "task": false
    }
   },
   "source": [
    "# B-spline interpolation\n",
    "\n",
    "In this section, we replace nearest neighbor interpolation with linear interpolation.\n",
    "As before, we compare our implementation to SciPy."
   ]
  },
  {
   "cell_type": "markdown",
   "metadata": {
    "deletable": false,
    "editable": false,
    "nbgrader": {
     "cell_type": "markdown",
     "checksum": "e60398a3205e0f469b8f748bfa6ba22e",
     "grade": false,
     "grade_id": "cell-26f47428e2923285",
     "locked": true,
     "schema_version": 3,
     "solution": false,
     "task": false
    }
   },
   "source": [
    "## Understanding the method (1 point) \n",
    "\n",
    "We compute the output image $g$, as a weighted sum of shifted two-dimensional B-spline basis functions $\\boldsymbol{\\beta}^n(\\mathbf{x}) = \\beta^n(x) \\beta^n(y)$, i.e.,\n",
    "\n",
    "$$\n",
    "    g(\\mathbf{x})=\\sum_{\\mathbf{k}\\in\\mathbb{Z}^2}c[\\mathbf{k}]\\boldsymbol{\\beta}^n(\\mathbf{x}-\\mathbf{k})\\mbox{, where } \\mathbf{k}=(k_1,k_2)\n",
    "$$\n",
    "\n",
    "where $\\mathbf{x} = (x,y)$ and $c$ are coefficients derived from the input image $s$ (see later).\n",
    "More details about B-Splines can be found in Chapter 7.2 of the course notes.\n",
    "\n",
    "In this section, we implement *linear interpolation* where $n = 1$, later we implement *cubic interpolation* where $n = 3$.\n",
    "Since the basis functions $\\beta^1$ are interpolant, the coefficients $c$ are identical to the input image, i.e., $c[k] = s[k]$ for all $k \\in \\mathbb{Z}^2$.\n",
    "In contrast, the basis functions $\\beta^3$ are not interpolant, and we compute $c$ from $s$ using a pre-filter.\n",
    "\n",
    "**For 1 point**, answer the following MCQ:\n",
    " * What are $\\beta^1(0)$ and $\\beta^3(0)$ and what is the size of their support (the support of a function f is the set $\\lbrace x\\in\\mathbb{R}: f(x)>0 \\rbrace$) of $\\beta^1$ and $\\beta^3$?\n",
    "\n",
    "1. $\\beta^1(0) = \\frac{2}{3}$ and its support is of size $4$, and $\\beta^3(0) = 1$ and its support is of size $2$,\n",
    "2. $\\beta^1(0) = 1$ and its support is of size $2$, and $\\beta^3(0) = 1$ and its support is of size $2$,\n",
    "3. $\\beta^1(0) = \\frac{2}{3}$ and its support is of size $4$, and $\\beta^3(0) = \\frac{6}{8}$ and its support is of size $3$,\n",
    "4. $\\beta^1(0) = 1$ and its support is of size $2$, and $\\beta^3(0) = \\frac{2}{3}$ and its support is of size $4$."
   ]
  },
  {
   "cell_type": "code",
   "execution_count": null,
   "metadata": {
    "deletable": false,
    "execution": {
     "iopub.execute_input": "2025-03-13T09:55:17.141622Z",
     "iopub.status.busy": "2025-03-13T09:55:17.139666Z",
     "iopub.status.idle": "2025-03-13T09:55:17.153390Z",
     "shell.execute_reply": "2025-03-13T09:55:17.150114Z",
     "shell.execute_reply.started": "2025-03-13T09:55:17.141532Z"
    },
    "nbgrader": {
     "cell_type": "code",
     "checksum": "a7c82d412a4c46cd3e4dd49c277eee2b",
     "grade": false,
     "grade_id": "cell-9bb4f6074af7676a",
     "locked": false,
     "schema_version": 3,
     "solution": true,
     "task": false
    }
   },
   "outputs": [],
   "source": [
    "# Modify the variable answer\n",
    "answer = None\n",
    "# YOUR CODE HERE"
   ]
  },
  {
   "cell_type": "code",
   "execution_count": null,
   "metadata": {
    "deletable": false,
    "editable": false,
    "execution": {
     "iopub.execute_input": "2025-03-13T09:55:17.385504Z",
     "iopub.status.busy": "2025-03-13T09:55:17.382964Z",
     "iopub.status.idle": "2025-03-13T09:55:17.403895Z",
     "shell.execute_reply": "2025-03-13T09:55:17.402106Z",
     "shell.execute_reply.started": "2025-03-13T09:55:17.385268Z"
    },
    "nbgrader": {
     "cell_type": "code",
     "checksum": "9d1065937c2870b2f933a61228611222",
     "grade": true,
     "grade_id": "cell-4efd0974ee9e16a9",
     "locked": true,
     "points": 1,
     "schema_version": 3,
     "solution": false,
     "task": false
    }
   },
   "outputs": [],
   "source": [
    "# Sanity check\n",
    "if not answer in [1, 2, 3, 4]:\n",
    "    print('WARNING!\\nChoose one of 1, 2, 3 or 4.')"
   ]
  },
  {
   "cell_type": "markdown",
   "metadata": {
    "deletable": false,
    "editable": false,
    "nbgrader": {
     "cell_type": "markdown",
     "checksum": "93f86c66c19e7d1be77289b038e26f53",
     "grade": false,
     "grade_id": "cell-f04142f5fa522792",
     "locked": true,
     "schema_version": 3,
     "solution": false,
     "task": false
    }
   },
   "source": [
    "## Linear interpolation (3 points)\n",
    "\n",
    "The image below illustrates linear interpolation with a $4$ pixel image where we compute the value of the image at the location $(dx,dy)$.\n",
    "This suffices to describe the general case of linear interpolation since only the $4$ neighboring pixels affect the value at any location, and $(dx,dy)$ can be seen as the distances as the fractional part of any location $(x, y)$.\n",
    "\n",
    "To compute the image value at $(x, y)$ using linear interpolation, we extract the $2\\times 2$ neighborhood around $(x, y)$, referring to the pixels as $s[k, l]$, with $k, l = 0$ corresponding to the integers immediately below $(x,y)$, and $k,l=1$ corresponding to the integers immediately above $(x,y)$. Then, the $4$ weights to apply to each of them are extracted from the values of $\\beta^1(\\mathbf{x}-(0,0))$, $\\beta^1(\\mathbf{x}-(0,1))$, $\\beta^1(\\mathbf{x}-(1,0))$, and $\\beta^1(\\mathbf{x}-(1,1))$ at the location $\\mathbf{x}=(dx,dy)$.  Finally, because in linear interpolation $c[k]=s[k]$, the interpolation is the linear combination of the four pixels with these weights. \n",
    "\n",
    "![Bilinear interpolation](images/bilinear_interpolation_showcase.png)\n",
    "\n",
    "From $dx$ and $dy$, the weights given by $\\beta^1(\\mathbf{x})$ are, for $k,l\\in\\lbrace 0,1\\rbrace$,\n",
    "\n",
    "$$\n",
    "\\beta^1[k, l]=\n",
    "    \\begin{bmatrix}\n",
    "        (1-dx)(1-dy) & dx(1-dy) \\\\\n",
    "        (1-dx)dy & dxdy\n",
    "    \\end{bmatrix}\n",
    "$$\n",
    "\n",
    "and the interpolated value becomes\n",
    "\n",
    "$$\n",
    "    v = \\sum_{k=0}^{1}\\sum_{l=0}^{1}\\beta^1[k,l]s[k,l]\\,,\n",
    "$$\n",
    "\n",
    "with the convention for $s[k,l]$ explained above.\n",
    "\n",
    "**For 1 point**, implement `linear_spline`, returning a $2\\times 2$ array representing the weight $\\beta^1$ for $(dx, dy) \\in [0,1]^2$."
   ]
  },
  {
   "cell_type": "code",
   "execution_count": null,
   "metadata": {
    "deletable": false,
    "execution": {
     "iopub.execute_input": "2025-03-13T09:55:19.025789Z",
     "iopub.status.busy": "2025-03-13T09:55:19.024555Z",
     "iopub.status.idle": "2025-03-13T09:55:19.040583Z",
     "shell.execute_reply": "2025-03-13T09:55:19.037924Z",
     "shell.execute_reply.started": "2025-03-13T09:55:19.025672Z"
    },
    "nbgrader": {
     "cell_type": "code",
     "checksum": "62bb3c21a91f462678d7eb471b3be701",
     "grade": false,
     "grade_id": "cell-892d6310a86b4034",
     "locked": false,
     "schema_version": 3,
     "solution": true,
     "task": false
    }
   },
   "outputs": [],
   "source": [
    "def linear_spline(dx, dy):\n",
    "    spline = np.ones((2, 2))\n",
    "    # YOUR CODE HERE\n",
    "    return spline"
   ]
  },
  {
   "cell_type": "markdown",
   "metadata": {
    "deletable": false,
    "editable": false,
    "nbgrader": {
     "cell_type": "markdown",
     "checksum": "52e25387456985e2c55b8d4a7844cd5f",
     "grade": false,
     "grade_id": "cell-a4df2cc8e562128a",
     "locked": true,
     "schema_version": 3,
     "solution": false,
     "task": false
    }
   },
   "source": [
    "Before proceeding, we will perform a sanity check as usual. Verify that the output values also make sense to you."
   ]
  },
  {
   "cell_type": "code",
   "execution_count": null,
   "metadata": {
    "deletable": false,
    "editable": false,
    "execution": {
     "iopub.execute_input": "2025-03-13T09:55:24.762545Z",
     "iopub.status.busy": "2025-03-13T09:55:24.762034Z",
     "iopub.status.idle": "2025-03-13T09:55:24.787580Z",
     "shell.execute_reply": "2025-03-13T09:55:24.783694Z",
     "shell.execute_reply.started": "2025-03-13T09:55:24.762501Z"
    },
    "nbgrader": {
     "cell_type": "code",
     "checksum": "5305cfd775b834e110be94adeff39f2b",
     "grade": true,
     "grade_id": "cell-1d0d686d8f51e3e8",
     "locked": true,
     "points": 1,
     "schema_version": 3,
     "solution": false,
     "task": false
    }
   },
   "outputs": [],
   "source": [
    "# Check some simple interpolation cases\n",
    "in_values = [[0, 0], [1, 0], [0.5, 0.5], [0.75, 0.25]]\n",
    "references = np.array([[[1, 0], [0, 0]], [[0, 1], [0, 0]], [[0.25, 0.25], [0.25, 0.25]], [[0.188, 0.563], [0.063, 0.188]]])\n",
    "check_error = False\n",
    "for value, reference in zip(in_values, references):\n",
    "    print(f'Linear spline weights for (dx, dy) = ({value[0]}, {value[1]}):')\n",
    "    spline = linear_spline(value[0], value[1])\n",
    "    print(spline)\n",
    "    if not np.allclose(spline, reference, rtol=1e-2):\n",
    "        print('WARNING!')\n",
    "        print(f'The result for (dx, dy) = ({value[0]}, {value[1]}) does not match the reference:')\n",
    "        print(f'Expected:\\n {reference}\\nResult: {spline}\\n')\n",
    "        check_error = True\n",
    "    else:\n",
    "        print('This is correct.\\n---------------\\n');\n",
    "\n",
    "if not check_error:\n",
    "    print('Nice, the B-splines seem to be correct.')\n"
   ]
  },
  {
   "cell_type": "markdown",
   "metadata": {
    "deletable": false,
    "editable": false,
    "nbgrader": {
     "cell_type": "markdown",
     "checksum": "bf15fdced7170969c08331f9b4428fd7",
     "grade": false,
     "grade_id": "cell-94cdc01cfe4cec00",
     "locked": true,
     "schema_version": 3,
     "solution": false,
     "task": false
    }
   },
   "source": [
    "**For 2 points**, implement `linear_interpolator`, taking as arguments\n",
    " * `img`: the image to interpolate the value from,\n",
    " * `x`: a pair $(x_1, x_2)$ describing the location,\n",
    " * \n",
    "and returning the linearly interpolated value at the given location.\n",
    "\n",
    "\n",
    "💡 *Hints:*\n",
    "* *Use `linear_spline` from above to obtain the right weights for each of the surrounding pixels.*\n",
    "* *NumPy has an implementation of $\\lfloor \\, \\cdot \\, \\rfloor$.*"
   ]
  },
  {
   "cell_type": "code",
   "execution_count": null,
   "metadata": {
    "deletable": false,
    "execution": {
     "iopub.execute_input": "2025-03-13T09:55:26.734604Z",
     "iopub.status.busy": "2025-03-13T09:55:26.733866Z",
     "iopub.status.idle": "2025-03-13T09:55:26.745603Z",
     "shell.execute_reply": "2025-03-13T09:55:26.743265Z",
     "shell.execute_reply.started": "2025-03-13T09:55:26.734561Z"
    },
    "nbgrader": {
     "cell_type": "code",
     "checksum": "adcdbec0204218b7bd03955d0a0e0e1b",
     "grade": false,
     "grade_id": "cell-3a10c9aa416ee278",
     "locked": false,
     "schema_version": 3,
     "solution": true,
     "task": false
    }
   },
   "outputs": [],
   "source": [
    "def linear_interpolator(img, x):\n",
    "    res = 0\n",
    "\n",
    "    # YOUR CODE HERE\n",
    "    \n",
    "    return res"
   ]
  },
  {
   "cell_type": "markdown",
   "metadata": {
    "deletable": false,
    "editable": false,
    "nbgrader": {
     "cell_type": "markdown",
     "checksum": "fc7179f9a6c2ec287759d4d265392f7b",
     "grade": false,
     "grade_id": "cell-3ff376fc9fc7f82a",
     "locked": true,
     "schema_version": 3,
     "solution": false,
     "task": false
    }
   },
   "source": [
    "Now run the next cell to perform a sanity check on this function as well."
   ]
  },
  {
   "cell_type": "code",
   "execution_count": null,
   "metadata": {
    "deletable": false,
    "editable": false,
    "execution": {
     "iopub.execute_input": "2025-03-13T09:55:30.458960Z",
     "iopub.status.busy": "2025-03-13T09:55:30.458448Z",
     "iopub.status.idle": "2025-03-13T09:55:30.481192Z",
     "shell.execute_reply": "2025-03-13T09:55:30.479234Z",
     "shell.execute_reply.started": "2025-03-13T09:55:30.458917Z"
    },
    "nbgrader": {
     "cell_type": "code",
     "checksum": "57524e54ebcdfa46367d9b30b69d739a",
     "grade": true,
     "grade_id": "cell-9bf6f80d22387767",
     "locked": true,
     "points": 2,
     "schema_version": 3,
     "solution": false,
     "task": false
    }
   },
   "outputs": [],
   "source": [
    "test_linear = np.array([\n",
    "    [1, 2, 3, 4, 5],\n",
    "    [6, 7, 8, 9, 10],\n",
    "    [11, 12, 13, 14, 15]\n",
    "], dtype=np.float32)\n",
    "locs = [[1, 3], [1.5, 1.5]]\n",
    "vals = [9, 10]\n",
    "check_error = False\n",
    "print('Input image for sanity check:', test_linear)\n",
    "for i, loc in enumerate(locs):\n",
    "    test_val = linear_interpolator(test_linear, loc)\n",
    "    print(f'Your interpolated value at location {loc} is {test_val}.')\n",
    "    if not test_val == vals[i]:\n",
    "        print('WARNING!')\n",
    "        print('The linear_interpolator is not yet correct. The expected value at {loc} is {vals[i]}.\\n---------------\\n')\n",
    "        check_error = True\n",
    "    else:\n",
    "        print('This is correct.\\n---------------\\n')\n",
    "\n",
    "if not check_error:\n",
    "    print('Nice, the linear_interpolator function passed the sanity check!');\n"
   ]
  },
  {
   "cell_type": "markdown",
   "metadata": {
    "deletable": false,
    "editable": false,
    "nbgrader": {
     "cell_type": "markdown",
     "checksum": "2477b6a328c1d73b5b1ee85b531c4a54",
     "grade": false,
     "grade_id": "cell-4151713db06741ea",
     "locked": true,
     "schema_version": 3,
     "solution": false,
     "task": false
    }
   },
   "source": [
    "Now we compare the output of our `transform` function to the output of `scipy.ndimage.affine_tranform`, using linear interpolation for both.\n",
    "Run the two cells to see if your transform function works correctly with linear interpolation."
   ]
  },
  {
   "cell_type": "code",
   "execution_count": null,
   "metadata": {
    "deletable": false,
    "editable": false,
    "execution": {
     "iopub.execute_input": "2025-03-13T09:55:32.205766Z",
     "iopub.status.busy": "2025-03-13T09:55:32.204780Z",
     "iopub.status.idle": "2025-03-13T09:55:50.832135Z",
     "shell.execute_reply": "2025-03-13T09:55:50.829837Z",
     "shell.execute_reply.started": "2025-03-13T09:55:32.205680Z"
    },
    "nbgrader": {
     "cell_type": "code",
     "checksum": "4450e5b0e50a666f1ca84ca4ac4bf234",
     "grade": false,
     "grade_id": "cell-05e4e5b4b72c8f27",
     "locked": true,
     "schema_version": 3,
     "solution": false,
     "task": false
    }
   },
   "outputs": [],
   "source": [
    "scale = 1.2\n",
    "center = (282, 355)\n",
    "angle = -72\n",
    "\n",
    "ours = transform(eiffel, np.deg2rad(angle), scale, center, interpolator=linear_interpolator)\n",
    "\n",
    "A = transformation_matrix(np.deg2rad(angle), scale)\n",
    "M = np.hstack((A, ((np.eye(2) - A) @ center)[:, None]))\n",
    "# order=1 corresponds to linear interpolation\n",
    "transformed = nd.affine_transform(eiffel, M, order=1, mode='grid-constant')\n",
    "\n",
    "# Check that the images are identical\n",
    "if np.allclose(transformed, ours, rtol=1e-2):\n",
    "    print(\"Good job! The transformation with linear interpolation gives the same result as scipy's.\")\n",
    "else:\n",
    "    plt.close('all')\n",
    "    print('WARNING!\\nThe transformation with linear interpolation is not correct.\\nSee the images below and try to find the source of the error.')\n",
    "    title_list = ['Python transformation', 'Your transformation']\n",
    "    view = viewer([transformed, ours], title=title_list, widgets=True, subplots=(1,2), compare=True)"
   ]
  },
  {
   "cell_type": "markdown",
   "metadata": {
    "deletable": false,
    "editable": false,
    "nbgrader": {
     "cell_type": "markdown",
     "checksum": "ce07e7747b611e306b3f836e660f3231",
     "grade": false,
     "grade_id": "cell-08eb080c98166b62",
     "locked": true,
     "schema_version": 3,
     "solution": false,
     "task": false
    }
   },
   "source": [
    "# Cubic interpolation \n",
    "\n",
    "In the previous section, we saw that linear interpolation improves over nearest neighbor interpolation.\n",
    "Now, we implement cubic interpolation using cubic splines.\n",
    "In this case, we need to implement a prefilter to compute coefficients $c$ derived from the image first.\n",
    "\n",
    "## Prefilter (2 points)\n",
    "\n",
    "The computation of the values $c[\\mathbf{k}]$ from the image $s[\\mathbf{k}]$ is separable.\n",
    "A fast implementation of the one-dimensional prefilter to obtain the coefficients $c[k]$ in the cubic interpolator is obtained by a cascade of recursive filters schematized below, where $c_{0}=6$ and ${a}=\\sqrt{3}-2$:\n",
    "\n",
    "![Drawing](images/diagram.jpg)\n",
    "\n",
    "Before we implement this filter in `symmetric_exponential_filter_cascade` below, we define `prefilter` which calls it on the rows and the columns of an image to compute the coefficients $c[\\mathbf{k}]$ of an image $s[\\mathbf{k}]$.\n",
    "We also provide the functions.\n",
    "There, we also define the functions `initial_causal_coefficient` and `initial_anticausal_coefficient` that help you in your implementation and take as input parameters\n",
    "* `signal`: a one-dimensional signal, and\n",
    "* `a`: the value of $a$ in the diagram above,\n",
    "\n",
    "and returns\n",
    "\n",
    "* the initial value for the causal and anticausal filters, respectively."
   ]
  },
  {
   "cell_type": "code",
   "execution_count": null,
   "metadata": {
    "deletable": false,
    "editable": false,
    "execution": {
     "iopub.execute_input": "2025-03-13T09:55:54.192016Z",
     "iopub.status.busy": "2025-03-13T09:55:54.190840Z",
     "iopub.status.idle": "2025-03-13T09:55:54.208807Z",
     "shell.execute_reply": "2025-03-13T09:55:54.207205Z",
     "shell.execute_reply.started": "2025-03-13T09:55:54.191933Z"
    },
    "nbgrader": {
     "cell_type": "code",
     "checksum": "13dbf0a7fac2781a981cb700587ae622",
     "grade": false,
     "grade_id": "cell-a5d72f75c0ada6a0",
     "locked": true,
     "schema_version": 3,
     "solution": false,
     "task": false
    }
   },
   "outputs": [],
   "source": [
    "def initial_causal_coefficient(signal, a):\n",
    "    k0 = min(12, len(signal))\n",
    "    polek = a\n",
    "    v = signal[0]\n",
    "    for k in range(1, k0):\n",
    "        v += polek * signal[k]\n",
    "        polek *= a\n",
    "    return v\n",
    "\n",
    "\n",
    "def initial_anticausal_coefficient(signal, a):\n",
    "    return (a / (a * a - 1.0)) * (signal[-1] + a * signal[-2])\n",
    "\n",
    "\n",
    "def prefilter(image):\n",
    "    convolved = np.empty_like(image)\n",
    "    for i in range(image.shape[0]):\n",
    "        convolved[i] = symmetric_exponential_filter(image[i])\n",
    "\n",
    "    for j in range(image.shape[1]):\n",
    "        convolved[:, j] = symmetric_exponential_filter(convolved[:, j])\n",
    "    return convolved"
   ]
  },
  {
   "cell_type": "markdown",
   "metadata": {
    "deletable": false,
    "editable": false,
    "nbgrader": {
     "cell_type": "markdown",
     "checksum": "2e0fb1c5c5a7d0f1473c307aa3805cab",
     "grade": false,
     "grade_id": "cell-a33df8d806ca2ff6",
     "locked": true,
     "schema_version": 3,
     "solution": false,
     "task": false
    }
   },
   "source": [
    "**For 3 points**, implement `symmetric_exponential_filter` that recursively filters a one-dimensional signal.\n",
    "This function has the input parameter:\n",
    "\n",
    "* `signal`: a one-dimensional array representing the input signal\n",
    "\n",
    "and returns:\n",
    "\n",
    "* a one-dimensional array that contains the coefficients $c[k]$ corresponding to the input signal. \n",
    "\n",
    "    \n",
    "💡 Hints: \n",
    "- $\\operatorname{H}(z) = \\sum_{m=0}^{M-1}b_m z^{-m} \\left/ \\sum_{n=0}^{N-1}a_n z^{-n}\\right.$ is equivalent to $\\sum_{n=0}^{N-1}a_n y[k-n] = \\sum_{m=0}^{M-1}b_m x[k-m]$.\n",
    "- `initial_causal_coefficient` gives $y[0]$ for the causal filter and `initial_anticausal_coefficient` gives $y[w-1]$ for the anticausal filter."
   ]
  },
  {
   "cell_type": "code",
   "execution_count": null,
   "metadata": {
    "deletable": false,
    "execution": {
     "iopub.execute_input": "2025-03-13T09:55:55.285979Z",
     "iopub.status.busy": "2025-03-13T09:55:55.284224Z",
     "iopub.status.idle": "2025-03-13T09:55:55.302993Z",
     "shell.execute_reply": "2025-03-13T09:55:55.300759Z",
     "shell.execute_reply.started": "2025-03-13T09:55:55.285889Z"
    },
    "nbgrader": {
     "cell_type": "code",
     "checksum": "b22d7ba22c4af2b0b1af146431729dc1",
     "grade": false,
     "grade_id": "cell-2068389b00349026",
     "locked": false,
     "schema_version": 3,
     "solution": true,
     "task": false
    }
   },
   "outputs": [],
   "source": [
    "def symmetric_exponential_filter(signal):\n",
    "    output = signal.copy()\n",
    "    c0 = 6.\n",
    "    a = np.sqrt(3) - 2\n",
    "    \n",
    "    # YOUR CODE HERE\n",
    "    return output"
   ]
  },
  {
   "cell_type": "markdown",
   "metadata": {
    "deletable": false,
    "editable": false,
    "nbgrader": {
     "cell_type": "markdown",
     "checksum": "728616f7190bfd331f0d2e035e6c4974",
     "grade": false,
     "grade_id": "cell-7d8e61b599e95f12",
     "locked": true,
     "schema_version": 3,
     "solution": false,
     "task": false
    }
   },
   "source": [
    "As a sanity check, we will apply your function to an impulse sequence of length 11. Run the next cell to do so."
   ]
  },
  {
   "cell_type": "code",
   "execution_count": null,
   "metadata": {
    "deletable": false,
    "editable": false,
    "execution": {
     "iopub.execute_input": "2025-03-13T09:55:56.736047Z",
     "iopub.status.busy": "2025-03-13T09:55:56.733712Z",
     "iopub.status.idle": "2025-03-13T09:55:57.393188Z",
     "shell.execute_reply": "2025-03-13T09:55:57.390784Z",
     "shell.execute_reply.started": "2025-03-13T09:55:56.735956Z"
    },
    "nbgrader": {
     "cell_type": "code",
     "checksum": "2d4a28b7dd41525b5c4671beb19f6a3d",
     "grade": true,
     "grade_id": "cell-563ca648d4603497",
     "locked": true,
     "points": 2,
     "schema_version": 3,
     "solution": false,
     "task": false
    }
   },
   "outputs": [],
   "source": [
    "impulse = np.array([\n",
    "    [0, 0, 0, 0, 0, 0, 0, 0, 0, 0, 0],\n",
    "    [0, 0, 0, 0, 0, 1, 0, 0, 0, 0, 0],\n",
    "    [0, 0, 0, 0, 0, 0, 0, 0, 0, 0, 0],\n",
    "], dtype=np.float32)\n",
    "reference = np.array([-0.00952004, 0.0190401, -0.06664035, 0.24752128, -0.92344475, 3.4462576, -0.9234448, 0.24752128, -0.06664035, 0.0190401, -0.00952005])\n",
    "\n",
    "# Compare central row\n",
    "ours = prefilter(impulse)[impulse.shape[0] // 2]\n",
    "print(ours)\n",
    "\n",
    "if not np.allclose(ours, reference, rtol=1e-2):\n",
    "    print(\"The recursive exponential filter implementation is incorrect.\")\n",
    "else:\n",
    "    print('The implementation passed the sanity check.')"
   ]
  },
  {
   "cell_type": "markdown",
   "metadata": {
    "deletable": false,
    "editable": false,
    "nbgrader": {
     "cell_type": "markdown",
     "checksum": "437ed857ee208be3c2adab115fe18d37",
     "grade": false,
     "grade_id": "cell-62e510c05464503c",
     "locked": true,
     "schema_version": 3,
     "solution": false,
     "task": false
    }
   },
   "source": [
    "## Cubic interpolation (2 points) \n",
    "\n",
    "With the correct coefficients, we can complete `cubic_interpolator` below. \n",
    "We provide `cubic_spline` returning a $4\\times4$ array containing the two-dimensional cubic B-spline $\\beta^3$ values.\n",
    "This is the analog to `linear_spline` for cubic interpolation."
   ]
  },
  {
   "cell_type": "code",
   "execution_count": null,
   "metadata": {
    "deletable": false,
    "editable": false,
    "execution": {
     "iopub.execute_input": "2025-03-13T09:56:00.828453Z",
     "iopub.status.busy": "2025-03-13T09:56:00.825986Z",
     "iopub.status.idle": "2025-03-13T09:56:00.841798Z",
     "shell.execute_reply": "2025-03-13T09:56:00.839615Z",
     "shell.execute_reply.started": "2025-03-13T09:56:00.828329Z"
    },
    "nbgrader": {
     "cell_type": "code",
     "checksum": "c51a031c666ca2fbc685b5ae64ff69ab",
     "grade": false,
     "grade_id": "cell-1588e1377e12d7e0",
     "locked": true,
     "schema_version": 3,
     "solution": false,
     "task": false
    }
   },
   "outputs": [],
   "source": [
    "def cubic_spline(dx, dy):\n",
    "    output = np.zeros((4, 4))\n",
    "    \n",
    "    def v(t):\n",
    "        out = np.empty((4, ))\n",
    "        out[0] = (1.0 - t)**3 / 6.0\n",
    "        out[1] = (2.0 / 3.0) - 0.5 * t**2 * (2 - t)\n",
    "        out[3] = t**3 / 6.0\n",
    "        out[2] = 1.0 - out[3] - out[1] - out[0]\n",
    "        return out\n",
    "\n",
    "    vx = v(dx)\n",
    "    vy = v(dy)\n",
    "    return vx[None, :] * vy[:, None]"
   ]
  },
  {
   "cell_type": "markdown",
   "metadata": {
    "deletable": false,
    "editable": false,
    "nbgrader": {
     "cell_type": "markdown",
     "checksum": "9841c060e65330d1f9331f7796e02a23",
     "grade": false,
     "grade_id": "cell-d93db6f256a89d93",
     "locked": true,
     "schema_version": 3,
     "solution": false,
     "task": false
    }
   },
   "source": [
    "**For 2 points** implement `cubic_interpolator` taking the arguments\n",
    "\n",
    " * `c`: array containing the coefficients $c[\\mathbf{k}]$ calculated via `cubic_spline_coefficients`,\n",
    " * `x`: the x-coordinate at which we want to obtain an interpolated value,\n",
    " * `y`: the y-coordinate at which we want to obtain an interpolated value,\n",
    "\n",
    "and returning\n",
    "\n",
    "* `out`: the interpolated value.\n",
    "\n",
    "The implementation is similar to the linear case."
   ]
  },
  {
   "cell_type": "code",
   "execution_count": null,
   "metadata": {
    "deletable": false,
    "execution": {
     "iopub.execute_input": "2025-03-13T09:56:02.320397Z",
     "iopub.status.busy": "2025-03-13T09:56:02.318174Z",
     "iopub.status.idle": "2025-03-13T09:56:02.337066Z",
     "shell.execute_reply": "2025-03-13T09:56:02.334643Z",
     "shell.execute_reply.started": "2025-03-13T09:56:02.320254Z"
    },
    "nbgrader": {
     "cell_type": "code",
     "checksum": "9ebaed90381e48ff46d8af309a8e32af",
     "grade": false,
     "grade_id": "cell-3d09af47f095a9ad",
     "locked": false,
     "schema_version": 3,
     "solution": true,
     "task": false
    }
   },
   "outputs": [],
   "source": [
    "def cubic_interpolator(img, x):\n",
    "    res = 0\n",
    "\n",
    "    # YOUR CODE HERE\n",
    "    return res"
   ]
  },
  {
   "cell_type": "markdown",
   "metadata": {
    "deletable": false,
    "editable": false,
    "nbgrader": {
     "cell_type": "markdown",
     "checksum": "77173122f2cfa4e034e30a31d76f93b9",
     "grade": false,
     "grade_id": "cell-bbeffc8f3387b4e5",
     "locked": true,
     "schema_version": 3,
     "solution": false,
     "task": false
    }
   },
   "source": [
    "Now run the next cell to perform a quick sanity check as always."
   ]
  },
  {
   "cell_type": "code",
   "execution_count": null,
   "metadata": {
    "deletable": false,
    "editable": false,
    "execution": {
     "iopub.execute_input": "2025-03-13T09:56:03.688172Z",
     "iopub.status.busy": "2025-03-13T09:56:03.687529Z",
     "iopub.status.idle": "2025-03-13T09:56:03.721582Z",
     "shell.execute_reply": "2025-03-13T09:56:03.719981Z",
     "shell.execute_reply.started": "2025-03-13T09:56:03.688114Z"
    },
    "nbgrader": {
     "cell_type": "code",
     "checksum": "1698fdc15fafebf557a9726f86c5b2ea",
     "grade": true,
     "grade_id": "cell-543ff35e509ade61",
     "locked": true,
     "points": 2,
     "schema_version": 3,
     "solution": false,
     "task": false
    }
   },
   "outputs": [],
   "source": [
    "image = np.array([\n",
    "    [1, 2, 3, 4, 5],\n",
    "    [6, 7, 8, 9, 10],\n",
    "    [11, 12, 13, 14, 15]\n",
    "], dtype=np.float32)\n",
    "\n",
    "for location, ref in zip([(1, 3), (1.5, 1.5)], [9.0, 9.6354]):\n",
    "    ours = cubic_interpolator(image, location)\n",
    "    if np.abs(ours - ref) > 0.001:\n",
    "        print(f'Warning: `cubic_interpolator` is incorrect: The expected value at location {location} is {ref:.4f}, but got {ours:.4f}.')\n"
   ]
  },
  {
   "cell_type": "markdown",
   "metadata": {
    "deletable": false,
    "editable": false,
    "nbgrader": {
     "cell_type": "markdown",
     "checksum": "f8b93944e35b6c6c47f16cb78976da72",
     "grade": false,
     "grade_id": "cell-21d26925748a4df8",
     "locked": true,
     "schema_version": 3,
     "solution": false,
     "task": false
    }
   },
   "source": [
    "In the next cells we again compare our implementation to scipy's.\n",
    "After running the next two cells, you will see either see a winning message, or you transformed image display with some regions in red.\n",
    "These regions show the differences between your implementation and the Python implementation. Use this info to debug your cubic interpolation."
   ]
  },
  {
   "cell_type": "code",
   "execution_count": null,
   "metadata": {
    "deletable": false,
    "editable": false,
    "execution": {
     "iopub.execute_input": "2025-03-13T09:56:04.814513Z",
     "iopub.status.busy": "2025-03-13T09:56:04.813102Z",
     "iopub.status.idle": "2025-03-13T09:57:01.742600Z",
     "shell.execute_reply": "2025-03-13T09:57:01.741447Z",
     "shell.execute_reply.started": "2025-03-13T09:56:04.814380Z"
    },
    "nbgrader": {
     "cell_type": "code",
     "checksum": "a5153d7b1649dca3025d35470b924952",
     "grade": false,
     "grade_id": "cell-1ca39288068614f6",
     "locked": true,
     "schema_version": 3,
     "solution": false,
     "task": false
    }
   },
   "outputs": [],
   "source": [
    "angle = 45 # in degrees\n",
    "scale = 2\n",
    "center = np.array([150, 250])\n",
    "ours = transform(prefilter(eiffel), np.deg2rad(45), scale, center, cubic_interpolator)"
   ]
  },
  {
   "cell_type": "code",
   "execution_count": null,
   "metadata": {
    "deletable": false,
    "editable": false,
    "execution": {
     "iopub.execute_input": "2025-03-13T09:57:01.745275Z",
     "iopub.status.busy": "2025-03-13T09:57:01.744780Z",
     "iopub.status.idle": "2025-03-13T09:57:02.387848Z",
     "shell.execute_reply": "2025-03-13T09:57:02.385815Z",
     "shell.execute_reply.started": "2025-03-13T09:57:01.745237Z"
    },
    "nbgrader": {
     "cell_type": "code",
     "checksum": "722b9dc34226fadba1f809faa0e57b1e",
     "grade": false,
     "grade_id": "cell-f8e129e2b63b56b6",
     "locked": true,
     "schema_version": 3,
     "solution": false,
     "task": false
    }
   },
   "outputs": [],
   "source": [
    "A = transformation_matrix(np.deg2rad(angle), scale)\n",
    "M = np.hstack((A, ((np.eye(2) - A) @ center)[:, None]))\n",
    "\n",
    "reference = nd.affine_transform(prefilter(eiffel), M, order=3, mode='grid-constant', prefilter=False)\n",
    "\n",
    "if np.allclose(ours, reference, rtol=1e-2):\n",
    "    print('The transformation with cubic interpolation is correct.')\n",
    "else:\n",
    "    print('Warning: The transformation with cubic interpolation is not yet correct. Check the images to try to find the source of the error.')\n",
    "    plt.close('all')\n",
    "    viewer([reference, ours], title=['SciPy (Ground truth)', 'Ours'], widgets=True, compare=True)"
   ]
  },
  {
   "cell_type": "markdown",
   "metadata": {
    "deletable": false,
    "editable": false,
    "nbgrader": {
     "cell_type": "markdown",
     "checksum": "7fe6e5c34cd282adb5cb52310c7bc207",
     "grade": false,
     "grade_id": "cell-d91902320b35e83e",
     "locked": true,
     "schema_version": 3,
     "solution": false,
     "task": false
    }
   },
   "source": [
    "**It is worth mentioning that many authors in image processing leave out the essential prefiltering step ... This has a catastrophic effect on performance and perpetuates the incorrect belief that high-order B-spline interpolation results in increased image blurring.**\n",
    "*M. Unser, \"Splines: a perfect fit for signal and image processing,\" in IEEE Signal Processing Magazine, vol. 16, no. 6, pp. 22-38, Nov. 1999, DOI: [10.1109/79.799930](https://ieeexplore.ieee.org/abstract/document/799930)*\n",
    " \n",
    "As a quick demonstration, run the next cell where we will plot a transformation with and without the prefilter. Zoom into the high frequency regions to see the blurring caused by lack of knowledge!"
   ]
  },
  {
   "cell_type": "code",
   "execution_count": null,
   "metadata": {
    "deletable": false,
    "editable": false,
    "execution": {
     "iopub.execute_input": "2025-03-13T09:57:05.862324Z",
     "iopub.status.busy": "2025-03-13T09:57:05.861866Z",
     "iopub.status.idle": "2025-03-13T09:57:06.778821Z",
     "shell.execute_reply": "2025-03-13T09:57:06.777688Z",
     "shell.execute_reply.started": "2025-03-13T09:57:05.862285Z"
    },
    "nbgrader": {
     "cell_type": "code",
     "checksum": "3b910f09a36c48497a46f4b12267b98e",
     "grade": false,
     "grade_id": "cell-a88484326fdf6223",
     "locked": true,
     "schema_version": 3,
     "solution": false,
     "task": false
    }
   },
   "outputs": [],
   "source": [
    "A = transformation_matrix(np.deg2rad(angle), scale)\n",
    "M = np.hstack((A, ((np.eye(2) - A) @ center)[:, None]))\n",
    "filtered = nd.affine_transform(eiffel, M, order=3)\n",
    "unfiltered = nd.affine_transform(eiffel, M, order=3, prefilter=False)\n",
    "\n",
    "# Visualize\n",
    "plt.close('all')\n",
    "view = viewer([filtered, unfiltered], title=['Prefiltered (Ground truth)', 'Not prefiltered (Wrong)'], \n",
    "              widgets=True, subplots=(1,2))"
   ]
  },
  {
   "cell_type": "markdown",
   "metadata": {
    "ExecuteTime": {
     "end_time": "2021-03-06T13:38:34.574752Z",
     "start_time": "2021-03-06T13:38:34.446Z"
    },
    "deletable": false,
    "editable": false,
    "nbgrader": {
     "cell_type": "markdown",
     "checksum": "a0771e01673763d1afb92652e8cfae0d",
     "grade": false,
     "grade_id": "cell-743478f44b3e5aab",
     "locked": true,
     "schema_version": 3,
     "solution": false,
     "task": false
    }
   },
   "source": [
    "## Visual comparison\n",
    "\n",
    "Finally, we look at the difference between the interpolators by running the same transformation and visualizing the results.\n",
    "In the second part of this lab, we will compare the three interpolation methods numerically to see what we gain from a more complex interpolation.\n",
    "Feel free to change the parameters of the transformation to see different results."
   ]
  },
  {
   "cell_type": "code",
   "execution_count": null,
   "metadata": {
    "execution": {
     "iopub.execute_input": "2025-03-13T09:58:07.277700Z",
     "iopub.status.busy": "2025-03-13T09:58:07.276879Z",
     "iopub.status.idle": "2025-03-13T09:59:35.137169Z",
     "shell.execute_reply": "2025-03-13T09:59:35.135704Z",
     "shell.execute_reply.started": "2025-03-13T09:58:07.277658Z"
    }
   },
   "outputs": [],
   "source": [
    "angle = 30 # in degrees\n",
    "scaling = 2\n",
    "center = (360, 245)\n",
    "\n",
    "nearest, linear, cubic = [\n",
    "    transform(eiffel, np.deg2rad(angle), scaling, center, interpolator=interpolator)\n",
    "    for interpolator, im in zip([nearest_interpolator, linear_interpolator, cubic_interpolator], [eiffel, eiffel, eiffel])\n",
    "]"
   ]
  },
  {
   "cell_type": "code",
   "execution_count": null,
   "metadata": {
    "deletable": false,
    "editable": false,
    "execution": {
     "iopub.execute_input": "2025-03-13T09:59:35.139175Z",
     "iopub.status.busy": "2025-03-13T09:59:35.138905Z",
     "iopub.status.idle": "2025-03-13T09:59:36.585415Z",
     "shell.execute_reply": "2025-03-13T09:59:36.584045Z",
     "shell.execute_reply.started": "2025-03-13T09:59:35.139150Z"
    },
    "nbgrader": {
     "cell_type": "code",
     "checksum": "a760e803a87ab3cec556c872089f5004",
     "grade": false,
     "grade_id": "cell-d42f4994b2da95fa",
     "locked": true,
     "schema_version": 3,
     "solution": false,
     "task": false
    }
   },
   "outputs": [],
   "source": [
    "plt.close('all')\n",
    "view = viewer([nearest, linear, cubic], \n",
    "              title=['Nearest neighbor', 'Linear', 'Cubic'], subplots=(2,2), widgets=True)"
   ]
  },
  {
   "cell_type": "markdown",
   "metadata": {
    "deletable": false,
    "editable": false,
    "nbgrader": {
     "cell_type": "markdown",
     "checksum": "9ff0ce8e14d6e92eb91483fe9c7353e9",
     "grade": false,
     "grade_id": "footer",
     "locked": true,
     "schema_version": 3,
     "solution": false,
     "task": false
    }
   },
   "source": [
    "🎉 Congratulations on finishing the first part of the Geometric Transformation lab!! 🎉\n",
    "\n",
    "Make sure to save your notebook (you might want to keep a copy on your personal computer) and upload it to Moodle, **in a zip file with the other notebook of this lab.**\n",
    "\n",
    "* Keep the name of the notebook as: *1_gt_implementations.ipynb*,\n",
    "* Name the zip file: *geometric_transformation_lab.zip*."
   ]
  }
 ],
 "metadata": {
  "kernelspec": {
   "display_name": "Python3",
   "language": "python",
   "name": "python3"
  },
  "language_info": {
   "codemirror_mode": {
    "name": "ipython",
    "version": 3
   },
   "file_extension": ".py",
   "mimetype": "text/x-python",
   "name": "python",
   "nbconvert_exporter": "python",
   "pygments_lexer": "ipython3",
   "version": "3.12.5"
  },
  "toc": {
   "base_numbering": 1,
   "nav_menu": {},
   "number_sections": false,
   "sideBar": true,
   "skip_h1_title": false,
   "title_cell": "Table of Contents",
   "title_sidebar": "Contents",
   "toc_cell": false,
   "toc_position": {},
   "toc_section_display": true,
   "toc_window_display": false
  }
 },
 "nbformat": 4,
 "nbformat_minor": 4
}
